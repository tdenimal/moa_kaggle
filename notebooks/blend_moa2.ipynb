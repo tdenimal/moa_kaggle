{
 "metadata": {
  "language_info": {
   "codemirror_mode": {
    "name": "ipython",
    "version": 3
   },
   "file_extension": ".py",
   "mimetype": "text/x-python",
   "name": "python",
   "nbconvert_exporter": "python",
   "pygments_lexer": "ipython3",
   "version": "3.7.9-final"
  },
  "orig_nbformat": 2,
  "kernelspec": {
   "name": "python_defaultSpec_1606469090006",
   "display_name": "Python 3.7.9 64-bit ('moa_kaggle': conda)"
  }
 },
 "nbformat": 4,
 "nbformat_minor": 2,
 "cells": [
  {
   "cell_type": "code",
   "execution_count": 1,
   "metadata": {},
   "outputs": [],
   "source": [
    "import pandas as pd\n",
    "#import numpy as np\n",
    "#import glob\n",
    "from sklearn.metrics import roc_auc_score\n",
    "from sklearn.metrics import log_loss"
   ]
  },
  {
   "cell_type": "markdown",
   "metadata": {},
   "source": [
    "# Load Data"
   ]
  },
  {
   "cell_type": "code",
   "execution_count": 3,
   "metadata": {},
   "outputs": [],
   "source": [
    "#data_dir = '../input/lish-moa'\n",
    "data_dir = '../data/01_raw'\n",
    "\n",
    "sample_submission = pd.read_csv(data_dir+'/sample_submission.csv')\n",
    "train_targets_scored = pd.read_csv(data_dir+'/train_targets_scored.csv')\n",
    "targets_scored = train_targets_scored.columns[1:]"
   ]
  },
  {
   "cell_type": "markdown",
   "metadata": {},
   "source": [
    "# Launch data pipelines in parallel"
   ]
  },
  {
   "cell_type": "code",
   "execution_count": 5,
   "metadata": {
    "tags": []
   },
   "outputs": [
    {
     "output_type": "stream",
     "name": "stdout",
     "text": "<subprocess.Popen object at 0x7feb6260e9d0>\n<subprocess.Popen object at 0x7feb6260e9d0>\n<subprocess.Popen object at 0x7feb6260e9d0> is done\n<subprocess.Popen object at 0x7feb6264a890>\n<subprocess.Popen object at 0x7feb6264a890>\n<subprocess.Popen object at 0x7feb6264a890>\n<subprocess.Popen object at 0x7feb6264a890>\n<subprocess.Popen object at 0x7feb6264a890>\n<subprocess.Popen object at 0x7feb6264a890>\n<subprocess.Popen object at 0x7feb6264a890>\n<subprocess.Popen object at 0x7feb6264a890>\n<subprocess.Popen object at 0x7feb6264a890>\n<subprocess.Popen object at 0x7feb6264a890>\n<subprocess.Popen object at 0x7feb6264a890>\n<subprocess.Popen object at 0x7feb6264a890>\n<subprocess.Popen object at 0x7feb6264a890> is done\n"
    }
   ],
   "source": [
    "#launch models\n",
    "import subprocess\n",
    "import time\n",
    "import random\n",
    "\n",
    "lsub = []\n",
    "\n",
    "# mdl1 = subprocess.Popen(\"python data_v1.py\".split())\n",
    "# lsub += [mdl1]\n",
    "mdl1b = subprocess.Popen(\"python data_v3.py\".split())\n",
    "lsub += [mdl1b]\n",
    "# mdl2 = subprocess.Popen(\"python data_v2.py\".split())\n",
    "# lsub += [mdl2]\n",
    "# mdl3 = subprocess.Popen(\"python data_v3.py\".split())\n",
    "# lsub += [mdl3]\n",
    "\n",
    "while len(lsub) > 0:\n",
    "    random.shuffle(lsub)\n",
    "    it = iter(lsub)\n",
    "    p = next(it)\n",
    "\n",
    "    print(p)\n",
    "    if p.poll() != None:\n",
    "        print(f\"{p} is done\")\n",
    "        lsub.remove(p)\n",
    "    time.sleep(10)"
   ]
  },
  {
   "cell_type": "markdown",
   "metadata": {},
   "source": [
    "# Launch models in parallel"
   ]
  },
  {
   "cell_type": "code",
   "execution_count": 6,
   "metadata": {
    "tags": []
   },
   "outputs": [
    {
     "output_type": "stream",
     "name": "stdout",
     "text": "<subprocess.Popen object at 0x7feb6260b9d0>\n<subprocess.Popen object at 0x7feb6260e990>\n<subprocess.Popen object at 0x7feb6260b9d0>\n<subprocess.Popen object at 0x7feb6260e990>\n<subprocess.Popen object at 0x7feb6260b9d0>\n<subprocess.Popen object at 0x7feb6260e990>\n<subprocess.Popen object at 0x7feb6260b9d0>\n<subprocess.Popen object at 0x7feb6260b9d0>\n<subprocess.Popen object at 0x7feb6260b9d0>\n<subprocess.Popen object at 0x7feb6260b9d0>\n<subprocess.Popen object at 0x7feb6260e990>\n<subprocess.Popen object at 0x7feb6260e990>\n<subprocess.Popen object at 0x7feb6260e990>\n<subprocess.Popen object at 0x7feb6260b9d0>\n<subprocess.Popen object at 0x7feb6260b9d0>\n<subprocess.Popen object at 0x7feb6260b9d0>\n<subprocess.Popen object at 0x7feb6260e990>\n<subprocess.Popen object at 0x7feb6260b9d0>\n<subprocess.Popen object at 0x7feb6260b9d0>\n<subprocess.Popen object at 0x7feb6260b9d0>\n<subprocess.Popen object at 0x7feb6260e990>\n<subprocess.Popen object at 0x7feb6260b9d0>\n<subprocess.Popen object at 0x7feb6260b9d0>\n<subprocess.Popen object at 0x7feb6260b9d0>\n<subprocess.Popen object at 0x7feb6260e990>\n<subprocess.Popen object at 0x7feb6260b9d0>\n<subprocess.Popen object at 0x7feb6260e990>\n<subprocess.Popen object at 0x7feb6260b9d0>\n<subprocess.Popen object at 0x7feb6260b9d0>\n<subprocess.Popen object at 0x7feb6260e990>\n<subprocess.Popen object at 0x7feb6260b9d0>\n<subprocess.Popen object at 0x7feb6260e990>\n<subprocess.Popen object at 0x7feb6260b9d0>\n<subprocess.Popen object at 0x7feb6260e990>\n<subprocess.Popen object at 0x7feb6260b9d0>\n<subprocess.Popen object at 0x7feb6260e990>\n<subprocess.Popen object at 0x7feb6260b9d0>\n<subprocess.Popen object at 0x7feb6260b9d0>\n<subprocess.Popen object at 0x7feb6260b9d0>\n<subprocess.Popen object at 0x7feb6260b9d0>\n<subprocess.Popen object at 0x7feb6260e990>\n<subprocess.Popen object at 0x7feb6260b9d0>\n<subprocess.Popen object at 0x7feb6260b9d0>\n<subprocess.Popen object at 0x7feb6260e990>\n<subprocess.Popen object at 0x7feb6260e990>\n<subprocess.Popen object at 0x7feb6260e990>\n<subprocess.Popen object at 0x7feb6260e990>\n<subprocess.Popen object at 0x7feb6260b9d0>\n<subprocess.Popen object at 0x7feb6260e990>\n<subprocess.Popen object at 0x7feb6260e990>\n<subprocess.Popen object at 0x7feb6260e990>\n<subprocess.Popen object at 0x7feb6260e990>\n<subprocess.Popen object at 0x7feb6260b9d0>\n<subprocess.Popen object at 0x7feb6260e990>\n<subprocess.Popen object at 0x7feb6260b9d0>\n<subprocess.Popen object at 0x7feb6260b9d0>\n<subprocess.Popen object at 0x7feb6260b9d0>\n<subprocess.Popen object at 0x7feb6260b9d0>\n<subprocess.Popen object at 0x7feb6260b9d0>\n<subprocess.Popen object at 0x7feb6260b9d0>\n<subprocess.Popen object at 0x7feb6260e990>\n<subprocess.Popen object at 0x7feb6260b9d0>\n<subprocess.Popen object at 0x7feb6260e990>\n<subprocess.Popen object at 0x7feb6260b9d0>\n<subprocess.Popen object at 0x7feb6260b9d0>\n<subprocess.Popen object at 0x7feb6260b9d0>\n<subprocess.Popen object at 0x7feb6260b9d0>\n<subprocess.Popen object at 0x7feb6260b9d0>\n<subprocess.Popen object at 0x7feb6260e990>\n<subprocess.Popen object at 0x7feb6260b9d0>\n<subprocess.Popen object at 0x7feb6260b9d0>\n<subprocess.Popen object at 0x7feb6260b9d0>\n<subprocess.Popen object at 0x7feb6260b9d0>\n<subprocess.Popen object at 0x7feb6260e990>\n<subprocess.Popen object at 0x7feb6260e990>\n<subprocess.Popen object at 0x7feb6260b9d0>\n<subprocess.Popen object at 0x7feb6260e990>\n<subprocess.Popen object at 0x7feb6260b9d0>\n<subprocess.Popen object at 0x7feb6260b9d0>\n<subprocess.Popen object at 0x7feb6260e990>\n<subprocess.Popen object at 0x7feb6260b9d0>\n<subprocess.Popen object at 0x7feb6260b9d0>\n<subprocess.Popen object at 0x7feb6260b9d0>\n<subprocess.Popen object at 0x7feb6260b9d0>\n<subprocess.Popen object at 0x7feb6260b9d0>\n<subprocess.Popen object at 0x7feb6260b9d0>\n<subprocess.Popen object at 0x7feb6260e990>\n<subprocess.Popen object at 0x7feb6260e990>\n<subprocess.Popen object at 0x7feb6260b9d0>\n<subprocess.Popen object at 0x7feb6260e990>\n<subprocess.Popen object at 0x7feb6260e990>\n<subprocess.Popen object at 0x7feb6260e990>\n<subprocess.Popen object at 0x7feb6260b9d0>\n<subprocess.Popen object at 0x7feb6260e990>\n<subprocess.Popen object at 0x7feb6260b9d0>\n<subprocess.Popen object at 0x7feb6260b9d0>\n<subprocess.Popen object at 0x7feb6260e990>\n<subprocess.Popen object at 0x7feb6260b9d0>\n<subprocess.Popen object at 0x7feb6260b9d0>\n<subprocess.Popen object at 0x7feb6260e990>\n<subprocess.Popen object at 0x7feb6260e990>\n<subprocess.Popen object at 0x7feb6260e990>\n<subprocess.Popen object at 0x7feb6260e990>\n<subprocess.Popen object at 0x7feb6260e990>\n<subprocess.Popen object at 0x7feb6260e990>\n<subprocess.Popen object at 0x7feb6260e990>\n<subprocess.Popen object at 0x7feb6260b9d0>\n<subprocess.Popen object at 0x7feb6260b9d0>\n<subprocess.Popen object at 0x7feb6260e990>\n<subprocess.Popen object at 0x7feb6260b9d0>\n<subprocess.Popen object at 0x7feb6260b9d0>\n<subprocess.Popen object at 0x7feb6260e990>\n<subprocess.Popen object at 0x7feb6260e990>\n<subprocess.Popen object at 0x7feb6260e990>\n<subprocess.Popen object at 0x7feb6260b9d0>\n<subprocess.Popen object at 0x7feb6260b9d0>\n<subprocess.Popen object at 0x7feb6260b9d0>\n<subprocess.Popen object at 0x7feb6260b9d0>\n<subprocess.Popen object at 0x7feb6260e990>\n<subprocess.Popen object at 0x7feb6260b9d0>\n<subprocess.Popen object at 0x7feb6260b9d0>\n<subprocess.Popen object at 0x7feb6260e990>\n<subprocess.Popen object at 0x7feb6260b9d0>\n<subprocess.Popen object at 0x7feb6260b9d0>\n<subprocess.Popen object at 0x7feb6260e990>\n<subprocess.Popen object at 0x7feb6260b9d0>\n<subprocess.Popen object at 0x7feb6260b9d0>\n<subprocess.Popen object at 0x7feb6260b9d0>\n<subprocess.Popen object at 0x7feb6260b9d0>\n<subprocess.Popen object at 0x7feb6260b9d0>\n<subprocess.Popen object at 0x7feb6260e990>\n<subprocess.Popen object at 0x7feb6260e990>\n<subprocess.Popen object at 0x7feb6260e990>\n<subprocess.Popen object at 0x7feb6260b9d0>\n<subprocess.Popen object at 0x7feb6260b9d0>\n<subprocess.Popen object at 0x7feb6260e990>\n<subprocess.Popen object at 0x7feb6260b9d0>\n<subprocess.Popen object at 0x7feb6260b9d0>\n<subprocess.Popen object at 0x7feb6260e990>\n<subprocess.Popen object at 0x7feb6260e990>\n<subprocess.Popen object at 0x7feb6260b9d0>\n<subprocess.Popen object at 0x7feb6260b9d0>\n<subprocess.Popen object at 0x7feb6260b9d0>\n<subprocess.Popen object at 0x7feb6260b9d0>\n<subprocess.Popen object at 0x7feb6260e990>\n<subprocess.Popen object at 0x7feb6260b9d0>\n<subprocess.Popen object at 0x7feb6260b9d0> is done\n<subprocess.Popen object at 0x7feb6260e990>\n<subprocess.Popen object at 0x7feb6260e990>\n<subprocess.Popen object at 0x7feb6260e990>\n<subprocess.Popen object at 0x7feb6260e990>\n<subprocess.Popen object at 0x7feb6260e990>\n<subprocess.Popen object at 0x7feb6260e990>\n<subprocess.Popen object at 0x7feb6260e990>\n<subprocess.Popen object at 0x7feb6260e990>\n<subprocess.Popen object at 0x7feb6260e990>\n<subprocess.Popen object at 0x7feb6260e990>\n<subprocess.Popen object at 0x7feb6260e990>\n<subprocess.Popen object at 0x7feb6260e990>\n<subprocess.Popen object at 0x7feb6260e990>\n<subprocess.Popen object at 0x7feb6260e990>\n<subprocess.Popen object at 0x7feb6260e990>\n<subprocess.Popen object at 0x7feb6260e990>\n<subprocess.Popen object at 0x7feb6260e990>\n<subprocess.Popen object at 0x7feb6260e990>\n<subprocess.Popen object at 0x7feb6260e990>\n<subprocess.Popen object at 0x7feb6260e990>\n<subprocess.Popen object at 0x7feb6260e990>\n<subprocess.Popen object at 0x7feb6260e990>\n<subprocess.Popen object at 0x7feb6260e990>\n<subprocess.Popen object at 0x7feb6260e990>\n<subprocess.Popen object at 0x7feb6260e990>\n<subprocess.Popen object at 0x7feb6260e990>\n<subprocess.Popen object at 0x7feb6260e990>\n<subprocess.Popen object at 0x7feb6260e990>\n<subprocess.Popen object at 0x7feb6260e990>\n<subprocess.Popen object at 0x7feb6260e990>\n<subprocess.Popen object at 0x7feb6260e990>\n<subprocess.Popen object at 0x7feb6260e990>\n<subprocess.Popen object at 0x7feb6260e990>\n<subprocess.Popen object at 0x7feb6260e990>\n<subprocess.Popen object at 0x7feb6260e990>\n<subprocess.Popen object at 0x7feb6260e990>\n<subprocess.Popen object at 0x7feb6260e990>\n<subprocess.Popen object at 0x7feb6260e990>\n<subprocess.Popen object at 0x7feb6260e990>\n<subprocess.Popen object at 0x7feb6260e990>\n<subprocess.Popen object at 0x7feb6260e990>\n<subprocess.Popen object at 0x7feb6260e990>\n<subprocess.Popen object at 0x7feb6260e990>\n<subprocess.Popen object at 0x7feb6260e990>\n<subprocess.Popen object at 0x7feb6260e990>\n<subprocess.Popen object at 0x7feb6260e990>\n<subprocess.Popen object at 0x7feb6260e990>\n<subprocess.Popen object at 0x7feb6260e990>\n<subprocess.Popen object at 0x7feb6260e990>\n<subprocess.Popen object at 0x7feb6260e990>\n<subprocess.Popen object at 0x7feb6260e990>\n<subprocess.Popen object at 0x7feb6260e990>\n<subprocess.Popen object at 0x7feb6260e990>\n<subprocess.Popen object at 0x7feb6260e990>\n<subprocess.Popen object at 0x7feb6260e990>\n<subprocess.Popen object at 0x7feb6260e990>\n<subprocess.Popen object at 0x7feb6260e990>\n<subprocess.Popen object at 0x7feb6260e990>\n<subprocess.Popen object at 0x7feb6260e990>\n<subprocess.Popen object at 0x7feb6260e990>\n<subprocess.Popen object at 0x7feb6260e990>\n<subprocess.Popen object at 0x7feb6260e990>\n<subprocess.Popen object at 0x7feb6260e990>\n<subprocess.Popen object at 0x7feb6260e990>\n<subprocess.Popen object at 0x7feb6260e990>\n<subprocess.Popen object at 0x7feb6260e990>\n<subprocess.Popen object at 0x7feb6260e990>\n<subprocess.Popen object at 0x7feb6260e990>\n<subprocess.Popen object at 0x7feb6260e990>\n<subprocess.Popen object at 0x7feb6260e990>\n<subprocess.Popen object at 0x7feb6260e990>\n<subprocess.Popen object at 0x7feb6260e990>\n<subprocess.Popen object at 0x7feb6260e990>\n<subprocess.Popen object at 0x7feb6260e990>\n<subprocess.Popen object at 0x7feb6260e990>\n<subprocess.Popen object at 0x7feb6260e990>\n<subprocess.Popen object at 0x7feb6260e990>\n<subprocess.Popen object at 0x7feb6260e990>\n<subprocess.Popen object at 0x7feb6260e990>\n<subprocess.Popen object at 0x7feb6260e990>\n<subprocess.Popen object at 0x7feb6260e990>\n<subprocess.Popen object at 0x7feb6260e990>\n<subprocess.Popen object at 0x7feb6260e990>\n<subprocess.Popen object at 0x7feb6260e990>\n<subprocess.Popen object at 0x7feb6260e990>\n<subprocess.Popen object at 0x7feb6260e990>\n<subprocess.Popen object at 0x7feb6260e990>\n<subprocess.Popen object at 0x7feb6260e990>\n<subprocess.Popen object at 0x7feb6260e990> is done\n"
    }
   ],
   "source": [
    "#All models are based on 5folds - 3 seeds\n",
    "#model1 - DNN on scored targets only\n",
    "#model2 - DNN on scored targets and unscored targets\n",
    "#model3 - Resnet using scored targets and \n",
    "#model4 - tabnet model\n",
    "\n",
    "#launch models\n",
    "import subprocess\n",
    "import time\n",
    "import random\n",
    "\n",
    "lsub = []\n",
    "\n",
    "mdl1 = subprocess.Popen(\"python mdl2_3.py\".split(), stdout=subprocess.PIPE, stderr=subprocess.STDOUT)\n",
    "lsub += [mdl1]\n",
    "mdl2 = subprocess.Popen(\"python mdl3_3.py\".split(), stdout=subprocess.PIPE, stderr=subprocess.STDOUT)\n",
    "lsub += [mdl2]\n",
    "mdl3 = subprocess.Popen(\"python mdl1.py\".split(), stdout=subprocess.PIPE, stderr=subprocess.STDOUT)\n",
    "lsub += [mdl3]\n",
    "\n",
    "\n",
    "\n",
    "\n",
    "while len(lsub) > 0:\n",
    "    random.shuffle(lsub)\n",
    "    it = iter(lsub)\n",
    "    p = next(it)\n",
    "\n",
    "    # print(p.communicate()[0])\n",
    "    print(p)\n",
    "    if p.poll() != None:\n",
    "        print(f\"{p} is done\")\n",
    "        lsub.remove(p)\n",
    "    time.sleep(10)\n",
    "    "
   ]
  },
  {
   "cell_type": "markdown",
   "metadata": {},
   "source": [
    "# Optimize ratios"
   ]
  },
  {
   "cell_type": "code",
   "execution_count": 53,
   "metadata": {},
   "outputs": [],
   "source": [
    "oof_v1 = pd.read_csv('./oof_v1.csv.gz',compression=\"gzip\")\n",
    "oof_v2 = pd.read_csv('./oof_v2_3.csv.gz',compression=\"gzip\")\n",
    "oof_v3 = pd.read_csv('./oof_v3_3.csv.gz',compression=\"gzip\")"
   ]
  },
  {
   "cell_type": "code",
   "execution_count": 54,
   "metadata": {},
   "outputs": [],
   "source": [
    "#Optimize ratios v1,v2...\n",
    "#ratios = [0.25,0.4,0.35]\n",
    "ratios = [0.35,0.4,0.25]\n",
    "#ratios = [.0,.0,1]\n",
    "\n",
    "train = oof_v2.copy()\n",
    "train[targets_scored] =  ratios[0]*oof_v1[targets_scored] \\\n",
    "                         + ratios[1]*oof_v2[targets_scored] \\\n",
    "                         + ratios[2]*oof_v3[targets_scored]\n"
   ]
  },
  {
   "cell_type": "code",
   "execution_count": 55,
   "metadata": {
    "tags": []
   },
   "outputs": [
    {
     "output_type": "stream",
     "name": "stdout",
     "text": "CV log_loss:  0.015837040431665825\n0.6556263804276584\n"
    }
   ],
   "source": [
    "y_true = train_targets_scored.iloc[:,1:].values\n",
    "y_pred = train[targets_scored].values\n",
    "\n",
    "score = 0\n",
    "for i in range(len(targets_scored)):\n",
    "    score_ = log_loss(y_true[:, i], y_pred[:, i])\n",
    "    score += score_ / len(targets_scored)\n",
    "    \n",
    "print(\"CV log_loss: \", score)\n",
    "print(roc_auc_score(y_true,y_pred))"
   ]
  },
  {
   "cell_type": "code",
   "execution_count": null,
   "metadata": {},
   "outputs": [],
   "source": [
    "#0.35,0.4,0.25 - CV log_loss:  0.015837040431665825 - 0.6556263804276584"
   ]
  },
  {
   "cell_type": "code",
   "execution_count": 56,
   "metadata": {},
   "outputs": [],
   "source": [
    "sub_v1 = pd.read_csv('./sub_v1.csv.gz')\n",
    "sub_v2 = pd.read_csv('./sub_v2_3.csv.gz')\n",
    "sub_v3 = pd.read_csv('./sub_v3_3.csv.gz')"
   ]
  },
  {
   "cell_type": "code",
   "execution_count": 57,
   "metadata": {},
   "outputs": [],
   "source": [
    "test = sub_v2.copy()\n",
    "test[targets_scored] =  ratios[0]*sub_v2[targets_scored] \\\n",
    "                            + ratios[1]*sub_v3[targets_scored]"
   ]
  },
  {
   "cell_type": "code",
   "execution_count": 58,
   "metadata": {},
   "outputs": [],
   "source": [
    "#Prepare submission\n",
    "submission = pd.read_csv(data_dir+'/sample_submission.csv')\n",
    "\n",
    "#Add blended ratios\n",
    "submission.iloc[:, 1:] = test[targets_scored]\n",
    "submission.to_csv('submission.csv', index=False)"
   ]
  }
 ]
}