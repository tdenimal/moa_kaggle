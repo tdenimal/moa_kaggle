{
 "metadata": {
  "language_info": {
   "codemirror_mode": {
    "name": "ipython",
    "version": 3
   },
   "file_extension": ".py",
   "mimetype": "text/x-python",
   "name": "python",
   "nbconvert_exporter": "python",
   "pygments_lexer": "ipython3",
   "version": "3.7.9-final"
  },
  "orig_nbformat": 2,
  "kernelspec": {
   "name": "python_defaultSpec_1606065446242",
   "display_name": "Python 3.7.9 64-bit ('moa_kaggle': conda)"
  }
 },
 "nbformat": 4,
 "nbformat_minor": 2,
 "cells": [
  {
   "cell_type": "code",
   "execution_count": 1,
   "metadata": {},
   "outputs": [],
   "source": [
    "import pandas as pd\n",
    "#import numpy as np\n",
    "#import glob\n",
    "from sklearn.metrics import roc_auc_score\n",
    "from sklearn.metrics import log_loss"
   ]
  },
  {
   "cell_type": "markdown",
   "metadata": {},
   "source": [
    "# Load Data"
   ]
  },
  {
   "cell_type": "code",
   "execution_count": 2,
   "metadata": {},
   "outputs": [],
   "source": [
    "#data_dir = '../input/lish-moa'\n",
    "data_dir = '../data/01_raw'\n",
    "\n",
    "sample_submission = pd.read_csv(data_dir+'/sample_submission.csv')\n",
    "train_targets_scored = pd.read_csv(data_dir+'/train_targets_scored.csv')\n",
    "targets_scored = train_targets_scored.columns[1:]"
   ]
  },
  {
   "cell_type": "markdown",
   "metadata": {},
   "source": [
    "# Launch data pipelines in parallel"
   ]
  },
  {
   "cell_type": "code",
   "execution_count": 13,
   "metadata": {
    "tags": []
   },
   "outputs": [
    {
     "output_type": "stream",
     "name": "stdout",
     "text": "<subprocess.Popen object at 0x7fc4000872d0>\n<subprocess.Popen object at 0x7fc4000872d0>\n<subprocess.Popen object at 0x7fc4000872d0>\n<subprocess.Popen object at 0x7fc4000872d0>\n<subprocess.Popen object at 0x7fc4000872d0>\n<subprocess.Popen object at 0x7fc4000872d0>\n<subprocess.Popen object at 0x7fc4000872d0>\n<subprocess.Popen object at 0x7fc4000872d0>\n<subprocess.Popen object at 0x7fc4000872d0>\n<subprocess.Popen object at 0x7fc4000872d0>\n<subprocess.Popen object at 0x7fc4000872d0>\n<subprocess.Popen object at 0x7fc4000872d0>\n<subprocess.Popen object at 0x7fc4000872d0>\n<subprocess.Popen object at 0x7fc4000872d0>\n<subprocess.Popen object at 0x7fc4000872d0>\n<subprocess.Popen object at 0x7fc4000872d0> is done\n"
    }
   ],
   "source": [
    "#launch models\n",
    "import subprocess\n",
    "import time\n",
    "import random\n",
    "\n",
    "lsub = []\n",
    "\n",
    "# mdl1 = subprocess.Popen(\"python data_v1.py\".split())\n",
    "# lsub += [mdl1]\n",
    "mdl1b = subprocess.Popen(\"python data_v3b.py\".split())\n",
    "lsub += [mdl1b]\n",
    "# mdl2 = subprocess.Popen(\"python data_v2.py\".split())\n",
    "# lsub += [mdl2]\n",
    "# mdl3 = subprocess.Popen(\"python data_v3.py\".split())\n",
    "# lsub += [mdl3]\n",
    "\n",
    "while len(lsub) > 0:\n",
    "    random.shuffle(lsub)\n",
    "    it = iter(lsub)\n",
    "    p = next(it)\n",
    "\n",
    "    print(p.args)\n",
    "    if p.poll() != None:\n",
    "        print(f\"{p.args} is done\")\n",
    "        lsub.remove(p)\n",
    "    time.sleep(10)"
   ]
  },
  {
   "cell_type": "markdown",
   "metadata": {},
   "source": [
    "# Launch models in parallel"
   ]
  },
  {
   "cell_type": "code",
   "execution_count": 3,
   "metadata": {
    "tags": []
   },
   "outputs": [
    {
     "output_type": "stream",
     "name": "stdout",
     "text": "['python', 'mdl3.py']\n['python', 'mdl3.py']\n['python', 'mdl3.py']\n['python', 'mdl1.py']\n['python', 'mdl2.py']\n['python', 'mdl2.py']\n['python', 'mdl1.py']\n['python', 'mdl3.py']\n['python', 'mdl3.py']\n['python', 'mdl3.py']\n['python', 'mdl1.py']\n['python', 'mdl3.py']\n['python', 'mdl3.py']\n['python', 'mdl3.py']\n['python', 'mdl1.py']\n['python', 'mdl1.py']\n['python', 'mdl2.py']\n['python', 'mdl2.py']\n['python', 'mdl3.py']\n['python', 'mdl2.py']\n['python', 'mdl1.py']\n['python', 'mdl1.py']\n['python', 'mdl2.py']\n['python', 'mdl2.py']\n['python', 'mdl1.py']\n['python', 'mdl1.py']\n['python', 'mdl3.py']\n['python', 'mdl1.py']\n['python', 'mdl2.py']\n['python', 'mdl1.py']\n['python', 'mdl1.py']\n['python', 'mdl2.py']\n['python', 'mdl3.py']\n['python', 'mdl3.py']\n['python', 'mdl2.py']\n['python', 'mdl1.py']\n['python', 'mdl3.py']\n['python', 'mdl1.py']\n['python', 'mdl1.py']\n['python', 'mdl2.py']\n['python', 'mdl1.py']\n['python', 'mdl2.py']\n['python', 'mdl1.py']\n['python', 'mdl3.py']\n['python', 'mdl1.py']\n['python', 'mdl1.py']\n['python', 'mdl1.py']\n['python', 'mdl3.py']\n['python', 'mdl2.py']\n['python', 'mdl3.py']\n['python', 'mdl1.py']\n['python', 'mdl2.py']\n['python', 'mdl2.py']\n['python', 'mdl3.py']\n['python', 'mdl3.py']\n['python', 'mdl3.py']\n['python', 'mdl1.py']\n['python', 'mdl1.py']\n['python', 'mdl1.py']\n['python', 'mdl2.py']\n['python', 'mdl2.py']\n['python', 'mdl1.py']\n['python', 'mdl1.py']\n['python', 'mdl3.py']\n['python', 'mdl2.py']\n['python', 'mdl1.py']\n['python', 'mdl3.py']\n['python', 'mdl2.py']\n['python', 'mdl3.py']\n['python', 'mdl3.py']\n['python', 'mdl1.py']\n['python', 'mdl3.py']\n['python', 'mdl1.py']\n['python', 'mdl1.py']\n['python', 'mdl2.py']\n['python', 'mdl1.py']\n['python', 'mdl3.py']\n['python', 'mdl2.py']\n['python', 'mdl3.py']\n['python', 'mdl2.py']\n['python', 'mdl2.py']\n['python', 'mdl3.py']\n['python', 'mdl3.py']\n['python', 'mdl1.py']\n['python', 'mdl3.py']\n['python', 'mdl1.py']\n['python', 'mdl3.py']\n['python', 'mdl2.py']\n['python', 'mdl3.py']\n['python', 'mdl2.py']\n['python', 'mdl1.py']\n['python', 'mdl2.py']\n['python', 'mdl3.py']\n['python', 'mdl1.py']\n['python', 'mdl2.py']\n['python', 'mdl3.py']\n['python', 'mdl2.py']\n['python', 'mdl3.py']\n['python', 'mdl3.py']\n['python', 'mdl3.py']\n['python', 'mdl3.py']\n['python', 'mdl2.py']\n['python', 'mdl2.py']\n['python', 'mdl1.py']\n['python', 'mdl3.py']\n['python', 'mdl1.py']\n['python', 'mdl3.py']\n['python', 'mdl3.py']\n['python', 'mdl3.py']\n['python', 'mdl3.py']\n['python', 'mdl3.py']\n['python', 'mdl2.py']\n['python', 'mdl1.py']\n['python', 'mdl1.py']\n['python', 'mdl1.py']\n['python', 'mdl1.py']\n['python', 'mdl1.py']\n['python', 'mdl3.py']\n['python', 'mdl3.py']\n['python', 'mdl1.py']\n['python', 'mdl1.py']\n['python', 'mdl2.py']\n['python', 'mdl2.py']\n['python', 'mdl3.py']\n['python', 'mdl1.py']\n['python', 'mdl1.py']\n['python', 'mdl1.py']\n['python', 'mdl3.py']\n['python', 'mdl1.py']\n['python', 'mdl1.py']\n['python', 'mdl3.py']\n['python', 'mdl3.py']\n['python', 'mdl1.py']\n['python', 'mdl3.py']\n['python', 'mdl1.py']\n['python', 'mdl3.py']\n['python', 'mdl1.py']\n['python', 'mdl3.py']\n['python', 'mdl3.py']\n['python', 'mdl3.py']\n['python', 'mdl3.py']\n['python', 'mdl1.py']\n['python', 'mdl2.py']\n['python', 'mdl1.py']\n['python', 'mdl2.py']\n['python', 'mdl3.py']\n['python', 'mdl2.py']\n['python', 'mdl3.py']\n['python', 'mdl1.py']\n['python', 'mdl3.py']\n['python', 'mdl1.py']\n['python', 'mdl2.py']\n['python', 'mdl3.py']\n['python', 'mdl3.py']\n['python', 'mdl1.py']\n['python', 'mdl1.py']\n['python', 'mdl1.py']\n['python', 'mdl1.py']\n['python', 'mdl3.py']\n['python', 'mdl2.py']\n['python', 'mdl3.py']\n['python', 'mdl3.py']\n['python', 'mdl2.py']\n['python', 'mdl3.py']\n['python', 'mdl3.py']\n['python', 'mdl2.py']\n['python', 'mdl3.py']\n['python', 'mdl1.py']\n['python', 'mdl2.py']\n['python', 'mdl3.py']\n['python', 'mdl3.py']\n['python', 'mdl1.py']\n['python', 'mdl2.py']\n['python', 'mdl3.py']\n['python', 'mdl2.py']\n['python', 'mdl2.py']\n['python', 'mdl1.py']\n['python', 'mdl2.py']\n['python', 'mdl3.py']\n['python', 'mdl1.py']\n['python', 'mdl1.py']\n['python', 'mdl3.py']\n['python', 'mdl1.py']\n['python', 'mdl3.py']\n['python', 'mdl2.py']\n['python', 'mdl3.py']\n['python', 'mdl3.py']\n['python', 'mdl3.py']\n['python', 'mdl3.py']\n['python', 'mdl2.py']\n['python', 'mdl2.py']\n['python', 'mdl2.py']\n['python', 'mdl1.py']\n['python', 'mdl1.py']\n['python', 'mdl1.py']\n['python', 'mdl1.py']\n['python', 'mdl2.py']\n['python', 'mdl3.py']\n['python', 'mdl3.py']\n['python', 'mdl3.py']\n['python', 'mdl2.py']\n['python', 'mdl3.py']\n['python', 'mdl3.py']\n['python', 'mdl1.py']\n['python', 'mdl1.py']\n['python', 'mdl1.py']\n['python', 'mdl2.py']\n['python', 'mdl3.py']\n['python', 'mdl1.py']\n['python', 'mdl1.py']\n['python', 'mdl2.py']\n['python', 'mdl2.py']\n['python', 'mdl2.py']\n['python', 'mdl1.py']\n['python', 'mdl1.py']\n['python', 'mdl1.py']\n['python', 'mdl1.py']\n['python', 'mdl2.py']\n['python', 'mdl1.py']\n['python', 'mdl3.py']\n['python', 'mdl1.py']\n['python', 'mdl1.py']\n['python', 'mdl3.py']\n['python', 'mdl2.py']\n['python', 'mdl3.py']\n['python', 'mdl3.py']\n['python', 'mdl3.py']\n['python', 'mdl1.py']\n['python', 'mdl2.py']\n['python', 'mdl3.py']\n['python', 'mdl3.py']\n['python', 'mdl2.py']\n['python', 'mdl1.py']\n['python', 'mdl1.py']\n['python', 'mdl1.py']\n['python', 'mdl3.py']\n['python', 'mdl1.py']\n['python', 'mdl2.py']\n['python', 'mdl1.py']\n['python', 'mdl2.py']\n['python', 'mdl3.py']\n['python', 'mdl1.py']\n['python', 'mdl3.py']\n['python', 'mdl1.py']\n['python', 'mdl1.py']\n['python', 'mdl1.py']\n['python', 'mdl2.py']\n['python', 'mdl1.py']\n['python', 'mdl1.py']\n['python', 'mdl2.py']\n['python', 'mdl1.py']\n['python', 'mdl2.py']\n['python', 'mdl2.py']\n['python', 'mdl2.py']\n['python', 'mdl2.py']\n['python', 'mdl2.py']\n['python', 'mdl3.py']\n['python', 'mdl1.py']\n['python', 'mdl3.py']\n['python', 'mdl3.py']\n['python', 'mdl1.py']\n['python', 'mdl2.py']\n['python', 'mdl1.py']\n['python', 'mdl1.py']\n['python', 'mdl1.py']\n['python', 'mdl1.py']\n['python', 'mdl2.py']\n['python', 'mdl3.py']\n['python', 'mdl1.py']\n['python', 'mdl2.py']\n['python', 'mdl1.py']\n['python', 'mdl1.py']\n['python', 'mdl1.py']\n['python', 'mdl1.py']\n['python', 'mdl2.py']\n['python', 'mdl1.py']\n['python', 'mdl3.py']\n['python', 'mdl1.py']\n['python', 'mdl2.py']\n['python', 'mdl2.py']\n['python', 'mdl3.py']\n['python', 'mdl1.py']\n['python', 'mdl2.py']\n['python', 'mdl2.py']\n['python', 'mdl3.py']\n['python', 'mdl2.py']\n['python', 'mdl2.py']\n['python', 'mdl2.py']\n['python', 'mdl2.py']\n['python', 'mdl2.py']\n['python', 'mdl2.py']\n['python', 'mdl1.py']\n['python', 'mdl3.py']\n['python', 'mdl3.py']\n['python', 'mdl1.py']\n['python', 'mdl1.py']\n['python', 'mdl3.py']\n['python', 'mdl1.py']\n['python', 'mdl2.py']\n['python', 'mdl3.py']\n['python', 'mdl3.py']\n['python', 'mdl2.py']\n['python', 'mdl2.py']\n['python', 'mdl1.py']\n['python', 'mdl3.py']\n['python', 'mdl2.py']\n['python', 'mdl3.py']\n['python', 'mdl2.py']\n['python', 'mdl1.py']\n['python', 'mdl1.py']\n['python', 'mdl3.py']\n['python', 'mdl3.py']\n['python', 'mdl3.py']\n['python', 'mdl2.py']\n['python', 'mdl2.py']\n['python', 'mdl1.py']\n['python', 'mdl2.py']\n['python', 'mdl2.py']\n['python', 'mdl2.py']\n['python', 'mdl1.py']\n['python', 'mdl1.py']\n['python', 'mdl2.py']\n['python', 'mdl1.py']\n['python', 'mdl2.py']\n['python', 'mdl3.py']\n['python', 'mdl3.py']\n['python', 'mdl2.py']\n['python', 'mdl2.py']\n['python', 'mdl1.py']\n['python', 'mdl3.py']\n['python', 'mdl1.py']\n['python', 'mdl3.py']\n['python', 'mdl1.py']\n['python', 'mdl2.py']\n['python', 'mdl1.py']\n['python', 'mdl1.py']\n['python', 'mdl3.py']\n['python', 'mdl1.py']\n['python', 'mdl2.py']\n['python', 'mdl2.py']\n['python', 'mdl2.py']\n['python', 'mdl1.py']\n['python', 'mdl3.py']\n['python', 'mdl2.py']\n['python', 'mdl3.py']\n['python', 'mdl1.py']\n['python', 'mdl2.py']\n['python', 'mdl1.py']\n['python', 'mdl1.py']\n['python', 'mdl3.py']\n['python', 'mdl1.py']\n['python', 'mdl2.py']\n['python', 'mdl3.py']\n['python', 'mdl3.py']\n['python', 'mdl2.py']\n['python', 'mdl2.py']\n['python', 'mdl2.py']\n['python', 'mdl1.py']\n['python', 'mdl2.py']\n['python', 'mdl2.py']\n['python', 'mdl1.py']\n['python', 'mdl2.py']\n['python', 'mdl1.py']\n['python', 'mdl2.py']\n['python', 'mdl3.py']\n['python', 'mdl1.py']\n['python', 'mdl3.py']\n['python', 'mdl1.py']\n['python', 'mdl2.py']\n['python', 'mdl2.py']\n['python', 'mdl2.py']\n['python', 'mdl1.py']\n['python', 'mdl3.py']\n['python', 'mdl1.py']\n['python', 'mdl3.py']\n['python', 'mdl2.py']\n['python', 'mdl3.py']\n['python', 'mdl2.py']\n['python', 'mdl2.py'] is done\n['python', 'mdl1.py']\n['python', 'mdl1.py']\n['python', 'mdl1.py']\n['python', 'mdl3.py']\n['python', 'mdl1.py']\n['python', 'mdl3.py']\n['python', 'mdl1.py']\n['python', 'mdl1.py']\n['python', 'mdl1.py']\n['python', 'mdl3.py']\n['python', 'mdl1.py']\n['python', 'mdl1.py']\n['python', 'mdl3.py']\n['python', 'mdl3.py']\n['python', 'mdl1.py']\n['python', 'mdl1.py']\n['python', 'mdl1.py']\n['python', 'mdl3.py']\n['python', 'mdl1.py']\n['python', 'mdl3.py']\n['python', 'mdl1.py']\n['python', 'mdl1.py']\n['python', 'mdl1.py']\n['python', 'mdl1.py']\n['python', 'mdl3.py']\n['python', 'mdl1.py']\n['python', 'mdl1.py']\n['python', 'mdl3.py']\n['python', 'mdl1.py']\n['python', 'mdl1.py']\n['python', 'mdl3.py']\n['python', 'mdl1.py']\n['python', 'mdl3.py']\n['python', 'mdl3.py']\n['python', 'mdl1.py']\n['python', 'mdl1.py']\n['python', 'mdl1.py']\n['python', 'mdl1.py']\n['python', 'mdl3.py']\n['python', 'mdl3.py']\n['python', 'mdl3.py']\n['python', 'mdl1.py']\n['python', 'mdl3.py']\n['python', 'mdl3.py']\n['python', 'mdl1.py']\n['python', 'mdl1.py']\n['python', 'mdl3.py']\n['python', 'mdl3.py']\n['python', 'mdl1.py']\n['python', 'mdl1.py']\n['python', 'mdl3.py']\n['python', 'mdl1.py']\n['python', 'mdl3.py']\n['python', 'mdl1.py']\n['python', 'mdl3.py']\n['python', 'mdl3.py']\n['python', 'mdl1.py']\n['python', 'mdl1.py']\n['python', 'mdl1.py']\n['python', 'mdl3.py']\n['python', 'mdl3.py']\n['python', 'mdl1.py']\n['python', 'mdl3.py']\n['python', 'mdl3.py']\n['python', 'mdl3.py']\n['python', 'mdl1.py']\n['python', 'mdl1.py']\n['python', 'mdl3.py']\n['python', 'mdl3.py']\n['python', 'mdl3.py']\n['python', 'mdl3.py']\n['python', 'mdl1.py']\n['python', 'mdl1.py'] is done\n['python', 'mdl3.py']\n['python', 'mdl3.py']\n['python', 'mdl3.py']\n['python', 'mdl3.py']\n['python', 'mdl3.py']\n['python', 'mdl3.py']\n['python', 'mdl3.py']\n['python', 'mdl3.py']\n['python', 'mdl3.py']\n['python', 'mdl3.py']\n['python', 'mdl3.py']\n['python', 'mdl3.py']\n['python', 'mdl3.py']\n['python', 'mdl3.py']\n['python', 'mdl3.py']\n['python', 'mdl3.py']\n['python', 'mdl3.py']\n['python', 'mdl3.py']\n['python', 'mdl3.py']\n['python', 'mdl3.py']\n['python', 'mdl3.py']\n['python', 'mdl3.py']\n['python', 'mdl3.py']\n['python', 'mdl3.py']\n['python', 'mdl3.py']\n['python', 'mdl3.py']\n['python', 'mdl3.py']\n['python', 'mdl3.py']\n['python', 'mdl3.py']\n['python', 'mdl3.py']\n['python', 'mdl3.py']\n['python', 'mdl3.py']\n['python', 'mdl3.py']\n['python', 'mdl3.py']\n['python', 'mdl3.py']\n['python', 'mdl3.py']\n['python', 'mdl3.py']\n['python', 'mdl3.py']\n['python', 'mdl3.py']\n['python', 'mdl3.py']\n['python', 'mdl3.py']\n['python', 'mdl3.py']\n['python', 'mdl3.py']\n['python', 'mdl3.py']\n['python', 'mdl3.py']\n['python', 'mdl3.py']\n['python', 'mdl3.py']\n['python', 'mdl3.py']\n['python', 'mdl3.py']\n['python', 'mdl3.py']\n['python', 'mdl3.py']\n['python', 'mdl3.py']\n['python', 'mdl3.py']\n['python', 'mdl3.py']\n['python', 'mdl3.py']\n['python', 'mdl3.py']\n['python', 'mdl3.py']\n['python', 'mdl3.py']\n['python', 'mdl3.py'] is done\n"
    }
   ],
   "source": [
    "#All models are based on 5folds - 3 seeds\n",
    "#model1 - DNN on scored targets only\n",
    "#model2 - DNN on scored targets and unscored targets\n",
    "#model3 - Resnet using scored targets and \n",
    "#model4 - tabnet model\n",
    "\n",
    "#launch models\n",
    "import subprocess\n",
    "import time\n",
    "import random\n",
    "\n",
    "lsub = []\n",
    "\n",
    "mdl1 = subprocess.Popen(\"python mdl1.py\".split(), stdout=subprocess.PIPE, stderr=subprocess.STDOUT)\n",
    "lsub += [mdl1]\n",
    "mdl2 = subprocess.Popen(\"python mdl2.py\".split(), stdout=subprocess.PIPE, stderr=subprocess.STDOUT)\n",
    "lsub += [mdl2]\n",
    "mdl3 = subprocess.Popen(\"python mdl3.py\".split(), stdout=subprocess.PIPE, stderr=subprocess.STDOUT)\n",
    "lsub += [mdl3]\n",
    "\n",
    "\n",
    "\n",
    "\n",
    "while len(lsub) > 0:\n",
    "    random.shuffle(lsub)\n",
    "    it = iter(lsub)\n",
    "    p = next(it)\n",
    "\n",
    "    # print(p.communicate()[0])\n",
    "    print(p.args)\n",
    "    if p.poll() != None:\n",
    "        print(f\"{p.args} is done\")\n",
    "        lsub.remove(p)\n",
    "    time.sleep(10)\n",
    "    "
   ]
  },
  {
   "cell_type": "markdown",
   "metadata": {},
   "source": [
    "# Optimize ratios"
   ]
  },
  {
   "cell_type": "code",
   "execution_count": 5,
   "metadata": {},
   "outputs": [],
   "source": [
    "oof_v1 = pd.read_csv('./oof_v1.csv.gz',compression=\"gzip\")\n",
    "oof_v2 = pd.read_csv('./oof_v2.csv.gz',compression=\"gzip\")\n",
    "oof_v3 = pd.read_csv('./oof_v3.csv.gz',compression=\"gzip\")"
   ]
  },
  {
   "cell_type": "code",
   "execution_count": 36,
   "metadata": {},
   "outputs": [],
   "source": [
    "#Optimize ratios v1,v2...\n",
    "ratios = [.35,.35,.3]\n",
    "#ratios = [.0,.0,1]\n",
    "\n",
    "train = oof_v2.copy()\n",
    "train[targets_scored] =  ratios[0]*oof_v1[targets_scored] \\\n",
    "                         + ratios[1]*oof_v2[targets_scored] \\\n",
    "                         + ratios[2]*oof_v3[targets_scored]\n"
   ]
  },
  {
   "cell_type": "code",
   "execution_count": 37,
   "metadata": {},
   "outputs": [],
   "source": [
    "#mdl1 datav2 - CV log_loss:  0.01612273916064027  - 0.6456645302982578\n",
    "    #mdl1 datav3 - CV log_loss:  0.016076573782498754 - 0.6508584615567887\n",
    "    #mdl1 datav3 - CV log_loss:  0.016066518969799066 - 0.6507665247472552\n",
    "    #mdl1 datav3 [0.5, 0.35, 0.3, 0.25] - CV log_loss:  0.016064025163850172 - 0.6506508618872058\n",
    "    #mdl1 datav3 [0.5, 0.35, 0.35, 0.3] - CV log_loss:  0.016064025163850172 - 0.6506508618872058\n",
    "#mdl2 datav3 - CV log_loss:  0.016002962182328745 - 0.649883601325213\n",
    "#mdl3 datav1 - CV log_loss:  0.016334877532401343 - 0.6409718409851376\n",
    "    #mdl3 datav1 - pat_sch10,pat 40  - CV log_loss:  0.016323506996166224 - 0.6450274806973708\n",
    "    #mdl3 datav1c - pat_sch10,pat 40  - CV log_loss:  0.016328237089782156 - 0.6514274670059218\n",
    "    #mdl3 datav1c - pat_sch10,pat 40, n_d 24, n_a 64 - CV log_loss:  0.01627582951315354 - 0.6470267317729611\n",
    "\n",
    "\n",
    "    #tabnet\n",
    "    #datav1 - 24/64  CV log_loss:  0.016338515879056676 0.6432424662369459\n",
    "    #datav1 - 16/64  CV log_loss:  0.016356804603262998 0.6472967466584303\n",
    "\n",
    "    #datav1c 24/64 nshared 2 indp 2 - CV log_loss:  0.016295707697504228  0.6424207847007823\n",
    "    #datav1c 24/64 nshared 1 indp 1 - CV log_loss:  0.016384444042879066  0.6517732857559961\n",
    "    #datav1c 24/64 nshared 0 indp 2 - CV log_loss:  0.016334049200083876  0.6476813816964853\n",
    "    #datav1c 24/64 nshared 1 indp 3 - CV log_loss:  0.016355521780600613  0.6443578692121475"
   ]
  },
  {
   "cell_type": "code",
   "execution_count": 38,
   "metadata": {
    "tags": []
   },
   "outputs": [
    {
     "output_type": "stream",
     "name": "stdout",
     "text": "CV log_loss:  0.01580187072146891\n0.6547396041996395\n"
    }
   ],
   "source": [
    "y_true = train_targets_scored.iloc[:,1:].values\n",
    "y_pred = train[targets_scored].values\n",
    "\n",
    "score = 0\n",
    "for i in range(len(targets_scored)):\n",
    "    score_ = log_loss(y_true[:, i], y_pred[:, i])\n",
    "    score += score_ / len(targets_scored)\n",
    "    \n",
    "print(\"CV log_loss: \", score)\n",
    "print(roc_auc_score(y_true,y_pred))"
   ]
  },
  {
   "cell_type": "code",
   "execution_count": null,
   "metadata": {},
   "outputs": [],
   "source": [
    "#.35,.35,.3 - CV log_loss:  0.015831060922422473 - 0.6525849845540593\n",
    "#.35,.35,.3 - CV log_loss:  0.01580056953208387 - 0.6549611343990086"
   ]
  },
  {
   "cell_type": "code",
   "execution_count": 16,
   "metadata": {},
   "outputs": [],
   "source": [
    "sub_v1 = pd.read_csv('./sub_v1.csv.gz')\n",
    "sub_v2 = pd.read_csv('./sub_v2.csv.gz')\n",
    "sub_v3 = pd.read_csv('./sub_v3.csv.gz')"
   ]
  },
  {
   "cell_type": "code",
   "execution_count": 17,
   "metadata": {},
   "outputs": [],
   "source": [
    "test = sub_v2.copy()\n",
    "test[targets_scored] =  ratios[0]*sub_v2[targets_scored] \\\n",
    "                            + ratios[1]*sub_v3[targets_scored]"
   ]
  },
  {
   "cell_type": "code",
   "execution_count": 19,
   "metadata": {},
   "outputs": [],
   "source": [
    "#Prepare submission\n",
    "submission = pd.read_csv(data_dir+'/sample_submission.csv')\n",
    "\n",
    "#Add blended ratios\n",
    "submission.iloc[:, 1:] = test[targets_scored]\n",
    "submission.to_csv('submission.csv', index=False)"
   ]
  }
 ]
}