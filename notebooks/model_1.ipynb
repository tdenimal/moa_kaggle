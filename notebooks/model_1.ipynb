{
 "metadata": {
  "language_info": {
   "codemirror_mode": {
    "name": "ipython",
    "version": 3
   },
   "file_extension": ".py",
   "mimetype": "text/x-python",
   "name": "python",
   "nbconvert_exporter": "python",
   "pygments_lexer": "ipython3",
   "version": "3.7.9-final"
  },
  "orig_nbformat": 2,
  "kernelspec": {
   "name": "python_defaultSpec_1604785665205",
   "display_name": "Python 3.7.9 64-bit ('moa_kaggle': conda)"
  }
 },
 "nbformat": 4,
 "nbformat_minor": 2,
 "cells": [
  {
   "cell_type": "code",
   "execution_count": 1,
   "metadata": {},
   "outputs": [],
   "source": [
    "import numpy as np\n",
    "import random\n",
    "import pandas as pd\n",
    "import matplotlib.pyplot as plt\n",
    "import os\n",
    "import copy\n",
    "import seaborn as sns\n",
    "\n",
    "from iterstrat.ml_stratifiers import MultilabelStratifiedKFold\n",
    "\n",
    "\n",
    "\n",
    "from sklearn import preprocessing\n",
    "from sklearn.metrics import log_loss\n",
    "from sklearn.preprocessing import StandardScaler\n",
    "from sklearn.decomposition import PCA\n",
    "\n",
    "import torch\n",
    "import torch.nn as nn\n",
    "import torch.nn.functional as F\n",
    "import torch.optim as optim\n",
    "\n",
    "import warnings\n",
    "warnings.filterwarnings('ignore')"
   ]
  },
  {
   "cell_type": "code",
   "execution_count": 2,
   "metadata": {},
   "outputs": [],
   "source": [
    "# import faiss\n",
    "# import numpy as np\n",
    "\n",
    "\n",
    "# class FaissKMeans:\n",
    "#     def __init__(self, n_clusters=8, n_init=10, max_iter=300,seed=42):\n",
    "#         self.n_clusters = n_clusters\n",
    "#         self.n_init = n_init\n",
    "#         self.max_iter = max_iter\n",
    "#         self.kmeans = None\n",
    "#         self.cluster_centers_ = None\n",
    "#         self.inertia_ = None\n",
    "#         self.seed = seed\n",
    "\n",
    "#     def fit(self, X):\n",
    "#         self.kmeans = faiss.Kmeans(d=X.shape[1],\n",
    "#                                    k=self.n_clusters,\n",
    "#                                    niter=self.max_iter,\n",
    "#                                    nredo=self.n_init,\n",
    "#                                    seed=self.seed)\n",
    "\n",
    "#         self.kmeans.train(X.astype(np.float32))\n",
    "#         self.cluster_centers_ = self.kmeans.centroids\n",
    "#         self.inertia_ = self.kmeans.obj[-1]\n",
    "\n",
    "#     def predict(self, X):\n",
    "#         return self.kmeans.index.search(X.astype(np.float32), 1)[1]"
   ]
  },
  {
   "cell_type": "code",
   "execution_count": 3,
   "metadata": {},
   "outputs": [],
   "source": [
    "from sklearn.preprocessing import QuantileTransformer"
   ]
  },
  {
   "cell_type": "code",
   "execution_count": 4,
   "metadata": {},
   "outputs": [
    {
     "output_type": "execute_result",
     "data": {
      "text/plain": "['train_targets_scored.csv',\n 'sample_submission.csv',\n '.gitkeep',\n 'train_drug.csv',\n 'train_features.csv',\n 'test_features.csv',\n 'train_targets_nonscored.csv']"
     },
     "metadata": {},
     "execution_count": 4
    }
   ],
   "source": [
    "\n",
    "data_dir = '../data/01_raw'\n",
    "os.listdir(data_dir)"
   ]
  },
  {
   "cell_type": "code",
   "execution_count": 5,
   "metadata": {},
   "outputs": [],
   "source": [
    "# Parameters\n",
    "no_ctl = True\n",
    "ncompo_genes = 600\n",
    "ncompo_cells = 50"
   ]
  },
  {
   "cell_type": "code",
   "execution_count": 6,
   "metadata": {},
   "outputs": [],
   "source": [
    "train_features = pd.read_csv(data_dir+'/train_features.csv')\n",
    "train_targets_scored = pd.read_csv(data_dir+'/train_targets_scored.csv')\n",
    "train_targets_nonscored = pd.read_csv(data_dir+'/train_targets_nonscored.csv')\n",
    "\n",
    "test_features = pd.read_csv(data_dir+'/test_features.csv')\n",
    "sample_submission = pd.read_csv(data_dir+'/sample_submission.csv')\n",
    "drug = pd.read_csv(data_dir+'/train_drug.csv')"
   ]
  },
  {
   "cell_type": "code",
   "execution_count": 7,
   "metadata": {},
   "outputs": [],
   "source": [
    "targets_scored = train_targets_scored.columns[1:]\n",
    "scored = train_targets_scored.merge(drug, on='sig_id', how='left') "
   ]
  },
  {
   "cell_type": "code",
   "execution_count": 8,
   "metadata": {
    "tags": []
   },
   "outputs": [
    {
     "output_type": "stream",
     "name": "stdout",
     "text": "not_ctl\n"
    }
   ],
   "source": [
    "if no_ctl:\n",
    "    # cp_type == ctl_vehicle\n",
    "    print(\"not_ctl\")\n",
    "    train_features = train_features[train_features[\"cp_type\"] != \"ctl_vehicle\"].reset_index(drop=True)\n",
    "    test_features = test_features[test_features[\"cp_type\"] != \"ctl_vehicle\"].reset_index(drop=True)\n",
    "    train_targets_scored = train_targets_scored.iloc[train_features.index]\n",
    "    train_targets_nonscored = train_targets_nonscored.iloc[train_features.index]\n",
    "    train_features.reset_index(drop = True, inplace = True)\n",
    "    train_features.reset_index(drop = True, inplace = True)\n",
    "    train_targets_scored.reset_index(drop = True, inplace = True)\n",
    "    train_targets_nonscored.reset_index(drop = True, inplace = True)"
   ]
  },
  {
   "cell_type": "code",
   "execution_count": 9,
   "metadata": {},
   "outputs": [],
   "source": [
    "# #Indiquer si valeur dans le range max, min\n",
    "\n",
    "# import seaborn as sns\n",
    "# data = pd.concat([train_features,test_features],axis=0)\n",
    "\n",
    "# sns.distplot(data[data[\"cp_type\"] == \"ctl_vehicle\"][\"c-4\"],label=\"normal\")\n",
    "\n",
    "# sns.distplot(data[data[\"cp_type\"] == \"trt_cp\"][\"c-4\"],label=\"treated\")\n",
    "# plt.legend()\n",
    "# plt.show()"
   ]
  },
  {
   "cell_type": "code",
   "execution_count": 10,
   "metadata": {},
   "outputs": [],
   "source": [
    "# sum_targets = train_targets_scored[[c for c in train_targets_scored.columns if (c != \"sig_id\")]].sum().reset_index()"
   ]
  },
  {
   "cell_type": "code",
   "execution_count": 11,
   "metadata": {},
   "outputs": [],
   "source": [
    "# sum_targets[\"index\"] = sum_targets[\"index\"].apply(lambda x : x.replace(\"_inhibitor\",\"\"))\n",
    "# sum_targets[\"index\"] = sum_targets[\"index\"].apply(lambda x : x.replace(\"_activator\",\"\"))\n",
    "# sum_targets[\"index\"] = sum_targets[\"index\"].apply(lambda x : x.replace(\"_agonist\",\"\"))\n",
    "# sum_targets[\"index\"] = sum_targets[\"index\"].apply(lambda x : x.replace(\"_antagonist\",\"\"))"
   ]
  },
  {
   "cell_type": "code",
   "execution_count": 12,
   "metadata": {},
   "outputs": [],
   "source": [
    "GENES = [col for col in train_features.columns if col.startswith('g-')]\n",
    "CELLS = [col for col in train_features.columns if col.startswith('c-')]"
   ]
  },
  {
   "cell_type": "code",
   "execution_count": 13,
   "metadata": {},
   "outputs": [],
   "source": [
    "# from scipy import stats\n",
    "\n",
    "# train_features[GENES].apply(lambda x : stats.moment(x,moment=5),axis=1)"
   ]
  },
  {
   "cell_type": "code",
   "execution_count": 14,
   "metadata": {},
   "outputs": [],
   "source": [
    "seed=42\n",
    "\n",
    "def seed_everything(seed=42):\n",
    "    random.seed(seed)\n",
    "    os.environ['PYTHONHASHSEED'] = str(seed)\n",
    "    np.random.seed(seed)\n",
    "    torch.manual_seed(seed)\n",
    "    torch.cuda.manual_seed(seed)\n",
    "    torch.backends.cudnn.deterministic = True\n",
    "    \n",
    "seed_everything(seed)"
   ]
  },
  {
   "cell_type": "code",
   "execution_count": 15,
   "metadata": {},
   "outputs": [],
   "source": [
    "#RankGauss\n",
    "\n",
    "for col in (GENES + CELLS):\n",
    "    transformer = QuantileTransformer(n_quantiles=100,random_state=seed, output_distribution=\"normal\")\n",
    "    vec_len = len(train_features[col].values)\n",
    "    vec_len_test = len(test_features[col].values)\n",
    "    raw_vec = train_features[col].values.reshape(vec_len, 1)\n",
    "    transformer.fit(raw_vec)\n",
    "\n",
    "    train_features[col] = transformer.transform(raw_vec).reshape(1, vec_len)[0]\n",
    "    test_features[col] = transformer.transform(test_features[col].values.reshape(vec_len_test, 1)).reshape(1, vec_len_test)[0]"
   ]
  },
  {
   "cell_type": "code",
   "execution_count": 16,
   "metadata": {},
   "outputs": [],
   "source": [
    "# GENES\n",
    "n_comp = ncompo_genes \n",
    "\n",
    "data = pd.concat([pd.DataFrame(train_features[GENES]), pd.DataFrame(test_features[GENES])])\n",
    "data2 = (PCA(n_components=n_comp, random_state=42).fit_transform(data[GENES]))\n",
    "train2 = data2[:train_features.shape[0]]; test2 = data2[-test_features.shape[0]:]\n",
    "\n",
    "train2 = pd.DataFrame(train2, columns=[f'pca_G-{i}' for i in range(n_comp)])\n",
    "test2 = pd.DataFrame(test2, columns=[f'pca_G-{i}' for i in range(n_comp)])\n",
    "\n",
    "# drop_cols = [f'c-{i}' for i in range(n_comp,len(GENES))]\n",
    "train_features = pd.concat((train_features, train2), axis=1)\n",
    "test_features = pd.concat((test_features, test2), axis=1)"
   ]
  },
  {
   "cell_type": "code",
   "execution_count": 17,
   "metadata": {},
   "outputs": [],
   "source": [
    "#CELLS\n",
    "n_comp = ncompo_cells\n",
    "\n",
    "data = pd.concat([pd.DataFrame(train_features[CELLS]), pd.DataFrame(test_features[CELLS])])\n",
    "data2 = (PCA(n_components=n_comp, random_state=42).fit_transform(data[CELLS]))\n",
    "train2 = data2[:train_features.shape[0]]; test2 = data2[-test_features.shape[0]:]\n",
    "\n",
    "train2 = pd.DataFrame(train2, columns=[f'pca_C-{i}' for i in range(n_comp)])\n",
    "test2 = pd.DataFrame(test2, columns=[f'pca_C-{i}' for i in range(n_comp)])\n",
    "\n",
    "# drop_cols = [f'c-{i}' for i in range(n_comp,len(CELLS))]\n",
    "train_features = pd.concat((train_features, train2), axis=1)\n",
    "test_features = pd.concat((test_features, test2), axis=1)"
   ]
  },
  {
   "cell_type": "code",
   "execution_count": 18,
   "metadata": {},
   "outputs": [
    {
     "output_type": "execute_result",
     "data": {
      "text/plain": "(21948, 1526)"
     },
     "metadata": {},
     "execution_count": 18
    }
   ],
   "source": [
    "train_features.shape"
   ]
  },
  {
   "cell_type": "code",
   "execution_count": 19,
   "metadata": {},
   "outputs": [],
   "source": [
    "from scipy import stats\n",
    "\n",
    "def fe_stats(train, test):\n",
    "    \n",
    "    features_g = GENES\n",
    "    features_c = CELLS\n",
    "    \n",
    "    for df in train, test:\n",
    "        df['g_sum'] = df[features_g].sum(axis = 1) ## <==\n",
    "        # df['g_mean'] = df[features_g].mean(axis = 1)\n",
    "        df['g_std'] = df[features_g].std(axis = 1) ## <==\n",
    "        # df['g_kurt'] = df[features_g].kurtosis(axis = 1)\n",
    "        #df['g_skew'] = df[features_g].skew(axis = 1)\n",
    "        # df['g_q25'] = df[features_g].quantile(q=.25,axis = 1)\n",
    "        # df['g_q50'] = df[features_g].quantile(q=.5,axis = 1)\n",
    "        # df['g_q75'] = df[features_g].quantile(q=.75,axis = 1)\n",
    "        #df['g_var'] = df[features_g].apply(axis=1,func=stats.variation)\n",
    "        # df['g_mad'] = df[features_g].mad(axis = 1)\n",
    "\n",
    "\n",
    "        df['c_sum'] = df[features_c].sum(axis = 1) ## <==\n",
    "        # df['c_mean'] = df[features_c].mean(axis = 1)\n",
    "        df['c_std'] = df[features_c].std(axis = 1) ## <==\n",
    "        # df['c_kurt'] = df[features_c].kurtosis(axis = 1)\n",
    "        #df['c_skew'] = df[features_c].skew(axis = 1)\n",
    "        # df['c_q25'] = df[features_c].quantile(q=.25,axis = 1)\n",
    "        # df['c_q50'] = df[features_c].quantile(q=.5,axis = 1)\n",
    "        # df['c_q75'] = df[features_c].quantile(q=.75,axis = 1)\n",
    "        # df['c_var'] = df[features_c].apply(axis=1,func=stats.variation)\n",
    "        # df['c_mad'] = df[features_c].mad(axis = 1)\n",
    "\n",
    "\n",
    "\n",
    "        df['gc_sum'] = df[features_g + features_c].sum(axis = 1) ## <==\n",
    "        # df['gc_mean'] = df[features_g + features_c].mean(axis = 1)\n",
    "        # df['gc_std'] = df[features_g + features_c].std(axis = 1)\n",
    "        # df['gc_kurt'] = df[features_g + features_c].kurtosis(axis = 1)\n",
    "        # df['gc_skew'] = df[features_g + features_c].skew(axis = 1)\n",
    "        # df['gc_q25'] = df[features_g + features_c].quantile(q=.25,axis = 1)\n",
    "        # df['gc_q50'] = df[features_g + features_c].quantile(q=.5,axis = 1)\n",
    "        # df['gc_q75'] = df[features_g + features_c].quantile(q=.75,axis = 1)\n",
    "        # df['gc_var'] = df[features_g + features_c].apply(axis=1,func=stats.variation)\n",
    "        # df['gc_mad'] = df[features_g + features_c].mad(axis = 1)\n",
    "\n",
    "\n",
    "        \n",
    "    return train, test\n",
    "\n",
    "train_features,test_features=fe_stats(train_features,test_features)"
   ]
  },
  {
   "cell_type": "code",
   "execution_count": 20,
   "metadata": {},
   "outputs": [],
   "source": [
    "# train_features_gc = train_features[[\"sig_id\"]+GENES+CELLS].copy()\n",
    "# test_features_gc = test_features[[\"sig_id\"]+GENES+CELLS].copy()"
   ]
  },
  {
   "cell_type": "code",
   "execution_count": 21,
   "metadata": {},
   "outputs": [
    {
     "output_type": "execute_result",
     "data": {
      "text/plain": "(21948, 1047)"
     },
     "metadata": {},
     "execution_count": 21
    }
   ],
   "source": [
    "from sklearn.feature_selection import VarianceThreshold\n",
    "\n",
    "\n",
    "var_thresh = VarianceThreshold(0.8)  #<-- Update\n",
    "data = train_features.append(test_features)\n",
    "data_transformed = var_thresh.fit_transform(data.iloc[:, 4:])\n",
    "\n",
    "train_features_transformed = data_transformed[ : train_features.shape[0]]\n",
    "test_features_transformed = data_transformed[-test_features.shape[0] : ]\n",
    "\n",
    "\n",
    "train_features = pd.DataFrame(train_features[['sig_id','cp_type','cp_time','cp_dose']].values.reshape(-1, 4),\\\n",
    "                              columns=['sig_id','cp_type','cp_time','cp_dose'])\n",
    "\n",
    "train_features = pd.concat([train_features, pd.DataFrame(train_features_transformed)], axis=1)\n",
    "\n",
    "\n",
    "test_features = pd.DataFrame(test_features[['sig_id','cp_type','cp_time','cp_dose']].values.reshape(-1, 4),\\\n",
    "                             columns=['sig_id','cp_type','cp_time','cp_dose'])\n",
    "\n",
    "test_features = pd.concat([test_features, pd.DataFrame(test_features_transformed)], axis=1)\n",
    "\n",
    "train_features.shape"
   ]
  },
  {
   "cell_type": "code",
   "execution_count": 22,
   "metadata": {},
   "outputs": [],
   "source": [
    "# from sklearn.cluster import KMeans\n",
    "# def fe_cluster2(train, test, n_clusters = 3, SEED = 42):\n",
    "    \n",
    "\n",
    "#     def create_cluster(train, test, n_clusters = n_clusters):\n",
    "#         train_ = train.copy()\n",
    "#         test_ = test.copy()\n",
    "#         data = pd.concat([train_, test_], axis = 0)\n",
    "#         kmeans = KMeans(n_clusters = n_clusters, random_state = SEED).fit(data[[c for c in data.columns if c not in [\"sig_id\",\"cp_type\",\"cp_dose\",\"cp_time\"]]])\n",
    "#         train['cluster'] = kmeans.labels_[:train.shape[0]]\n",
    "#         test['cluster'] = kmeans.labels_[train.shape[0]:]\n",
    "#         train = pd.get_dummies(train, columns = ['cluster'])\n",
    "#         test = pd.get_dummies(test, columns = ['cluster'])\n",
    "#         return train, test\n",
    "    \n",
    "#     train, test = create_cluster(train, test, n_clusters = n_clusters)\n",
    "#     return train, test\n",
    "\n",
    "\n",
    "\n",
    "# train_features,test_features=fe_cluster2(train_features,test_features)\n",
    "\n"
   ]
  },
  {
   "cell_type": "code",
   "execution_count": 23,
   "metadata": {},
   "outputs": [],
   "source": [
    "# data = pd.concat([train1, test1], axis = 0)\n",
    "\n",
    "# distortion = []\n",
    "# for k in range(1,10):\n",
    "#     kmeans = KMeans(n_clusters = k, random_state = 42).fit(data)\n",
    "#     distortion += [kmeans.inertia_]\n"
   ]
  },
  {
   "cell_type": "code",
   "execution_count": 24,
   "metadata": {},
   "outputs": [],
   "source": [
    "# plt.plot(range(1,10),distortion)"
   ]
  },
  {
   "cell_type": "code",
   "execution_count": 25,
   "metadata": {},
   "outputs": [],
   "source": [
    "# train_features = train_features.merge(train_features_gc.loc[:,[col for col in train_features_gc.columns if col not in GENES+CELLS]],on=\"sig_id\")\n",
    "# test_features = test_features.merge(test_features_gc.loc[:,[col for col in test_features_gc.columns if col not in GENES+CELLS]],on=\"sig_id\")"
   ]
  },
  {
   "cell_type": "code",
   "execution_count": 26,
   "metadata": {},
   "outputs": [],
   "source": [
    "train = train_features.merge(train_targets_scored, on='sig_id')\n",
    "train = train.merge(train_targets_nonscored, on='sig_id')\n",
    "# train = train[train['cp_type']!='ctl_vehicle'].reset_index(drop=True)\n",
    "# test = test_features[test_features['cp_type']!='ctl_vehicle'].reset_index(drop=True)\n",
    "\n",
    "target_scored = train[train_targets_scored.columns]\n",
    "target_nscored = train[train_targets_nonscored.columns]"
   ]
  },
  {
   "cell_type": "code",
   "execution_count": 27,
   "metadata": {},
   "outputs": [],
   "source": [
    "train = train.drop('cp_type', axis=1)\n",
    "test = test_features.drop('cp_type', axis=1)"
   ]
  },
  {
   "cell_type": "code",
   "execution_count": 28,
   "metadata": {},
   "outputs": [],
   "source": [
    "target_scored_cols = target_scored.drop('sig_id', axis=1).columns.values.tolist()\n",
    "target_nscored_cols = target_nscored.drop('sig_id', axis=1).columns.values.tolist()"
   ]
  },
  {
   "cell_type": "code",
   "execution_count": 29,
   "metadata": {},
   "outputs": [],
   "source": [
    "# folds = train.copy()\n",
    "\n",
    "# mskf = MultilabelStratifiedKFold(n_splits=7)\n",
    "\n",
    "# for f, (t_idx, v_idx) in enumerate(mskf.split(X=train, y=target_scored)):\n",
    "#     folds.loc[v_idx, 'kfold'] = int(f)\n",
    "\n",
    "# folds['kfold'] = folds['kfold'].astype(int)\n",
    "# folds"
   ]
  },
  {
   "cell_type": "code",
   "execution_count": 30,
   "metadata": {},
   "outputs": [],
   "source": [
    "class TrainDataset:\n",
    "    def __init__(self, features, targets_scored,targets_nscored):\n",
    "        self.features = features\n",
    "        self.targets_scored = targets_scored\n",
    "        self.targets_nscored = targets_nscored\n",
    "        \n",
    "    def __len__(self):\n",
    "        return (self.features.shape[0])\n",
    "    \n",
    "    def __getitem__(self, idx):\n",
    "        dct = {\n",
    "            'x' : torch.tensor(self.features[idx, :], dtype=torch.float),\n",
    "            'y_scored' : torch.tensor(self.targets_scored[idx, :], dtype=torch.float),\n",
    "            'y_nscored' : torch.tensor(self.targets_nscored[idx, :], dtype=torch.float)           \n",
    "        }\n",
    "        return dct\n",
    "\n",
    "class ValidDataset:\n",
    "    def __init__(self, features, targets_scored):\n",
    "        self.features = features\n",
    "        self.targets_scored = targets_scored\n",
    "        \n",
    "    def __len__(self):\n",
    "        return (self.features.shape[0])\n",
    "    \n",
    "    def __getitem__(self, idx):\n",
    "        dct = {\n",
    "            'x' : torch.tensor(self.features[idx, :], dtype=torch.float),\n",
    "            'y_scored' : torch.tensor(self.targets_scored[idx, :], dtype=torch.float),          \n",
    "        }\n",
    "        return dct\n",
    "    \n",
    "class TestDataset:\n",
    "    def __init__(self, features):\n",
    "        self.features = features\n",
    "        \n",
    "    def __len__(self):\n",
    "        return (self.features.shape[0])\n",
    "    \n",
    "    def __getitem__(self, idx):\n",
    "        dct = {\n",
    "            'x' : torch.tensor(self.features[idx, :], dtype=torch.float)\n",
    "        }\n",
    "        return dct"
   ]
  },
  {
   "cell_type": "code",
   "execution_count": 31,
   "metadata": {},
   "outputs": [],
   "source": [
    "def train_fn(model, optimizer, scheduler, loss_fn, dataloader, device):\n",
    "    model.train()\n",
    "    final_loss = 0\n",
    "    \n",
    "    for data in dataloader:\n",
    "        optimizer.zero_grad()\n",
    "        inputs, targets1, targets2 = data['x'].to(device), data['y_scored'].to(device), data['y_nscored'].to(device)\n",
    "#         print(inputs.shape)\n",
    "        outputs1,outputs2 = model(inputs)\n",
    "        loss1 = loss_fn(outputs1, targets1)\n",
    "        loss2 = loss_fn(outputs2, targets2)\n",
    "        loss = loss1 + loss2\n",
    "        loss.backward()\n",
    "        optimizer.step()\n",
    "        scheduler.step()\n",
    "        \n",
    "        final_loss += loss.item()\n",
    "        \n",
    "    final_loss /= len(dataloader)\n",
    "    \n",
    "    return final_loss\n",
    "\n",
    "\n",
    "def valid_fn(model, loss_fn, dataloader, device):\n",
    "    model.eval()\n",
    "    final_loss = 0\n",
    "    valid_preds = []\n",
    "    \n",
    "    for data in dataloader:\n",
    "        inputs, targets = data['x'].to(device), data['y_scored'].to(device)\n",
    "        outputs,_ = model(inputs)\n",
    "        loss = loss_fn(outputs, targets)\n",
    "        \n",
    "        final_loss += loss.item()\n",
    "        valid_preds.append(outputs.sigmoid().detach().cpu().numpy())\n",
    "        \n",
    "\n",
    "    final_loss /= len(dataloader)\n",
    "\n",
    "\n",
    "    valid_preds = np.concatenate(valid_preds)\n",
    "    \n",
    "    return final_loss, valid_preds\n",
    "\n",
    "def inference_fn(model, dataloader, device):\n",
    "    model.eval()\n",
    "    preds = []\n",
    "    \n",
    "    for data in dataloader:\n",
    "        inputs = data['x'].to(device)\n",
    "\n",
    "        with torch.no_grad():\n",
    "            outputs,_ = model(inputs)\n",
    "        \n",
    "        preds.append(outputs.sigmoid().detach().cpu().numpy())\n",
    "        \n",
    "    preds = np.concatenate(preds)\n",
    "    \n",
    "    return preds"
   ]
  },
  {
   "cell_type": "code",
   "execution_count": 32,
   "metadata": {},
   "outputs": [],
   "source": [
    "import torch\n",
    "from torch.nn.modules.loss import _WeightedLoss\n",
    "import torch.nn.functional as F\n",
    "\n",
    "class SmoothBCEwLogits(_WeightedLoss):\n",
    "    def __init__(self, weight=None, reduction='mean', smoothing=0.0):\n",
    "        super().__init__(weight=weight, reduction=reduction)\n",
    "        self.smoothing = smoothing\n",
    "        self.weight = weight\n",
    "        self.reduction = reduction\n",
    "\n",
    "    @staticmethod\n",
    "    def _smooth(targets:torch.Tensor, n_labels:int, smoothing=0.0):\n",
    "        assert 0 <= smoothing < 1\n",
    "        with torch.no_grad():\n",
    "            targets = targets * (1.0 - smoothing) + 0.5 * smoothing\n",
    "        return targets\n",
    "\n",
    "    def forward(self, inputs, targets):\n",
    "        targets = SmoothBCEwLogits._smooth(targets, inputs.size(-1),\n",
    "            self.smoothing)\n",
    "        loss = F.binary_cross_entropy_with_logits(inputs, targets,self.weight)\n",
    "\n",
    "        if  self.reduction == 'sum':\n",
    "            loss = loss.sum()\n",
    "        elif  self.reduction == 'mean':\n",
    "            loss = loss.mean()\n",
    "\n",
    "        return loss"
   ]
  },
  {
   "cell_type": "code",
   "execution_count": 33,
   "metadata": {},
   "outputs": [],
   "source": [
    "class Model(nn.Module):\n",
    "    def __init__(self, num_features, \n",
    "                 num_targets_scored,\n",
    "                 num_targets_nscored, \n",
    "                 hidden_sizes,\n",
    "                 dropout_rates):\n",
    "\n",
    "        super(Model, self).__init__()\n",
    "        self.batch_norm1 = nn.BatchNorm1d(num_features)\n",
    "        self.dense1 = nn.utils.weight_norm(nn.Linear(num_features, hidden_sizes[0]))\n",
    "        self.activation1 = torch.nn.PReLU(num_parameters = hidden_sizes[0], init = 1.0)\n",
    "        \n",
    "        self.batch_norm2 = nn.BatchNorm1d(hidden_sizes[0])\n",
    "        self.dropout2 = nn.Dropout(dropout_rates[0])\n",
    "        self.dense2 = nn.utils.weight_norm(nn.Linear(hidden_sizes[0], hidden_sizes[1]))\n",
    "        self.activation2 = torch.nn.PReLU(num_parameters = hidden_sizes[1], init = 1.0)\n",
    "\n",
    "\n",
    "        self.batch_norm2b = nn.BatchNorm1d(hidden_sizes[1])\n",
    "        self.dropout2b = nn.Dropout(dropout_rates[1])\n",
    "        self.dense2b = nn.utils.weight_norm(nn.Linear(hidden_sizes[1], hidden_sizes[2]))\n",
    "        self.activation2b = torch.nn.PReLU(num_parameters = hidden_sizes[2], init = 1.0)\n",
    "        \n",
    "        self.batch_norm3 = nn.BatchNorm1d(hidden_sizes[2])\n",
    "        self.dropout3 = nn.Dropout(dropout_rates[2])\n",
    "        self.dense3 = nn.utils.weight_norm(nn.Linear(hidden_sizes[2], num_targets_scored))\n",
    "        self.dense4 = nn.utils.weight_norm(nn.Linear(hidden_sizes[2], num_targets_nscored))\n",
    "\n",
    "    def init_bias(self,pos_scored_rate,pos_nscored_rate):\n",
    "        self.dense3.bias.data = nn.Parameter(torch.tensor(pos_scored_rate, dtype=torch.float))\n",
    "        self.dense4.bias.data = nn.Parameter(torch.tensor(pos_nscored_rate, dtype=torch.float))\n",
    "    \n",
    "    def recalibrate_layer(self, layer):\n",
    "        if(torch.isnan(layer.weight_v).sum() > 0):\n",
    "            print ('recalibrate layer.weight_v')\n",
    "            layer.weight_v = torch.nn.Parameter(torch.where(torch.isnan(layer.weight_v), torch.zeros_like(layer.weight_v), layer.weight_v))\n",
    "            layer.weight_v = torch.nn.Parameter(layer.weight_v + 1e-7)\n",
    "\n",
    "        if(torch.isnan(layer.weight).sum() > 0):\n",
    "            print ('recalibrate layer.weight')\n",
    "            layer.weight = torch.where(torch.isnan(layer.weight), torch.zeros_like(layer.weight), layer.weight)\n",
    "            layer.weight += 1e-7\n",
    "\n",
    "    def forward(self, x):\n",
    "        x = self.batch_norm1(x)\n",
    "        self.recalibrate_layer(self.dense1)\n",
    "        x = self.activation1(self.dense1(x))\n",
    "        \n",
    "        x = self.batch_norm2(x)\n",
    "        x = self.dropout2(x)\n",
    "        self.recalibrate_layer(self.dense2)\n",
    "        x = self.activation2(self.dense2(x))\n",
    "\n",
    "        x = self.batch_norm2b(x)\n",
    "        x = self.dropout2b(x)\n",
    "        self.recalibrate_layer(self.dense2b)\n",
    "        x = self.activation2b(self.dense2b(x))\n",
    "        \n",
    "        x = self.batch_norm3(x)\n",
    "        x = self.dropout3(x)\n",
    "        self.recalibrate_layer(self.dense3)\n",
    "        x1 = self.dense3(x)\n",
    "\n",
    "        self.recalibrate_layer(self.dense4)\n",
    "        x2 = self.dense4(x)\n",
    "        return x1,x2\n",
    "    \n",
    "class LabelSmoothingLoss(nn.Module):\n",
    "    def __init__(self, classes, smoothing=0.0, dim=-1):\n",
    "        super(LabelSmoothingLoss, self).__init__()\n",
    "        self.confidence = 1.0 - smoothing\n",
    "        self.smoothing = smoothing\n",
    "        self.cls = classes\n",
    "        self.dim = dim\n",
    "\n",
    "    def forward(self, pred, target):\n",
    "        pred = pred.log_softmax(dim=self.dim)\n",
    "        with torch.no_grad():\n",
    "            # true_dist = pred.data.clone()\n",
    "            true_dist = torch.zeros_like(pred)\n",
    "            true_dist.fill_(self.smoothing / (self.cls - 1))\n",
    "            true_dist.scatter_(1, target.data.unsqueeze(1), self.confidence)\n",
    "        return torch.mean(torch.sum(-true_dist * pred, dim=self.dim))"
   ]
  },
  {
   "cell_type": "code",
   "execution_count": 34,
   "metadata": {},
   "outputs": [],
   "source": [
    "def process_data(data):\n",
    "    data = pd.get_dummies(data, columns=['cp_time','cp_dose'])\n",
    "    return data"
   ]
  },
  {
   "cell_type": "code",
   "execution_count": 35,
   "metadata": {},
   "outputs": [],
   "source": [
    "# HyperParameters\n",
    "\n",
    "DEVICE = ('cuda' if torch.cuda.is_available() else 'cpu')\n",
    "EPOCHS = 35\n",
    "#EPOCHS = 300 #200\n",
    "PATIENCE=40\n",
    "\n",
    "BATCH_SIZE = 128\n",
    "LEARNING_RATE = 1e-3\n",
    "WEIGHT_DECAY = 1e-5\n",
    "NFOLDS = 7           \n",
    "EARLY_STOPPING_STEPS = PATIENCE+5\n",
    "EARLY_STOP = False\n",
    "\n",
    "#hidden_size=1500\n",
    "hidden_sizes = [1500,1200,1000,900]\n",
    "dropout_rates = [0.25,0.2,0.2]\n",
    "#dropout_rate = 0.2619422201258426\n",
    "#dropout_rate = 0.28\n"
   ]
  },
  {
   "cell_type": "code",
   "execution_count": 36,
   "metadata": {},
   "outputs": [],
   "source": [
    "# LOCATE DRUGS\n",
    "vc = scored.drug_id.value_counts()\n",
    "vc1 = vc.loc[vc<=18].index.sort_values()\n",
    "vc2 = vc.loc[vc>18].index.sort_values()\n",
    "\n",
    "# STRATIFY DRUGS 18X OR LESS\n",
    "dct1 = {}; dct2 = {}\n",
    "skf = MultilabelStratifiedKFold(n_splits=NFOLDS, shuffle=True, \n",
    "          random_state=seed)\n",
    "tmp = scored.groupby('drug_id')[targets_scored].mean().loc[vc1]\n",
    "for fold,(idxT,idxV) in enumerate( skf.split(tmp,tmp[targets_scored])):\n",
    "    dd = {k:fold for k in tmp.index[idxV].values}\n",
    "    dct1.update(dd)\n",
    "\n",
    "# STRATIFY DRUGS MORE THAN 18X\n",
    "skf = MultilabelStratifiedKFold(n_splits=NFOLDS, shuffle=True, \n",
    "          random_state=seed)\n",
    "tmp = scored.loc[scored.drug_id.isin(vc2)].reset_index(drop=True)\n",
    "for fold,(idxT,idxV) in enumerate( skf.split(tmp,tmp[targets_scored])):\n",
    "    dd = {k:fold for k in tmp.sig_id[idxV].values}\n",
    "    dct2.update(dd)\n",
    "\n",
    "# ASSIGN FOLDS\n",
    "folds = train.merge(drug,on=\"sig_id\")\n",
    "folds['fold'] = folds.drug_id.map(dct1)\n",
    "folds.loc[folds.fold.isna(),'fold'] =\\\n",
    "    folds.loc[folds.fold.isna(),'sig_id'].map(dct2)\n",
    "folds.fold = folds.fold.astype('int8')"
   ]
  },
  {
   "cell_type": "code",
   "execution_count": 37,
   "metadata": {},
   "outputs": [
    {
     "output_type": "execute_result",
     "data": {
      "text/plain": "1048"
     },
     "metadata": {},
     "execution_count": 37
    }
   ],
   "source": [
    "feature_cols = [c for c in process_data(train).columns if c not in (target_scored_cols + target_nscored_cols)]\n",
    "feature_cols = [c for c in feature_cols if c not in ['fold','sig_id']]\n",
    "len(feature_cols)"
   ]
  },
  {
   "cell_type": "code",
   "execution_count": 38,
   "metadata": {},
   "outputs": [],
   "source": [
    "num_features=len(feature_cols)\n",
    "num_targets_scored=len(target_scored_cols)\n",
    "num_targets_nscored=len(target_nscored_cols)"
   ]
  },
  {
   "cell_type": "code",
   "execution_count": 39,
   "metadata": {
    "tags": []
   },
   "outputs": [
    {
     "output_type": "stream",
     "name": "stdout",
     "text": "(20228, 1654)\n(20228, 1656)\n(3624, 1046)\n(20228, 207)\n(20228, 403)\n(3982, 207)\n"
    }
   ],
   "source": [
    "print(train.shape)\n",
    "print(folds.shape)\n",
    "print(test.shape)\n",
    "print(target_scored.shape)\n",
    "print(target_nscored.shape)\n",
    "print(sample_submission.shape)"
   ]
  },
  {
   "cell_type": "code",
   "execution_count": 40,
   "metadata": {},
   "outputs": [],
   "source": [
    "def run_training(fold, seed):\n",
    "    \n",
    "    seed_everything(seed)\n",
    "    \n",
    "    train = process_data(folds)\n",
    "    test_ = process_data(test)\n",
    "\n",
    "    \n",
    "    trn_idx = train[train['fold'] != fold].index\n",
    "    val_idx = train[train['fold'] == fold].index\n",
    "    \n",
    "    train_df = train[train['fold'] != fold].reset_index(drop=True)\n",
    "    valid_df = train[train['fold'] == fold].reset_index(drop=True)\n",
    "    \n",
    "    x_train, y_scored_train, y_nscored_train  = train_df[feature_cols].values, train_df[target_scored_cols].values, train_df[target_nscored_cols].values\n",
    "    x_valid, y_scored_valid =  valid_df[feature_cols].values, valid_df[target_scored_cols].values\n",
    "    \n",
    "    train_dataset = TrainDataset(x_train, y_scored_train, y_nscored_train)\n",
    "    valid_dataset = ValidDataset(x_valid, y_scored_valid)\n",
    "    trainloader = torch.utils.data.DataLoader(train_dataset, batch_size=BATCH_SIZE, shuffle=True)\n",
    "    validloader = torch.utils.data.DataLoader(valid_dataset, batch_size=BATCH_SIZE, shuffle=False)\n",
    "    \n",
    "    model = Model(\n",
    "        num_features=num_features,\n",
    "        num_targets_scored=num_targets_scored,\n",
    "        num_targets_nscored=num_targets_nscored,\n",
    "        hidden_sizes=hidden_sizes,\n",
    "        dropout_rates=dropout_rates,\n",
    "    )\n",
    "\n",
    "    # model.init_bias(pos_scored_rate,pos_nscored_rate)\n",
    "\n",
    "    model.to(DEVICE)\n",
    "    \n",
    "    optimizer = torch.optim.Adam(model.parameters(), lr=LEARNING_RATE, weight_decay=WEIGHT_DECAY)\n",
    "    scheduler = optim.lr_scheduler.OneCycleLR(optimizer=optimizer,pct_start=0.1, div_factor=1e4, final_div_factor=1e5,\n",
    "                                              max_lr=1e-2, epochs=EPOCHS, steps_per_epoch=len(trainloader))\n",
    "\n",
    "\n",
    "    #scheduler = optim.lr_scheduler.ReduceLROnPlateau(optimizer=optimizer,mode = \"min\", patience = PATIENCE, min_lr = 1e-6, factor = 0.9)\n",
    "    \n",
    "    loss_fn = nn.BCEWithLogitsLoss()\n",
    "    loss_tr = SmoothBCEwLogits(smoothing =0.001)\n",
    "    \n",
    "    early_stopping_steps = EARLY_STOPPING_STEPS\n",
    "    early_step = 0\n",
    "   \n",
    "    oof = np.zeros((len(train), target_scored.iloc[:, 1:].shape[1]))\n",
    "    best_loss = np.inf\n",
    "    \n",
    "    for epoch in range(EPOCHS):\n",
    "        \n",
    "        train_loss = train_fn(model, optimizer,scheduler, loss_tr, trainloader, DEVICE)\n",
    "        valid_loss, valid_preds = valid_fn(model, loss_fn, validloader, DEVICE)\n",
    "        print(f\"FOLD: {fold}, EPOCH: {epoch}, train_loss: {train_loss}, valid_loss: {valid_loss}\")\n",
    "        #scheduler.step(valid_loss)\n",
    "        \n",
    "        if valid_loss < best_loss:\n",
    "            \n",
    "            best_loss = valid_loss\n",
    "            oof[val_idx] = valid_preds\n",
    "            torch.save(model.state_dict(), f\"FOLD{fold}_.pth\")\n",
    "        \n",
    "        elif(EARLY_STOP == True):\n",
    "            \n",
    "            early_step += 1\n",
    "            if (early_step >= early_stopping_steps):\n",
    "                break\n",
    "            \n",
    "    \n",
    "    #--------------------- PREDICTION---------------------\n",
    "    x_test = test_[feature_cols].values\n",
    "    testdataset = TestDataset(x_test)\n",
    "    testloader = torch.utils.data.DataLoader(testdataset, batch_size=BATCH_SIZE, shuffle=False)\n",
    "    \n",
    "    model = Model(\n",
    "        num_features=num_features,\n",
    "        num_targets_scored=num_targets_scored,\n",
    "        num_targets_nscored=num_targets_nscored,\n",
    "        hidden_sizes=hidden_sizes,\n",
    "        dropout_rates=dropout_rates\n",
    "    )\n",
    "    \n",
    "    model.load_state_dict(torch.load(f\"FOLD{fold}_.pth\"))\n",
    "    model.to(DEVICE)\n",
    "    \n",
    "    predictions = np.zeros((len(test_), target_scored.iloc[:, 1:].shape[1]))\n",
    "    predictions = inference_fn(model, testloader, DEVICE)\n",
    "    \n",
    "    return oof, predictions"
   ]
  },
  {
   "cell_type": "code",
   "execution_count": 41,
   "metadata": {},
   "outputs": [],
   "source": [
    "def run_k_fold(NFOLDS, seed):\n",
    "    oof = np.zeros((len(train), len(target_scored_cols)))\n",
    "    predictions = np.zeros((len(test), len(target_scored_cols)))\n",
    "    \n",
    "    for fold in range(NFOLDS):\n",
    "        oof_, pred_ = run_training(fold, seed)\n",
    "        \n",
    "        predictions += pred_ / NFOLDS\n",
    "        oof += oof_\n",
    "        \n",
    "    return oof, predictions"
   ]
  },
  {
   "cell_type": "code",
   "execution_count": 42,
   "metadata": {
    "tags": [
     "outputPrepend"
    ]
   },
   "outputs": [
    {
     "output_type": "stream",
     "name": "stdout",
     "text": "n_loss: 0.02883340493666337, valid_loss: 0.017916942258243976\nFOLD: 0, EPOCH: 19, train_loss: 0.028687250677167493, valid_loss: 0.01795303303262462\nrecalibrate layer.weight_v\nFOLD: 0, EPOCH: 20, train_loss: 0.02853409151601441, valid_loss: 0.017678114464101585\nFOLD: 0, EPOCH: 21, train_loss: 0.02822239965419559, valid_loss: 0.017510786409611286\nFOLD: 0, EPOCH: 22, train_loss: 0.02808499206131434, valid_loss: 0.017458144008465435\nFOLD: 0, EPOCH: 23, train_loss: 0.027981198748902363, valid_loss: 0.01740583655950816\nFOLD: 0, EPOCH: 24, train_loss: 0.027812723179950434, valid_loss: 0.017402037330295727\nFOLD: 0, EPOCH: 25, train_loss: 0.027638661277973476, valid_loss: 0.017433895527020744\nrecalibrate layer.weight_v\nFOLD: 0, EPOCH: 26, train_loss: 0.027464833480360752, valid_loss: 0.017176172655561695\nFOLD: 0, EPOCH: 27, train_loss: 0.027262009365264985, valid_loss: 0.017189750974269016\nFOLD: 0, EPOCH: 28, train_loss: 0.02708158707794021, valid_loss: 0.017163201275727024\nFOLD: 0, EPOCH: 29, train_loss: 0.026939324952442858, valid_loss: 0.017161892808001976\nFOLD: 0, EPOCH: 30, train_loss: 0.026752408155623603, valid_loss: 0.017133677459281425\nFOLD: 0, EPOCH: 31, train_loss: 0.026606082998435285, valid_loss: 0.01708200132555288\nrecalibrate layer.weight_v\nFOLD: 0, EPOCH: 32, train_loss: 0.02646332372473005, valid_loss: 0.017077343295449795\nFOLD: 0, EPOCH: 33, train_loss: 0.026372982271234777, valid_loss: 0.017069249170953812\nFOLD: 0, EPOCH: 34, train_loss: 0.02636139526251046, valid_loss: 0.01705155335366726\nFOLD: 1, EPOCH: 0, train_loss: 1.206271983296783, valid_loss: 0.10383380701144536\nFOLD: 1, EPOCH: 1, train_loss: 0.052856799325457324, valid_loss: 0.021312813662613433\nFOLD: 1, EPOCH: 2, train_loss: 0.03278113083431014, valid_loss: 0.019335232364634674\nFOLD: 1, EPOCH: 3, train_loss: 0.03061571782109914, valid_loss: 0.018801913984740775\nFOLD: 1, EPOCH: 4, train_loss: 0.031160341851689196, valid_loss: 0.02057213879500826\nFOLD: 1, EPOCH: 5, train_loss: 0.029879577637270643, valid_loss: 0.01824715353238086\nFOLD: 1, EPOCH: 6, train_loss: 0.030566051381605643, valid_loss: 0.018602182157337666\nFOLD: 1, EPOCH: 7, train_loss: 0.029537778885828123, valid_loss: 0.018185756634920835\nFOLD: 1, EPOCH: 8, train_loss: 0.029260478996568254, valid_loss: 0.018188018118962646\nFOLD: 1, EPOCH: 9, train_loss: 0.029162380899544114, valid_loss: 0.017977808058882754\nFOLD: 1, EPOCH: 10, train_loss: 0.029102354234567394, valid_loss: 0.018058257992379367\nFOLD: 1, EPOCH: 11, train_loss: 0.02899891967298808, valid_loss: 0.01813266930791239\nFOLD: 1, EPOCH: 12, train_loss: 0.028975253579793154, valid_loss: 0.018274553896238405\nFOLD: 1, EPOCH: 13, train_loss: 0.028912268413437737, valid_loss: 0.0181666089532276\nFOLD: 1, EPOCH: 14, train_loss: 0.028959200158715247, valid_loss: 0.018002758151851594\nFOLD: 1, EPOCH: 15, train_loss: 0.02890562070188699, valid_loss: 0.018059347290545702\nFOLD: 1, EPOCH: 16, train_loss: 0.028782162539384985, valid_loss: 0.017904409983505804\nrecalibrate layer.weight_v\nFOLD: 1, EPOCH: 17, train_loss: 0.02861611930032571, valid_loss: 0.01799969169466446\nFOLD: 1, EPOCH: 18, train_loss: 0.028405409734006282, valid_loss: 0.01794562228800108\nFOLD: 1, EPOCH: 19, train_loss: 0.028305819120120118, valid_loss: 0.01793012449828287\nFOLD: 1, EPOCH: 20, train_loss: 0.02826998301402286, valid_loss: 0.01784697613523652\nFOLD: 1, EPOCH: 21, train_loss: 0.028171899086899228, valid_loss: 0.01770226622465998\nFOLD: 1, EPOCH: 22, train_loss: 0.028012292652770325, valid_loss: 0.017594375958045323\nrecalibrate layer.weight_v\nFOLD: 1, EPOCH: 23, train_loss: 0.02780590740342935, valid_loss: 0.017593264618578058\nFOLD: 1, EPOCH: 24, train_loss: 0.027664171890528114, valid_loss: 0.017623778238582116\nFOLD: 1, EPOCH: 25, train_loss: 0.027531615203177488, valid_loss: 0.01756067426564793\nFOLD: 1, EPOCH: 26, train_loss: 0.027414066689433875, valid_loss: 0.017556051956489682\nFOLD: 1, EPOCH: 27, train_loss: 0.027231883961293432, valid_loss: 0.017424503186096747\nFOLD: 1, EPOCH: 28, train_loss: 0.027074188656277125, valid_loss: 0.017336683813482523\nFOLD: 1, EPOCH: 29, train_loss: 0.0269245191304772, valid_loss: 0.017349530554686982\nFOLD: 1, EPOCH: 30, train_loss: 0.026752889073557325, valid_loss: 0.017356004177903134\nFOLD: 1, EPOCH: 31, train_loss: 0.0266179414672984, valid_loss: 0.01724349707365036\nFOLD: 1, EPOCH: 32, train_loss: 0.026480559411424177, valid_loss: 0.017262973473407328\nFOLD: 1, EPOCH: 33, train_loss: 0.026367151723415763, valid_loss: 0.017257666525741417\nFOLD: 1, EPOCH: 34, train_loss: 0.026357199624180795, valid_loss: 0.017223452761148412\nFOLD: 2, EPOCH: 0, train_loss: 1.2022746713722454, valid_loss: 0.10206207956956781\nFOLD: 2, EPOCH: 1, train_loss: 0.052964796503896225, valid_loss: 0.022612021750082142\nFOLD: 2, EPOCH: 2, train_loss: 0.03319578102844603, valid_loss: 0.02065549491216307\nFOLD: 2, EPOCH: 3, train_loss: 0.034245517447262126, valid_loss: 0.021005320403239002\nFOLD: 2, EPOCH: 4, train_loss: 0.031034438035396093, valid_loss: 0.02014608073817647\nFOLD: 2, EPOCH: 5, train_loss: 0.029983724727678823, valid_loss: 0.01938618897743847\nFOLD: 2, EPOCH: 6, train_loss: 0.02961070808198522, valid_loss: 0.018884761177975197\nFOLD: 2, EPOCH: 7, train_loss: 0.0293467804816935, valid_loss: 0.018989984431992405\nFOLD: 2, EPOCH: 8, train_loss: 0.029085880652179614, valid_loss: 0.018655784266150516\nFOLD: 2, EPOCH: 9, train_loss: 0.02904507237048272, valid_loss: 0.018906413860943005\nFOLD: 2, EPOCH: 10, train_loss: 0.028964331592707074, valid_loss: 0.01876633541415567\nFOLD: 2, EPOCH: 11, train_loss: 0.029038275605725014, valid_loss: 0.018954193219542503\nFOLD: 2, EPOCH: 12, train_loss: 0.028918575591352934, valid_loss: 0.019305736069446026\nFOLD: 2, EPOCH: 13, train_loss: 0.028923387447481647, valid_loss: 0.01920403920761917\nFOLD: 2, EPOCH: 14, train_loss: 0.02896942075013238, valid_loss: 0.018830893642228584\nFOLD: 2, EPOCH: 15, train_loss: 0.02885040586047313, valid_loss: 0.018729828541045605\nFOLD: 2, EPOCH: 16, train_loss: 0.02894713229718892, valid_loss: 0.018890163820722828\nFOLD: 2, EPOCH: 17, train_loss: 0.028791911283727076, valid_loss: 0.018604905466022698\nFOLD: 2, EPOCH: 18, train_loss: 0.028725148740169758, valid_loss: 0.018814297878871792\nFOLD: 2, EPOCH: 19, train_loss: 0.02864409625694594, valid_loss: 0.018559570707704708\nrecalibrate layer.weight_v\nFOLD: 2, EPOCH: 20, train_loss: 0.02848113576114616, valid_loss: 0.01856886174367822\nFOLD: 2, EPOCH: 21, train_loss: 0.02819327189696624, valid_loss: 0.018352442704465077\nFOLD: 2, EPOCH: 22, train_loss: 0.028029180200332227, valid_loss: 0.018412539168544437\nFOLD: 2, EPOCH: 23, train_loss: 0.02788002971176277, valid_loss: 0.018526850349229317\nFOLD: 2, EPOCH: 24, train_loss: 0.02768493680666913, valid_loss: 0.01833784049781768\nFOLD: 2, EPOCH: 25, train_loss: 0.027514001738060925, valid_loss: 0.018301254867211632\nFOLD: 2, EPOCH: 26, train_loss: 0.027328265954137725, valid_loss: 0.018385177113763664\nFOLD: 2, EPOCH: 27, train_loss: 0.027202696827075937, valid_loss: 0.018136980335997498\nFOLD: 2, EPOCH: 28, train_loss: 0.026973020792117015, valid_loss: 0.01812312820845324\nFOLD: 2, EPOCH: 29, train_loss: 0.026771677479914883, valid_loss: 0.018095100865415905\nrecalibrate layer.weight_v\nFOLD: 2, EPOCH: 30, train_loss: 0.026592969497227493, valid_loss: 0.018062464609418228\nFOLD: 2, EPOCH: 31, train_loss: 0.02636638605583678, valid_loss: 0.018021698960143585\nFOLD: 2, EPOCH: 32, train_loss: 0.026256165412418982, valid_loss: 0.018058171657764393\nFOLD: 2, EPOCH: 33, train_loss: 0.026114919195499492, valid_loss: 0.018064259672942368\nFOLD: 2, EPOCH: 34, train_loss: 0.026071278953596073, valid_loss: 0.01805883006233236\nFOLD: 3, EPOCH: 0, train_loss: 1.1998854808728485, valid_loss: 0.09442671744719795\nFOLD: 3, EPOCH: 1, train_loss: 0.05226506958441699, valid_loss: 0.02238169757892256\nFOLD: 3, EPOCH: 2, train_loss: 0.033106521484168136, valid_loss: 0.023177477895565655\nFOLD: 3, EPOCH: 3, train_loss: 0.031173761208158207, valid_loss: 0.01918868218427119\nFOLD: 3, EPOCH: 4, train_loss: 0.030187783502590132, valid_loss: 0.019237441942095757\nFOLD: 3, EPOCH: 5, train_loss: 0.029493253445252776, valid_loss: 0.01824043326727722\nFOLD: 3, EPOCH: 6, train_loss: 0.029427666532094863, valid_loss: 0.017971758609232696\nFOLD: 3, EPOCH: 7, train_loss: 0.029231074909843942, valid_loss: 0.018368079853446587\nFOLD: 3, EPOCH: 8, train_loss: 0.029259722337455434, valid_loss: 0.018215239128988724\nFOLD: 3, EPOCH: 9, train_loss: 0.029265020891804907, valid_loss: 0.017862660486413086\nFOLD: 3, EPOCH: 10, train_loss: 0.02925777021685944, valid_loss: 0.018070495727917423\nFOLD: 3, EPOCH: 11, train_loss: 0.02927870534853462, valid_loss: 0.01801347141356572\nFOLD: 3, EPOCH: 12, train_loss: 0.02922237934270764, valid_loss: 0.018248695151313492\nFOLD: 3, EPOCH: 13, train_loss: 0.029212997719535932, valid_loss: 0.01808522495886554\nFOLD: 3, EPOCH: 14, train_loss: 0.029195299728170913, valid_loss: 0.018306305874948917\nFOLD: 3, EPOCH: 15, train_loss: 0.02917845911510727, valid_loss: 0.017834429912593052\nFOLD: 3, EPOCH: 16, train_loss: 0.02915418638354715, valid_loss: 0.018066107173976692\nFOLD: 3, EPOCH: 17, train_loss: 0.029122979804763898, valid_loss: 0.018272943713742752\nrecalibrate layer.weight_v\nFOLD: 3, EPOCH: 18, train_loss: 0.029012565857128185, valid_loss: 0.017655746606381043\nFOLD: 3, EPOCH: 19, train_loss: 0.02865068511763478, valid_loss: 0.01762314084107461\nFOLD: 3, EPOCH: 20, train_loss: 0.028540698181399527, valid_loss: 0.01776521393786306\nFOLD: 3, EPOCH: 21, train_loss: 0.02840337876285262, valid_loss: 0.017473821892686512\nFOLD: 3, EPOCH: 22, train_loss: 0.028348203488242102, valid_loss: 0.01752241368850936\nFOLD: 3, EPOCH: 23, train_loss: 0.028213473872336393, valid_loss: 0.017401029315331707\nrecalibrate layer.weight_v\nFOLD: 3, EPOCH: 24, train_loss: 0.0280347439350889, valid_loss: 0.017274849886155647\nrecalibrate layer.weight_v\nFOLD: 3, EPOCH: 25, train_loss: 0.02781357802450657, valid_loss: 0.017317149707156677\nFOLD: 3, EPOCH: 26, train_loss: 0.027593966244774705, valid_loss: 0.017233766615390778\nFOLD: 3, EPOCH: 27, train_loss: 0.02747152985402328, valid_loss: 0.01722017400290655\nFOLD: 3, EPOCH: 28, train_loss: 0.027315436150221264, valid_loss: 0.017194631145052288\nFOLD: 3, EPOCH: 29, train_loss: 0.027210261083810645, valid_loss: 0.017126503319520016\nFOLD: 3, EPOCH: 30, train_loss: 0.02709461743121638, valid_loss: 0.017085631782917873\nFOLD: 3, EPOCH: 31, train_loss: 0.026978495106210604, valid_loss: 0.017068645957371464\nFOLD: 3, EPOCH: 32, train_loss: 0.026878667132490697, valid_loss: 0.017046337501834267\nFOLD: 3, EPOCH: 33, train_loss: 0.026803809368763778, valid_loss: 0.017032730028681133\nFOLD: 3, EPOCH: 34, train_loss: 0.026778351214221296, valid_loss: 0.017017286999718002\nFOLD: 4, EPOCH: 0, train_loss: 1.2011276689522408, valid_loss: 0.10323667914971062\nFOLD: 4, EPOCH: 1, train_loss: 0.05300086098449195, valid_loss: 0.021694902249652405\nFOLD: 4, EPOCH: 2, train_loss: 0.033736550701124704, valid_loss: 0.020605088657011158\nFOLD: 4, EPOCH: 3, train_loss: 0.031060196596252566, valid_loss: 0.018724664397861645\nFOLD: 4, EPOCH: 4, train_loss: 0.030017672955770704, valid_loss: 0.018851018429774304\nFOLD: 4, EPOCH: 5, train_loss: 0.029748947236358243, valid_loss: 0.025318593029742657\nFOLD: 4, EPOCH: 6, train_loss: 0.02954383416320471, valid_loss: 0.018547246799520824\nFOLD: 4, EPOCH: 7, train_loss: 0.029420007239369786, valid_loss: 0.018246484555951927\nFOLD: 4, EPOCH: 8, train_loss: 0.029128356494338196, valid_loss: 0.019310106401858124\nFOLD: 4, EPOCH: 9, train_loss: 0.029154481407364503, valid_loss: 0.018426459809036358\nFOLD: 4, EPOCH: 10, train_loss: 0.02905885120579863, valid_loss: 0.01812569278737773\nFOLD: 4, EPOCH: 11, train_loss: 0.02910826774314046, valid_loss: 0.01843488026086403\nFOLD: 4, EPOCH: 12, train_loss: 0.02906741060809616, valid_loss: 0.01831843695886757\nFOLD: 4, EPOCH: 13, train_loss: 0.029029064250233418, valid_loss: 0.018085711028264916\nFOLD: 4, EPOCH: 14, train_loss: 0.02894720559775391, valid_loss: 0.018171201176617458\nFOLD: 4, EPOCH: 15, train_loss: 0.02900355900911724, valid_loss: 0.018233522853773575\nFOLD: 4, EPOCH: 16, train_loss: 0.028942093924235773, valid_loss: 0.01820801000070313\nFOLD: 4, EPOCH: 17, train_loss: 0.02892919343567508, valid_loss: 0.017998481452788994\nFOLD: 4, EPOCH: 18, train_loss: 0.02880797615986975, valid_loss: 0.0178663601450946\nrecalibrate layer.weight_v\nFOLD: 4, EPOCH: 19, train_loss: 0.028726853019393542, valid_loss: 0.018205930762316868\nFOLD: 4, EPOCH: 20, train_loss: 0.02842125722535831, valid_loss: 0.017958786338567734\nFOLD: 4, EPOCH: 21, train_loss: 0.028310755897751626, valid_loss: 0.017648541328051815\nFOLD: 4, EPOCH: 22, train_loss: 0.028110908015685922, valid_loss: 0.017718072454242603\nFOLD: 4, EPOCH: 23, train_loss: 0.02800045222701395, valid_loss: 0.017601197180540665\nrecalibrate layer.weight_v\nFOLD: 4, EPOCH: 24, train_loss: 0.02785115101484253, valid_loss: 0.017552778610716694\nFOLD: 4, EPOCH: 25, train_loss: 0.02766586811391308, valid_loss: 0.01750542162715093\nFOLD: 4, EPOCH: 26, train_loss: 0.027465392520432088, valid_loss: 0.01751749006950337\nrecalibrate layer.weight_v\nFOLD: 4, EPOCH: 27, train_loss: 0.027327492887921193, valid_loss: 0.017504771159070988\nFOLD: 4, EPOCH: 28, train_loss: 0.027116893448264283, valid_loss: 0.01735685125965139\nFOLD: 4, EPOCH: 29, train_loss: 0.026954462066950166, valid_loss: 0.017367459671652836\nFOLD: 4, EPOCH: 30, train_loss: 0.026843317756977153, valid_loss: 0.01730789187485757\nFOLD: 4, EPOCH: 31, train_loss: 0.026718879187041345, valid_loss: 0.01724412879380195\nFOLD: 4, EPOCH: 32, train_loss: 0.026654745178187594, valid_loss: 0.017260777197130348\nFOLD: 4, EPOCH: 33, train_loss: 0.026563838781679377, valid_loss: 0.01725853011821923\nFOLD: 4, EPOCH: 34, train_loss: 0.026498526567593217, valid_loss: 0.017268183924581692\nFOLD: 5, EPOCH: 0, train_loss: 1.2053765300661325, valid_loss: 0.1009603638363921\nFOLD: 5, EPOCH: 1, train_loss: 0.052600124029113966, valid_loss: 0.022012740211642307\nFOLD: 5, EPOCH: 2, train_loss: 0.03331584251924034, valid_loss: 0.020602786508591278\nFOLD: 5, EPOCH: 3, train_loss: 0.03251871684401789, valid_loss: 0.03589039984280649\nFOLD: 5, EPOCH: 4, train_loss: 0.03380891665651956, valid_loss: 0.020185278971558033\nFOLD: 5, EPOCH: 5, train_loss: 0.030620591071269968, valid_loss: 0.019525821361204853\nFOLD: 5, EPOCH: 6, train_loss: 0.0300468115875607, valid_loss: 0.01870491448789835\nFOLD: 5, EPOCH: 7, train_loss: 0.029572449172573054, valid_loss: 0.01881136194519375\nFOLD: 5, EPOCH: 8, train_loss: 0.029356818947502795, valid_loss: 0.019103712766714718\nFOLD: 5, EPOCH: 9, train_loss: 0.029260613161193973, valid_loss: 0.018761139201081318\nFOLD: 5, EPOCH: 10, train_loss: 0.029078634455800056, valid_loss: 0.018687696884507717\nFOLD: 5, EPOCH: 11, train_loss: 0.028998034129686216, valid_loss: 0.018490439766775005\nFOLD: 5, EPOCH: 12, train_loss: 0.028995742281789288, valid_loss: 0.018763622835926388\nFOLD: 5, EPOCH: 13, train_loss: 0.028921544551849365, valid_loss: 0.018629269917374073\nFOLD: 5, EPOCH: 14, train_loss: 0.028864769963547587, valid_loss: 0.018410153970446274\nFOLD: 5, EPOCH: 15, train_loss: 0.028897123918046847, valid_loss: 0.018323417955442615\nFOLD: 5, EPOCH: 16, train_loss: 0.02876395481529043, valid_loss: 0.018696649890878925\nFOLD: 5, EPOCH: 17, train_loss: 0.02869054423097302, valid_loss: 0.01839464400773463\nFOLD: 5, EPOCH: 18, train_loss: 0.02855824809247518, valid_loss: 0.018400434647565304\nFOLD: 5, EPOCH: 19, train_loss: 0.028545055689071033, valid_loss: 0.01844669319689274\nFOLD: 5, EPOCH: 20, train_loss: 0.028431600165169907, valid_loss: 0.01829548734847618\nFOLD: 5, EPOCH: 21, train_loss: 0.028291431625428444, valid_loss: 0.018392032619727695\nFOLD: 5, EPOCH: 22, train_loss: 0.02815454134114963, valid_loss: 0.018219995636330998\nFOLD: 5, EPOCH: 23, train_loss: 0.02801321871469126, valid_loss: 0.01827436418313047\nFOLD: 5, EPOCH: 24, train_loss: 0.02780506221632309, valid_loss: 0.017919931844200775\nrecalibrate layer.weight_v\nFOLD: 5, EPOCH: 25, train_loss: 0.027612808571361443, valid_loss: 0.017972860363838467\nFOLD: 5, EPOCH: 26, train_loss: 0.02715586795581176, valid_loss: 0.01794912483867096\nFOLD: 5, EPOCH: 27, train_loss: 0.027016715530086968, valid_loss: 0.01787333158047303\nrecalibrate layer.weight_v\nFOLD: 5, EPOCH: 28, train_loss: 0.026800364748958277, valid_loss: 0.017841935117283592\nFOLD: 5, EPOCH: 29, train_loss: 0.02648052530746688, valid_loss: 0.017874798575497192\nFOLD: 5, EPOCH: 30, train_loss: 0.02628428680712686, valid_loss: 0.017813478272570217\nFOLD: 5, EPOCH: 31, train_loss: 0.02613534530460396, valid_loss: 0.017861789456852104\nrecalibrate layer.weight_v\nFOLD: 5, EPOCH: 32, train_loss: 0.025984336087918457, valid_loss: 0.017840364947915077\nFOLD: 5, EPOCH: 33, train_loss: 0.02587253542836098, valid_loss: 0.01780045040599678\nFOLD: 5, EPOCH: 34, train_loss: 0.025810454931000575, valid_loss: 0.017849774545301563\nFOLD: 6, EPOCH: 0, train_loss: 1.2008975185453892, valid_loss: 0.09458081683386928\nFOLD: 6, EPOCH: 1, train_loss: 0.05222608310663525, valid_loss: 0.0217067902178868\nFOLD: 6, EPOCH: 2, train_loss: 0.033592817551620746, valid_loss: 0.020484426504243976\nFOLD: 6, EPOCH: 3, train_loss: 0.03151921595118063, valid_loss: 0.01910685836944891\nFOLD: 6, EPOCH: 4, train_loss: 0.030057590728735224, valid_loss: 0.01835170971310657\nFOLD: 6, EPOCH: 5, train_loss: 0.031036438612157807, valid_loss: 0.018494502195845478\nFOLD: 6, EPOCH: 6, train_loss: 0.029641013907487777, valid_loss: 0.018576666874730068\nFOLD: 6, EPOCH: 7, train_loss: 0.029268301722100553, valid_loss: 0.018122230089553024\nFOLD: 6, EPOCH: 8, train_loss: 0.029123687993406373, valid_loss: 0.018527288556746815\nFOLD: 6, EPOCH: 9, train_loss: 0.029046882724608567, valid_loss: 0.018017174068676388\nFOLD: 6, EPOCH: 10, train_loss: 0.029069216333000976, valid_loss: 0.01848992988791155\nFOLD: 6, EPOCH: 11, train_loss: 0.029084550134618494, valid_loss: 0.01825333415004222\nFOLD: 6, EPOCH: 12, train_loss: 0.029037260464118683, valid_loss: 0.018255337505884792\nFOLD: 6, EPOCH: 13, train_loss: 0.02903053964323857, valid_loss: 0.018069442402085533\nFOLD: 6, EPOCH: 14, train_loss: 0.02900279370848747, valid_loss: 0.018170877116853775\nFOLD: 6, EPOCH: 15, train_loss: 0.028970598256872857, valid_loss: 0.017762198477335598\nFOLD: 6, EPOCH: 16, train_loss: 0.02900616105591111, valid_loss: 0.01784812873634307\nFOLD: 6, EPOCH: 17, train_loss: 0.028897154884522453, valid_loss: 0.017870588187614212\nFOLD: 6, EPOCH: 18, train_loss: 0.02883525096866138, valid_loss: 0.017610358033815155\nFOLD: 6, EPOCH: 19, train_loss: 0.02874234614565092, valid_loss: 0.017742074985543022\nFOLD: 6, EPOCH: 20, train_loss: 0.028559228254701283, valid_loss: 0.01757244223161884\nrecalibrate layer.weight_v\nFOLD: 6, EPOCH: 21, train_loss: 0.028350485639427516, valid_loss: 0.017449456793458565\nFOLD: 6, EPOCH: 22, train_loss: 0.02808962921228479, valid_loss: 0.01727812202728313\nFOLD: 6, EPOCH: 23, train_loss: 0.027996386880712473, valid_loss: 0.0174952682674579\nrecalibrate layer.weight_v\nFOLD: 6, EPOCH: 24, train_loss: 0.027823592892245334, valid_loss: 0.017368360584520775\nFOLD: 6, EPOCH: 25, train_loss: 0.02757159945116762, valid_loss: 0.017134251923340817\nFOLD: 6, EPOCH: 26, train_loss: 0.027423430576591808, valid_loss: 0.01708966133225223\nFOLD: 6, EPOCH: 27, train_loss: 0.027262160595615998, valid_loss: 0.017071391860752003\nFOLD: 6, EPOCH: 28, train_loss: 0.02713294736767078, valid_loss: 0.01710952235304791\nFOLD: 6, EPOCH: 29, train_loss: 0.026943789301987958, valid_loss: 0.016939685841941315\nFOLD: 6, EPOCH: 30, train_loss: 0.02675349748802974, valid_loss: 0.01706413993530947\nrecalibrate layer.weight_v\nFOLD: 6, EPOCH: 31, train_loss: 0.026619962950730148, valid_loss: 0.01694010368183903\nFOLD: 6, EPOCH: 32, train_loss: 0.026496397413532522, valid_loss: 0.016929240937790146\nFOLD: 6, EPOCH: 33, train_loss: 0.02642834116704762, valid_loss: 0.01689347657172576\nFOLD: 6, EPOCH: 34, train_loss: 0.026398525628096917, valid_loss: 0.016889891222767208\n"
    }
   ],
   "source": [
    "# Averaging on multiple SEEDS\n",
    "\n",
    "# SEED = [0,1,2,3,4,5,6] #<-- Update\n",
    "SEED = [0]\n",
    "oof = np.zeros((len(train), len(target_scored_cols)))\n",
    "predictions = np.zeros((len(test), len(target_scored_cols)))\n",
    "\n",
    "# mean_scored = np.mean(train[target_scored_cols].values,axis=0)\n",
    "# mean_nscored = np.mean(train[target_nscored_cols].values,axis=0)\n",
    "# pos_scored_rate = np.log(np.where(mean_scored==0, 1e-8, mean_scored))\n",
    "# pos_nscored_rate = np.log(np.where(mean_nscored==0, 1e-8, mean_nscored))\n",
    "\n",
    "for seed in SEED:\n",
    "    \n",
    "    oof_, predictions_ = run_k_fold(NFOLDS, seed)\n",
    "    oof += oof_ / len(SEED)\n",
    "    predictions += predictions_ / len(SEED)\n",
    "\n",
    "train[target_scored_cols] = oof\n",
    "test[target_scored_cols] = predictions"
   ]
  },
  {
   "cell_type": "code",
   "execution_count": 48,
   "metadata": {
    "tags": []
   },
   "outputs": [
    {
     "output_type": "stream",
     "name": "stdout",
     "text": "CV log_loss:  0.015854724972601784\n"
    }
   ],
   "source": [
    "valid_results = train_targets_scored.drop(columns=target_scored_cols).merge(train[['sig_id']+target_scored_cols], on='sig_id', how='left').fillna(0)\n",
    "\n",
    "\n",
    "\n",
    "y_true = train_targets_scored[target_scored_cols].values\n",
    "y_pred = valid_results[target_scored_cols].values\n",
    "\n",
    "score = 0\n",
    "for i in range(len(target_scored_cols)):\n",
    "    score_ = log_loss(y_true[:, i], y_pred[:, i])\n",
    "    score += score_ / target_scored.shape[1]\n",
    "    \n",
    "print(\"CV log_loss: \", score)"
   ]
  },
  {
   "cell_type": "code",
   "execution_count": 49,
   "metadata": {
    "tags": []
   },
   "outputs": [
    {
     "output_type": "stream",
     "name": "stdout",
     "text": "0.652808391941145\n"
    }
   ],
   "source": [
    "from sklearn.metrics import roc_auc_score\n",
    "print(roc_auc_score(y_true,y_pred))"
   ]
  },
  {
   "cell_type": "code",
   "execution_count": 45,
   "metadata": {},
   "outputs": [],
   "source": [
    "#Baseline\n",
    "#CV log_loss:  0.015877615364984873 - 0.6541240486632599\n",
    "#without kmeans CV log_loss: 0.015854058954568463 - 0.659868777535432\n",
    "#epochs 35 - CV log_loss:  0.01585343762816286 - 0.6599438843390867\n",
    "#epocjs 40 - CV log_loss:  0.01586852336393351 - 0.6557867961263701\n",
    "#all stats - CV log_loss:  0.015855185527591735 -0.6570807318381957\n",
    "\n",
    "# hidden_sizes = [1500,1200,1100,900]\n",
    "# dropout_rates = [0.25,0.2,0.2]\n",
    "#CV log_loss:  0.015865879211216915 - 0.6559542487539943\n",
    "\n",
    "# hidden_sizes = [1500,1200,1000,900]\n",
    "# dropout_rates = [0.25,0.2,0.2]\n",
    "#CV log_loss:  0.015854724972601784 - 0.652808391941145\n",
    "\n",
    "# hidden_sizes = [1400,1200,1100,900]\n",
    "# dropout_rates = [0.25,0.2,0.2]\n",
    "# CV log_loss:  0.0159006577610937 - 0.6556368091911823\n",
    "\n",
    "# hidden_sizes = [1500,1400,1200,1000]\n",
    "# dropout_rates = [0.2,0.2,0.2]\n",
    "#CV log_loss:  0.015903499471456212 - 0.6545642003005651\n",
    "\n",
    "# hidden_sizes = [1500,1400,1200,1000]\n",
    "# dropout_rates = [0.2,0.2,0.2]\n",
    "# CV log_loss:  0.015902450359650298 - 0.6534999255322688\n",
    "\n",
    "# hidden_sizes = [1500,1400,1200,1000]\n",
    "# dropout_rates = [0.25,0.25,0.25]\n",
    "# CV log_loss:  0.015894421855461457 - 0.6585559568507875\n",
    "\n",
    "# hidden_sizes = [1200,1200,1100,1000]\n",
    "# dropout_rates = [0.2619422201258426,0.2619422201258426,0.2619422201258426]\n",
    "# CV log_loss:  0.015915461833464227 - 0.6551242407337411"
   ]
  },
  {
   "cell_type": "code",
   "execution_count": 46,
   "metadata": {},
   "outputs": [],
   "source": [
    "#auc .8073 -> .6541 "
   ]
  },
  {
   "cell_type": "code",
   "execution_count": 47,
   "metadata": {},
   "outputs": [],
   "source": [
    "#CV log_loss:  0.014772181976560779 - hidden size 1500\n",
    "#CV log loss:  0.014761207506656483 - hidden size 1600\n",
    "#CV log_loss:  0.014757089674479135 - hidden size 1600 + recalibrate layers\n",
    "#CV log_loss:  0.014798489345352649 - hidden size 1600 + recalibrate layers + 30epochs\n",
    "#CV log_loss:  0.014993945755985132 - hidden size 1600 + recalibrate layers - batch size 256\n",
    "#CV log_loss:  0.014925429807583115 - hidden size 1600 + recalibrate layers - batch size 256 + 50 epcohs\n",
    "#CV log_loss:  0.01501367781064934  - hidden size 1600 + recalibrate layers - batch size 256 + 50 epcohs div_factor=1e4\n",
    "#CV log_loss:  0.015038120295874759 - hidden size 1600 + recalibrate layers - batch size 256 + 50 epcohs pct_start=0.2\n",
    "#CV log_loss:  0.014925429807583115 - hidden size 1600 + recalibrate layers - batch size 256 + 50 epcohs 2*lr\n",
    "#CV log_loss:  0.014862676189325522 - hidden size 2000 + recalibrate layers - batch size 256 + 50 epcohs\n",
    "#CV log_loss:  0.014805892283163887 - hidden size 2000 + recalibrate layers - batch size 256 + 70 epcohs\n",
    "\n",
    "\n",
    "\n",
    "#CV log_loss:  0.014701033773812383 - hidden size 1000 + recalibrate layers + 30 epochs + 1layer + stats g35 c5\n",
    "#CV log_loss:  0.01470633477903798  - hidden size 1000 + recalibrate layers + 30 epochs + 1layer + stats g15 c5\n",
    "\n",
    "#CV log_loss:  0.014688195780301675 - hidden size 1000 + recalibrate layers + 30 epochs + 1layer + stats + varianceth 0.81\n",
    "\n",
    "#CV log_loss:  0.01473922963978107 - hidden size 1000 + recalibrate layers + 40 epochs + 1layer\n",
    "#CV log_loss:  0.014704245299661241 - hidden size 900 + recalibrate layers + 30 epochs + 1layer\n",
    "#CV log_loss:  0.014700136730168381 - hidden size 1100 + recalibrate layers + 30 epochs + 1layer\n",
    "\n",
    "\n",
    "#CV log_loss:  0.015298968285739336 - hidden size 1600 + recalibrate layers - batch size 64\n",
    "\n",
    "#CV log_loss:  0.014708188641129298 - hidden size 1000 + recalibrate layers + 30 epochs\n",
    "#CV log_loss:  0.014686009232339573 - hidden size 1000 + recalibrate layers + 30 epochs + 1layer\n",
    "#CV log_loss:  0.014675118998674056 - hidden size 1000 + recalibrate layers + 30 epochs + 1layer + stats\n",
    "#\n",
    "\n",
    "#CV log_loss:  0.01468776733769557 without stats\n",
    "\n",
    "\n",
    "\n",
    "\n",
    "\n",
    "#CV log_loss:  0.014751931843087755 baseline\n",
    "#CV log_loss:  0.014746491073514958 baseline + std g,c\n",
    "#CV log_loss:  0.014753663287033052 baseline + std g,c + median g,c\n",
    "#CV log_loss:  0.014747499643338137 baseline + std g,c + sum g,c + kurt g,c\n",
    "#CV log_loss:  0.014745229709145196 baseline + std g,c + sum g,c + mean g,c\n",
    "#CV log_loss:  0.014765909985927743 baseline + std g,c + sum g,c + skew g,c\n",
    "#CV log_loss:  0.01475305848080635  baseline + std g,c + sum g,c + g_var\n",
    "#CV log_loss:  0.014738260008810762 baseline + std g,c + sum g,c\n",
    "#CV log_loss:  0.014735805473683174 baseline + std g,c + sum g,c,gc\n",
    "#CV log_loss:  0.014750251194250852 baseline + std g,c,gc + sum g,c,gc\n",
    "#CV log_loss:  0.01474079804921367  baseline + std g,c + sum g,c,gc + variance 80(threshold)\n",
    "\n",
    "#CV log_loss:  0.014704018818104764 baseline + std g,c + sum g,c,gc + variance 80(threshold) &PCA\n",
    "#CV log loss:  0.014669995520015213 baseline + std g,c + sum g,c,gc + variance 80(threshold) &PCA + clusters3 - CV log_loss:  0.014520597500516905 /0.8153730747072218 (seeds)\n",
    "\n",
    "#CV log_loss:  0.014566130099844471/0.815729267497772 avec prelu, 30 epochs\n",
    "\n",
    "\n",
    "#CV log_loss:  0.014685491308574154 baseline + std g,c + sum g,c,gc + variance 80(threshold) &PCA + clusters5\n",
    "\n",
    "\n",
    "#CV log_loss:  0.015099951953285232 baseline + PCA features\n"
   ]
  },
  {
   "cell_type": "code",
   "execution_count": null,
   "metadata": {},
   "outputs": [],
   "source": []
  }
 ]
}