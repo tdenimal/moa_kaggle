{
 "metadata": {
  "language_info": {
   "codemirror_mode": {
    "name": "ipython",
    "version": 3
   },
   "file_extension": ".py",
   "mimetype": "text/x-python",
   "name": "python",
   "nbconvert_exporter": "python",
   "pygments_lexer": "ipython3",
   "version": "3.7.9-final"
  },
  "orig_nbformat": 2,
  "kernelspec": {
   "name": "python_defaultSpec_1605730583127",
   "display_name": "Python 3.7.9 64-bit ('moa_kaggle': conda)"
  }
 },
 "nbformat": 4,
 "nbformat_minor": 2,
 "cells": [
  {
   "cell_type": "code",
   "execution_count": 1,
   "metadata": {},
   "outputs": [],
   "source": [
    "import numpy as np\n",
    "import random\n",
    "import pandas as pd\n",
    "import matplotlib.pyplot as plt\n",
    "import os\n",
    "import copy\n",
    "import seaborn as sns\n",
    "\n",
    "from iterstrat.ml_stratifiers import MultilabelStratifiedKFold\n",
    "\n",
    "\n",
    "\n",
    "from sklearn import preprocessing\n",
    "from sklearn.metrics import log_loss\n",
    "from sklearn.preprocessing import StandardScaler\n",
    "from sklearn.decomposition import PCA\n",
    "\n",
    "import torch\n",
    "import torch.nn as nn\n",
    "import torch.nn.functional as F\n",
    "import torch.optim as optim\n",
    "\n",
    "import warnings\n",
    "warnings.filterwarnings('ignore')"
   ]
  },
  {
   "cell_type": "code",
   "execution_count": 2,
   "metadata": {},
   "outputs": [],
   "source": [
    "from sklearn.preprocessing import QuantileTransformer"
   ]
  },
  {
   "cell_type": "code",
   "execution_count": 3,
   "metadata": {},
   "outputs": [
    {
     "output_type": "execute_result",
     "data": {
      "text/plain": "['train_targets_scored.csv',\n 'sample_submission.csv',\n '.gitkeep',\n 'train_drug.csv',\n 'train_features.csv',\n 'test_features.csv',\n 'train_targets_nonscored.csv']"
     },
     "metadata": {},
     "execution_count": 3
    }
   ],
   "source": [
    "\n",
    "data_dir = '../data/01_raw'\n",
    "os.listdir(data_dir)"
   ]
  },
  {
   "cell_type": "code",
   "execution_count": 4,
   "metadata": {},
   "outputs": [],
   "source": [
    "# Parameters\n",
    "no_ctl = True\n",
    "ncompo_genes = 600\n",
    "ncompo_cells = 50"
   ]
  },
  {
   "cell_type": "code",
   "execution_count": 5,
   "metadata": {},
   "outputs": [],
   "source": [
    "train_features = pd.read_csv(data_dir+'/train_features.csv')\n",
    "train_targets_scored = pd.read_csv(data_dir+'/train_targets_scored.csv')\n",
    "train_targets_nonscored = pd.read_csv(data_dir+'/train_targets_nonscored.csv')\n",
    "\n",
    "test_features = pd.read_csv(data_dir+'/test_features.csv')\n",
    "sample_submission = pd.read_csv(data_dir+'/sample_submission.csv')\n",
    "drug = pd.read_csv(data_dir+'/train_drug.csv')"
   ]
  },
  {
   "cell_type": "code",
   "execution_count": 7,
   "metadata": {},
   "outputs": [],
   "source": [
    "targets_scored = train_targets_scored.columns[1:]\n",
    "scored = train_targets_scored.merge(drug, on='sig_id', how='left') "
   ]
  },
  {
   "cell_type": "code",
   "execution_count": 8,
   "metadata": {
    "tags": []
   },
   "outputs": [
    {
     "output_type": "stream",
     "name": "stdout",
     "text": "not_ctl\n"
    }
   ],
   "source": [
    "if no_ctl:\n",
    "    # cp_type == ctl_vehicle\n",
    "    print(\"not_ctl\")\n",
    "    train_features = train_features[train_features[\"cp_type\"] != \"ctl_vehicle\"]\n",
    "    test_features = test_features[test_features[\"cp_type\"] != \"ctl_vehicle\"]\n",
    "    train_targets_scored = train_targets_scored.iloc[train_features.index]\n",
    "    train_targets_nonscored = train_targets_nonscored.iloc[train_features.index]\n",
    "    train_features.reset_index(drop = True, inplace = True)\n",
    "    test_features.reset_index(drop = True, inplace = True)\n",
    "    train_targets_scored.reset_index(drop = True, inplace = True)\n",
    "    train_targets_nonscored.reset_index(drop = True, inplace = True)"
   ]
  },
  {
   "cell_type": "code",
   "execution_count": 9,
   "metadata": {},
   "outputs": [],
   "source": [
    "# #Indiquer si valeur dans le range max, min\n",
    "\n",
    "# import seaborn as sns\n",
    "# data = pd.concat([train_features,test_features],axis=0)\n",
    "\n",
    "# sns.distplot(data[data[\"cp_type\"] == \"ctl_vehicle\"][\"c-4\"],label=\"normal\")\n",
    "\n",
    "# sns.distplot(data[data[\"cp_type\"] == \"trt_cp\"][\"c-4\"],label=\"treated\")\n",
    "# plt.legend()\n",
    "# plt.show()"
   ]
  },
  {
   "cell_type": "code",
   "execution_count": 10,
   "metadata": {},
   "outputs": [],
   "source": [
    "# sum_targets = train_targets_scored[[c for c in train_targets_scored.columns if (c != \"sig_id\")]].sum().reset_index()"
   ]
  },
  {
   "cell_type": "code",
   "execution_count": 11,
   "metadata": {},
   "outputs": [],
   "source": [
    "# sum_targets[\"index\"] = sum_targets[\"index\"].apply(lambda x : x.replace(\"_inhibitor\",\"\"))\n",
    "# sum_targets[\"index\"] = sum_targets[\"index\"].apply(lambda x : x.replace(\"_activator\",\"\"))\n",
    "# sum_targets[\"index\"] = sum_targets[\"index\"].apply(lambda x : x.replace(\"_agonist\",\"\"))\n",
    "# sum_targets[\"index\"] = sum_targets[\"index\"].apply(lambda x : x.replace(\"_antagonist\",\"\"))"
   ]
  },
  {
   "cell_type": "code",
   "execution_count": 12,
   "metadata": {},
   "outputs": [],
   "source": [
    "GENES = [col for col in train_features.columns if col.startswith('g-')]\n",
    "CELLS = [col for col in train_features.columns if col.startswith('c-')]"
   ]
  },
  {
   "cell_type": "code",
   "execution_count": 13,
   "metadata": {},
   "outputs": [],
   "source": [
    "# from scipy import stats\n",
    "\n",
    "# train_features[GENES].apply(lambda x : stats.moment(x,moment=5),axis=1)"
   ]
  },
  {
   "cell_type": "code",
   "execution_count": 14,
   "metadata": {},
   "outputs": [],
   "source": [
    "seed=42\n",
    "\n",
    "def seed_everything(seed=42):\n",
    "    random.seed(seed)\n",
    "    os.environ['PYTHONHASHSEED'] = str(seed)\n",
    "    np.random.seed(seed)\n",
    "    torch.manual_seed(seed)\n",
    "    torch.cuda.manual_seed(seed)\n",
    "    torch.backends.cudnn.deterministic = True\n",
    "    \n",
    "seed_everything(seed)"
   ]
  },
  {
   "cell_type": "code",
   "execution_count": 15,
   "metadata": {},
   "outputs": [],
   "source": [
    "#RankGauss\n",
    "for col in (GENES + CELLS):\n",
    "    transformer = QuantileTransformer(n_quantiles=100,random_state=seed, output_distribution=\"normal\")\n",
    "    vec_len = len(train_features[col].values)\n",
    "    vec_len_test = len(test_features[col].values)\n",
    "    raw_vec = train_features[col].values.reshape(vec_len, 1)\n",
    "    transformer.fit(raw_vec)\n",
    "\n",
    "    train_features[col] = transformer.transform(raw_vec).reshape(1, vec_len)[0]\n",
    "    test_features[col] = transformer.transform(test_features[col].values.reshape(vec_len_test, 1)).reshape(1, vec_len_test)[0]\n",
    "\n",
    "#True gauss rank\n",
    "# import cupy as cp\n",
    "# from cupyx.scipy.special import erfinv\n",
    "# epsilon = 1e-6\n",
    "\n",
    "# data = pd.concat([pd.DataFrame(train_features[GENES + CELLS]), pd.DataFrame(test_features[GENES + CELLS])])\n",
    "\n",
    "# for k in (GENES + CELLS):\n",
    "#     r_gpu = cp.array(data.loc[:,k])\n",
    "#     r_gpu = r_gpu.argsort().argsort()\n",
    "#     r_gpu = (r_gpu/r_gpu.max()-0.5)*2 \n",
    "#     r_gpu = cp.clip(r_gpu,-1+epsilon,1-epsilon)\n",
    "#     r_gpu = erfinv(r_gpu) \n",
    "#     data.loc[:,k] = cp.asnumpy( r_gpu * np.sqrt(2) )\n",
    "\n",
    "# train_features[GENES + CELLS] = data[:train_features.shape[0]]; test_features[GENES + CELLS] = data[-test_features.shape[0]:]"
   ]
  },
  {
   "cell_type": "code",
   "execution_count": 16,
   "metadata": {},
   "outputs": [],
   "source": [
    "# GENES\n",
    "n_comp = ncompo_genes \n",
    "\n",
    "data = pd.concat([pd.DataFrame(train_features[GENES]), pd.DataFrame(test_features[GENES])])\n",
    "data2 = (PCA(n_components=n_comp, random_state=42).fit_transform(data[GENES]))\n",
    "train2 = data2[:train_features.shape[0]]; test2 = data2[train_features.shape[0]:]\n",
    "\n",
    "train2 = pd.DataFrame(train2, columns=[f'pca_G-{i}' for i in range(n_comp)])\n",
    "test2 = pd.DataFrame(test2, columns=[f'pca_G-{i}' for i in range(n_comp)])\n",
    "\n",
    "# drop_cols = [f'c-{i}' for i in range(n_comp,len(GENES))]\n",
    "train_features = pd.concat((train_features, train2), axis=1)\n",
    "test_features = pd.concat((test_features, test2), axis=1)"
   ]
  },
  {
   "cell_type": "code",
   "execution_count": 17,
   "metadata": {},
   "outputs": [],
   "source": [
    "#CELLS\n",
    "n_comp = ncompo_cells\n",
    "\n",
    "data = pd.concat([pd.DataFrame(train_features[CELLS]), pd.DataFrame(test_features[CELLS])])\n",
    "data2 = (PCA(n_components=n_comp, random_state=42).fit_transform(data[CELLS]))\n",
    "train2 = data2[:train_features.shape[0]]; test2 = data2[-test_features.shape[0]:]\n",
    "\n",
    "train2 = pd.DataFrame(train2, columns=[f'pca_C-{i}' for i in range(n_comp)])\n",
    "test2 = pd.DataFrame(test2, columns=[f'pca_C-{i}' for i in range(n_comp)])\n",
    "\n",
    "# drop_cols = [f'c-{i}' for i in range(n_comp,len(CELLS))]\n",
    "train_features = pd.concat((train_features, train2), axis=1)\n",
    "test_features = pd.concat((test_features, test2), axis=1)"
   ]
  },
  {
   "cell_type": "code",
   "execution_count": 18,
   "metadata": {},
   "outputs": [],
   "source": [
    "from scipy import stats\n",
    "\n",
    "def fe_stats(train, test):\n",
    "    \n",
    "    features_g = GENES\n",
    "    features_c = CELLS\n",
    "    \n",
    "    for df in train, test:\n",
    "        df['g_sum'] = df[features_g].sum(axis = 1) ## <==\n",
    "        # df['g_mean'] = df[features_g].mean(axis = 1)\n",
    "        df['g_std'] = df[features_g].std(axis = 1) ## <==\n",
    "        # df['g_kurt'] = df[features_g].kurtosis(axis = 1)\n",
    "        #df['g_skew'] = df[features_g].skew(axis = 1)\n",
    "        # df['g_q25'] = df[features_g].quantile(q=.25,axis = 1)\n",
    "        # df['g_q50'] = df[features_g].quantile(q=.5,axis = 1)\n",
    "        # df['g_q75'] = df[features_g].quantile(q=.75,axis = 1)\n",
    "        #df['g_var'] = df[features_g].apply(axis=1,func=stats.variation)\n",
    "        # df['g_mad'] = df[features_g].mad(axis = 1)\n",
    "\n",
    "\n",
    "        df['c_sum'] = df[features_c].sum(axis = 1) ## <==\n",
    "        # df['c_mean'] = df[features_c].mean(axis = 1)\n",
    "        df['c_std'] = df[features_c].std(axis = 1) ## <==\n",
    "        # df['c_kurt'] = df[features_c].kurtosis(axis = 1)\n",
    "        #df['c_skew'] = df[features_c].skew(axis = 1)\n",
    "        # df['c_q25'] = df[features_c].quantile(q=.25,axis = 1)\n",
    "        # df['c_q50'] = df[features_c].quantile(q=.5,axis = 1)\n",
    "        # df['c_q75'] = df[features_c].quantile(q=.75,axis = 1)\n",
    "        # df['c_var'] = df[features_c].apply(axis=1,func=stats.variation)\n",
    "        # df['c_mad'] = df[features_c].mad(axis = 1)\n",
    "\n",
    "\n",
    "\n",
    "        df['gc_sum'] = df[features_g + features_c].sum(axis = 1) ## <==\n",
    "        # df['gc_mean'] = df[features_g + features_c].mean(axis = 1)\n",
    "        # df['gc_std'] = df[features_g + features_c].std(axis = 1)\n",
    "        # df['gc_kurt'] = df[features_g + features_c].kurtosis(axis = 1)\n",
    "        # df['gc_skew'] = df[features_g + features_c].skew(axis = 1)\n",
    "        # df['gc_q25'] = df[features_g + features_c].quantile(q=.25,axis = 1)\n",
    "        # df['gc_q50'] = df[features_g + features_c].quantile(q=.5,axis = 1)\n",
    "        # df['gc_q75'] = df[features_g + features_c].quantile(q=.75,axis = 1)\n",
    "        # df['gc_var'] = df[features_g + features_c].apply(axis=1,func=stats.variation)\n",
    "        # df['gc_mad'] = df[features_g + features_c].mad(axis = 1)\n",
    "\n",
    "\n",
    "        \n",
    "    return train, test\n",
    "\n",
    "train_features,test_features=fe_stats(train_features,test_features)"
   ]
  },
  {
   "cell_type": "code",
   "execution_count": 19,
   "metadata": {},
   "outputs": [],
   "source": [
    "# train_features_gc = train_features[[\"sig_id\"]+GENES+CELLS].copy()\n",
    "# test_features_gc = test_features[[\"sig_id\"]+GENES+CELLS].copy()"
   ]
  },
  {
   "cell_type": "code",
   "execution_count": 20,
   "metadata": {},
   "outputs": [
    {
     "output_type": "execute_result",
     "data": {
      "text/plain": "(21948, 1047)"
     },
     "metadata": {},
     "execution_count": 20
    }
   ],
   "source": [
    "from sklearn.feature_selection import VarianceThreshold\n",
    "\n",
    "\n",
    "var_thresh = VarianceThreshold(0.8)  #<-- Update\n",
    "data = train_features.append(test_features)\n",
    "data_transformed = var_thresh.fit_transform(data.iloc[:, 4:])\n",
    "\n",
    "train_features_transformed = data_transformed[ : train_features.shape[0]]\n",
    "test_features_transformed = data_transformed[-test_features.shape[0] : ]\n",
    "\n",
    "\n",
    "train_features = pd.DataFrame(train_features[['sig_id','cp_type','cp_time','cp_dose']].values.reshape(-1, 4),\\\n",
    "                              columns=['sig_id','cp_type','cp_time','cp_dose'])\n",
    "\n",
    "train_features = pd.concat([train_features, pd.DataFrame(train_features_transformed)], axis=1)\n",
    "\n",
    "\n",
    "test_features = pd.DataFrame(test_features[['sig_id','cp_type','cp_time','cp_dose']].values.reshape(-1, 4),\\\n",
    "                             columns=['sig_id','cp_type','cp_time','cp_dose'])\n",
    "\n",
    "test_features = pd.concat([test_features, pd.DataFrame(test_features_transformed)], axis=1)\n",
    "\n",
    "train_features.shape"
   ]
  },
  {
   "cell_type": "code",
   "execution_count": 21,
   "metadata": {},
   "outputs": [],
   "source": [
    "# from sklearn.cluster import KMeans\n",
    "# def fe_cluster2(train, test, n_clusters = 3, SEED = 42):\n",
    "    \n",
    "\n",
    "#     def create_cluster(train, test, n_clusters = n_clusters):\n",
    "#         train_ = train.copy()\n",
    "#         test_ = test.copy()\n",
    "#         data = pd.concat([train_, test_], axis = 0)\n",
    "#         kmeans = KMeans(n_clusters = n_clusters, random_state = SEED).fit(data[[c for c in data.columns if c not in [\"sig_id\",\"cp_type\",\"cp_dose\",\"cp_time\"]]])\n",
    "#         train['cluster'] = kmeans.labels_[:train.shape[0]]\n",
    "#         test['cluster'] = kmeans.labels_[train.shape[0]:]\n",
    "#         train = pd.get_dummies(train, columns = ['cluster'])\n",
    "#         test = pd.get_dummies(test, columns = ['cluster'])\n",
    "#         return train, test\n",
    "    \n",
    "#     train, test = create_cluster(train, test, n_clusters = n_clusters)\n",
    "#     return train, test\n",
    "\n",
    "\n",
    "\n",
    "# train_features,test_features=fe_cluster2(train_features,test_features)"
   ]
  },
  {
   "cell_type": "code",
   "execution_count": 22,
   "metadata": {},
   "outputs": [],
   "source": [
    "# data = pd.concat([train1, test1], axis = 0)\n",
    "\n",
    "# distortion = []\n",
    "# for k in range(1,10):\n",
    "#     kmeans = KMeans(n_clusters = k, random_state = 42).fit(data)\n",
    "#     distortion += [kmeans.inertia_]\n"
   ]
  },
  {
   "cell_type": "code",
   "execution_count": 23,
   "metadata": {},
   "outputs": [],
   "source": [
    "# plt.plot(range(1,10),distortion)"
   ]
  },
  {
   "cell_type": "code",
   "execution_count": 24,
   "metadata": {},
   "outputs": [],
   "source": [
    "# train_features = train_features.merge(train_features_gc.loc[:,[col for col in train_features_gc.columns if col not in GENES+CELLS]],on=\"sig_id\")\n",
    "# test_features = test_features.merge(test_features_gc.loc[:,[col for col in test_features_gc.columns if col not in GENES+CELLS]],on=\"sig_id\")"
   ]
  },
  {
   "cell_type": "code",
   "execution_count": 25,
   "metadata": {},
   "outputs": [],
   "source": [
    "train = train_features.merge(train_targets_scored, on='sig_id')\n",
    "train = train.merge(train_targets_nonscored, on='sig_id')\n",
    "# train = train[train['cp_type']!='ctl_vehicle'].reset_index(drop=True)\n",
    "# test = test_features[test_features['cp_type']!='ctl_vehicle'].reset_index(drop=True)\n",
    "\n",
    "target_scored = train[train_targets_scored.columns]\n",
    "target_nscored = train[train_targets_nonscored.columns]"
   ]
  },
  {
   "cell_type": "code",
   "execution_count": 26,
   "metadata": {},
   "outputs": [],
   "source": [
    "train = train.drop('cp_type', axis=1)\n",
    "test = test_features.drop('cp_type', axis=1)"
   ]
  },
  {
   "cell_type": "code",
   "execution_count": 27,
   "metadata": {},
   "outputs": [],
   "source": [
    "target_scored_cols = target_scored.drop('sig_id', axis=1).columns.values.tolist()\n",
    "target_nscored_cols = target_nscored.drop('sig_id', axis=1).columns.values.tolist()"
   ]
  },
  {
   "cell_type": "code",
   "execution_count": 28,
   "metadata": {},
   "outputs": [],
   "source": [
    "# folds = train.copy()\n",
    "\n",
    "# mskf = MultilabelStratifiedKFold(n_splits=7)\n",
    "\n",
    "# for f, (t_idx, v_idx) in enumerate(mskf.split(X=train, y=target_scored)):\n",
    "#     folds.loc[v_idx, 'kfold'] = int(f)\n",
    "\n",
    "# folds['kfold'] = folds['kfold'].astype(int)\n",
    "# folds"
   ]
  },
  {
   "cell_type": "code",
   "execution_count": 29,
   "metadata": {},
   "outputs": [],
   "source": [
    "class TrainDataset:\n",
    "    def __init__(self, features, targets_scored,targets_nscored):\n",
    "        self.features = features\n",
    "        self.targets_scored = targets_scored\n",
    "        self.targets_nscored = targets_nscored\n",
    "        \n",
    "    def __len__(self):\n",
    "        return (self.features.shape[0])\n",
    "    \n",
    "    def __getitem__(self, idx):\n",
    "        dct = {\n",
    "            'x' : torch.tensor(self.features[idx, :], dtype=torch.float),\n",
    "            'y_scored' : torch.tensor(self.targets_scored[idx, :], dtype=torch.float),\n",
    "            'y_nscored' : torch.tensor(self.targets_nscored[idx, :], dtype=torch.float)           \n",
    "        }\n",
    "        return dct\n",
    "\n",
    "class ValidDataset:\n",
    "    def __init__(self, features, targets_scored):\n",
    "        self.features = features\n",
    "        self.targets_scored = targets_scored\n",
    "        \n",
    "    def __len__(self):\n",
    "        return (self.features.shape[0])\n",
    "    \n",
    "    def __getitem__(self, idx):\n",
    "        dct = {\n",
    "            'x' : torch.tensor(self.features[idx, :], dtype=torch.float),\n",
    "            'y_scored' : torch.tensor(self.targets_scored[idx, :], dtype=torch.float),          \n",
    "        }\n",
    "        return dct\n",
    "    \n",
    "class TestDataset:\n",
    "    def __init__(self, features):\n",
    "        self.features = features\n",
    "        \n",
    "    def __len__(self):\n",
    "        return (self.features.shape[0])\n",
    "    \n",
    "    def __getitem__(self, idx):\n",
    "        dct = {\n",
    "            'x' : torch.tensor(self.features[idx, :], dtype=torch.float)\n",
    "        }\n",
    "        return dct"
   ]
  },
  {
   "cell_type": "code",
   "execution_count": 30,
   "metadata": {},
   "outputs": [],
   "source": [
    "def train_fn(model, optimizer, scheduler, loss_fn, dataloader, device):\n",
    "    model.train()\n",
    "    final_loss = 0\n",
    "    \n",
    "    for data in dataloader:\n",
    "        optimizer.zero_grad()\n",
    "        inputs, targets1, targets2 = data['x'].to(device), data['y_scored'].to(device), data['y_nscored'].to(device)\n",
    "#         print(inputs.shape)\n",
    "        outputs1,outputs2 = model(inputs)\n",
    "        loss1 = loss_fn(outputs1, targets1)\n",
    "        loss2 = loss_fn(outputs2, targets2)\n",
    "        loss = loss1 + loss2\n",
    "        loss.backward()\n",
    "        optimizer.step()\n",
    "        scheduler.step()\n",
    "        \n",
    "        final_loss += loss.item()\n",
    "        \n",
    "    final_loss /= len(dataloader)\n",
    "    \n",
    "    return final_loss\n",
    "\n",
    "\n",
    "def valid_fn(model, loss_fn, dataloader, device):\n",
    "    model.eval()\n",
    "    final_loss = 0\n",
    "    valid_preds = []\n",
    "    \n",
    "    for data in dataloader:\n",
    "        inputs, targets = data['x'].to(device), data['y_scored'].to(device)\n",
    "        outputs,_ = model(inputs)\n",
    "        loss = loss_fn(outputs, targets)\n",
    "        \n",
    "        final_loss += loss.item()\n",
    "        valid_preds.append(outputs.sigmoid().detach().cpu().numpy())\n",
    "        \n",
    "\n",
    "    final_loss /= len(dataloader)\n",
    "\n",
    "\n",
    "    valid_preds = np.concatenate(valid_preds)\n",
    "    \n",
    "    return final_loss, valid_preds\n",
    "\n",
    "def inference_fn(model, dataloader, device):\n",
    "    model.eval()\n",
    "    preds_scored = []\n",
    "    preds_nscored = []\n",
    "    \n",
    "    for data in dataloader:\n",
    "        inputs = data['x'].to(device)\n",
    "\n",
    "        with torch.no_grad():\n",
    "            outputs_scored,outputs_nscored = model(inputs)\n",
    "        \n",
    "        preds_scored.append(outputs_scored.sigmoid().detach().cpu().numpy())\n",
    "        preds_nscored.append(outputs_nscored.sigmoid().detach().cpu().numpy())\n",
    "        \n",
    "    preds_scored = np.concatenate(preds_scored)\n",
    "    preds_nscored = np.concatenate(preds_nscored)\n",
    "    \n",
    "    return preds_scored,preds_nscored"
   ]
  },
  {
   "cell_type": "code",
   "execution_count": 31,
   "metadata": {},
   "outputs": [],
   "source": [
    "import torch\n",
    "from torch.nn.modules.loss import _WeightedLoss\n",
    "import torch.nn.functional as F\n",
    "\n",
    "class SmoothBCEwLogits(_WeightedLoss):\n",
    "    def __init__(self, weight=None, reduction='mean', smoothing=0.0):\n",
    "        super().__init__(weight=weight, reduction=reduction)\n",
    "        self.smoothing = smoothing\n",
    "        self.weight = weight\n",
    "        self.reduction = reduction\n",
    "\n",
    "    @staticmethod\n",
    "    def _smooth(targets:torch.Tensor, n_labels:int, smoothing=0.0):\n",
    "        assert 0 <= smoothing < 1\n",
    "        with torch.no_grad():\n",
    "            targets = targets * (1.0 - smoothing) + 0.5 * smoothing\n",
    "        return targets\n",
    "\n",
    "    def forward(self, inputs, targets):\n",
    "        targets = SmoothBCEwLogits._smooth(targets, inputs.size(-1),\n",
    "            self.smoothing)\n",
    "        loss = F.binary_cross_entropy_with_logits(inputs, targets,self.weight)\n",
    "\n",
    "        if  self.reduction == 'sum':\n",
    "            loss = loss.sum()\n",
    "        elif  self.reduction == 'mean':\n",
    "            loss = loss.mean()\n",
    "\n",
    "        return loss"
   ]
  },
  {
   "cell_type": "code",
   "execution_count": 32,
   "metadata": {},
   "outputs": [],
   "source": [
    "class Model(nn.Module):\n",
    "    def __init__(self, num_features, \n",
    "                 num_targets_scored,\n",
    "                 num_targets_nscored, \n",
    "                 hidden_sizes,\n",
    "                 dropout_rates):\n",
    "\n",
    "        super(Model, self).__init__()\n",
    "        self.batch_norm1 = nn.BatchNorm1d(num_features)\n",
    "        self.dense1 = nn.utils.weight_norm(nn.Linear(num_features, hidden_sizes[0]))\n",
    "        self.activation1 = torch.nn.PReLU(num_parameters = hidden_sizes[0], init = 1.0)\n",
    "        \n",
    "        self.batch_norm2 = nn.BatchNorm1d(hidden_sizes[0])\n",
    "        self.dropout2 = nn.Dropout(dropout_rates[0])\n",
    "        self.dense2 = nn.utils.weight_norm(nn.Linear(hidden_sizes[0], hidden_sizes[1]))\n",
    "        self.activation2 = torch.nn.PReLU(num_parameters = hidden_sizes[1], init = 1.0)\n",
    "\n",
    "\n",
    "        self.batch_norm2b = nn.BatchNorm1d(hidden_sizes[1])\n",
    "        self.dropout2b = nn.Dropout(dropout_rates[1])\n",
    "        self.dense2b = nn.utils.weight_norm(nn.Linear(hidden_sizes[1], hidden_sizes[2]))\n",
    "        self.activation2b = torch.nn.PReLU(num_parameters = hidden_sizes[2], init = 1.0)\n",
    "        \n",
    "        self.batch_norm3 = nn.BatchNorm1d(hidden_sizes[2])\n",
    "        self.dropout3 = nn.Dropout(dropout_rates[2])\n",
    "        self.dense3 = nn.utils.weight_norm(nn.Linear(hidden_sizes[2], num_targets_scored))\n",
    "        self.dense4 = nn.utils.weight_norm(nn.Linear(hidden_sizes[2], num_targets_nscored))\n",
    "\n",
    "    def init_bias(self,pos_scored_rate,pos_nscored_rate):\n",
    "        self.dense3.bias.data = nn.Parameter(torch.tensor(pos_scored_rate, dtype=torch.float))\n",
    "        self.dense4.bias.data = nn.Parameter(torch.tensor(pos_nscored_rate, dtype=torch.float))\n",
    "    \n",
    "    def recalibrate_layer(self, layer):\n",
    "        if(torch.isnan(layer.weight_v).sum() > 0):\n",
    "            print ('recalibrate layer.weight_v')\n",
    "            layer.weight_v = torch.nn.Parameter(torch.where(torch.isnan(layer.weight_v), torch.zeros_like(layer.weight_v), layer.weight_v))\n",
    "            layer.weight_v = torch.nn.Parameter(layer.weight_v + 1e-7)\n",
    "\n",
    "        if(torch.isnan(layer.weight).sum() > 0):\n",
    "            print ('recalibrate layer.weight')\n",
    "            layer.weight = torch.where(torch.isnan(layer.weight), torch.zeros_like(layer.weight), layer.weight)\n",
    "            layer.weight += 1e-7\n",
    "\n",
    "    def forward(self, x):\n",
    "        x = self.batch_norm1(x)\n",
    "        self.recalibrate_layer(self.dense1)\n",
    "        x = self.activation1(self.dense1(x))\n",
    "        \n",
    "        x = self.batch_norm2(x)\n",
    "        x = self.dropout2(x)\n",
    "        self.recalibrate_layer(self.dense2)\n",
    "        x = self.activation2(self.dense2(x))\n",
    "\n",
    "        x = self.batch_norm2b(x)\n",
    "        x = self.dropout2b(x)\n",
    "        self.recalibrate_layer(self.dense2b)\n",
    "        x = self.activation2b(self.dense2b(x))\n",
    "        \n",
    "        x = self.batch_norm3(x)\n",
    "        x = self.dropout3(x)\n",
    "        self.recalibrate_layer(self.dense3)\n",
    "        x1 = self.dense3(x)\n",
    "\n",
    "        self.recalibrate_layer(self.dense4)\n",
    "        x2 = self.dense4(x)\n",
    "        return x1,x2\n",
    "    \n",
    "class LabelSmoothingLoss(nn.Module):\n",
    "    def __init__(self, classes, smoothing=0.0, dim=-1):\n",
    "        super(LabelSmoothingLoss, self).__init__()\n",
    "        self.confidence = 1.0 - smoothing\n",
    "        self.smoothing = smoothing\n",
    "        self.cls = classes\n",
    "        self.dim = dim\n",
    "\n",
    "    def forward(self, pred, target):\n",
    "        pred = pred.log_softmax(dim=self.dim)\n",
    "        with torch.no_grad():\n",
    "            # true_dist = pred.data.clone()\n",
    "            true_dist = torch.zeros_like(pred)\n",
    "            true_dist.fill_(self.smoothing / (self.cls - 1))\n",
    "            true_dist.scatter_(1, target.data.unsqueeze(1), self.confidence)\n",
    "        return torch.mean(torch.sum(-true_dist * pred, dim=self.dim))"
   ]
  },
  {
   "cell_type": "code",
   "execution_count": 33,
   "metadata": {},
   "outputs": [],
   "source": [
    "def process_data(data):\n",
    "    data = pd.get_dummies(data, columns=['cp_time','cp_dose'])\n",
    "    return data"
   ]
  },
  {
   "cell_type": "code",
   "execution_count": 34,
   "metadata": {},
   "outputs": [],
   "source": [
    "# HyperParameters\n",
    "\n",
    "DEVICE = ('cuda' if torch.cuda.is_available() else 'cpu')\n",
    "EPOCHS = 30\n",
    "#EPOCHS = 300 #200\n",
    "PATIENCE=40\n",
    "\n",
    "BATCH_SIZE = 128\n",
    "LEARNING_RATE = 1e-3\n",
    "WEIGHT_DECAY = 1e-5\n",
    "NFOLDS = 7           \n",
    "EARLY_STOPPING_STEPS = PATIENCE+5\n",
    "EARLY_STOP = False\n",
    "\n",
    "#hidden_size=1500\n",
    "hidden_sizes = [1200,1000,1000]\n",
    "dropout_rates = [0.2619422201258426,0.2619422201258426,0.27]\n",
    "#dropout_rate = 0.2619422201258426\n",
    "#dropout_rate = 0.28\n"
   ]
  },
  {
   "cell_type": "code",
   "execution_count": 35,
   "metadata": {},
   "outputs": [],
   "source": [
    "# LOCATE DRUGS\n",
    "vc = scored.drug_id.value_counts()\n",
    "vc1 = vc.loc[vc<=18].index.sort_values()\n",
    "vc2 = vc.loc[vc>18].index.sort_values()\n",
    "\n",
    "# STRATIFY DRUGS 18X OR LESS\n",
    "dct1 = {}; dct2 = {}\n",
    "skf = MultilabelStratifiedKFold(n_splits=NFOLDS, shuffle=True, \n",
    "          random_state=seed)\n",
    "tmp = scored.groupby('drug_id')[targets_scored].mean().loc[vc1]\n",
    "for fold,(idxT,idxV) in enumerate( skf.split(tmp,tmp[targets_scored])):\n",
    "    dd = {k:fold for k in tmp.index[idxV].values}\n",
    "    dct1.update(dd)\n",
    "\n",
    "# STRATIFY DRUGS MORE THAN 18X\n",
    "skf = MultilabelStratifiedKFold(n_splits=NFOLDS, shuffle=True, \n",
    "          random_state=seed)\n",
    "tmp = scored.loc[scored.drug_id.isin(vc2)].reset_index(drop=True)\n",
    "for fold,(idxT,idxV) in enumerate( skf.split(tmp,tmp[targets_scored])):\n",
    "    dd = {k:fold for k in tmp.sig_id[idxV].values}\n",
    "    dct2.update(dd)\n",
    "\n",
    "# ASSIGN FOLDS\n",
    "folds = train.merge(drug,on=\"sig_id\")\n",
    "folds['fold'] = folds.drug_id.map(dct1)\n",
    "folds.loc[folds.fold.isna(),'fold'] =\\\n",
    "    folds.loc[folds.fold.isna(),'sig_id'].map(dct2)\n",
    "folds.fold = folds.fold.astype('int8')"
   ]
  },
  {
   "cell_type": "code",
   "execution_count": 36,
   "metadata": {},
   "outputs": [
    {
     "output_type": "execute_result",
     "data": {
      "text/plain": "1048"
     },
     "metadata": {},
     "execution_count": 36
    }
   ],
   "source": [
    "feature_cols = [c for c in process_data(train).columns if c not in (target_scored_cols + target_nscored_cols)]\n",
    "feature_cols = [c for c in feature_cols if c not in ['fold','sig_id']]\n",
    "len(feature_cols)"
   ]
  },
  {
   "cell_type": "code",
   "execution_count": 37,
   "metadata": {},
   "outputs": [],
   "source": [
    "num_features=len(feature_cols)\n",
    "num_targets_scored=len(target_scored_cols)\n",
    "num_targets_nscored=len(target_nscored_cols)"
   ]
  },
  {
   "cell_type": "code",
   "execution_count": 38,
   "metadata": {
    "tags": []
   },
   "outputs": [
    {
     "output_type": "stream",
     "name": "stdout",
     "text": "(21948, 1654)\n(21948, 1656)\n(3624, 1046)\n(21948, 207)\n(21948, 403)\n(3982, 207)\n"
    }
   ],
   "source": [
    "print(train.shape)\n",
    "print(folds.shape)\n",
    "print(test.shape)\n",
    "print(target_scored.shape)\n",
    "print(target_nscored.shape)\n",
    "print(sample_submission.shape)"
   ]
  },
  {
   "cell_type": "code",
   "execution_count": 39,
   "metadata": {},
   "outputs": [],
   "source": [
    "def run_training(fold, seed):\n",
    "    \n",
    "    seed_everything(seed)\n",
    "    \n",
    "    train = process_data(folds)\n",
    "    test_ = process_data(test)\n",
    "\n",
    "    \n",
    "    trn_idx = train[train['fold'] != fold].index\n",
    "    val_idx = train[train['fold'] == fold].index\n",
    "    \n",
    "    train_df = train[train['fold'] != fold].reset_index(drop=True)\n",
    "    valid_df = train[train['fold'] == fold].reset_index(drop=True)\n",
    "    \n",
    "    x_train, y_scored_train, y_nscored_train  = train_df[feature_cols].values, train_df[target_scored_cols].values, train_df[target_nscored_cols].values\n",
    "    x_valid, y_scored_valid =  valid_df[feature_cols].values, valid_df[target_scored_cols].values\n",
    "    \n",
    "    train_dataset = TrainDataset(x_train, y_scored_train, y_nscored_train)\n",
    "    valid_dataset = ValidDataset(x_valid, y_scored_valid)\n",
    "    trainloader = torch.utils.data.DataLoader(train_dataset, batch_size=BATCH_SIZE, shuffle=True)\n",
    "    validloader = torch.utils.data.DataLoader(valid_dataset, batch_size=BATCH_SIZE, shuffle=False)\n",
    "    \n",
    "    model = Model(\n",
    "        num_features=num_features,\n",
    "        num_targets_scored=num_targets_scored,\n",
    "        num_targets_nscored=num_targets_nscored,\n",
    "        hidden_sizes=hidden_sizes,\n",
    "        dropout_rates=dropout_rates,\n",
    "    )\n",
    "\n",
    "    # model.init_bias(pos_scored_rate,pos_nscored_rate)\n",
    "\n",
    "    model.to(DEVICE)\n",
    "    \n",
    "    optimizer = torch.optim.Adam(model.parameters(), lr=LEARNING_RATE, weight_decay=WEIGHT_DECAY)\n",
    "    scheduler = optim.lr_scheduler.OneCycleLR(optimizer=optimizer,pct_start=0.1, div_factor=1e4, final_div_factor=1e5,\n",
    "                                              max_lr=1e-2, epochs=EPOCHS, steps_per_epoch=len(trainloader))\n",
    "\n",
    "\n",
    "    #scheduler = optim.lr_scheduler.ReduceLROnPlateau(optimizer=optimizer,mode = \"min\", patience = PATIENCE, min_lr = 1e-6, factor = 0.9)\n",
    "    \n",
    "    loss_fn = nn.BCEWithLogitsLoss()\n",
    "    loss_tr = SmoothBCEwLogits(smoothing =0.001)\n",
    "    \n",
    "    early_stopping_steps = EARLY_STOPPING_STEPS\n",
    "    early_step = 0\n",
    "   \n",
    "    oof = np.zeros((len(train), target_scored.iloc[:, 1:].shape[1]))\n",
    "    best_loss = np.inf\n",
    "    \n",
    "    for epoch in range(EPOCHS):\n",
    "        \n",
    "        train_loss = train_fn(model, optimizer,scheduler, loss_tr, trainloader, DEVICE)\n",
    "        valid_loss, valid_preds = valid_fn(model, loss_fn, validloader, DEVICE)\n",
    "        print(f\"FOLD: {fold}, EPOCH: {epoch}, train_loss: {train_loss}, valid_loss: {valid_loss}\")\n",
    "        #scheduler.step(valid_loss)\n",
    "        \n",
    "        if valid_loss < best_loss:\n",
    "            \n",
    "            best_loss = valid_loss\n",
    "            oof[val_idx] = valid_preds\n",
    "            torch.save(model.state_dict(), f\"FOLD{fold}_m1_.pth\")\n",
    "        \n",
    "        elif(EARLY_STOP == True):\n",
    "            \n",
    "            early_step += 1\n",
    "            if (early_step >= early_stopping_steps):\n",
    "                break\n",
    "            \n",
    "    \n",
    "    #--------------------- PREDICTION---------------------\n",
    "    x_test = test_[feature_cols].values\n",
    "    testdataset = TestDataset(x_test)\n",
    "    testloader = torch.utils.data.DataLoader(testdataset, batch_size=BATCH_SIZE, shuffle=False)\n",
    "    \n",
    "    model = Model(\n",
    "        num_features=num_features,\n",
    "        num_targets_scored=num_targets_scored,\n",
    "        num_targets_nscored=num_targets_nscored,\n",
    "        hidden_sizes=hidden_sizes,\n",
    "        dropout_rates=dropout_rates\n",
    "    )\n",
    "    \n",
    "    model.load_state_dict(torch.load(f\"FOLD{fold}_m1_.pth\"))\n",
    "    model.to(DEVICE)\n",
    "    \n",
    "    predictions_scored = np.zeros((len(test_), target_scored.iloc[:, 1:].shape[1]))\n",
    "    predictions_nscored = np.zeros((len(test_), target_nscored.iloc[:, 1:].shape[1]))\n",
    "    predictions_scored,predictions_nscored = inference_fn(model, testloader, DEVICE)\n",
    "    \n",
    "    return oof, predictions_scored, predictions_nscored"
   ]
  },
  {
   "cell_type": "code",
   "execution_count": 40,
   "metadata": {},
   "outputs": [],
   "source": [
    "def run_k_fold(NFOLDS, seed):\n",
    "    oof = np.zeros((len(train), len(target_scored_cols)))\n",
    "    predictions_scored = np.zeros((len(test), len(target_scored_cols)))\n",
    "    predictions_nscored = np.zeros((len(test), len(target_nscored_cols)))\n",
    "    \n",
    "    for fold in range(NFOLDS):\n",
    "        oof_, pred_scored_, pred_nscored_ = run_training(fold, seed)\n",
    "        \n",
    "        predictions_scored += pred_scored_ / NFOLDS\n",
    "        predictions_nscored += pred_nscored_ / NFOLDS\n",
    "        oof += oof_\n",
    "        \n",
    "    return oof, predictions_scored, predictions_nscored"
   ]
  },
  {
   "cell_type": "code",
   "execution_count": 41,
   "metadata": {
    "tags": []
   },
   "outputs": [
    {
     "output_type": "stream",
     "name": "stdout",
     "text": "FOLD: 0, EPOCH: 0, train_loss: 1.0963618934557244, valid_loss: 0.042641155421733856\nFOLD: 0, EPOCH: 1, train_loss: 0.03996097852752821, valid_loss: 0.021774358451366424\nFOLD: 0, EPOCH: 2, train_loss: 0.03504253874809758, valid_loss: 0.021739974915981293\nFOLD: 0, EPOCH: 3, train_loss: 0.031668389065040124, valid_loss: 0.01899710550904274\nFOLD: 0, EPOCH: 4, train_loss: 0.030385628632093604, valid_loss: 0.024840348586440086\nFOLD: 0, EPOCH: 5, train_loss: 0.02993080796472527, valid_loss: 0.01933214418590069\nFOLD: 0, EPOCH: 6, train_loss: 0.02947990577416243, valid_loss: 0.018409453928470612\nFOLD: 0, EPOCH: 7, train_loss: 0.0292766165693064, valid_loss: 0.01818509578704834\nFOLD: 0, EPOCH: 8, train_loss: 0.029154660683628673, valid_loss: 0.018111528754234316\nFOLD: 0, EPOCH: 9, train_loss: 0.028950582736650028, valid_loss: 0.018061738908290863\nFOLD: 0, EPOCH: 10, train_loss: 0.02892185470743759, valid_loss: 0.018144515454769135\nFOLD: 0, EPOCH: 11, train_loss: 0.028849344046131986, valid_loss: 0.01817598320543766\nFOLD: 0, EPOCH: 12, train_loss: 0.028859664396559064, valid_loss: 0.0184352408349514\nFOLD: 0, EPOCH: 13, train_loss: 0.02885940274525736, valid_loss: 0.018082372024655343\nFOLD: 0, EPOCH: 14, train_loss: 0.028849516089099483, valid_loss: 0.01772915005683899\nFOLD: 0, EPOCH: 15, train_loss: 0.02874527418532887, valid_loss: 0.017889220789074897\nFOLD: 0, EPOCH: 16, train_loss: 0.02866070798119983, valid_loss: 0.01792534112930298\nFOLD: 0, EPOCH: 17, train_loss: 0.028693581025141315, valid_loss: 0.01776659123599529\nFOLD: 0, EPOCH: 18, train_loss: 0.028399752717263794, valid_loss: 0.01772583946585655\nFOLD: 0, EPOCH: 19, train_loss: 0.028286598861922283, valid_loss: 0.01766217075288296\nFOLD: 0, EPOCH: 20, train_loss: 0.02811940395701173, valid_loss: 0.017633656561374663\nFOLD: 0, EPOCH: 21, train_loss: 0.027865885039539757, valid_loss: 0.017522688284516336\nFOLD: 0, EPOCH: 22, train_loss: 0.02762608017420044, valid_loss: 0.017512865997850895\nFOLD: 0, EPOCH: 23, train_loss: 0.02726873634634791, valid_loss: 0.017291211411356925\nFOLD: 0, EPOCH: 24, train_loss: 0.026889953447656857, valid_loss: 0.01719833694398403\nFOLD: 0, EPOCH: 25, train_loss: 0.02652507769950741, valid_loss: 0.01726010248064995\nFOLD: 0, EPOCH: 26, train_loss: 0.026172784433977025, valid_loss: 0.01725739862769842\nFOLD: 0, EPOCH: 27, train_loss: 0.025795375865355536, valid_loss: 0.01724627234041691\nFOLD: 0, EPOCH: 28, train_loss: 0.025448860147514858, valid_loss: 0.017265415377914907\nFOLD: 0, EPOCH: 29, train_loss: 0.025369881362830464, valid_loss: 0.01726040191948414\nFOLD: 1, EPOCH: 0, train_loss: 1.0975907006028558, valid_loss: 0.042800470613516294\nFOLD: 1, EPOCH: 1, train_loss: 0.04063197020061162, valid_loss: 0.02146124538893883\nFOLD: 1, EPOCH: 2, train_loss: 0.033170790582591175, valid_loss: 0.01958314995639599\nFOLD: 1, EPOCH: 3, train_loss: 0.030619516487227005, valid_loss: 0.018366958766889114\nFOLD: 1, EPOCH: 4, train_loss: 0.029803236870437254, valid_loss: 0.018028644701609246\nFOLD: 1, EPOCH: 5, train_loss: 0.02989898450976732, valid_loss: 0.018058180128439114\nFOLD: 1, EPOCH: 6, train_loss: 0.029293167436508095, valid_loss: 0.018363861582027033\nFOLD: 1, EPOCH: 7, train_loss: 0.029179027608158638, valid_loss: 0.017934402665839747\nFOLD: 1, EPOCH: 8, train_loss: 0.02905338291763043, valid_loss: 0.01777397271675559\nFOLD: 1, EPOCH: 9, train_loss: 0.029046320489474704, valid_loss: 0.017817827980392255\nFOLD: 1, EPOCH: 10, train_loss: 0.028909346557596104, valid_loss: 0.017916579730808735\nFOLD: 1, EPOCH: 11, train_loss: 0.028967121514637453, valid_loss: 0.018098053271667316\nFOLD: 1, EPOCH: 12, train_loss: 0.028924134249488514, valid_loss: 0.018057972980806462\nFOLD: 1, EPOCH: 13, train_loss: 0.028854665644213455, valid_loss: 0.017731459632229347\nFOLD: 1, EPOCH: 14, train_loss: 0.02882633843541551, valid_loss: 0.01775069789101298\nFOLD: 1, EPOCH: 15, train_loss: 0.028703118440042547, valid_loss: 0.01770713932525653\nFOLD: 1, EPOCH: 16, train_loss: 0.028571823497816007, valid_loss: 0.017596455541654274\nFOLD: 1, EPOCH: 17, train_loss: 0.028521413439694717, valid_loss: 0.01762498442370158\nFOLD: 1, EPOCH: 18, train_loss: 0.028408995493739642, valid_loss: 0.01753382979390713\nFOLD: 1, EPOCH: 19, train_loss: 0.02824363120052279, valid_loss: 0.017402700506723844\nFOLD: 1, EPOCH: 20, train_loss: 0.02808045346264531, valid_loss: 0.017440257056687888\nFOLD: 1, EPOCH: 21, train_loss: 0.02789372294431641, valid_loss: 0.01721445847159395\nFOLD: 1, EPOCH: 22, train_loss: 0.027611758559942245, valid_loss: 0.01726440293714404\nFOLD: 1, EPOCH: 23, train_loss: 0.02735158599609015, valid_loss: 0.017223356793133113\nFOLD: 1, EPOCH: 24, train_loss: 0.02704470334764646, valid_loss: 0.01705327361392287\nFOLD: 1, EPOCH: 25, train_loss: 0.02662201047095717, valid_loss: 0.017055586660997227\nFOLD: 1, EPOCH: 26, train_loss: 0.026267778293109265, valid_loss: 0.01698283661300173\nFOLD: 1, EPOCH: 27, train_loss: 0.02594851632760901, valid_loss: 0.017018721188203648\nFOLD: 1, EPOCH: 28, train_loss: 0.025703555657243242, valid_loss: 0.016994538287130687\nFOLD: 1, EPOCH: 29, train_loss: 0.025584388955109786, valid_loss: 0.017008473810095053\nFOLD: 2, EPOCH: 0, train_loss: 1.0950261229095426, valid_loss: 0.03984870091080665\nFOLD: 2, EPOCH: 1, train_loss: 0.039922572445829176, valid_loss: 0.022161137089133264\nFOLD: 2, EPOCH: 2, train_loss: 0.0327404431520483, valid_loss: 0.020499390438199042\nFOLD: 2, EPOCH: 3, train_loss: 0.03128006007220294, valid_loss: 0.019329371899366378\nFOLD: 2, EPOCH: 4, train_loss: 0.029932897714142863, valid_loss: 0.01872156508266926\nFOLD: 2, EPOCH: 5, train_loss: 0.029426390947018925, valid_loss: 0.02200619339942932\nFOLD: 2, EPOCH: 6, train_loss: 0.02938523915017376, valid_loss: 0.0186822696775198\nFOLD: 2, EPOCH: 7, train_loss: 0.02918320131563657, valid_loss: 0.018595139682292938\nFOLD: 2, EPOCH: 8, train_loss: 0.029029380869925826, valid_loss: 0.018742864578962327\nFOLD: 2, EPOCH: 9, train_loss: 0.028922773595597293, valid_loss: 0.018563619628548623\nFOLD: 2, EPOCH: 10, train_loss: 0.02892082913250134, valid_loss: 0.0187288586050272\nFOLD: 2, EPOCH: 11, train_loss: 0.028960225524733197, valid_loss: 0.018475815281271936\nFOLD: 2, EPOCH: 12, train_loss: 0.028888120706117636, valid_loss: 0.018664882108569144\nFOLD: 2, EPOCH: 13, train_loss: 0.028878231784580526, valid_loss: 0.018508061319589614\nFOLD: 2, EPOCH: 14, train_loss: 0.028876031937732083, valid_loss: 0.01847120448946953\nFOLD: 2, EPOCH: 15, train_loss: 0.02877046906615834, valid_loss: 0.018770081698894502\nFOLD: 2, EPOCH: 16, train_loss: 0.02861037860448296, valid_loss: 0.018501326218247415\nFOLD: 2, EPOCH: 17, train_loss: 0.028539170120918268, valid_loss: 0.018164862096309662\nFOLD: 2, EPOCH: 18, train_loss: 0.028413756159008353, valid_loss: 0.01825916700065136\nFOLD: 2, EPOCH: 19, train_loss: 0.02829682020269133, valid_loss: 0.01809614058583975\nFOLD: 2, EPOCH: 20, train_loss: 0.028041835232461627, valid_loss: 0.017938837707042694\nFOLD: 2, EPOCH: 21, train_loss: 0.027857996120646194, valid_loss: 0.01789581809192896\nFOLD: 2, EPOCH: 22, train_loss: 0.02758823545347597, valid_loss: 0.01785991754382849\nFOLD: 2, EPOCH: 23, train_loss: 0.02730768883751856, valid_loss: 0.017808939144015313\nFOLD: 2, EPOCH: 24, train_loss: 0.026955190882388805, valid_loss: 0.017797340601682664\nFOLD: 2, EPOCH: 25, train_loss: 0.02666264962455308, valid_loss: 0.01771683357656002\nFOLD: 2, EPOCH: 26, train_loss: 0.026295323201732057, valid_loss: 0.017658846117556096\nFOLD: 2, EPOCH: 27, train_loss: 0.025934509920409403, valid_loss: 0.017644662857055664\nFOLD: 2, EPOCH: 28, train_loss: 0.02572546458828288, valid_loss: 0.01766765668988228\nFOLD: 2, EPOCH: 29, train_loss: 0.02558144266289231, valid_loss: 0.017677255868911744\nFOLD: 3, EPOCH: 0, train_loss: 1.0961244224893802, valid_loss: 0.04063686430454254\nFOLD: 3, EPOCH: 1, train_loss: 0.039754418947664245, valid_loss: 0.02131275534629822\nFOLD: 3, EPOCH: 2, train_loss: 0.03371887518485792, valid_loss: 0.020094722658395767\nFOLD: 3, EPOCH: 3, train_loss: 0.030741394085644864, valid_loss: 0.018547869473695754\nFOLD: 3, EPOCH: 4, train_loss: 0.03022550488663774, valid_loss: 0.018328492417931556\nFOLD: 3, EPOCH: 5, train_loss: 0.029569227159732862, valid_loss: 0.01802474483847618\nFOLD: 3, EPOCH: 6, train_loss: 0.029413443122084448, valid_loss: 0.01822444684803486\nFOLD: 3, EPOCH: 7, train_loss: 0.029103234866443946, valid_loss: 0.017888223454356193\nFOLD: 3, EPOCH: 8, train_loss: 0.029116744644382374, valid_loss: 0.018038975223898888\nFOLD: 3, EPOCH: 9, train_loss: 0.029051643853284875, valid_loss: 0.018183297887444497\nFOLD: 3, EPOCH: 10, train_loss: 0.029035145771645364, valid_loss: 0.018044858127832412\nFOLD: 3, EPOCH: 11, train_loss: 0.028960074785919415, valid_loss: 0.01764663718640804\nFOLD: 3, EPOCH: 12, train_loss: 0.028902531151666123, valid_loss: 0.018054947927594184\nFOLD: 3, EPOCH: 13, train_loss: 0.028968153204642185, valid_loss: 0.01809262879192829\nFOLD: 3, EPOCH: 14, train_loss: 0.028878688558834752, valid_loss: 0.017741235420107842\nFOLD: 3, EPOCH: 15, train_loss: 0.028817279200975588, valid_loss: 0.017813539654016494\nFOLD: 3, EPOCH: 16, train_loss: 0.028738504997929747, valid_loss: 0.01767135925590992\nFOLD: 3, EPOCH: 17, train_loss: 0.028646880874828418, valid_loss: 0.01750653304159641\nFOLD: 3, EPOCH: 18, train_loss: 0.02849482785479552, valid_loss: 0.017413578145205975\nFOLD: 3, EPOCH: 19, train_loss: 0.028312250680359852, valid_loss: 0.01724556811153889\nFOLD: 3, EPOCH: 20, train_loss: 0.028109897270190472, valid_loss: 0.017184302471578122\nFOLD: 3, EPOCH: 21, train_loss: 0.02792911388638879, valid_loss: 0.017140434086322785\nFOLD: 3, EPOCH: 22, train_loss: 0.027743015742423584, valid_loss: 0.01709675882011652\nFOLD: 3, EPOCH: 23, train_loss: 0.027388008488785653, valid_loss: 0.016904612258076667\nFOLD: 3, EPOCH: 24, train_loss: 0.027076029554516278, valid_loss: 0.016879217065870762\nFOLD: 3, EPOCH: 25, train_loss: 0.026716212482273984, valid_loss: 0.0167804292216897\nFOLD: 3, EPOCH: 26, train_loss: 0.02633637165790107, valid_loss: 0.016725644655525684\nFOLD: 3, EPOCH: 27, train_loss: 0.0259794290272557, valid_loss: 0.016694004945456982\nFOLD: 3, EPOCH: 28, train_loss: 0.02574765810198119, valid_loss: 0.016636997535824774\nFOLD: 3, EPOCH: 29, train_loss: 0.025600103509365296, valid_loss: 0.016656688824296\nFOLD: 4, EPOCH: 0, train_loss: 1.096212920959334, valid_loss: 0.04094050332903862\nFOLD: 4, EPOCH: 1, train_loss: 0.03997935397500122, valid_loss: 0.02190918877720833\nFOLD: 4, EPOCH: 2, train_loss: 0.03341742937226553, valid_loss: 0.020484414771199225\nFOLD: 4, EPOCH: 3, train_loss: 0.030738662575950492, valid_loss: 0.018778705336153508\nFOLD: 4, EPOCH: 4, train_loss: 0.029889316876997817, valid_loss: 0.018857474029064177\nFOLD: 4, EPOCH: 5, train_loss: 0.02937165053712355, valid_loss: 0.018288164772093295\nFOLD: 4, EPOCH: 6, train_loss: 0.029429889246317988, valid_loss: 0.01838762853294611\nFOLD: 4, EPOCH: 7, train_loss: 0.029091619131331507, valid_loss: 0.01832735911011696\nFOLD: 4, EPOCH: 8, train_loss: 0.02896895385473161, valid_loss: 0.018514074869453907\nFOLD: 4, EPOCH: 9, train_loss: 0.028983866783312044, valid_loss: 0.018484035804867745\nFOLD: 4, EPOCH: 10, train_loss: 0.02880165373554101, valid_loss: 0.01847773339599371\nFOLD: 4, EPOCH: 11, train_loss: 0.028964551606190367, valid_loss: 0.018349621966481208\nFOLD: 4, EPOCH: 12, train_loss: 0.028820826709773893, valid_loss: 0.018250811845064163\nFOLD: 4, EPOCH: 13, train_loss: 0.02881237303183691, valid_loss: 0.018135268576443195\nFOLD: 4, EPOCH: 14, train_loss: 0.028824514281508083, valid_loss: 0.018018219470977783\nFOLD: 4, EPOCH: 15, train_loss: 0.028645096422248596, valid_loss: 0.01799464341253042\nFOLD: 4, EPOCH: 16, train_loss: 0.028615315709061718, valid_loss: 0.017823988012969492\nFOLD: 4, EPOCH: 17, train_loss: 0.028527019457337825, valid_loss: 0.017888934053480625\nFOLD: 4, EPOCH: 18, train_loss: 0.028338182516194677, valid_loss: 0.01826247274875641\nFOLD: 4, EPOCH: 19, train_loss: 0.028246164133117813, valid_loss: 0.018057318702340126\nFOLD: 4, EPOCH: 20, train_loss: 0.027982112636940705, valid_loss: 0.017733435295522213\nFOLD: 4, EPOCH: 21, train_loss: 0.027818065526819712, valid_loss: 0.01756538838148117\nFOLD: 4, EPOCH: 22, train_loss: 0.027598299853805755, valid_loss: 0.01747333075851202\nFOLD: 4, EPOCH: 23, train_loss: 0.027240092979391683, valid_loss: 0.017538458704948426\nFOLD: 4, EPOCH: 24, train_loss: 0.027017055708612944, valid_loss: 0.017506762631237505\nFOLD: 4, EPOCH: 25, train_loss: 0.02660951207115038, valid_loss: 0.01739550493657589\nFOLD: 4, EPOCH: 26, train_loss: 0.02622026961447822, valid_loss: 0.017312394306063652\nFOLD: 4, EPOCH: 27, train_loss: 0.02589901809807162, valid_loss: 0.017324621006846428\nFOLD: 4, EPOCH: 28, train_loss: 0.02567467385449925, valid_loss: 0.017301882281899453\nFOLD: 4, EPOCH: 29, train_loss: 0.025594291377913306, valid_loss: 0.017331305928528308\nFOLD: 5, EPOCH: 0, train_loss: 1.0978977891559503, valid_loss: 0.04164258405566215\nFOLD: 5, EPOCH: 1, train_loss: 0.03944458047143456, valid_loss: 0.02247160568833351\nFOLD: 5, EPOCH: 2, train_loss: 0.03328349688375483, valid_loss: 0.02085348404943943\nFOLD: 5, EPOCH: 3, train_loss: 0.031048348312880718, valid_loss: 0.019292616322636603\nFOLD: 5, EPOCH: 4, train_loss: 0.02991374990060216, valid_loss: 0.019227409213781358\nFOLD: 5, EPOCH: 5, train_loss: 0.02951756820437454, valid_loss: 0.018880166485905646\nFOLD: 5, EPOCH: 6, train_loss: 0.02929304396974392, valid_loss: 0.01852246165275574\nFOLD: 5, EPOCH: 7, train_loss: 0.02901557583336522, valid_loss: 0.018493718653917312\nFOLD: 5, EPOCH: 8, train_loss: 0.029042775102821338, valid_loss: 0.018453054428100586\nFOLD: 5, EPOCH: 9, train_loss: 0.028970113999786832, valid_loss: 0.018640044778585434\nFOLD: 5, EPOCH: 10, train_loss: 0.02884930294944721, valid_loss: 0.018308297395706177\nFOLD: 5, EPOCH: 11, train_loss: 0.02892350951577125, valid_loss: 0.01841497056186199\nFOLD: 5, EPOCH: 12, train_loss: 0.02891641113983125, valid_loss: 0.018484572917222976\nFOLD: 5, EPOCH: 13, train_loss: 0.028801992231485794, valid_loss: 0.01838096272200346\nFOLD: 5, EPOCH: 14, train_loss: 0.028752384694660602, valid_loss: 0.018634354174137117\nFOLD: 5, EPOCH: 15, train_loss: 0.02872674160820692, valid_loss: 0.018609021306037903\nFOLD: 5, EPOCH: 16, train_loss: 0.02867157263111095, valid_loss: 0.018476475439965726\nFOLD: 5, EPOCH: 17, train_loss: 0.028461443158943635, valid_loss: 0.018152530677616595\nFOLD: 5, EPOCH: 18, train_loss: 0.02841479503581313, valid_loss: 0.018144075684249403\nFOLD: 5, EPOCH: 19, train_loss: 0.028176175835890833, valid_loss: 0.018030327297747135\nFOLD: 5, EPOCH: 20, train_loss: 0.02803257193897857, valid_loss: 0.01784751534461975\nFOLD: 5, EPOCH: 21, train_loss: 0.02784095314287004, valid_loss: 0.018116908222436903\nFOLD: 5, EPOCH: 22, train_loss: 0.027618452539147974, valid_loss: 0.017718384340405464\nFOLD: 5, EPOCH: 23, train_loss: 0.027301463507572, valid_loss: 0.017746785022318363\nFOLD: 5, EPOCH: 24, train_loss: 0.026975528204015324, valid_loss: 0.017619138062000276\nFOLD: 5, EPOCH: 25, train_loss: 0.02663455014022029, valid_loss: 0.017590716071426867\nFOLD: 5, EPOCH: 26, train_loss: 0.026234197753424546, valid_loss: 0.01751383125782013\nFOLD: 5, EPOCH: 27, train_loss: 0.025952897345026333, valid_loss: 0.017554543800652026\nFOLD: 5, EPOCH: 28, train_loss: 0.025679090497445087, valid_loss: 0.01759484726935625\nFOLD: 5, EPOCH: 29, train_loss: 0.025588583758696406, valid_loss: 0.017558591477572917\nFOLD: 6, EPOCH: 0, train_loss: 1.0968500233783915, valid_loss: 0.03997679203748703\nFOLD: 6, EPOCH: 1, train_loss: 0.03952137142973575, valid_loss: 0.021165422797203064\nFOLD: 6, EPOCH: 2, train_loss: 0.032849218167767334, valid_loss: 0.019534137435257434\nFOLD: 6, EPOCH: 3, train_loss: 0.030822941051745736, valid_loss: 0.018029765374958515\nFOLD: 6, EPOCH: 4, train_loss: 0.03007155962640772, valid_loss: 0.018093246147036553\nFOLD: 6, EPOCH: 5, train_loss: 0.029713260978963728, valid_loss: 0.017611755654215813\nFOLD: 6, EPOCH: 6, train_loss: 0.029438021529868647, valid_loss: 0.017682761959731577\nFOLD: 6, EPOCH: 7, train_loss: 0.02914847877833086, valid_loss: 0.01749042436480522\nFOLD: 6, EPOCH: 8, train_loss: 0.029078357613872032, valid_loss: 0.01779880415648222\nFOLD: 6, EPOCH: 9, train_loss: 0.029078520431711868, valid_loss: 0.01748633462935686\nFOLD: 6, EPOCH: 10, train_loss: 0.02903214344956182, valid_loss: 0.01788901921361685\nFOLD: 6, EPOCH: 11, train_loss: 0.02896986106360281, valid_loss: 0.01746797751635313\nFOLD: 6, EPOCH: 12, train_loss: 0.02896061947418226, valid_loss: 0.017480955012142658\nFOLD: 6, EPOCH: 13, train_loss: 0.029004699361787456, valid_loss: 0.017736159488558768\nFOLD: 6, EPOCH: 14, train_loss: 0.028859541499735537, valid_loss: 0.017472887709736824\nFOLD: 6, EPOCH: 15, train_loss: 0.028803717609293556, valid_loss: 0.017112123519182204\nFOLD: 6, EPOCH: 16, train_loss: 0.028709280027731043, valid_loss: 0.017582749277353288\nFOLD: 6, EPOCH: 17, train_loss: 0.028618473043614947, valid_loss: 0.017197728045284747\nFOLD: 6, EPOCH: 18, train_loss: 0.028476539218949305, valid_loss: 0.01742708567529917\nFOLD: 6, EPOCH: 19, train_loss: 0.028309535612729756, valid_loss: 0.017098069973289966\nFOLD: 6, EPOCH: 20, train_loss: 0.02819545309034151, valid_loss: 0.017093774676322938\nFOLD: 6, EPOCH: 21, train_loss: 0.027973699635146437, valid_loss: 0.016898259595036505\nFOLD: 6, EPOCH: 22, train_loss: 0.027729646088807163, valid_loss: 0.01675920221954584\nFOLD: 6, EPOCH: 23, train_loss: 0.027418382893744354, valid_loss: 0.016726824305951595\nFOLD: 6, EPOCH: 24, train_loss: 0.02712426254072705, valid_loss: 0.01661079838871956\nFOLD: 6, EPOCH: 25, train_loss: 0.026716540378795284, valid_loss: 0.01661715090274811\nFOLD: 6, EPOCH: 26, train_loss: 0.026372251692353875, valid_loss: 0.01653893642127514\nFOLD: 6, EPOCH: 27, train_loss: 0.026069256477057934, valid_loss: 0.01654434397816658\nFOLD: 6, EPOCH: 28, train_loss: 0.025803242180798505, valid_loss: 0.01652674429118633\nFOLD: 6, EPOCH: 29, train_loss: 0.025718104849393304, valid_loss: 0.01656243946403265\n"
    }
   ],
   "source": [
    "# Averaging on multiple SEEDS\n",
    "\n",
    "#SEED = [0,1,2,3,4,5,6] #<-- Update\n",
    "SEED = [0]\n",
    "oof = np.zeros((len(train), len(target_scored_cols)))\n",
    "predictions_scored = np.zeros((len(test), len(target_scored_cols)))\n",
    "predictions_nscored = np.zeros((len(test), len(target_nscored_cols)))\n",
    "\n",
    "\n",
    "\n",
    "# mean_scored = np.mean(train[target_scored_cols].values,axis=0)\n",
    "# mean_nscored = np.mean(train[target_nscored_cols].values,axis=0)\n",
    "# pos_scored_rate = np.log(np.where(mean_scored==0, 1e-8, mean_scored))\n",
    "# pos_nscored_rate = np.log(np.where(mean_nscored==0, 1e-8, mean_nscored))\n",
    "\n",
    "for seed in SEED:\n",
    "    \n",
    "    oof_, predictions_scored_, predictions_nscored_ = run_k_fold(NFOLDS, seed)\n",
    "    oof += oof_ / len(SEED)\n",
    "    predictions_scored += predictions_scored_ / len(SEED)\n",
    "    predictions_nscored += predictions_nscored_ / len(SEED)\n",
    "\n",
    "train[target_scored_cols] = oof\n",
    "test[target_scored_cols] = predictions_scored\n",
    "test[target_nscored_cols] = predictions_nscored"
   ]
  },
  {
   "cell_type": "code",
   "execution_count": 42,
   "metadata": {
    "tags": []
   },
   "outputs": [
    {
     "output_type": "stream",
     "name": "stdout",
     "text": "CV log_loss:  0.017094430145986755\n"
    }
   ],
   "source": [
    "valid_results = train_targets_scored.drop(columns=target_scored_cols).merge(train[['sig_id']+target_scored_cols], on='sig_id', how='left').fillna(0)\n",
    "\n",
    "\n",
    "y_true = train_targets_scored[target_scored_cols].values\n",
    "y_pred = valid_results[target_scored_cols].values\n",
    "\n",
    "score = 0\n",
    "for i in range(len(target_scored_cols)):\n",
    "    score_ = log_loss(y_true[:, i], y_pred[:, i])\n",
    "    score += score_ / target_scored.shape[1]\n",
    "    \n",
    "print(\"CV log_loss: \", score)"
   ]
  },
  {
   "cell_type": "code",
   "execution_count": 43,
   "metadata": {
    "tags": []
   },
   "outputs": [
    {
     "output_type": "stream",
     "name": "stdout",
     "text": "0.6293722029589714\n"
    }
   ],
   "source": [
    "from sklearn.metrics import roc_auc_score\n",
    "print(roc_auc_score(y_true,y_pred))"
   ]
  },
  {
   "cell_type": "code",
   "execution_count": 44,
   "metadata": {},
   "outputs": [],
   "source": [
    "#CV log_loss:  0.017136455650438566 - 0.627352603013875\n",
    "#epoch 25 -> 30 CV log_loss:  0.017104985656032305 - 0.6257842630723663\n",
    "#hidden_sizes = [1200,1000,1000] - CV log_loss:  0.017094430145986755 - 0.6293722029589714"
   ]
  },
  {
   "cell_type": "code",
   "execution_count": 45,
   "metadata": {},
   "outputs": [],
   "source": [
    "#CV log_loss:  0.01581084415093409 - 0.6577416457301863"
   ]
  },
  {
   "cell_type": "code",
   "execution_count": 51,
   "metadata": {},
   "outputs": [],
   "source": [
    "oof_csv = train_features[[\"sig_id\"]].merge(train[train_targets_scored.columns], on='sig_id', how='inner')\n",
    "oof_csv.to_csv(\"model_1_oof.csv\",index=False)"
   ]
  },
  {
   "cell_type": "code",
   "execution_count": 52,
   "metadata": {},
   "outputs": [],
   "source": [
    "sub = sample_submission[[\"sig_id\"]].merge(test[train_targets_scored.columns], on='sig_id', how='left').fillna(0)\n",
    "sub.to_csv('submission_model1.csv', index=False)"
   ]
  },
  {
   "cell_type": "code",
   "execution_count": 53,
   "metadata": {},
   "outputs": [],
   "source": [
    "sub_nscored = sample_submission[[\"sig_id\"]].merge(test[train_targets_nonscored.columns], on='sig_id', how='left').fillna(0)\n",
    "sub_nscored.to_csv('sub_nscored_mdl1.csv', index=False)"
   ]
  },
  {
   "cell_type": "code",
   "execution_count": null,
   "metadata": {},
   "outputs": [],
   "source": []
  }
 ]
}