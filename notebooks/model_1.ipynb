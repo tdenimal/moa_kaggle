{
 "metadata": {
  "language_info": {
   "codemirror_mode": {
    "name": "ipython",
    "version": 3
   },
   "file_extension": ".py",
   "mimetype": "text/x-python",
   "name": "python",
   "nbconvert_exporter": "python",
   "pygments_lexer": "ipython3",
   "version": "3.7.9-final"
  },
  "orig_nbformat": 2,
  "kernelspec": {
   "name": "python_defaultSpec_1604785665205",
   "display_name": "Python 3.7.9 64-bit ('moa_kaggle': conda)"
  }
 },
 "nbformat": 4,
 "nbformat_minor": 2,
 "cells": [
  {
   "cell_type": "code",
   "execution_count": 48,
   "metadata": {},
   "outputs": [],
   "source": [
    "import numpy as np\n",
    "import random\n",
    "import pandas as pd\n",
    "import matplotlib.pyplot as plt\n",
    "import os\n",
    "import copy\n",
    "import seaborn as sns\n",
    "\n",
    "from iterstrat.ml_stratifiers import MultilabelStratifiedKFold\n",
    "\n",
    "\n",
    "\n",
    "from sklearn import preprocessing\n",
    "from sklearn.metrics import log_loss\n",
    "from sklearn.preprocessing import StandardScaler\n",
    "from sklearn.decomposition import PCA\n",
    "\n",
    "import torch\n",
    "import torch.nn as nn\n",
    "import torch.nn.functional as F\n",
    "import torch.optim as optim\n",
    "\n",
    "import warnings\n",
    "warnings.filterwarnings('ignore')"
   ]
  },
  {
   "cell_type": "code",
   "execution_count": 49,
   "metadata": {},
   "outputs": [],
   "source": [
    "# import faiss\n",
    "# import numpy as np\n",
    "\n",
    "\n",
    "# class FaissKMeans:\n",
    "#     def __init__(self, n_clusters=8, n_init=10, max_iter=300,seed=42):\n",
    "#         self.n_clusters = n_clusters\n",
    "#         self.n_init = n_init\n",
    "#         self.max_iter = max_iter\n",
    "#         self.kmeans = None\n",
    "#         self.cluster_centers_ = None\n",
    "#         self.inertia_ = None\n",
    "#         self.seed = seed\n",
    "\n",
    "#     def fit(self, X):\n",
    "#         self.kmeans = faiss.Kmeans(d=X.shape[1],\n",
    "#                                    k=self.n_clusters,\n",
    "#                                    niter=self.max_iter,\n",
    "#                                    nredo=self.n_init,\n",
    "#                                    seed=self.seed)\n",
    "\n",
    "#         self.kmeans.train(X.astype(np.float32))\n",
    "#         self.cluster_centers_ = self.kmeans.centroids\n",
    "#         self.inertia_ = self.kmeans.obj[-1]\n",
    "\n",
    "#     def predict(self, X):\n",
    "#         return self.kmeans.index.search(X.astype(np.float32), 1)[1]"
   ]
  },
  {
   "cell_type": "code",
   "execution_count": 50,
   "metadata": {},
   "outputs": [],
   "source": [
    "from sklearn.preprocessing import QuantileTransformer"
   ]
  },
  {
   "cell_type": "code",
   "execution_count": 51,
   "metadata": {},
   "outputs": [
    {
     "output_type": "execute_result",
     "data": {
      "text/plain": "['train_targets_scored.csv',\n 'sample_submission.csv',\n '.gitkeep',\n 'train_drug.csv',\n 'train_features.csv',\n 'test_features.csv',\n 'train_targets_nonscored.csv']"
     },
     "metadata": {},
     "execution_count": 51
    }
   ],
   "source": [
    "\n",
    "data_dir = '../data/01_raw'\n",
    "os.listdir(data_dir)"
   ]
  },
  {
   "cell_type": "code",
   "execution_count": 52,
   "metadata": {},
   "outputs": [],
   "source": [
    "# Parameters\n",
    "no_ctl = True\n",
    "ncompo_genes = 600\n",
    "ncompo_cells = 50"
   ]
  },
  {
   "cell_type": "code",
   "execution_count": 53,
   "metadata": {},
   "outputs": [],
   "source": [
    "train_features = pd.read_csv(data_dir+'/train_features.csv')\n",
    "train_targets_scored = pd.read_csv(data_dir+'/train_targets_scored.csv')\n",
    "train_targets_nonscored = pd.read_csv(data_dir+'/train_targets_nonscored.csv')\n",
    "\n",
    "test_features = pd.read_csv(data_dir+'/test_features.csv')\n",
    "sample_submission = pd.read_csv(data_dir+'/sample_submission.csv')\n",
    "drug = pd.read_csv(data_dir+'/train_drug.csv')"
   ]
  },
  {
   "cell_type": "code",
   "execution_count": 54,
   "metadata": {},
   "outputs": [],
   "source": [
    "targets_scored = train_targets_scored.columns[1:]\n",
    "scored = train_targets_scored.merge(drug, on='sig_id', how='left') "
   ]
  },
  {
   "cell_type": "code",
   "execution_count": 55,
   "metadata": {
    "tags": []
   },
   "outputs": [
    {
     "output_type": "stream",
     "name": "stdout",
     "text": "not_ctl\n"
    }
   ],
   "source": [
    "if no_ctl:\n",
    "    # cp_type == ctl_vehicle\n",
    "    print(\"not_ctl\")\n",
    "    train_features = train_features[train_features[\"cp_type\"] != \"ctl_vehicle\"].reset_index(drop=True)\n",
    "    test_features = test_features[test_features[\"cp_type\"] != \"ctl_vehicle\"].reset_index(drop=True)\n",
    "    train_targets_scored = train_targets_scored.iloc[train_features.index]\n",
    "    train_targets_nonscored = train_targets_nonscored.iloc[train_features.index]\n",
    "    train_features.reset_index(drop = True, inplace = True)\n",
    "    train_features.reset_index(drop = True, inplace = True)\n",
    "    train_targets_scored.reset_index(drop = True, inplace = True)\n",
    "    train_targets_nonscored.reset_index(drop = True, inplace = True)"
   ]
  },
  {
   "cell_type": "code",
   "execution_count": 56,
   "metadata": {},
   "outputs": [],
   "source": [
    "# #Indiquer si valeur dans le range max, min\n",
    "\n",
    "# import seaborn as sns\n",
    "# data = pd.concat([train_features,test_features],axis=0)\n",
    "\n",
    "# sns.distplot(data[data[\"cp_type\"] == \"ctl_vehicle\"][\"c-4\"],label=\"normal\")\n",
    "\n",
    "# sns.distplot(data[data[\"cp_type\"] == \"trt_cp\"][\"c-4\"],label=\"treated\")\n",
    "# plt.legend()\n",
    "# plt.show()"
   ]
  },
  {
   "cell_type": "code",
   "execution_count": 57,
   "metadata": {},
   "outputs": [],
   "source": [
    "# sum_targets = train_targets_scored[[c for c in train_targets_scored.columns if (c != \"sig_id\")]].sum().reset_index()"
   ]
  },
  {
   "cell_type": "code",
   "execution_count": 58,
   "metadata": {},
   "outputs": [],
   "source": [
    "# sum_targets[\"index\"] = sum_targets[\"index\"].apply(lambda x : x.replace(\"_inhibitor\",\"\"))\n",
    "# sum_targets[\"index\"] = sum_targets[\"index\"].apply(lambda x : x.replace(\"_activator\",\"\"))\n",
    "# sum_targets[\"index\"] = sum_targets[\"index\"].apply(lambda x : x.replace(\"_agonist\",\"\"))\n",
    "# sum_targets[\"index\"] = sum_targets[\"index\"].apply(lambda x : x.replace(\"_antagonist\",\"\"))"
   ]
  },
  {
   "cell_type": "code",
   "execution_count": 59,
   "metadata": {},
   "outputs": [],
   "source": [
    "GENES = [col for col in train_features.columns if col.startswith('g-')]\n",
    "CELLS = [col for col in train_features.columns if col.startswith('c-')]"
   ]
  },
  {
   "cell_type": "code",
   "execution_count": 60,
   "metadata": {},
   "outputs": [],
   "source": [
    "# from scipy import stats\n",
    "\n",
    "# train_features[GENES].apply(lambda x : stats.moment(x,moment=5),axis=1)"
   ]
  },
  {
   "cell_type": "code",
   "execution_count": 61,
   "metadata": {},
   "outputs": [],
   "source": [
    "seed=42\n",
    "\n",
    "def seed_everything(seed=42):\n",
    "    random.seed(seed)\n",
    "    os.environ['PYTHONHASHSEED'] = str(seed)\n",
    "    np.random.seed(seed)\n",
    "    torch.manual_seed(seed)\n",
    "    torch.cuda.manual_seed(seed)\n",
    "    torch.backends.cudnn.deterministic = True\n",
    "    \n",
    "seed_everything(seed)"
   ]
  },
  {
   "cell_type": "code",
   "execution_count": 62,
   "metadata": {},
   "outputs": [],
   "source": [
    "#RankGauss\n",
    "\n",
    "for col in (GENES + CELLS):\n",
    "    transformer = QuantileTransformer(n_quantiles=100,random_state=seed, output_distribution=\"normal\")\n",
    "    vec_len = len(train_features[col].values)\n",
    "    vec_len_test = len(test_features[col].values)\n",
    "    raw_vec = train_features[col].values.reshape(vec_len, 1)\n",
    "    transformer.fit(raw_vec)\n",
    "\n",
    "    train_features[col] = transformer.transform(raw_vec).reshape(1, vec_len)[0]\n",
    "    test_features[col] = transformer.transform(test_features[col].values.reshape(vec_len_test, 1)).reshape(1, vec_len_test)[0]"
   ]
  },
  {
   "cell_type": "code",
   "execution_count": 63,
   "metadata": {},
   "outputs": [],
   "source": [
    "# GENES\n",
    "n_comp = ncompo_genes \n",
    "\n",
    "data = pd.concat([pd.DataFrame(train_features[GENES]), pd.DataFrame(test_features[GENES])])\n",
    "data2 = (PCA(n_components=n_comp, random_state=42).fit_transform(data[GENES]))\n",
    "train2 = data2[:train_features.shape[0]]; test2 = data2[-test_features.shape[0]:]\n",
    "\n",
    "train2 = pd.DataFrame(train2, columns=[f'pca_G-{i}' for i in range(n_comp)])\n",
    "test2 = pd.DataFrame(test2, columns=[f'pca_G-{i}' for i in range(n_comp)])\n",
    "\n",
    "# drop_cols = [f'c-{i}' for i in range(n_comp,len(GENES))]\n",
    "train_features = pd.concat((train_features, train2), axis=1)\n",
    "test_features = pd.concat((test_features, test2), axis=1)"
   ]
  },
  {
   "cell_type": "code",
   "execution_count": 64,
   "metadata": {},
   "outputs": [],
   "source": [
    "#CELLS\n",
    "n_comp = ncompo_cells\n",
    "\n",
    "data = pd.concat([pd.DataFrame(train_features[CELLS]), pd.DataFrame(test_features[CELLS])])\n",
    "data2 = (PCA(n_components=n_comp, random_state=42).fit_transform(data[CELLS]))\n",
    "train2 = data2[:train_features.shape[0]]; test2 = data2[-test_features.shape[0]:]\n",
    "\n",
    "train2 = pd.DataFrame(train2, columns=[f'pca_C-{i}' for i in range(n_comp)])\n",
    "test2 = pd.DataFrame(test2, columns=[f'pca_C-{i}' for i in range(n_comp)])\n",
    "\n",
    "# drop_cols = [f'c-{i}' for i in range(n_comp,len(CELLS))]\n",
    "train_features = pd.concat((train_features, train2), axis=1)\n",
    "test_features = pd.concat((test_features, test2), axis=1)"
   ]
  },
  {
   "cell_type": "code",
   "execution_count": 65,
   "metadata": {},
   "outputs": [
    {
     "output_type": "execute_result",
     "data": {
      "text/plain": "(21948, 1526)"
     },
     "metadata": {},
     "execution_count": 65
    }
   ],
   "source": [
    "train_features.shape"
   ]
  },
  {
   "cell_type": "code",
   "execution_count": 66,
   "metadata": {},
   "outputs": [],
   "source": [
    "from scipy import stats\n",
    "\n",
    "def fe_stats(train, test):\n",
    "    \n",
    "    features_g = GENES\n",
    "    features_c = CELLS\n",
    "    \n",
    "    for df in train, test:\n",
    "        df['g_sum'] = df[features_g].sum(axis = 1) ## <==\n",
    "        # df['g_mean'] = df[features_g].mean(axis = 1)\n",
    "        df['g_std'] = df[features_g].std(axis = 1) ## <==\n",
    "        # df['g_kurt'] = df[features_g].kurtosis(axis = 1)\n",
    "        #df['g_skew'] = df[features_g].skew(axis = 1)\n",
    "        # df['g_q25'] = df[features_g].quantile(q=.25,axis = 1)\n",
    "        # df['g_q50'] = df[features_g].quantile(q=.5,axis = 1)\n",
    "        # df['g_q75'] = df[features_g].quantile(q=.75,axis = 1)\n",
    "        #df['g_var'] = df[features_g].apply(axis=1,func=stats.variation)\n",
    "        # df['g_mad'] = df[features_g].mad(axis = 1)\n",
    "\n",
    "\n",
    "        df['c_sum'] = df[features_c].sum(axis = 1) ## <==\n",
    "        # df['c_mean'] = df[features_c].mean(axis = 1)\n",
    "        df['c_std'] = df[features_c].std(axis = 1) ## <==\n",
    "        # df['c_kurt'] = df[features_c].kurtosis(axis = 1)\n",
    "        #df['c_skew'] = df[features_c].skew(axis = 1)\n",
    "        # df['c_q25'] = df[features_c].quantile(q=.25,axis = 1)\n",
    "        # df['c_q50'] = df[features_c].quantile(q=.5,axis = 1)\n",
    "        # df['c_q75'] = df[features_c].quantile(q=.75,axis = 1)\n",
    "        # df['c_var'] = df[features_c].apply(axis=1,func=stats.variation)\n",
    "        # df['c_mad'] = df[features_c].mad(axis = 1)\n",
    "\n",
    "\n",
    "\n",
    "        df['gc_sum'] = df[features_g + features_c].sum(axis = 1) ## <==\n",
    "        # df['gc_mean'] = df[features_g + features_c].mean(axis = 1)\n",
    "        # df['gc_std'] = df[features_g + features_c].std(axis = 1)\n",
    "        # df['gc_kurt'] = df[features_g + features_c].kurtosis(axis = 1)\n",
    "        # df['gc_skew'] = df[features_g + features_c].skew(axis = 1)\n",
    "        # df['gc_q25'] = df[features_g + features_c].quantile(q=.25,axis = 1)\n",
    "        # df['gc_q50'] = df[features_g + features_c].quantile(q=.5,axis = 1)\n",
    "        # df['gc_q75'] = df[features_g + features_c].quantile(q=.75,axis = 1)\n",
    "        # df['gc_var'] = df[features_g + features_c].apply(axis=1,func=stats.variation)\n",
    "        # df['gc_mad'] = df[features_g + features_c].mad(axis = 1)\n",
    "\n",
    "\n",
    "        \n",
    "    return train, test\n",
    "\n",
    "train_features,test_features=fe_stats(train_features,test_features)"
   ]
  },
  {
   "cell_type": "code",
   "execution_count": 67,
   "metadata": {},
   "outputs": [],
   "source": [
    "# train_features_gc = train_features[[\"sig_id\"]+GENES+CELLS].copy()\n",
    "# test_features_gc = test_features[[\"sig_id\"]+GENES+CELLS].copy()"
   ]
  },
  {
   "cell_type": "code",
   "execution_count": 68,
   "metadata": {},
   "outputs": [
    {
     "output_type": "execute_result",
     "data": {
      "text/plain": "(21948, 1047)"
     },
     "metadata": {},
     "execution_count": 68
    }
   ],
   "source": [
    "from sklearn.feature_selection import VarianceThreshold\n",
    "\n",
    "\n",
    "var_thresh = VarianceThreshold(0.8)  #<-- Update\n",
    "data = train_features.append(test_features)\n",
    "data_transformed = var_thresh.fit_transform(data.iloc[:, 4:])\n",
    "\n",
    "train_features_transformed = data_transformed[ : train_features.shape[0]]\n",
    "test_features_transformed = data_transformed[-test_features.shape[0] : ]\n",
    "\n",
    "\n",
    "train_features = pd.DataFrame(train_features[['sig_id','cp_type','cp_time','cp_dose']].values.reshape(-1, 4),\\\n",
    "                              columns=['sig_id','cp_type','cp_time','cp_dose'])\n",
    "\n",
    "train_features = pd.concat([train_features, pd.DataFrame(train_features_transformed)], axis=1)\n",
    "\n",
    "\n",
    "test_features = pd.DataFrame(test_features[['sig_id','cp_type','cp_time','cp_dose']].values.reshape(-1, 4),\\\n",
    "                             columns=['sig_id','cp_type','cp_time','cp_dose'])\n",
    "\n",
    "test_features = pd.concat([test_features, pd.DataFrame(test_features_transformed)], axis=1)\n",
    "\n",
    "train_features.shape"
   ]
  },
  {
   "cell_type": "code",
   "execution_count": 69,
   "metadata": {},
   "outputs": [],
   "source": [
    "# from sklearn.cluster import KMeans\n",
    "# def fe_cluster2(train, test, n_clusters = 3, SEED = 42):\n",
    "    \n",
    "\n",
    "#     def create_cluster(train, test, n_clusters = n_clusters):\n",
    "#         train_ = train.copy()\n",
    "#         test_ = test.copy()\n",
    "#         data = pd.concat([train_, test_], axis = 0)\n",
    "#         kmeans = KMeans(n_clusters = n_clusters, random_state = SEED).fit(data[[c for c in data.columns if c not in [\"sig_id\",\"cp_type\",\"cp_dose\",\"cp_time\"]]])\n",
    "#         train['cluster'] = kmeans.labels_[:train.shape[0]]\n",
    "#         test['cluster'] = kmeans.labels_[train.shape[0]:]\n",
    "#         train = pd.get_dummies(train, columns = ['cluster'])\n",
    "#         test = pd.get_dummies(test, columns = ['cluster'])\n",
    "#         return train, test\n",
    "    \n",
    "#     train, test = create_cluster(train, test, n_clusters = n_clusters)\n",
    "#     return train, test\n",
    "\n",
    "\n",
    "\n",
    "# train_features,test_features=fe_cluster2(train_features,test_features)\n",
    "\n"
   ]
  },
  {
   "cell_type": "code",
   "execution_count": 70,
   "metadata": {},
   "outputs": [],
   "source": [
    "# data = pd.concat([train1, test1], axis = 0)\n",
    "\n",
    "# distortion = []\n",
    "# for k in range(1,10):\n",
    "#     kmeans = KMeans(n_clusters = k, random_state = 42).fit(data)\n",
    "#     distortion += [kmeans.inertia_]\n"
   ]
  },
  {
   "cell_type": "code",
   "execution_count": 71,
   "metadata": {},
   "outputs": [],
   "source": [
    "# plt.plot(range(1,10),distortion)"
   ]
  },
  {
   "cell_type": "code",
   "execution_count": 72,
   "metadata": {},
   "outputs": [],
   "source": [
    "# train_features = train_features.merge(train_features_gc.loc[:,[col for col in train_features_gc.columns if col not in GENES+CELLS]],on=\"sig_id\")\n",
    "# test_features = test_features.merge(test_features_gc.loc[:,[col for col in test_features_gc.columns if col not in GENES+CELLS]],on=\"sig_id\")"
   ]
  },
  {
   "cell_type": "code",
   "execution_count": 73,
   "metadata": {},
   "outputs": [],
   "source": [
    "train = train_features.merge(train_targets_scored, on='sig_id')\n",
    "train = train.merge(train_targets_nonscored, on='sig_id')\n",
    "# train = train[train['cp_type']!='ctl_vehicle'].reset_index(drop=True)\n",
    "# test = test_features[test_features['cp_type']!='ctl_vehicle'].reset_index(drop=True)\n",
    "\n",
    "target_scored = train[train_targets_scored.columns]\n",
    "target_nscored = train[train_targets_nonscored.columns]"
   ]
  },
  {
   "cell_type": "code",
   "execution_count": 74,
   "metadata": {},
   "outputs": [],
   "source": [
    "train = train.drop('cp_type', axis=1)\n",
    "test = test_features.drop('cp_type', axis=1)"
   ]
  },
  {
   "cell_type": "code",
   "execution_count": 75,
   "metadata": {},
   "outputs": [],
   "source": [
    "target_scored_cols = target_scored.drop('sig_id', axis=1).columns.values.tolist()\n",
    "target_nscored_cols = target_nscored.drop('sig_id', axis=1).columns.values.tolist()"
   ]
  },
  {
   "cell_type": "code",
   "execution_count": 76,
   "metadata": {},
   "outputs": [],
   "source": [
    "# folds = train.copy()\n",
    "\n",
    "# mskf = MultilabelStratifiedKFold(n_splits=7)\n",
    "\n",
    "# for f, (t_idx, v_idx) in enumerate(mskf.split(X=train, y=target_scored)):\n",
    "#     folds.loc[v_idx, 'kfold'] = int(f)\n",
    "\n",
    "# folds['kfold'] = folds['kfold'].astype(int)\n",
    "# folds"
   ]
  },
  {
   "cell_type": "code",
   "execution_count": 77,
   "metadata": {},
   "outputs": [],
   "source": [
    "class TrainDataset:\n",
    "    def __init__(self, features, targets_scored,targets_nscored):\n",
    "        self.features = features\n",
    "        self.targets_scored = targets_scored\n",
    "        self.targets_nscored = targets_nscored\n",
    "        \n",
    "    def __len__(self):\n",
    "        return (self.features.shape[0])\n",
    "    \n",
    "    def __getitem__(self, idx):\n",
    "        dct = {\n",
    "            'x' : torch.tensor(self.features[idx, :], dtype=torch.float),\n",
    "            'y_scored' : torch.tensor(self.targets_scored[idx, :], dtype=torch.float),\n",
    "            'y_nscored' : torch.tensor(self.targets_nscored[idx, :], dtype=torch.float)           \n",
    "        }\n",
    "        return dct\n",
    "\n",
    "class ValidDataset:\n",
    "    def __init__(self, features, targets_scored):\n",
    "        self.features = features\n",
    "        self.targets_scored = targets_scored\n",
    "        \n",
    "    def __len__(self):\n",
    "        return (self.features.shape[0])\n",
    "    \n",
    "    def __getitem__(self, idx):\n",
    "        dct = {\n",
    "            'x' : torch.tensor(self.features[idx, :], dtype=torch.float),\n",
    "            'y_scored' : torch.tensor(self.targets_scored[idx, :], dtype=torch.float),          \n",
    "        }\n",
    "        return dct\n",
    "    \n",
    "class TestDataset:\n",
    "    def __init__(self, features):\n",
    "        self.features = features\n",
    "        \n",
    "    def __len__(self):\n",
    "        return (self.features.shape[0])\n",
    "    \n",
    "    def __getitem__(self, idx):\n",
    "        dct = {\n",
    "            'x' : torch.tensor(self.features[idx, :], dtype=torch.float)\n",
    "        }\n",
    "        return dct"
   ]
  },
  {
   "cell_type": "code",
   "execution_count": 78,
   "metadata": {},
   "outputs": [],
   "source": [
    "def train_fn(model, optimizer, scheduler, loss_fn, dataloader, device):\n",
    "    model.train()\n",
    "    final_loss = 0\n",
    "    \n",
    "    for data in dataloader:\n",
    "        optimizer.zero_grad()\n",
    "        inputs, targets1, targets2 = data['x'].to(device), data['y_scored'].to(device), data['y_nscored'].to(device)\n",
    "#         print(inputs.shape)\n",
    "        outputs1,outputs2 = model(inputs)\n",
    "        loss1 = loss_fn(outputs1, targets1)\n",
    "        loss2 = loss_fn(outputs2, targets2)\n",
    "        loss = loss1 + loss2\n",
    "        loss.backward()\n",
    "        optimizer.step()\n",
    "        scheduler.step()\n",
    "        \n",
    "        final_loss += loss.item()\n",
    "        \n",
    "    final_loss /= len(dataloader)\n",
    "    \n",
    "    return final_loss\n",
    "\n",
    "\n",
    "def valid_fn(model, loss_fn, dataloader, device):\n",
    "    model.eval()\n",
    "    final_loss = 0\n",
    "    valid_preds = []\n",
    "    \n",
    "    for data in dataloader:\n",
    "        inputs, targets = data['x'].to(device), data['y_scored'].to(device)\n",
    "        outputs,_ = model(inputs)\n",
    "        loss = loss_fn(outputs, targets)\n",
    "        \n",
    "        final_loss += loss.item()\n",
    "        valid_preds.append(outputs.sigmoid().detach().cpu().numpy())\n",
    "        \n",
    "\n",
    "    final_loss /= len(dataloader)\n",
    "\n",
    "\n",
    "    valid_preds = np.concatenate(valid_preds)\n",
    "    \n",
    "    return final_loss, valid_preds\n",
    "\n",
    "def inference_fn(model, dataloader, device):\n",
    "    model.eval()\n",
    "    preds = []\n",
    "    \n",
    "    for data in dataloader:\n",
    "        inputs = data['x'].to(device)\n",
    "\n",
    "        with torch.no_grad():\n",
    "            outputs,_ = model(inputs)\n",
    "        \n",
    "        preds.append(outputs.sigmoid().detach().cpu().numpy())\n",
    "        \n",
    "    preds = np.concatenate(preds)\n",
    "    \n",
    "    return preds"
   ]
  },
  {
   "cell_type": "code",
   "execution_count": 79,
   "metadata": {},
   "outputs": [],
   "source": [
    "import torch\n",
    "from torch.nn.modules.loss import _WeightedLoss\n",
    "import torch.nn.functional as F\n",
    "\n",
    "class SmoothBCEwLogits(_WeightedLoss):\n",
    "    def __init__(self, weight=None, reduction='mean', smoothing=0.0):\n",
    "        super().__init__(weight=weight, reduction=reduction)\n",
    "        self.smoothing = smoothing\n",
    "        self.weight = weight\n",
    "        self.reduction = reduction\n",
    "\n",
    "    @staticmethod\n",
    "    def _smooth(targets:torch.Tensor, n_labels:int, smoothing=0.0):\n",
    "        assert 0 <= smoothing < 1\n",
    "        with torch.no_grad():\n",
    "            targets = targets * (1.0 - smoothing) + 0.5 * smoothing\n",
    "        return targets\n",
    "\n",
    "    def forward(self, inputs, targets):\n",
    "        targets = SmoothBCEwLogits._smooth(targets, inputs.size(-1),\n",
    "            self.smoothing)\n",
    "        loss = F.binary_cross_entropy_with_logits(inputs, targets,self.weight)\n",
    "\n",
    "        if  self.reduction == 'sum':\n",
    "            loss = loss.sum()\n",
    "        elif  self.reduction == 'mean':\n",
    "            loss = loss.mean()\n",
    "\n",
    "        return loss"
   ]
  },
  {
   "cell_type": "code",
   "execution_count": 80,
   "metadata": {},
   "outputs": [],
   "source": [
    "class Model(nn.Module):\n",
    "    def __init__(self, num_features, \n",
    "                 num_targets_scored,\n",
    "                 num_targets_nscored, \n",
    "                 hidden_sizes,\n",
    "                 dropout_rates):\n",
    "\n",
    "        super(Model, self).__init__()\n",
    "        self.batch_norm1 = nn.BatchNorm1d(num_features)\n",
    "        self.dense1 = nn.utils.weight_norm(nn.Linear(num_features, hidden_sizes[0]))\n",
    "        self.activation1 = torch.nn.PReLU(num_parameters = hidden_sizes[0], init = 1.0)\n",
    "        \n",
    "        self.batch_norm2 = nn.BatchNorm1d(hidden_sizes[0])\n",
    "        self.dropout2 = nn.Dropout(dropout_rates[0])\n",
    "        self.dense2 = nn.utils.weight_norm(nn.Linear(hidden_sizes[0], hidden_sizes[1]))\n",
    "        self.activation2 = torch.nn.PReLU(num_parameters = hidden_sizes[1], init = 1.0)\n",
    "\n",
    "\n",
    "        self.batch_norm2b = nn.BatchNorm1d(hidden_sizes[1])\n",
    "        self.dropout2b = nn.Dropout(dropout_rates[1])\n",
    "        self.dense2b = nn.utils.weight_norm(nn.Linear(hidden_sizes[1], hidden_sizes[2]))\n",
    "        self.activation2b = torch.nn.PReLU(num_parameters = hidden_sizes[2], init = 1.0)\n",
    "        \n",
    "        self.batch_norm3 = nn.BatchNorm1d(hidden_sizes[2])\n",
    "        self.dropout3 = nn.Dropout(dropout_rates[2])\n",
    "        self.dense3 = nn.utils.weight_norm(nn.Linear(hidden_sizes[2], num_targets_scored))\n",
    "        self.dense4 = nn.utils.weight_norm(nn.Linear(hidden_sizes[2], num_targets_nscored))\n",
    "\n",
    "    def init_bias(self,pos_scored_rate,pos_nscored_rate):\n",
    "        self.dense3.bias.data = nn.Parameter(torch.tensor(pos_scored_rate, dtype=torch.float))\n",
    "        self.dense4.bias.data = nn.Parameter(torch.tensor(pos_nscored_rate, dtype=torch.float))\n",
    "    \n",
    "    def recalibrate_layer(self, layer):\n",
    "        if(torch.isnan(layer.weight_v).sum() > 0):\n",
    "            print ('recalibrate layer.weight_v')\n",
    "            layer.weight_v = torch.nn.Parameter(torch.where(torch.isnan(layer.weight_v), torch.zeros_like(layer.weight_v), layer.weight_v))\n",
    "            layer.weight_v = torch.nn.Parameter(layer.weight_v + 1e-7)\n",
    "\n",
    "        if(torch.isnan(layer.weight).sum() > 0):\n",
    "            print ('recalibrate layer.weight')\n",
    "            layer.weight = torch.where(torch.isnan(layer.weight), torch.zeros_like(layer.weight), layer.weight)\n",
    "            layer.weight += 1e-7\n",
    "\n",
    "    def forward(self, x):\n",
    "        x = self.batch_norm1(x)\n",
    "        self.recalibrate_layer(self.dense1)\n",
    "        x = self.activation1(self.dense1(x))\n",
    "        \n",
    "        x = self.batch_norm2(x)\n",
    "        x = self.dropout2(x)\n",
    "        self.recalibrate_layer(self.dense2)\n",
    "        x = self.activation2(self.dense2(x))\n",
    "\n",
    "        x = self.batch_norm2b(x)\n",
    "        x = self.dropout2b(x)\n",
    "        self.recalibrate_layer(self.dense2b)\n",
    "        x = self.activation2b(self.dense2b(x))\n",
    "        \n",
    "        x = self.batch_norm3(x)\n",
    "        x = self.dropout3(x)\n",
    "        self.recalibrate_layer(self.dense3)\n",
    "        x1 = self.dense3(x)\n",
    "\n",
    "        self.recalibrate_layer(self.dense4)\n",
    "        x2 = self.dense4(x)\n",
    "        return x1,x2\n",
    "    \n",
    "class LabelSmoothingLoss(nn.Module):\n",
    "    def __init__(self, classes, smoothing=0.0, dim=-1):\n",
    "        super(LabelSmoothingLoss, self).__init__()\n",
    "        self.confidence = 1.0 - smoothing\n",
    "        self.smoothing = smoothing\n",
    "        self.cls = classes\n",
    "        self.dim = dim\n",
    "\n",
    "    def forward(self, pred, target):\n",
    "        pred = pred.log_softmax(dim=self.dim)\n",
    "        with torch.no_grad():\n",
    "            # true_dist = pred.data.clone()\n",
    "            true_dist = torch.zeros_like(pred)\n",
    "            true_dist.fill_(self.smoothing / (self.cls - 1))\n",
    "            true_dist.scatter_(1, target.data.unsqueeze(1), self.confidence)\n",
    "        return torch.mean(torch.sum(-true_dist * pred, dim=self.dim))"
   ]
  },
  {
   "cell_type": "code",
   "execution_count": 81,
   "metadata": {},
   "outputs": [],
   "source": [
    "def process_data(data):\n",
    "    data = pd.get_dummies(data, columns=['cp_time','cp_dose'])\n",
    "    return data"
   ]
  },
  {
   "cell_type": "code",
   "execution_count": 82,
   "metadata": {},
   "outputs": [],
   "source": [
    "# HyperParameters\n",
    "\n",
    "DEVICE = ('cuda' if torch.cuda.is_available() else 'cpu')\n",
    "EPOCHS = 25\n",
    "#EPOCHS = 300 #200\n",
    "PATIENCE=40\n",
    "\n",
    "BATCH_SIZE = 128\n",
    "LEARNING_RATE = 1e-3\n",
    "WEIGHT_DECAY = 1e-5\n",
    "NFOLDS = 7           \n",
    "EARLY_STOPPING_STEPS = PATIENCE+5\n",
    "EARLY_STOP = False\n",
    "\n",
    "#hidden_size=1500\n",
    "hidden_sizes = [1000,1000,1000,800]\n",
    "dropout_rates = [0.2619422201258426,0.2619422201258426,0.27]\n",
    "#dropout_rate = 0.2619422201258426\n",
    "#dropout_rate = 0.28\n"
   ]
  },
  {
   "cell_type": "code",
   "execution_count": 83,
   "metadata": {},
   "outputs": [],
   "source": [
    "# LOCATE DRUGS\n",
    "vc = scored.drug_id.value_counts()\n",
    "vc1 = vc.loc[vc<=18].index.sort_values()\n",
    "vc2 = vc.loc[vc>18].index.sort_values()\n",
    "\n",
    "# STRATIFY DRUGS 18X OR LESS\n",
    "dct1 = {}; dct2 = {}\n",
    "skf = MultilabelStratifiedKFold(n_splits=NFOLDS, shuffle=True, \n",
    "          random_state=seed)\n",
    "tmp = scored.groupby('drug_id')[targets_scored].mean().loc[vc1]\n",
    "for fold,(idxT,idxV) in enumerate( skf.split(tmp,tmp[targets_scored])):\n",
    "    dd = {k:fold for k in tmp.index[idxV].values}\n",
    "    dct1.update(dd)\n",
    "\n",
    "# STRATIFY DRUGS MORE THAN 18X\n",
    "skf = MultilabelStratifiedKFold(n_splits=NFOLDS, shuffle=True, \n",
    "          random_state=seed)\n",
    "tmp = scored.loc[scored.drug_id.isin(vc2)].reset_index(drop=True)\n",
    "for fold,(idxT,idxV) in enumerate( skf.split(tmp,tmp[targets_scored])):\n",
    "    dd = {k:fold for k in tmp.sig_id[idxV].values}\n",
    "    dct2.update(dd)\n",
    "\n",
    "# ASSIGN FOLDS\n",
    "folds = train.merge(drug,on=\"sig_id\")\n",
    "folds['fold'] = folds.drug_id.map(dct1)\n",
    "folds.loc[folds.fold.isna(),'fold'] =\\\n",
    "    folds.loc[folds.fold.isna(),'sig_id'].map(dct2)\n",
    "folds.fold = folds.fold.astype('int8')"
   ]
  },
  {
   "cell_type": "code",
   "execution_count": 84,
   "metadata": {},
   "outputs": [
    {
     "output_type": "execute_result",
     "data": {
      "text/plain": "1048"
     },
     "metadata": {},
     "execution_count": 84
    }
   ],
   "source": [
    "feature_cols = [c for c in process_data(train).columns if c not in (target_scored_cols + target_nscored_cols)]\n",
    "feature_cols = [c for c in feature_cols if c not in ['fold','sig_id']]\n",
    "len(feature_cols)"
   ]
  },
  {
   "cell_type": "code",
   "execution_count": 85,
   "metadata": {},
   "outputs": [],
   "source": [
    "num_features=len(feature_cols)\n",
    "num_targets_scored=len(target_scored_cols)\n",
    "num_targets_nscored=len(target_nscored_cols)"
   ]
  },
  {
   "cell_type": "code",
   "execution_count": 86,
   "metadata": {
    "tags": []
   },
   "outputs": [
    {
     "output_type": "stream",
     "name": "stdout",
     "text": "(20228, 1654)\n(20228, 1656)\n(3624, 1046)\n(20228, 207)\n(20228, 403)\n(3982, 207)\n"
    }
   ],
   "source": [
    "print(train.shape)\n",
    "print(folds.shape)\n",
    "print(test.shape)\n",
    "print(target_scored.shape)\n",
    "print(target_nscored.shape)\n",
    "print(sample_submission.shape)"
   ]
  },
  {
   "cell_type": "code",
   "execution_count": 87,
   "metadata": {},
   "outputs": [],
   "source": [
    "def run_training(fold, seed):\n",
    "    \n",
    "    seed_everything(seed)\n",
    "    \n",
    "    train = process_data(folds)\n",
    "    test_ = process_data(test)\n",
    "\n",
    "    \n",
    "    trn_idx = train[train['fold'] != fold].index\n",
    "    val_idx = train[train['fold'] == fold].index\n",
    "    \n",
    "    train_df = train[train['fold'] != fold].reset_index(drop=True)\n",
    "    valid_df = train[train['fold'] == fold].reset_index(drop=True)\n",
    "    \n",
    "    x_train, y_scored_train, y_nscored_train  = train_df[feature_cols].values, train_df[target_scored_cols].values, train_df[target_nscored_cols].values\n",
    "    x_valid, y_scored_valid =  valid_df[feature_cols].values, valid_df[target_scored_cols].values\n",
    "    \n",
    "    train_dataset = TrainDataset(x_train, y_scored_train, y_nscored_train)\n",
    "    valid_dataset = ValidDataset(x_valid, y_scored_valid)\n",
    "    trainloader = torch.utils.data.DataLoader(train_dataset, batch_size=BATCH_SIZE, shuffle=True)\n",
    "    validloader = torch.utils.data.DataLoader(valid_dataset, batch_size=BATCH_SIZE, shuffle=False)\n",
    "    \n",
    "    model = Model(\n",
    "        num_features=num_features,\n",
    "        num_targets_scored=num_targets_scored,\n",
    "        num_targets_nscored=num_targets_nscored,\n",
    "        hidden_sizes=hidden_sizes,\n",
    "        dropout_rates=dropout_rates,\n",
    "    )\n",
    "\n",
    "    # model.init_bias(pos_scored_rate,pos_nscored_rate)\n",
    "\n",
    "    model.to(DEVICE)\n",
    "    \n",
    "    optimizer = torch.optim.Adam(model.parameters(), lr=LEARNING_RATE, weight_decay=WEIGHT_DECAY)\n",
    "    scheduler = optim.lr_scheduler.OneCycleLR(optimizer=optimizer,pct_start=0.1, div_factor=1e4, final_div_factor=1e5,\n",
    "                                              max_lr=1e-2, epochs=EPOCHS, steps_per_epoch=len(trainloader))\n",
    "\n",
    "\n",
    "    #scheduler = optim.lr_scheduler.ReduceLROnPlateau(optimizer=optimizer,mode = \"min\", patience = PATIENCE, min_lr = 1e-6, factor = 0.9)\n",
    "    \n",
    "    loss_fn = nn.BCEWithLogitsLoss()\n",
    "    loss_tr = SmoothBCEwLogits(smoothing =0.001)\n",
    "    \n",
    "    early_stopping_steps = EARLY_STOPPING_STEPS\n",
    "    early_step = 0\n",
    "   \n",
    "    oof = np.zeros((len(train), target_scored.iloc[:, 1:].shape[1]))\n",
    "    best_loss = np.inf\n",
    "    \n",
    "    for epoch in range(EPOCHS):\n",
    "        \n",
    "        train_loss = train_fn(model, optimizer,scheduler, loss_tr, trainloader, DEVICE)\n",
    "        valid_loss, valid_preds = valid_fn(model, loss_fn, validloader, DEVICE)\n",
    "        print(f\"FOLD: {fold}, EPOCH: {epoch}, train_loss: {train_loss}, valid_loss: {valid_loss}\")\n",
    "        #scheduler.step(valid_loss)\n",
    "        \n",
    "        if valid_loss < best_loss:\n",
    "            \n",
    "            best_loss = valid_loss\n",
    "            oof[val_idx] = valid_preds\n",
    "            torch.save(model.state_dict(), f\"FOLD{fold}_.pth\")\n",
    "        \n",
    "        elif(EARLY_STOP == True):\n",
    "            \n",
    "            early_step += 1\n",
    "            if (early_step >= early_stopping_steps):\n",
    "                break\n",
    "            \n",
    "    \n",
    "    #--------------------- PREDICTION---------------------\n",
    "    x_test = test_[feature_cols].values\n",
    "    testdataset = TestDataset(x_test)\n",
    "    testloader = torch.utils.data.DataLoader(testdataset, batch_size=BATCH_SIZE, shuffle=False)\n",
    "    \n",
    "    model = Model(\n",
    "        num_features=num_features,\n",
    "        num_targets_scored=num_targets_scored,\n",
    "        num_targets_nscored=num_targets_nscored,\n",
    "        hidden_sizes=hidden_sizes,\n",
    "        dropout_rates=dropout_rates\n",
    "    )\n",
    "    \n",
    "    model.load_state_dict(torch.load(f\"FOLD{fold}_.pth\"))\n",
    "    model.to(DEVICE)\n",
    "    \n",
    "    predictions = np.zeros((len(test_), target_scored.iloc[:, 1:].shape[1]))\n",
    "    predictions = inference_fn(model, testloader, DEVICE)\n",
    "    \n",
    "    return oof, predictions"
   ]
  },
  {
   "cell_type": "code",
   "execution_count": 88,
   "metadata": {},
   "outputs": [],
   "source": [
    "def run_k_fold(NFOLDS, seed):\n",
    "    oof = np.zeros((len(train), len(target_scored_cols)))\n",
    "    predictions = np.zeros((len(test), len(target_scored_cols)))\n",
    "    \n",
    "    for fold in range(NFOLDS):\n",
    "        oof_, pred_ = run_training(fold, seed)\n",
    "        \n",
    "        predictions += pred_ / NFOLDS\n",
    "        oof += oof_\n",
    "        \n",
    "    return oof, predictions"
   ]
  },
  {
   "cell_type": "code",
   "execution_count": 89,
   "metadata": {
    "tags": []
   },
   "outputs": [
    {
     "output_type": "stream",
     "name": "stdout",
     "text": "FOLD: 0, EPOCH: 0, train_loss: 1.023664459339617, valid_loss: 0.02778405939107356\nFOLD: 0, EPOCH: 1, train_loss: 0.03674516713191919, valid_loss: 0.021870751905700436\nFOLD: 0, EPOCH: 2, train_loss: 0.032562511041760445, valid_loss: 0.019658676956010902\nFOLD: 0, EPOCH: 3, train_loss: 0.030652841717443046, valid_loss: 0.019006937175341274\nFOLD: 0, EPOCH: 4, train_loss: 0.03082831565509824, valid_loss: 0.01859776554224284\nFOLD: 0, EPOCH: 5, train_loss: 0.029447568101151025, valid_loss: 0.01793387345969677\nFOLD: 0, EPOCH: 6, train_loss: 0.02936351693728391, valid_loss: 0.018592862898240917\nFOLD: 0, EPOCH: 7, train_loss: 0.029131273396641892, valid_loss: 0.018656174449816994\nFOLD: 0, EPOCH: 8, train_loss: 0.02898251822711352, valid_loss: 0.018213368628336037\nFOLD: 0, EPOCH: 9, train_loss: 0.02892836890019038, valid_loss: 0.018635907655824787\nFOLD: 0, EPOCH: 10, train_loss: 0.028799810063313034, valid_loss: 0.017726875355710155\nFOLD: 0, EPOCH: 11, train_loss: 0.028743286521228796, valid_loss: 0.017739381803118664\nFOLD: 0, EPOCH: 12, train_loss: 0.028597853653242484, valid_loss: 0.017860904174006504\nFOLD: 0, EPOCH: 13, train_loss: 0.028534025748205537, valid_loss: 0.017863861001704052\nFOLD: 0, EPOCH: 14, train_loss: 0.02836439976304331, valid_loss: 0.01769869078112685\nFOLD: 0, EPOCH: 15, train_loss: 0.028223873732392404, valid_loss: 0.01786311561970607\nFOLD: 0, EPOCH: 16, train_loss: 0.028023320209125385, valid_loss: 0.017464387028113655\nFOLD: 0, EPOCH: 17, train_loss: 0.02767878579085364, valid_loss: 0.017463226033293682\nFOLD: 0, EPOCH: 18, train_loss: 0.027479272335767746, valid_loss: 0.017420112924731296\nFOLD: 0, EPOCH: 19, train_loss: 0.02713558614692267, valid_loss: 0.017239564219894615\nFOLD: 0, EPOCH: 20, train_loss: 0.026746097705600894, valid_loss: 0.01733586001817299\nFOLD: 0, EPOCH: 21, train_loss: 0.026331037734909093, valid_loss: 0.017202207616165928\nFOLD: 0, EPOCH: 22, train_loss: 0.02589951582965167, valid_loss: 0.01717955481422984\nFOLD: 0, EPOCH: 23, train_loss: 0.02555827667717548, valid_loss: 0.017212971397068188\nFOLD: 0, EPOCH: 24, train_loss: 0.025376001934466118, valid_loss: 0.017200050511113976\nFOLD: 1, EPOCH: 0, train_loss: 1.0244428071158904, valid_loss: 0.028619203794126708\nFOLD: 1, EPOCH: 1, train_loss: 0.03647625791253867, valid_loss: 0.02169088282001515\nFOLD: 1, EPOCH: 2, train_loss: 0.03507397875741676, valid_loss: 0.020126517318810027\nFOLD: 1, EPOCH: 3, train_loss: 0.03129163223008315, valid_loss: 0.01905277301557362\nFOLD: 1, EPOCH: 4, train_loss: 0.030137117482997754, valid_loss: 0.01835418837921073\nFOLD: 1, EPOCH: 5, train_loss: 0.029622924631392513, valid_loss: 0.018159750926618774\nFOLD: 1, EPOCH: 6, train_loss: 0.029369140457775857, valid_loss: 0.018304580085289974\nFOLD: 1, EPOCH: 7, train_loss: 0.02903153211982162, valid_loss: 0.017966543285486598\nFOLD: 1, EPOCH: 8, train_loss: 0.028820948095785247, valid_loss: 0.017840439919382334\nFOLD: 1, EPOCH: 9, train_loss: 0.028728958467642465, valid_loss: 0.017909274940999847\nFOLD: 1, EPOCH: 10, train_loss: 0.028625089951135493, valid_loss: 0.01776646904181689\nFOLD: 1, EPOCH: 11, train_loss: 0.02852709165049924, valid_loss: 0.017883681304131944\nFOLD: 1, EPOCH: 12, train_loss: 0.02843902402178005, valid_loss: 0.01781942412101974\nFOLD: 1, EPOCH: 13, train_loss: 0.028380718123581675, valid_loss: 0.017848504125140607\nFOLD: 1, EPOCH: 14, train_loss: 0.028250483644229395, valid_loss: 0.017926767740088206\nFOLD: 1, EPOCH: 15, train_loss: 0.02807163444382173, valid_loss: 0.017906231650461752\nFOLD: 1, EPOCH: 16, train_loss: 0.02786699005023197, valid_loss: 0.01759580006667723\nFOLD: 1, EPOCH: 17, train_loss: 0.027599782262135435, valid_loss: 0.01772561847853164\nFOLD: 1, EPOCH: 18, train_loss: 0.027296908903453085, valid_loss: 0.017526676102230947\nFOLD: 1, EPOCH: 19, train_loss: 0.02691160081713288, valid_loss: 0.017402804534261424\nFOLD: 1, EPOCH: 20, train_loss: 0.026524538726166443, valid_loss: 0.017393691271233063\nFOLD: 1, EPOCH: 21, train_loss: 0.026058112236636656, valid_loss: 0.0173583790116633\nFOLD: 1, EPOCH: 22, train_loss: 0.025567123155902934, valid_loss: 0.017277789845441777\nFOLD: 1, EPOCH: 23, train_loss: 0.025173233076930045, valid_loss: 0.01729892132182916\nFOLD: 1, EPOCH: 24, train_loss: 0.02493981226450867, valid_loss: 0.01729908783454448\nFOLD: 2, EPOCH: 0, train_loss: 1.023685679442304, valid_loss: 0.02991109138921551\nFOLD: 2, EPOCH: 1, train_loss: 0.0364799284211853, valid_loss: 0.022916830185314884\nFOLD: 2, EPOCH: 2, train_loss: 0.03305205317926319, valid_loss: 0.020490344856744228\nFOLD: 2, EPOCH: 3, train_loss: 0.03095242561882033, valid_loss: 0.01958275327216024\nFOLD: 2, EPOCH: 4, train_loss: 0.030410841052584788, valid_loss: 0.019042598812476448\nFOLD: 2, EPOCH: 5, train_loss: 0.02943604047793676, valid_loss: 0.019074825812941013\nFOLD: 2, EPOCH: 6, train_loss: 0.029197338228935703, valid_loss: 0.019178755824332653\nFOLD: 2, EPOCH: 7, train_loss: 0.0289803746923366, valid_loss: 0.01920414092424123\nFOLD: 2, EPOCH: 8, train_loss: 0.028914365876356467, valid_loss: 0.019176597504512123\nFOLD: 2, EPOCH: 9, train_loss: 0.02885883624720223, valid_loss: 0.018709837904442913\nFOLD: 2, EPOCH: 10, train_loss: 0.028681685641298398, valid_loss: 0.01883007116291834\nFOLD: 2, EPOCH: 11, train_loss: 0.028605462695636293, valid_loss: 0.018929566783101662\nFOLD: 2, EPOCH: 12, train_loss: 0.02849479077164741, valid_loss: 0.018525531920401947\nFOLD: 2, EPOCH: 13, train_loss: 0.028426950783742702, valid_loss: 0.018391809588217217\nFOLD: 2, EPOCH: 14, train_loss: 0.028292351621477044, valid_loss: 0.01844858102824377\nFOLD: 2, EPOCH: 15, train_loss: 0.02804646683473359, valid_loss: 0.018405020641891853\nFOLD: 2, EPOCH: 16, train_loss: 0.027892687015564126, valid_loss: 0.018413381367597893\nFOLD: 2, EPOCH: 17, train_loss: 0.027656509732717976, valid_loss: 0.018354598230317883\nFOLD: 2, EPOCH: 18, train_loss: 0.027391497497720754, valid_loss: 0.018308080206422703\nFOLD: 2, EPOCH: 19, train_loss: 0.02702512389377636, valid_loss: 0.018193319885303146\nFOLD: 2, EPOCH: 20, train_loss: 0.02665255670709645, valid_loss: 0.018014147310801174\nFOLD: 2, EPOCH: 21, train_loss: 0.026250874541480753, valid_loss: 0.017998865198182022\nFOLD: 2, EPOCH: 22, train_loss: 0.025755587718723452, valid_loss: 0.0180542489675724\nFOLD: 2, EPOCH: 23, train_loss: 0.025458045317517483, valid_loss: 0.01809019368627797\nFOLD: 2, EPOCH: 24, train_loss: 0.025269193958271954, valid_loss: 0.018096068226124928\nFOLD: 3, EPOCH: 0, train_loss: 1.0222335710628505, valid_loss: 0.030006140308535618\nFOLD: 3, EPOCH: 1, train_loss: 0.0365758579059997, valid_loss: 0.022620805498698483\nFOLD: 3, EPOCH: 2, train_loss: 0.0326697885962751, valid_loss: 0.020264981476509052\nFOLD: 3, EPOCH: 3, train_loss: 0.030856974135317346, valid_loss: 0.01876698555829732\nFOLD: 3, EPOCH: 4, train_loss: 0.03033163843621664, valid_loss: 0.018303951734434002\nFOLD: 3, EPOCH: 5, train_loss: 0.02951451953883995, valid_loss: 0.020861755084732304\nFOLD: 3, EPOCH: 6, train_loss: 0.029417676727890092, valid_loss: 0.017993434291818867\nFOLD: 3, EPOCH: 7, train_loss: 0.029132713728091297, valid_loss: 0.018074562773108482\nFOLD: 3, EPOCH: 8, train_loss: 0.029086983379195717, valid_loss: 0.01812213092394497\nFOLD: 3, EPOCH: 9, train_loss: 0.028962932444889757, valid_loss: 0.017803395409946857\nFOLD: 3, EPOCH: 10, train_loss: 0.02888972795677974, valid_loss: 0.017948101315161457\nFOLD: 3, EPOCH: 11, train_loss: 0.028712519293870118, valid_loss: 0.01770925307241471\nFOLD: 3, EPOCH: 12, train_loss: 0.028582129243980434, valid_loss: 0.017912098247071972\nFOLD: 3, EPOCH: 13, train_loss: 0.028534443117678165, valid_loss: 0.017554893279853073\nFOLD: 3, EPOCH: 14, train_loss: 0.02836673042517813, valid_loss: 0.017585793024171955\nFOLD: 3, EPOCH: 15, train_loss: 0.028253124136587277, valid_loss: 0.017645414068323116\nFOLD: 3, EPOCH: 16, train_loss: 0.028050963561434078, valid_loss: 0.017584744759875794\nFOLD: 3, EPOCH: 17, train_loss: 0.02776470213361523, valid_loss: 0.01735683643947477\nFOLD: 3, EPOCH: 18, train_loss: 0.027473514927003312, valid_loss: 0.017160467884462814\nFOLD: 3, EPOCH: 19, train_loss: 0.02714325738249018, valid_loss: 0.017075909018192604\nFOLD: 3, EPOCH: 20, train_loss: 0.02675195039688226, valid_loss: 0.016945445788619312\nFOLD: 3, EPOCH: 21, train_loss: 0.02627954911440611, valid_loss: 0.016928527909128563\nFOLD: 3, EPOCH: 22, train_loss: 0.025841039290432546, valid_loss: 0.016911651007831097\nFOLD: 3, EPOCH: 23, train_loss: 0.02547605973942315, valid_loss: 0.016884028263714\nFOLD: 3, EPOCH: 24, train_loss: 0.025315321105367997, valid_loss: 0.016870670385010864\nFOLD: 4, EPOCH: 0, train_loss: 1.0249552714419277, valid_loss: 0.02870774269104004\nFOLD: 4, EPOCH: 1, train_loss: 0.03679655775811304, valid_loss: 0.02243565209209919\nFOLD: 4, EPOCH: 2, train_loss: 0.03231050039860694, valid_loss: 0.019701355501361515\nFOLD: 4, EPOCH: 3, train_loss: 0.03073261116686113, valid_loss: 0.018745874257191368\nFOLD: 4, EPOCH: 4, train_loss: 0.029969260493731675, valid_loss: 0.018822594991196758\nFOLD: 4, EPOCH: 5, train_loss: 0.029595273697529647, valid_loss: 0.018902139373771523\nFOLD: 4, EPOCH: 6, train_loss: 0.029371957760304213, valid_loss: 0.01853733202037604\nFOLD: 4, EPOCH: 7, train_loss: 0.02904401226517032, valid_loss: 0.018284423398258892\nFOLD: 4, EPOCH: 8, train_loss: 0.02893497492186725, valid_loss: 0.018006424864997036\nFOLD: 4, EPOCH: 9, train_loss: 0.028804394128896734, valid_loss: 0.018172560705114967\nFOLD: 4, EPOCH: 10, train_loss: 0.02879645664464025, valid_loss: 0.017917244047250435\nFOLD: 4, EPOCH: 11, train_loss: 0.028619642602279782, valid_loss: 0.01803157458324795\nFOLD: 4, EPOCH: 12, train_loss: 0.028524319737163538, valid_loss: 0.018180935927059338\nFOLD: 4, EPOCH: 13, train_loss: 0.028396790997837398, valid_loss: 0.017722639498179375\nFOLD: 4, EPOCH: 14, train_loss: 0.028275856186690575, valid_loss: 0.01840384324769611\nFOLD: 4, EPOCH: 15, train_loss: 0.028080425019759464, valid_loss: 0.017683792940300445\nFOLD: 4, EPOCH: 16, train_loss: 0.027855228550513002, valid_loss: 0.017708045106543148\nFOLD: 4, EPOCH: 17, train_loss: 0.02762951232109438, valid_loss: 0.017439401668051014\nFOLD: 4, EPOCH: 18, train_loss: 0.027319851413588312, valid_loss: 0.017552798451936764\nFOLD: 4, EPOCH: 19, train_loss: 0.026972018593155286, valid_loss: 0.017278669523480145\nFOLD: 4, EPOCH: 20, train_loss: 0.02660128504366559, valid_loss: 0.017260865105882935\nFOLD: 4, EPOCH: 21, train_loss: 0.02611858762033722, valid_loss: 0.01719866348835437\nFOLD: 4, EPOCH: 22, train_loss: 0.025707387214745667, valid_loss: 0.017199006660476975\nFOLD: 4, EPOCH: 23, train_loss: 0.025359397973207867, valid_loss: 0.017215301768611305\nFOLD: 4, EPOCH: 24, train_loss: 0.025157233261886763, valid_loss: 0.017230147252912106\nFOLD: 5, EPOCH: 0, train_loss: 1.025945684489082, valid_loss: 0.02979789625691331\nFOLD: 5, EPOCH: 1, train_loss: 0.03629520519033951, valid_loss: 0.022184903611955437\nFOLD: 5, EPOCH: 2, train_loss: 0.032898596830337364, valid_loss: 0.023321793131206348\nFOLD: 5, EPOCH: 3, train_loss: 0.031975445748471165, valid_loss: 0.01919965794228989\nFOLD: 5, EPOCH: 4, train_loss: 0.02999676695531782, valid_loss: 0.018695133373789165\nFOLD: 5, EPOCH: 5, train_loss: 0.02944611290962819, valid_loss: 0.01866285316646099\nFOLD: 5, EPOCH: 6, train_loss: 0.029229524819289938, valid_loss: 0.018606922143827313\nFOLD: 5, EPOCH: 7, train_loss: 0.029014271040282705, valid_loss: 0.018641280658219173\nFOLD: 5, EPOCH: 8, train_loss: 0.028749312068719196, valid_loss: 0.018317974860901417\nFOLD: 5, EPOCH: 9, train_loss: 0.02875174884684384, valid_loss: 0.018432428412463352\nFOLD: 5, EPOCH: 10, train_loss: 0.02865880590808742, valid_loss: 0.01852347062009832\nFOLD: 5, EPOCH: 11, train_loss: 0.028577406904386246, valid_loss: 0.01850607618689537\nFOLD: 5, EPOCH: 12, train_loss: 0.028549205525504315, valid_loss: 0.018869846978265305\nFOLD: 5, EPOCH: 13, train_loss: 0.028389083673520124, valid_loss: 0.0181232705793303\nFOLD: 5, EPOCH: 14, train_loss: 0.02826549337409875, valid_loss: 0.018169229283280994\nFOLD: 5, EPOCH: 15, train_loss: 0.028090632054954767, valid_loss: 0.01799197086011586\nFOLD: 5, EPOCH: 16, train_loss: 0.02779371207853889, valid_loss: 0.018060742877423763\nFOLD: 5, EPOCH: 17, train_loss: 0.02763524970642346, valid_loss: 0.017908405715032764\nFOLD: 5, EPOCH: 18, train_loss: 0.02733613971127745, valid_loss: 0.017899706757262997\nFOLD: 5, EPOCH: 19, train_loss: 0.027068442144595525, valid_loss: 0.017874400293373543\nFOLD: 5, EPOCH: 20, train_loss: 0.02658706040614668, valid_loss: 0.01764676865676175\nFOLD: 5, EPOCH: 21, train_loss: 0.026103971580810407, valid_loss: 0.0176035277950375\nFOLD: 5, EPOCH: 22, train_loss: 0.02568551621345036, valid_loss: 0.017629466303016827\nFOLD: 5, EPOCH: 23, train_loss: 0.02530627136173494, valid_loss: 0.017655587552682213\nFOLD: 5, EPOCH: 24, train_loss: 0.025077769149313953, valid_loss: 0.017703414084794727\nFOLD: 6, EPOCH: 0, train_loss: 1.023713806644082, valid_loss: 0.02954185187168743\nFOLD: 6, EPOCH: 1, train_loss: 0.03706390002523275, valid_loss: 0.02137667086461316\nFOLD: 6, EPOCH: 2, train_loss: 0.03318224396720967, valid_loss: 0.01966618001461029\nFOLD: 6, EPOCH: 3, train_loss: 0.030592081862885284, valid_loss: 0.01842973462265471\nFOLD: 6, EPOCH: 4, train_loss: 0.029960031210280517, valid_loss: 0.017967401477305786\nFOLD: 6, EPOCH: 5, train_loss: 0.029460088295095107, valid_loss: 0.017921661836621555\nFOLD: 6, EPOCH: 6, train_loss: 0.029315976590356407, valid_loss: 0.018003351176562515\nFOLD: 6, EPOCH: 7, train_loss: 0.02900922206668731, valid_loss: 0.017663513634191906\nFOLD: 6, EPOCH: 8, train_loss: 0.028916262583259272, valid_loss: 0.017710143983688042\nFOLD: 6, EPOCH: 9, train_loss: 0.028826190720257515, valid_loss: 0.017571515606149384\nFOLD: 6, EPOCH: 10, train_loss: 0.028725497136988184, valid_loss: 0.017723161079313442\nFOLD: 6, EPOCH: 11, train_loss: 0.028600302565952435, valid_loss: 0.017778033755071785\nFOLD: 6, EPOCH: 12, train_loss: 0.02852414108758025, valid_loss: 0.017759622196140495\nFOLD: 6, EPOCH: 13, train_loss: 0.02842933716088095, valid_loss: 0.0174306470333882\nFOLD: 6, EPOCH: 14, train_loss: 0.028299529146512643, valid_loss: 0.017561704568240955\nFOLD: 6, EPOCH: 15, train_loss: 0.028089014758520266, valid_loss: 0.017394970090168972\nFOLD: 6, EPOCH: 16, train_loss: 0.027942764654974726, valid_loss: 0.017330091851560966\nFOLD: 6, EPOCH: 17, train_loss: 0.02776829427217736, valid_loss: 0.01713160972070435\nFOLD: 6, EPOCH: 18, train_loss: 0.027394583517247263, valid_loss: 0.01713134178324886\nFOLD: 6, EPOCH: 19, train_loss: 0.027113732457270518, valid_loss: 0.017072135461089405\nFOLD: 6, EPOCH: 20, train_loss: 0.026628228027702254, valid_loss: 0.016951886086684208\nFOLD: 6, EPOCH: 21, train_loss: 0.026198781520018682, valid_loss: 0.016811230543838894\nFOLD: 6, EPOCH: 22, train_loss: 0.025782934348920688, valid_loss: 0.016837944519584595\nFOLD: 6, EPOCH: 23, train_loss: 0.02539007305441534, valid_loss: 0.016865432059959225\nFOLD: 6, EPOCH: 24, train_loss: 0.02519278276218649, valid_loss: 0.016841623324738896\n"
    }
   ],
   "source": [
    "# Averaging on multiple SEEDS\n",
    "\n",
    "# SEED = [0,1,2,3,4,5,6] #<-- Update\n",
    "SEED = [0]\n",
    "oof = np.zeros((len(train), len(target_scored_cols)))\n",
    "predictions = np.zeros((len(test), len(target_scored_cols)))\n",
    "\n",
    "# mean_scored = np.mean(train[target_scored_cols].values,axis=0)\n",
    "# mean_nscored = np.mean(train[target_nscored_cols].values,axis=0)\n",
    "# pos_scored_rate = np.log(np.where(mean_scored==0, 1e-8, mean_scored))\n",
    "# pos_nscored_rate = np.log(np.where(mean_nscored==0, 1e-8, mean_nscored))\n",
    "\n",
    "for seed in SEED:\n",
    "    \n",
    "    oof_, predictions_ = run_k_fold(NFOLDS, seed)\n",
    "    oof += oof_ / len(SEED)\n",
    "    predictions += predictions_ / len(SEED)\n",
    "\n",
    "train[target_scored_cols] = oof\n",
    "test[target_scored_cols] = predictions"
   ]
  },
  {
   "cell_type": "code",
   "execution_count": 90,
   "metadata": {
    "tags": []
   },
   "outputs": [
    {
     "output_type": "stream",
     "name": "stdout",
     "text": "CV log_loss:  0.01581084415093409\n"
    }
   ],
   "source": [
    "valid_results = train_targets_scored.drop(columns=target_scored_cols).merge(train[['sig_id']+target_scored_cols], on='sig_id', how='left').fillna(0)\n",
    "\n",
    "\n",
    "\n",
    "y_true = train_targets_scored[target_scored_cols].values\n",
    "y_pred = valid_results[target_scored_cols].values\n",
    "\n",
    "score = 0\n",
    "for i in range(len(target_scored_cols)):\n",
    "    score_ = log_loss(y_true[:, i], y_pred[:, i])\n",
    "    score += score_ / target_scored.shape[1]\n",
    "    \n",
    "print(\"CV log_loss: \", score)"
   ]
  },
  {
   "cell_type": "code",
   "execution_count": 91,
   "metadata": {
    "tags": []
   },
   "outputs": [
    {
     "output_type": "stream",
     "name": "stdout",
     "text": "0.6577416457301863\n"
    }
   ],
   "source": [
    "from sklearn.metrics import roc_auc_score\n",
    "print(roc_auc_score(y_true,y_pred))"
   ]
  },
  {
   "cell_type": "code",
   "execution_count": 92,
   "metadata": {},
   "outputs": [],
   "source": [
    "#CV log_loss:  0.015920852558349033 - 0.6561686212306933\n",
    "\n",
    "# hidden_sizes = [1000,1000,1000,1000]\n",
    "# dropout_rates = [0.2619422201258426,0.2619422201258426,0.2619422201258426]\n",
    "# epochs 20\n",
    "#CV log_loss:  0.015848341054848468 - 0.6580228838615109\n",
    "\n",
    "\n",
    "# hidden_sizes = [1000,1000,1000,900]\n",
    "# dropout_rates = [0.2619422201258426,0.2619422201258426,0.27]\n",
    "#CV log_loss:  0.015827968233177312 - 0.6588151882729147\n",
    "\n",
    "\n",
    "# hidden_sizes = [1000,1000,1000,900]\n",
    "# dropout_rates = [0.2619422201258426,0.2619422201258426,0.27]\n",
    "#epochs 25 \n",
    "#CV log_loss:  0.01581084415093409 -  0.6577416457301863\n",
    "\n",
    "#Baseline\n",
    "#CV log_loss:  0.015877615364984873 - 0.6541240486632599\n",
    "#without kmeans CV log_loss: 0.015854058954568463 - 0.659868777535432\n",
    "#epochs 35 - CV log_loss:  0.01585343762816286 - 0.6599438843390867\n",
    "#epocjs 40 - CV log_loss:  0.01586852336393351 - 0.6557867961263701\n",
    "#all stats - CV log_loss:  0.015855185527591735 -0.6570807318381957\n",
    "\n",
    "# hidden_sizes = [1500,1200,1100,900]\n",
    "# dropout_rates = [0.25,0.2,0.2]\n",
    "#CV log_loss:  0.015865879211216915 - 0.6559542487539943\n",
    "\n",
    "# hidden_sizes = [1500,1200,1000,900]\n",
    "# dropout_rates = [0.25,0.2,0.2]\n",
    "#CV log_loss:  0.015854724972601784 - 0.652808391941145\n",
    "\n",
    "# hidden_sizes = [1500,1200,1000,1000]\n",
    "# dropout_rates = [0.25,0.2,0.2]\n",
    "# CV log_loss:  0.015889636228277087 - 0.6562041048643221\n",
    "\n",
    "# hidden_sizes = [1500,1200,900,900]\n",
    "# dropout_rates = [0.25,0.2,0.2]\n",
    "# CV log_loss:  0.01591179238961427 - 0.6556498327248552\n",
    "\n",
    "\n",
    "\n",
    "\n",
    "# hidden_sizes = [1500,1200,1000,800]\n",
    "# dropout_rates = [0.25,0.2,0.2]\n",
    "#CV log_loss:  0.015889636228277087 - 0.6562041048643221\n",
    "\n",
    "# hidden_sizes = [1400,1200,1100,900]\n",
    "# dropout_rates = [0.25,0.2,0.2]\n",
    "# CV log_loss:  0.0159006577610937 - 0.6556368091911823\n",
    "\n",
    "# hidden_sizes = [1500,1400,1200,1000]\n",
    "# dropout_rates = [0.2,0.2,0.2]\n",
    "#CV log_loss:  0.015903499471456212 - 0.6545642003005651\n",
    "\n",
    "# hidden_sizes = [1500,1400,1200,1000]\n",
    "# dropout_rates = [0.2,0.2,0.2]\n",
    "# CV log_loss:  0.015902450359650298 - 0.6534999255322688\n",
    "\n",
    "# hidden_sizes = [1500,1400,1200,1000]\n",
    "# dropout_rates = [0.25,0.25,0.25]\n",
    "# CV log_loss:  0.015894421855461457 - 0.6585559568507875\n",
    "\n",
    "# hidden_sizes = [1200,1200,1100,1000]\n",
    "# dropout_rates = [0.2619422201258426,0.2619422201258426,0.2619422201258426]\n",
    "# CV log_loss:  0.015915461833464227 - 0.6551242407337411"
   ]
  },
  {
   "cell_type": "code",
   "execution_count": 93,
   "metadata": {},
   "outputs": [],
   "source": [
    "#auc .8073 -> .6541 "
   ]
  },
  {
   "cell_type": "code",
   "execution_count": 94,
   "metadata": {},
   "outputs": [],
   "source": [
    "#CV log_loss:  0.014772181976560779 - hidden size 1500\n",
    "#CV log loss:  0.014761207506656483 - hidden size 1600\n",
    "#CV log_loss:  0.014757089674479135 - hidden size 1600 + recalibrate layers\n",
    "#CV log_loss:  0.014798489345352649 - hidden size 1600 + recalibrate layers + 30epochs\n",
    "#CV log_loss:  0.014993945755985132 - hidden size 1600 + recalibrate layers - batch size 256\n",
    "#CV log_loss:  0.014925429807583115 - hidden size 1600 + recalibrate layers - batch size 256 + 50 epcohs\n",
    "#CV log_loss:  0.01501367781064934  - hidden size 1600 + recalibrate layers - batch size 256 + 50 epcohs div_factor=1e4\n",
    "#CV log_loss:  0.015038120295874759 - hidden size 1600 + recalibrate layers - batch size 256 + 50 epcohs pct_start=0.2\n",
    "#CV log_loss:  0.014925429807583115 - hidden size 1600 + recalibrate layers - batch size 256 + 50 epcohs 2*lr\n",
    "#CV log_loss:  0.014862676189325522 - hidden size 2000 + recalibrate layers - batch size 256 + 50 epcohs\n",
    "#CV log_loss:  0.014805892283163887 - hidden size 2000 + recalibrate layers - batch size 256 + 70 epcohs\n",
    "\n",
    "\n",
    "\n",
    "#CV log_loss:  0.014701033773812383 - hidden size 1000 + recalibrate layers + 30 epochs + 1layer + stats g35 c5\n",
    "#CV log_loss:  0.01470633477903798  - hidden size 1000 + recalibrate layers + 30 epochs + 1layer + stats g15 c5\n",
    "\n",
    "#CV log_loss:  0.014688195780301675 - hidden size 1000 + recalibrate layers + 30 epochs + 1layer + stats + varianceth 0.81\n",
    "\n",
    "#CV log_loss:  0.01473922963978107 - hidden size 1000 + recalibrate layers + 40 epochs + 1layer\n",
    "#CV log_loss:  0.014704245299661241 - hidden size 900 + recalibrate layers + 30 epochs + 1layer\n",
    "#CV log_loss:  0.014700136730168381 - hidden size 1100 + recalibrate layers + 30 epochs + 1layer\n",
    "\n",
    "\n",
    "#CV log_loss:  0.015298968285739336 - hidden size 1600 + recalibrate layers - batch size 64\n",
    "\n",
    "#CV log_loss:  0.014708188641129298 - hidden size 1000 + recalibrate layers + 30 epochs\n",
    "#CV log_loss:  0.014686009232339573 - hidden size 1000 + recalibrate layers + 30 epochs + 1layer\n",
    "#CV log_loss:  0.014675118998674056 - hidden size 1000 + recalibrate layers + 30 epochs + 1layer + stats\n",
    "#\n",
    "\n",
    "#CV log_loss:  0.01468776733769557 without stats\n",
    "\n",
    "\n",
    "\n",
    "\n",
    "\n",
    "#CV log_loss:  0.014751931843087755 baseline\n",
    "#CV log_loss:  0.014746491073514958 baseline + std g,c\n",
    "#CV log_loss:  0.014753663287033052 baseline + std g,c + median g,c\n",
    "#CV log_loss:  0.014747499643338137 baseline + std g,c + sum g,c + kurt g,c\n",
    "#CV log_loss:  0.014745229709145196 baseline + std g,c + sum g,c + mean g,c\n",
    "#CV log_loss:  0.014765909985927743 baseline + std g,c + sum g,c + skew g,c\n",
    "#CV log_loss:  0.01475305848080635  baseline + std g,c + sum g,c + g_var\n",
    "#CV log_loss:  0.014738260008810762 baseline + std g,c + sum g,c\n",
    "#CV log_loss:  0.014735805473683174 baseline + std g,c + sum g,c,gc\n",
    "#CV log_loss:  0.014750251194250852 baseline + std g,c,gc + sum g,c,gc\n",
    "#CV log_loss:  0.01474079804921367  baseline + std g,c + sum g,c,gc + variance 80(threshold)\n",
    "\n",
    "#CV log_loss:  0.014704018818104764 baseline + std g,c + sum g,c,gc + variance 80(threshold) &PCA\n",
    "#CV log loss:  0.014669995520015213 baseline + std g,c + sum g,c,gc + variance 80(threshold) &PCA + clusters3 - CV log_loss:  0.014520597500516905 /0.8153730747072218 (seeds)\n",
    "\n",
    "#CV log_loss:  0.014566130099844471/0.815729267497772 avec prelu, 30 epochs\n",
    "\n",
    "\n",
    "#CV log_loss:  0.014685491308574154 baseline + std g,c + sum g,c,gc + variance 80(threshold) &PCA + clusters5\n",
    "\n",
    "\n",
    "#CV log_loss:  0.015099951953285232 baseline + PCA features\n"
   ]
  },
  {
   "cell_type": "code",
   "execution_count": 95,
   "metadata": {},
   "outputs": [],
   "source": [
    "test.to_csv(\"model_1_test.csv\",index=False)"
   ]
  }
 ]
}