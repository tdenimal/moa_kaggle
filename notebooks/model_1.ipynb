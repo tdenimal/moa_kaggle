{
 "metadata": {
  "language_info": {
   "codemirror_mode": {
    "name": "ipython",
    "version": 3
   },
   "file_extension": ".py",
   "mimetype": "text/x-python",
   "name": "python",
   "nbconvert_exporter": "python",
   "pygments_lexer": "ipython3",
   "version": "3.7.9-final"
  },
  "orig_nbformat": 2,
  "kernelspec": {
   "name": "python_defaultSpec_1604785665205",
   "display_name": "Python 3.7.9 64-bit ('moa_kaggle': conda)"
  }
 },
 "nbformat": 4,
 "nbformat_minor": 2,
 "cells": [
  {
   "cell_type": "code",
   "execution_count": 1,
   "metadata": {},
   "outputs": [],
   "source": [
    "import numpy as np\n",
    "import random\n",
    "import pandas as pd\n",
    "import matplotlib.pyplot as plt\n",
    "import os\n",
    "import copy\n",
    "import seaborn as sns\n",
    "\n",
    "from iterstrat.ml_stratifiers import MultilabelStratifiedKFold\n",
    "\n",
    "\n",
    "\n",
    "from sklearn import preprocessing\n",
    "from sklearn.metrics import log_loss\n",
    "from sklearn.preprocessing import StandardScaler\n",
    "from sklearn.decomposition import PCA\n",
    "\n",
    "import torch\n",
    "import torch.nn as nn\n",
    "import torch.nn.functional as F\n",
    "import torch.optim as optim\n",
    "\n",
    "import warnings\n",
    "warnings.filterwarnings('ignore')"
   ]
  },
  {
   "cell_type": "code",
   "execution_count": 2,
   "metadata": {},
   "outputs": [],
   "source": [
    "# import faiss\n",
    "# import numpy as np\n",
    "\n",
    "\n",
    "# class FaissKMeans:\n",
    "#     def __init__(self, n_clusters=8, n_init=10, max_iter=300,seed=42):\n",
    "#         self.n_clusters = n_clusters\n",
    "#         self.n_init = n_init\n",
    "#         self.max_iter = max_iter\n",
    "#         self.kmeans = None\n",
    "#         self.cluster_centers_ = None\n",
    "#         self.inertia_ = None\n",
    "#         self.seed = seed\n",
    "\n",
    "#     def fit(self, X):\n",
    "#         self.kmeans = faiss.Kmeans(d=X.shape[1],\n",
    "#                                    k=self.n_clusters,\n",
    "#                                    niter=self.max_iter,\n",
    "#                                    nredo=self.n_init,\n",
    "#                                    seed=self.seed)\n",
    "\n",
    "#         self.kmeans.train(X.astype(np.float32))\n",
    "#         self.cluster_centers_ = self.kmeans.centroids\n",
    "#         self.inertia_ = self.kmeans.obj[-1]\n",
    "\n",
    "#     def predict(self, X):\n",
    "#         return self.kmeans.index.search(X.astype(np.float32), 1)[1]"
   ]
  },
  {
   "cell_type": "code",
   "execution_count": 3,
   "metadata": {},
   "outputs": [],
   "source": [
    "from sklearn.preprocessing import QuantileTransformer"
   ]
  },
  {
   "cell_type": "code",
   "execution_count": 4,
   "metadata": {},
   "outputs": [
    {
     "output_type": "execute_result",
     "data": {
      "text/plain": "['train_targets_scored.csv',\n 'sample_submission.csv',\n '.gitkeep',\n 'train_drug.csv',\n 'train_features.csv',\n 'test_features.csv',\n 'train_targets_nonscored.csv']"
     },
     "metadata": {},
     "execution_count": 4
    }
   ],
   "source": [
    "\n",
    "data_dir = '../data/01_raw'\n",
    "os.listdir(data_dir)"
   ]
  },
  {
   "cell_type": "code",
   "execution_count": 5,
   "metadata": {},
   "outputs": [],
   "source": [
    "# Parameters\n",
    "no_ctl = True\n",
    "ncompo_genes = 600\n",
    "ncompo_cells = 50"
   ]
  },
  {
   "cell_type": "code",
   "execution_count": 6,
   "metadata": {},
   "outputs": [],
   "source": [
    "train_features = pd.read_csv(data_dir+'/train_features.csv')\n",
    "train_targets_scored = pd.read_csv(data_dir+'/train_targets_scored.csv')\n",
    "train_targets_nonscored = pd.read_csv(data_dir+'/train_targets_nonscored.csv')\n",
    "\n",
    "test_features = pd.read_csv(data_dir+'/test_features.csv')\n",
    "sample_submission = pd.read_csv(data_dir+'/sample_submission.csv')\n",
    "drug = pd.read_csv(data_dir+'/train_drug.csv')"
   ]
  },
  {
   "cell_type": "code",
   "execution_count": 7,
   "metadata": {},
   "outputs": [],
   "source": [
    "targets_scored = train_targets_scored.columns[1:]\n",
    "scored = train_targets_scored.merge(drug, on='sig_id', how='left') "
   ]
  },
  {
   "cell_type": "code",
   "execution_count": 8,
   "metadata": {
    "tags": []
   },
   "outputs": [
    {
     "output_type": "stream",
     "name": "stdout",
     "text": "not_ctl\n"
    }
   ],
   "source": [
    "if no_ctl:\n",
    "    # cp_type == ctl_vehicle\n",
    "    print(\"not_ctl\")\n",
    "    train_features = train_features[train_features[\"cp_type\"] != \"ctl_vehicle\"].reset_index(drop=True)\n",
    "    test_features = test_features[test_features[\"cp_type\"] != \"ctl_vehicle\"].reset_index(drop=True)\n",
    "    train_targets_scored = train_targets_scored.iloc[train_features.index]\n",
    "    train_targets_nonscored = train_targets_nonscored.iloc[train_features.index]\n",
    "    train_features.reset_index(drop = True, inplace = True)\n",
    "    train_features.reset_index(drop = True, inplace = True)\n",
    "    train_targets_scored.reset_index(drop = True, inplace = True)\n",
    "    train_targets_nonscored.reset_index(drop = True, inplace = True)"
   ]
  },
  {
   "cell_type": "code",
   "execution_count": 9,
   "metadata": {},
   "outputs": [],
   "source": [
    "# #Indiquer si valeur dans le range max, min\n",
    "\n",
    "# import seaborn as sns\n",
    "# data = pd.concat([train_features,test_features],axis=0)\n",
    "\n",
    "# sns.distplot(data[data[\"cp_type\"] == \"ctl_vehicle\"][\"c-4\"],label=\"normal\")\n",
    "\n",
    "# sns.distplot(data[data[\"cp_type\"] == \"trt_cp\"][\"c-4\"],label=\"treated\")\n",
    "# plt.legend()\n",
    "# plt.show()"
   ]
  },
  {
   "cell_type": "code",
   "execution_count": 10,
   "metadata": {},
   "outputs": [],
   "source": [
    "# sum_targets = train_targets_scored[[c for c in train_targets_scored.columns if (c != \"sig_id\")]].sum().reset_index()"
   ]
  },
  {
   "cell_type": "code",
   "execution_count": 11,
   "metadata": {},
   "outputs": [],
   "source": [
    "# sum_targets[\"index\"] = sum_targets[\"index\"].apply(lambda x : x.replace(\"_inhibitor\",\"\"))\n",
    "# sum_targets[\"index\"] = sum_targets[\"index\"].apply(lambda x : x.replace(\"_activator\",\"\"))\n",
    "# sum_targets[\"index\"] = sum_targets[\"index\"].apply(lambda x : x.replace(\"_agonist\",\"\"))\n",
    "# sum_targets[\"index\"] = sum_targets[\"index\"].apply(lambda x : x.replace(\"_antagonist\",\"\"))"
   ]
  },
  {
   "cell_type": "code",
   "execution_count": 12,
   "metadata": {},
   "outputs": [],
   "source": [
    "GENES = [col for col in train_features.columns if col.startswith('g-')]\n",
    "CELLS = [col for col in train_features.columns if col.startswith('c-')]"
   ]
  },
  {
   "cell_type": "code",
   "execution_count": 13,
   "metadata": {},
   "outputs": [],
   "source": [
    "# from scipy import stats\n",
    "\n",
    "# train_features[GENES].apply(lambda x : stats.moment(x,moment=5),axis=1)"
   ]
  },
  {
   "cell_type": "code",
   "execution_count": 14,
   "metadata": {},
   "outputs": [],
   "source": [
    "seed=42\n",
    "\n",
    "def seed_everything(seed=42):\n",
    "    random.seed(seed)\n",
    "    os.environ['PYTHONHASHSEED'] = str(seed)\n",
    "    np.random.seed(seed)\n",
    "    torch.manual_seed(seed)\n",
    "    torch.cuda.manual_seed(seed)\n",
    "    torch.backends.cudnn.deterministic = True\n",
    "    \n",
    "seed_everything(seed)"
   ]
  },
  {
   "cell_type": "code",
   "execution_count": 15,
   "metadata": {},
   "outputs": [],
   "source": [
    "#RankGauss\n",
    "\n",
    "for col in (GENES + CELLS):\n",
    "    transformer = QuantileTransformer(n_quantiles=100,random_state=seed, output_distribution=\"normal\")\n",
    "    vec_len = len(train_features[col].values)\n",
    "    vec_len_test = len(test_features[col].values)\n",
    "    raw_vec = train_features[col].values.reshape(vec_len, 1)\n",
    "    transformer.fit(raw_vec)\n",
    "\n",
    "    train_features[col] = transformer.transform(raw_vec).reshape(1, vec_len)[0]\n",
    "    test_features[col] = transformer.transform(test_features[col].values.reshape(vec_len_test, 1)).reshape(1, vec_len_test)[0]"
   ]
  },
  {
   "cell_type": "code",
   "execution_count": 16,
   "metadata": {},
   "outputs": [],
   "source": [
    "# GENES\n",
    "n_comp = ncompo_genes \n",
    "\n",
    "data = pd.concat([pd.DataFrame(train_features[GENES]), pd.DataFrame(test_features[GENES])])\n",
    "data2 = (PCA(n_components=n_comp, random_state=42).fit_transform(data[GENES]))\n",
    "train2 = data2[:train_features.shape[0]]; test2 = data2[-test_features.shape[0]:]\n",
    "\n",
    "train2 = pd.DataFrame(train2, columns=[f'pca_G-{i}' for i in range(n_comp)])\n",
    "test2 = pd.DataFrame(test2, columns=[f'pca_G-{i}' for i in range(n_comp)])\n",
    "\n",
    "# drop_cols = [f'c-{i}' for i in range(n_comp,len(GENES))]\n",
    "train_features = pd.concat((train_features, train2), axis=1)\n",
    "test_features = pd.concat((test_features, test2), axis=1)"
   ]
  },
  {
   "cell_type": "code",
   "execution_count": 17,
   "metadata": {},
   "outputs": [],
   "source": [
    "#CELLS\n",
    "n_comp = ncompo_cells\n",
    "\n",
    "data = pd.concat([pd.DataFrame(train_features[CELLS]), pd.DataFrame(test_features[CELLS])])\n",
    "data2 = (PCA(n_components=n_comp, random_state=42).fit_transform(data[CELLS]))\n",
    "train2 = data2[:train_features.shape[0]]; test2 = data2[-test_features.shape[0]:]\n",
    "\n",
    "train2 = pd.DataFrame(train2, columns=[f'pca_C-{i}' for i in range(n_comp)])\n",
    "test2 = pd.DataFrame(test2, columns=[f'pca_C-{i}' for i in range(n_comp)])\n",
    "\n",
    "# drop_cols = [f'c-{i}' for i in range(n_comp,len(CELLS))]\n",
    "train_features = pd.concat((train_features, train2), axis=1)\n",
    "test_features = pd.concat((test_features, test2), axis=1)"
   ]
  },
  {
   "cell_type": "code",
   "execution_count": 18,
   "metadata": {},
   "outputs": [
    {
     "output_type": "execute_result",
     "data": {
      "text/plain": "(21948, 1526)"
     },
     "metadata": {},
     "execution_count": 18
    }
   ],
   "source": [
    "train_features.shape"
   ]
  },
  {
   "cell_type": "code",
   "execution_count": 19,
   "metadata": {},
   "outputs": [],
   "source": [
    "from scipy import stats\n",
    "\n",
    "def fe_stats(train, test):\n",
    "    \n",
    "    features_g = GENES\n",
    "    features_c = CELLS\n",
    "    \n",
    "    for df in train, test:\n",
    "        df['g_sum'] = df[features_g].sum(axis = 1) ## <==\n",
    "        # df['g_mean'] = df[features_g].mean(axis = 1)\n",
    "        df['g_std'] = df[features_g].std(axis = 1) ## <==\n",
    "        # df['g_kurt'] = df[features_g].kurtosis(axis = 1)\n",
    "        #df['g_skew'] = df[features_g].skew(axis = 1)\n",
    "        # df['g_q25'] = df[features_g].quantile(q=.25,axis = 1)\n",
    "        # df['g_q50'] = df[features_g].quantile(q=.5,axis = 1)\n",
    "        # df['g_q75'] = df[features_g].quantile(q=.75,axis = 1)\n",
    "        #df['g_var'] = df[features_g].apply(axis=1,func=stats.variation)\n",
    "        # df['g_mad'] = df[features_g].mad(axis = 1)\n",
    "\n",
    "\n",
    "        df['c_sum'] = df[features_c].sum(axis = 1) ## <==\n",
    "        # df['c_mean'] = df[features_c].mean(axis = 1)\n",
    "        df['c_std'] = df[features_c].std(axis = 1) ## <==\n",
    "        # df['c_kurt'] = df[features_c].kurtosis(axis = 1)\n",
    "        #df['c_skew'] = df[features_c].skew(axis = 1)\n",
    "        # df['c_q25'] = df[features_c].quantile(q=.25,axis = 1)\n",
    "        # df['c_q50'] = df[features_c].quantile(q=.5,axis = 1)\n",
    "        # df['c_q75'] = df[features_c].quantile(q=.75,axis = 1)\n",
    "        # df['c_var'] = df[features_c].apply(axis=1,func=stats.variation)\n",
    "        # df['c_mad'] = df[features_c].mad(axis = 1)\n",
    "\n",
    "\n",
    "\n",
    "        df['gc_sum'] = df[features_g + features_c].sum(axis = 1) ## <==\n",
    "        # df['gc_mean'] = df[features_g + features_c].mean(axis = 1)\n",
    "        # df['gc_std'] = df[features_g + features_c].std(axis = 1)\n",
    "        # df['gc_kurt'] = df[features_g + features_c].kurtosis(axis = 1)\n",
    "        # df['gc_skew'] = df[features_g + features_c].skew(axis = 1)\n",
    "        # df['gc_q25'] = df[features_g + features_c].quantile(q=.25,axis = 1)\n",
    "        # df['gc_q50'] = df[features_g + features_c].quantile(q=.5,axis = 1)\n",
    "        # df['gc_q75'] = df[features_g + features_c].quantile(q=.75,axis = 1)\n",
    "        # df['gc_var'] = df[features_g + features_c].apply(axis=1,func=stats.variation)\n",
    "        # df['gc_mad'] = df[features_g + features_c].mad(axis = 1)\n",
    "\n",
    "\n",
    "        \n",
    "    return train, test\n",
    "\n",
    "train_features,test_features=fe_stats(train_features,test_features)"
   ]
  },
  {
   "cell_type": "code",
   "execution_count": 20,
   "metadata": {},
   "outputs": [],
   "source": [
    "# train_features_gc = train_features[[\"sig_id\"]+GENES+CELLS].copy()\n",
    "# test_features_gc = test_features[[\"sig_id\"]+GENES+CELLS].copy()"
   ]
  },
  {
   "cell_type": "code",
   "execution_count": 21,
   "metadata": {},
   "outputs": [
    {
     "output_type": "execute_result",
     "data": {
      "text/plain": "(21948, 1047)"
     },
     "metadata": {},
     "execution_count": 21
    }
   ],
   "source": [
    "from sklearn.feature_selection import VarianceThreshold\n",
    "\n",
    "\n",
    "var_thresh = VarianceThreshold(0.8)  #<-- Update\n",
    "data = train_features.append(test_features)\n",
    "data_transformed = var_thresh.fit_transform(data.iloc[:, 4:])\n",
    "\n",
    "train_features_transformed = data_transformed[ : train_features.shape[0]]\n",
    "test_features_transformed = data_transformed[-test_features.shape[0] : ]\n",
    "\n",
    "\n",
    "train_features = pd.DataFrame(train_features[['sig_id','cp_type','cp_time','cp_dose']].values.reshape(-1, 4),\\\n",
    "                              columns=['sig_id','cp_type','cp_time','cp_dose'])\n",
    "\n",
    "train_features = pd.concat([train_features, pd.DataFrame(train_features_transformed)], axis=1)\n",
    "\n",
    "\n",
    "test_features = pd.DataFrame(test_features[['sig_id','cp_type','cp_time','cp_dose']].values.reshape(-1, 4),\\\n",
    "                             columns=['sig_id','cp_type','cp_time','cp_dose'])\n",
    "\n",
    "test_features = pd.concat([test_features, pd.DataFrame(test_features_transformed)], axis=1)\n",
    "\n",
    "train_features.shape"
   ]
  },
  {
   "cell_type": "code",
   "execution_count": 22,
   "metadata": {},
   "outputs": [],
   "source": [
    "# from sklearn.cluster import KMeans\n",
    "# def fe_cluster2(train, test, n_clusters = 3, SEED = 42):\n",
    "    \n",
    "\n",
    "#     def create_cluster(train, test, n_clusters = n_clusters):\n",
    "#         train_ = train.copy()\n",
    "#         test_ = test.copy()\n",
    "#         data = pd.concat([train_, test_], axis = 0)\n",
    "#         kmeans = KMeans(n_clusters = n_clusters, random_state = SEED).fit(data[[c for c in data.columns if c not in [\"sig_id\",\"cp_type\",\"cp_dose\",\"cp_time\"]]])\n",
    "#         train['cluster'] = kmeans.labels_[:train.shape[0]]\n",
    "#         test['cluster'] = kmeans.labels_[train.shape[0]:]\n",
    "#         train = pd.get_dummies(train, columns = ['cluster'])\n",
    "#         test = pd.get_dummies(test, columns = ['cluster'])\n",
    "#         return train, test\n",
    "    \n",
    "#     train, test = create_cluster(train, test, n_clusters = n_clusters)\n",
    "#     return train, test\n",
    "\n",
    "\n",
    "\n",
    "# train_features,test_features=fe_cluster2(train_features,test_features)\n",
    "\n"
   ]
  },
  {
   "cell_type": "code",
   "execution_count": 23,
   "metadata": {},
   "outputs": [],
   "source": [
    "# data = pd.concat([train1, test1], axis = 0)\n",
    "\n",
    "# distortion = []\n",
    "# for k in range(1,10):\n",
    "#     kmeans = KMeans(n_clusters = k, random_state = 42).fit(data)\n",
    "#     distortion += [kmeans.inertia_]\n"
   ]
  },
  {
   "cell_type": "code",
   "execution_count": 24,
   "metadata": {},
   "outputs": [],
   "source": [
    "# plt.plot(range(1,10),distortion)"
   ]
  },
  {
   "cell_type": "code",
   "execution_count": 25,
   "metadata": {},
   "outputs": [],
   "source": [
    "# train_features = train_features.merge(train_features_gc.loc[:,[col for col in train_features_gc.columns if col not in GENES+CELLS]],on=\"sig_id\")\n",
    "# test_features = test_features.merge(test_features_gc.loc[:,[col for col in test_features_gc.columns if col not in GENES+CELLS]],on=\"sig_id\")"
   ]
  },
  {
   "cell_type": "code",
   "execution_count": 26,
   "metadata": {},
   "outputs": [],
   "source": [
    "train = train_features.merge(train_targets_scored, on='sig_id')\n",
    "train = train.merge(train_targets_nonscored, on='sig_id')\n",
    "# train = train[train['cp_type']!='ctl_vehicle'].reset_index(drop=True)\n",
    "# test = test_features[test_features['cp_type']!='ctl_vehicle'].reset_index(drop=True)\n",
    "\n",
    "target_scored = train[train_targets_scored.columns]\n",
    "target_nscored = train[train_targets_nonscored.columns]"
   ]
  },
  {
   "cell_type": "code",
   "execution_count": 27,
   "metadata": {},
   "outputs": [],
   "source": [
    "train = train.drop('cp_type', axis=1)\n",
    "test = test_features.drop('cp_type', axis=1)"
   ]
  },
  {
   "cell_type": "code",
   "execution_count": 28,
   "metadata": {},
   "outputs": [],
   "source": [
    "target_scored_cols = target_scored.drop('sig_id', axis=1).columns.values.tolist()\n",
    "target_nscored_cols = target_nscored.drop('sig_id', axis=1).columns.values.tolist()"
   ]
  },
  {
   "cell_type": "code",
   "execution_count": 29,
   "metadata": {},
   "outputs": [],
   "source": [
    "# folds = train.copy()\n",
    "\n",
    "# mskf = MultilabelStratifiedKFold(n_splits=7)\n",
    "\n",
    "# for f, (t_idx, v_idx) in enumerate(mskf.split(X=train, y=target_scored)):\n",
    "#     folds.loc[v_idx, 'kfold'] = int(f)\n",
    "\n",
    "# folds['kfold'] = folds['kfold'].astype(int)\n",
    "# folds"
   ]
  },
  {
   "cell_type": "code",
   "execution_count": 30,
   "metadata": {},
   "outputs": [],
   "source": [
    "class TrainDataset:\n",
    "    def __init__(self, features, targets_scored,targets_nscored):\n",
    "        self.features = features\n",
    "        self.targets_scored = targets_scored\n",
    "        self.targets_nscored = targets_nscored\n",
    "        \n",
    "    def __len__(self):\n",
    "        return (self.features.shape[0])\n",
    "    \n",
    "    def __getitem__(self, idx):\n",
    "        dct = {\n",
    "            'x' : torch.tensor(self.features[idx, :], dtype=torch.float),\n",
    "            'y_scored' : torch.tensor(self.targets_scored[idx, :], dtype=torch.float),\n",
    "            'y_nscored' : torch.tensor(self.targets_nscored[idx, :], dtype=torch.float)           \n",
    "        }\n",
    "        return dct\n",
    "\n",
    "class ValidDataset:\n",
    "    def __init__(self, features, targets_scored):\n",
    "        self.features = features\n",
    "        self.targets_scored = targets_scored\n",
    "        \n",
    "    def __len__(self):\n",
    "        return (self.features.shape[0])\n",
    "    \n",
    "    def __getitem__(self, idx):\n",
    "        dct = {\n",
    "            'x' : torch.tensor(self.features[idx, :], dtype=torch.float),\n",
    "            'y_scored' : torch.tensor(self.targets_scored[idx, :], dtype=torch.float),          \n",
    "        }\n",
    "        return dct\n",
    "    \n",
    "class TestDataset:\n",
    "    def __init__(self, features):\n",
    "        self.features = features\n",
    "        \n",
    "    def __len__(self):\n",
    "        return (self.features.shape[0])\n",
    "    \n",
    "    def __getitem__(self, idx):\n",
    "        dct = {\n",
    "            'x' : torch.tensor(self.features[idx, :], dtype=torch.float)\n",
    "        }\n",
    "        return dct"
   ]
  },
  {
   "cell_type": "code",
   "execution_count": 31,
   "metadata": {},
   "outputs": [],
   "source": [
    "def train_fn(model, optimizer, scheduler, loss_fn, dataloader, device):\n",
    "    model.train()\n",
    "    final_loss = 0\n",
    "    \n",
    "    for data in dataloader:\n",
    "        optimizer.zero_grad()\n",
    "        inputs, targets1, targets2 = data['x'].to(device), data['y_scored'].to(device), data['y_nscored'].to(device)\n",
    "#         print(inputs.shape)\n",
    "        outputs1,outputs2 = model(inputs)\n",
    "        loss1 = loss_fn(outputs1, targets1)\n",
    "        loss2 = loss_fn(outputs2, targets2)\n",
    "        loss = loss1 + loss2\n",
    "        loss.backward()\n",
    "        optimizer.step()\n",
    "        scheduler.step()\n",
    "        \n",
    "        final_loss += loss.item()\n",
    "        \n",
    "    final_loss /= len(dataloader)\n",
    "    \n",
    "    return final_loss\n",
    "\n",
    "\n",
    "def valid_fn(model, loss_fn, dataloader, device):\n",
    "    model.eval()\n",
    "    final_loss = 0\n",
    "    valid_preds = []\n",
    "    \n",
    "    for data in dataloader:\n",
    "        inputs, targets = data['x'].to(device), data['y_scored'].to(device)\n",
    "        outputs,_ = model(inputs)\n",
    "        loss = loss_fn(outputs, targets)\n",
    "        \n",
    "        final_loss += loss.item()\n",
    "        valid_preds.append(outputs.sigmoid().detach().cpu().numpy())\n",
    "        \n",
    "\n",
    "    final_loss /= len(dataloader)\n",
    "\n",
    "\n",
    "    valid_preds = np.concatenate(valid_preds)\n",
    "    \n",
    "    return final_loss, valid_preds\n",
    "\n",
    "def inference_fn(model, dataloader, device):\n",
    "    model.eval()\n",
    "    preds = []\n",
    "    \n",
    "    for data in dataloader:\n",
    "        inputs = data['x'].to(device)\n",
    "\n",
    "        with torch.no_grad():\n",
    "            outputs,_ = model(inputs)\n",
    "        \n",
    "        preds.append(outputs.sigmoid().detach().cpu().numpy())\n",
    "        \n",
    "    preds = np.concatenate(preds)\n",
    "    \n",
    "    return preds"
   ]
  },
  {
   "cell_type": "code",
   "execution_count": 32,
   "metadata": {},
   "outputs": [],
   "source": [
    "import torch\n",
    "from torch.nn.modules.loss import _WeightedLoss\n",
    "import torch.nn.functional as F\n",
    "\n",
    "class SmoothBCEwLogits(_WeightedLoss):\n",
    "    def __init__(self, weight=None, reduction='mean', smoothing=0.0):\n",
    "        super().__init__(weight=weight, reduction=reduction)\n",
    "        self.smoothing = smoothing\n",
    "        self.weight = weight\n",
    "        self.reduction = reduction\n",
    "\n",
    "    @staticmethod\n",
    "    def _smooth(targets:torch.Tensor, n_labels:int, smoothing=0.0):\n",
    "        assert 0 <= smoothing < 1\n",
    "        with torch.no_grad():\n",
    "            targets = targets * (1.0 - smoothing) + 0.5 * smoothing\n",
    "        return targets\n",
    "\n",
    "    def forward(self, inputs, targets):\n",
    "        targets = SmoothBCEwLogits._smooth(targets, inputs.size(-1),\n",
    "            self.smoothing)\n",
    "        loss = F.binary_cross_entropy_with_logits(inputs, targets,self.weight)\n",
    "\n",
    "        if  self.reduction == 'sum':\n",
    "            loss = loss.sum()\n",
    "        elif  self.reduction == 'mean':\n",
    "            loss = loss.mean()\n",
    "\n",
    "        return loss"
   ]
  },
  {
   "cell_type": "code",
   "execution_count": 33,
   "metadata": {},
   "outputs": [],
   "source": [
    "class Model(nn.Module):\n",
    "    def __init__(self, num_features, \n",
    "                 num_targets_scored,\n",
    "                 num_targets_nscored, \n",
    "                 hidden_sizes,\n",
    "                 dropout_rates):\n",
    "\n",
    "        super(Model, self).__init__()\n",
    "        self.batch_norm1 = nn.BatchNorm1d(num_features)\n",
    "        self.dense1 = nn.utils.weight_norm(nn.Linear(num_features, hidden_sizes[0]))\n",
    "        self.activation1 = torch.nn.PReLU(num_parameters = hidden_sizes[0], init = 1.0)\n",
    "        \n",
    "        self.batch_norm2 = nn.BatchNorm1d(hidden_sizes[0])\n",
    "        self.dropout2 = nn.Dropout(dropout_rates[0])\n",
    "        self.dense2 = nn.utils.weight_norm(nn.Linear(hidden_sizes[0], hidden_sizes[1]))\n",
    "        self.activation2 = torch.nn.PReLU(num_parameters = hidden_sizes[1], init = 1.0)\n",
    "\n",
    "\n",
    "        self.batch_norm2b = nn.BatchNorm1d(hidden_sizes[1])\n",
    "        self.dropout2b = nn.Dropout(dropout_rates[1])\n",
    "        self.dense2b = nn.utils.weight_norm(nn.Linear(hidden_sizes[1], hidden_sizes[2]))\n",
    "        self.activation2b = torch.nn.PReLU(num_parameters = hidden_sizes[2], init = 1.0)\n",
    "        \n",
    "        self.batch_norm3 = nn.BatchNorm1d(hidden_sizes[2])\n",
    "        self.dropout3 = nn.Dropout(dropout_rates[2])\n",
    "        self.dense3 = nn.utils.weight_norm(nn.Linear(hidden_sizes[2], num_targets_scored))\n",
    "        self.dense4 = nn.utils.weight_norm(nn.Linear(hidden_sizes[2], num_targets_nscored))\n",
    "\n",
    "    def init_bias(self,pos_scored_rate,pos_nscored_rate):\n",
    "        self.dense3.bias.data = nn.Parameter(torch.tensor(pos_scored_rate, dtype=torch.float))\n",
    "        self.dense4.bias.data = nn.Parameter(torch.tensor(pos_nscored_rate, dtype=torch.float))\n",
    "    \n",
    "    def recalibrate_layer(self, layer):\n",
    "        if(torch.isnan(layer.weight_v).sum() > 0):\n",
    "            print ('recalibrate layer.weight_v')\n",
    "            layer.weight_v = torch.nn.Parameter(torch.where(torch.isnan(layer.weight_v), torch.zeros_like(layer.weight_v), layer.weight_v))\n",
    "            layer.weight_v = torch.nn.Parameter(layer.weight_v + 1e-7)\n",
    "\n",
    "        if(torch.isnan(layer.weight).sum() > 0):\n",
    "            print ('recalibrate layer.weight')\n",
    "            layer.weight = torch.where(torch.isnan(layer.weight), torch.zeros_like(layer.weight), layer.weight)\n",
    "            layer.weight += 1e-7\n",
    "\n",
    "    def forward(self, x):\n",
    "        x = self.batch_norm1(x)\n",
    "        self.recalibrate_layer(self.dense1)\n",
    "        x = self.activation1(self.dense1(x))\n",
    "        \n",
    "        x = self.batch_norm2(x)\n",
    "        x = self.dropout2(x)\n",
    "        self.recalibrate_layer(self.dense2)\n",
    "        x = self.activation2(self.dense2(x))\n",
    "\n",
    "        x = self.batch_norm2b(x)\n",
    "        x = self.dropout2b(x)\n",
    "        self.recalibrate_layer(self.dense2b)\n",
    "        x = self.activation2b(self.dense2b(x))\n",
    "        \n",
    "        x = self.batch_norm3(x)\n",
    "        x = self.dropout3(x)\n",
    "        self.recalibrate_layer(self.dense3)\n",
    "        x1 = self.dense3(x)\n",
    "\n",
    "        self.recalibrate_layer(self.dense4)\n",
    "        x2 = self.dense4(x)\n",
    "        return x1,x2\n",
    "    \n",
    "class LabelSmoothingLoss(nn.Module):\n",
    "    def __init__(self, classes, smoothing=0.0, dim=-1):\n",
    "        super(LabelSmoothingLoss, self).__init__()\n",
    "        self.confidence = 1.0 - smoothing\n",
    "        self.smoothing = smoothing\n",
    "        self.cls = classes\n",
    "        self.dim = dim\n",
    "\n",
    "    def forward(self, pred, target):\n",
    "        pred = pred.log_softmax(dim=self.dim)\n",
    "        with torch.no_grad():\n",
    "            # true_dist = pred.data.clone()\n",
    "            true_dist = torch.zeros_like(pred)\n",
    "            true_dist.fill_(self.smoothing / (self.cls - 1))\n",
    "            true_dist.scatter_(1, target.data.unsqueeze(1), self.confidence)\n",
    "        return torch.mean(torch.sum(-true_dist * pred, dim=self.dim))"
   ]
  },
  {
   "cell_type": "code",
   "execution_count": 34,
   "metadata": {},
   "outputs": [],
   "source": [
    "def process_data(data):\n",
    "    data = pd.get_dummies(data, columns=['cp_time','cp_dose'])\n",
    "    return data"
   ]
  },
  {
   "cell_type": "code",
   "execution_count": 35,
   "metadata": {},
   "outputs": [],
   "source": [
    "# HyperParameters\n",
    "\n",
    "DEVICE = ('cuda' if torch.cuda.is_available() else 'cpu')\n",
    "EPOCHS = 35\n",
    "#EPOCHS = 300 #200\n",
    "PATIENCE=40\n",
    "\n",
    "BATCH_SIZE = 128\n",
    "LEARNING_RATE = 1e-3\n",
    "WEIGHT_DECAY = 1e-5\n",
    "NFOLDS = 7           \n",
    "EARLY_STOPPING_STEPS = PATIENCE+5\n",
    "EARLY_STOP = False\n",
    "\n",
    "#hidden_size=1500\n",
    "hidden_sizes = [1500,1200,1000,900]\n",
    "dropout_rates = [0.25,0.2,0.2]\n",
    "#dropout_rate = 0.2619422201258426\n",
    "#dropout_rate = 0.28\n"
   ]
  },
  {
   "cell_type": "code",
   "execution_count": 36,
   "metadata": {},
   "outputs": [],
   "source": [
    "# LOCATE DRUGS\n",
    "vc = scored.drug_id.value_counts()\n",
    "vc1 = vc.loc[vc<=18].index.sort_values()\n",
    "vc2 = vc.loc[vc>18].index.sort_values()\n",
    "\n",
    "# STRATIFY DRUGS 18X OR LESS\n",
    "dct1 = {}; dct2 = {}\n",
    "skf = MultilabelStratifiedKFold(n_splits=NFOLDS, shuffle=True, \n",
    "          random_state=seed)\n",
    "tmp = scored.groupby('drug_id')[targets_scored].mean().loc[vc1]\n",
    "for fold,(idxT,idxV) in enumerate( skf.split(tmp,tmp[targets_scored])):\n",
    "    dd = {k:fold for k in tmp.index[idxV].values}\n",
    "    dct1.update(dd)\n",
    "\n",
    "# STRATIFY DRUGS MORE THAN 18X\n",
    "skf = MultilabelStratifiedKFold(n_splits=NFOLDS, shuffle=True, \n",
    "          random_state=seed)\n",
    "tmp = scored.loc[scored.drug_id.isin(vc2)].reset_index(drop=True)\n",
    "for fold,(idxT,idxV) in enumerate( skf.split(tmp,tmp[targets_scored])):\n",
    "    dd = {k:fold for k in tmp.sig_id[idxV].values}\n",
    "    dct2.update(dd)\n",
    "\n",
    "# ASSIGN FOLDS\n",
    "folds = train.merge(drug,on=\"sig_id\")\n",
    "folds['fold'] = folds.drug_id.map(dct1)\n",
    "folds.loc[folds.fold.isna(),'fold'] =\\\n",
    "    folds.loc[folds.fold.isna(),'sig_id'].map(dct2)\n",
    "folds.fold = folds.fold.astype('int8')"
   ]
  },
  {
   "cell_type": "code",
   "execution_count": 37,
   "metadata": {},
   "outputs": [
    {
     "output_type": "execute_result",
     "data": {
      "text/plain": "1048"
     },
     "metadata": {},
     "execution_count": 37
    }
   ],
   "source": [
    "feature_cols = [c for c in process_data(train).columns if c not in (target_scored_cols + target_nscored_cols)]\n",
    "feature_cols = [c for c in feature_cols if c not in ['fold','sig_id']]\n",
    "len(feature_cols)"
   ]
  },
  {
   "cell_type": "code",
   "execution_count": 38,
   "metadata": {},
   "outputs": [],
   "source": [
    "num_features=len(feature_cols)\n",
    "num_targets_scored=len(target_scored_cols)\n",
    "num_targets_nscored=len(target_nscored_cols)"
   ]
  },
  {
   "cell_type": "code",
   "execution_count": 39,
   "metadata": {
    "tags": []
   },
   "outputs": [
    {
     "output_type": "stream",
     "name": "stdout",
     "text": "(20228, 1654)\n(20228, 1656)\n(3624, 1046)\n(20228, 207)\n(20228, 403)\n(3982, 207)\n"
    }
   ],
   "source": [
    "print(train.shape)\n",
    "print(folds.shape)\n",
    "print(test.shape)\n",
    "print(target_scored.shape)\n",
    "print(target_nscored.shape)\n",
    "print(sample_submission.shape)"
   ]
  },
  {
   "cell_type": "code",
   "execution_count": 40,
   "metadata": {},
   "outputs": [],
   "source": [
    "def run_training(fold, seed):\n",
    "    \n",
    "    seed_everything(seed)\n",
    "    \n",
    "    train = process_data(folds)\n",
    "    test_ = process_data(test)\n",
    "\n",
    "    \n",
    "    trn_idx = train[train['fold'] != fold].index\n",
    "    val_idx = train[train['fold'] == fold].index\n",
    "    \n",
    "    train_df = train[train['fold'] != fold].reset_index(drop=True)\n",
    "    valid_df = train[train['fold'] == fold].reset_index(drop=True)\n",
    "    \n",
    "    x_train, y_scored_train, y_nscored_train  = train_df[feature_cols].values, train_df[target_scored_cols].values, train_df[target_nscored_cols].values\n",
    "    x_valid, y_scored_valid =  valid_df[feature_cols].values, valid_df[target_scored_cols].values\n",
    "    \n",
    "    train_dataset = TrainDataset(x_train, y_scored_train, y_nscored_train)\n",
    "    valid_dataset = ValidDataset(x_valid, y_scored_valid)\n",
    "    trainloader = torch.utils.data.DataLoader(train_dataset, batch_size=BATCH_SIZE, shuffle=True)\n",
    "    validloader = torch.utils.data.DataLoader(valid_dataset, batch_size=BATCH_SIZE, shuffle=False)\n",
    "    \n",
    "    model = Model(\n",
    "        num_features=num_features,\n",
    "        num_targets_scored=num_targets_scored,\n",
    "        num_targets_nscored=num_targets_nscored,\n",
    "        hidden_sizes=hidden_sizes,\n",
    "        dropout_rates=dropout_rates,\n",
    "    )\n",
    "\n",
    "    # model.init_bias(pos_scored_rate,pos_nscored_rate)\n",
    "\n",
    "    model.to(DEVICE)\n",
    "    \n",
    "    optimizer = torch.optim.Adam(model.parameters(), lr=LEARNING_RATE, weight_decay=WEIGHT_DECAY)\n",
    "    scheduler = optim.lr_scheduler.OneCycleLR(optimizer=optimizer,pct_start=0.1, div_factor=1e4, final_div_factor=1e5,\n",
    "                                              max_lr=1e-2, epochs=EPOCHS, steps_per_epoch=len(trainloader))\n",
    "\n",
    "\n",
    "    #scheduler = optim.lr_scheduler.ReduceLROnPlateau(optimizer=optimizer,mode = \"min\", patience = PATIENCE, min_lr = 1e-6, factor = 0.9)\n",
    "    \n",
    "    loss_fn = nn.BCEWithLogitsLoss()\n",
    "    loss_tr = SmoothBCEwLogits(smoothing =0.001)\n",
    "    \n",
    "    early_stopping_steps = EARLY_STOPPING_STEPS\n",
    "    early_step = 0\n",
    "   \n",
    "    oof = np.zeros((len(train), target_scored.iloc[:, 1:].shape[1]))\n",
    "    best_loss = np.inf\n",
    "    \n",
    "    for epoch in range(EPOCHS):\n",
    "        \n",
    "        train_loss = train_fn(model, optimizer,scheduler, loss_tr, trainloader, DEVICE)\n",
    "        valid_loss, valid_preds = valid_fn(model, loss_fn, validloader, DEVICE)\n",
    "        print(f\"FOLD: {fold}, EPOCH: {epoch}, train_loss: {train_loss}, valid_loss: {valid_loss}\")\n",
    "        #scheduler.step(valid_loss)\n",
    "        \n",
    "        if valid_loss < best_loss:\n",
    "            \n",
    "            best_loss = valid_loss\n",
    "            oof[val_idx] = valid_preds\n",
    "            torch.save(model.state_dict(), f\"FOLD{fold}_.pth\")\n",
    "        \n",
    "        elif(EARLY_STOP == True):\n",
    "            \n",
    "            early_step += 1\n",
    "            if (early_step >= early_stopping_steps):\n",
    "                break\n",
    "            \n",
    "    \n",
    "    #--------------------- PREDICTION---------------------\n",
    "    x_test = test_[feature_cols].values\n",
    "    testdataset = TestDataset(x_test)\n",
    "    testloader = torch.utils.data.DataLoader(testdataset, batch_size=BATCH_SIZE, shuffle=False)\n",
    "    \n",
    "    model = Model(\n",
    "        num_features=num_features,\n",
    "        num_targets_scored=num_targets_scored,\n",
    "        num_targets_nscored=num_targets_nscored,\n",
    "        hidden_sizes=hidden_sizes,\n",
    "        dropout_rates=dropout_rates\n",
    "    )\n",
    "    \n",
    "    model.load_state_dict(torch.load(f\"FOLD{fold}_.pth\"))\n",
    "    model.to(DEVICE)\n",
    "    \n",
    "    predictions = np.zeros((len(test_), target_scored.iloc[:, 1:].shape[1]))\n",
    "    predictions = inference_fn(model, testloader, DEVICE)\n",
    "    \n",
    "    return oof, predictions"
   ]
  },
  {
   "cell_type": "code",
   "execution_count": 41,
   "metadata": {},
   "outputs": [],
   "source": [
    "def run_k_fold(NFOLDS, seed):\n",
    "    oof = np.zeros((len(train), len(target_scored_cols)))\n",
    "    predictions = np.zeros((len(test), len(target_scored_cols)))\n",
    "    \n",
    "    for fold in range(NFOLDS):\n",
    "        oof_, pred_ = run_training(fold, seed)\n",
    "        \n",
    "        predictions += pred_ / NFOLDS\n",
    "        oof += oof_\n",
    "        \n",
    "    return oof, predictions"
   ]
  },
  {
   "cell_type": "code",
   "execution_count": 42,
   "metadata": {
    "tags": [
     "outputPrepend"
    ]
   },
   "outputs": [
    {
     "output_type": "stream",
     "name": "stdout",
     "text": ": 0.028647508184589884, valid_loss: 0.01793565916950288\nFOLD: 0, EPOCH: 16, train_loss: 0.028506810489275, valid_loss: 0.017935570167458576\nFOLD: 0, EPOCH: 17, train_loss: 0.028445036575088605, valid_loss: 0.017655213889868362\nFOLD: 0, EPOCH: 18, train_loss: 0.028297741472830668, valid_loss: 0.01761211041847001\nFOLD: 0, EPOCH: 19, train_loss: 0.028219723663128474, valid_loss: 0.017595543080697888\nFOLD: 0, EPOCH: 20, train_loss: 0.028155994396108913, valid_loss: 0.01786872137175954\nFOLD: 0, EPOCH: 21, train_loss: 0.028001566075117272, valid_loss: 0.01751010427656381\nFOLD: 0, EPOCH: 22, train_loss: 0.027785866959568334, valid_loss: 0.01821190134986587\nFOLD: 0, EPOCH: 23, train_loss: 0.027627140201409075, valid_loss: 0.0175096672433226\nFOLD: 0, EPOCH: 24, train_loss: 0.02735003798871356, valid_loss: 0.017679013230878372\nFOLD: 0, EPOCH: 25, train_loss: 0.027214790790287012, valid_loss: 0.017568834733379925\nFOLD: 0, EPOCH: 26, train_loss: 0.026840403073412532, valid_loss: 0.01744842654822961\nFOLD: 0, EPOCH: 27, train_loss: 0.026415436665582305, valid_loss: 0.017344868863406387\nFOLD: 0, EPOCH: 28, train_loss: 0.02597550582140684, valid_loss: 0.017590515315532684\nFOLD: 0, EPOCH: 29, train_loss: 0.025473337825935555, valid_loss: 0.017514350743073483\nFOLD: 0, EPOCH: 30, train_loss: 0.02478076675085022, valid_loss: 0.017588037633053635\nFOLD: 0, EPOCH: 31, train_loss: 0.024018882636857385, valid_loss: 0.017654386996898964\nFOLD: 0, EPOCH: 32, train_loss: 0.02338551970965722, valid_loss: 0.01772730647707763\nFOLD: 0, EPOCH: 33, train_loss: 0.022974713390473935, valid_loss: 0.01772235929156127\nFOLD: 0, EPOCH: 34, train_loss: 0.022768588106640997, valid_loss: 0.017679614014923573\nFOLD: 1, EPOCH: 0, train_loss: 1.2143506951906062, valid_loss: 0.09720010248323281\nFOLD: 1, EPOCH: 1, train_loss: 0.05356352768010563, valid_loss: 0.021183287336801488\nFOLD: 1, EPOCH: 2, train_loss: 0.03399983078793243, valid_loss: 0.020332713300983112\nFOLD: 1, EPOCH: 3, train_loss: 0.03134489836240256, valid_loss: 0.019033870737378795\nFOLD: 1, EPOCH: 4, train_loss: 0.03243257770383799, valid_loss: 0.018870498441780608\nFOLD: 1, EPOCH: 5, train_loss: 0.030334751790872326, valid_loss: 0.018335183577922482\nFOLD: 1, EPOCH: 6, train_loss: 0.029364205496730626, valid_loss: 0.01797078689560294\nFOLD: 1, EPOCH: 7, train_loss: 0.02930747946655309, valid_loss: 0.01818558880283187\nFOLD: 1, EPOCH: 8, train_loss: 0.029045054426899662, valid_loss: 0.018150541194093723\nFOLD: 1, EPOCH: 9, train_loss: 0.02932449220507233, valid_loss: 0.01813261319572727\nFOLD: 1, EPOCH: 10, train_loss: 0.02908838865933595, valid_loss: 0.018163672260319192\nFOLD: 1, EPOCH: 11, train_loss: 0.028938781842589377, valid_loss: 0.018195245531387627\nFOLD: 1, EPOCH: 12, train_loss: 0.02891418942146831, valid_loss: 0.01802108952930818\nFOLD: 1, EPOCH: 13, train_loss: 0.028880706319102535, valid_loss: 0.017905816125373047\nFOLD: 1, EPOCH: 14, train_loss: 0.028875262483402536, valid_loss: 0.018276719143614173\nFOLD: 1, EPOCH: 15, train_loss: 0.028816222151120504, valid_loss: 0.017973548810308177\nFOLD: 1, EPOCH: 16, train_loss: 0.028774751364080996, valid_loss: 0.018021538853645325\nFOLD: 1, EPOCH: 17, train_loss: 0.028749784785840247, valid_loss: 0.017936399710985523\nFOLD: 1, EPOCH: 18, train_loss: 0.028735914550445697, valid_loss: 0.01819776083963613\nFOLD: 1, EPOCH: 19, train_loss: 0.028619035140231803, valid_loss: 0.018050054592701297\nFOLD: 1, EPOCH: 20, train_loss: 0.028498370779885186, valid_loss: 0.017803649185225368\nFOLD: 1, EPOCH: 21, train_loss: 0.02845419799840009, valid_loss: 0.017729827280466754\nFOLD: 1, EPOCH: 22, train_loss: 0.02826201356947422, valid_loss: 0.017729720294785995\nFOLD: 1, EPOCH: 23, train_loss: 0.02810844159512608, valid_loss: 0.01778127470364173\nFOLD: 1, EPOCH: 24, train_loss: 0.027915991166675532, valid_loss: 0.017641685320995748\nFOLD: 1, EPOCH: 25, train_loss: 0.027754745025325704, valid_loss: 0.01760598908488949\nFOLD: 1, EPOCH: 26, train_loss: 0.027487943473237533, valid_loss: 0.01748444528008501\nFOLD: 1, EPOCH: 27, train_loss: 0.027224286507677147, valid_loss: 0.017464037557753425\nFOLD: 1, EPOCH: 28, train_loss: 0.02691503383771137, valid_loss: 0.01746097587359448\nrecalibrate layer.weight_v\nFOLD: 1, EPOCH: 29, train_loss: 0.026565653789374564, valid_loss: 0.017435496401352186\nrecalibrate layer.weight_v\nFOLD: 1, EPOCH: 30, train_loss: 0.026210043510353123, valid_loss: 0.017371997392425936\nFOLD: 1, EPOCH: 31, train_loss: 0.025956010059626014, valid_loss: 0.01739940505164365\nFOLD: 1, EPOCH: 32, train_loss: 0.025842358806618938, valid_loss: 0.01738341513555497\nFOLD: 1, EPOCH: 33, train_loss: 0.025746720449792013, valid_loss: 0.017364231403917074\nFOLD: 1, EPOCH: 34, train_loss: 0.025690133165982034, valid_loss: 0.01736753243797769\nFOLD: 2, EPOCH: 0, train_loss: 1.2126398686976994, valid_loss: 0.09799074575952861\nFOLD: 2, EPOCH: 1, train_loss: 0.053651784437105936, valid_loss: 0.022431267344433327\nFOLD: 2, EPOCH: 2, train_loss: 0.03456869248903411, valid_loss: 1.8541235858979432\nFOLD: 2, EPOCH: 3, train_loss: 0.03232905289213009, valid_loss: 0.020397213328143825\nFOLD: 2, EPOCH: 4, train_loss: 0.03071028452969211, valid_loss: 0.01995894936439784\nFOLD: 2, EPOCH: 5, train_loss: 0.029908316401655182, valid_loss: 0.01921263717762802\nFOLD: 2, EPOCH: 6, train_loss: 0.029559053549104753, valid_loss: 0.018933267535074898\nFOLD: 2, EPOCH: 7, train_loss: 0.029291945934186086, valid_loss: 0.018937265095503433\nFOLD: 2, EPOCH: 8, train_loss: 0.0291393984328298, valid_loss: 0.019130147588641747\nFOLD: 2, EPOCH: 9, train_loss: 0.028923136223217145, valid_loss: 0.01879434554797152\nFOLD: 2, EPOCH: 10, train_loss: 0.028803711181835216, valid_loss: 0.01873429516411346\nFOLD: 2, EPOCH: 11, train_loss: 0.028761583202354172, valid_loss: 0.019043218830357426\nFOLD: 2, EPOCH: 12, train_loss: 0.028797626892543015, valid_loss: 0.01879927815626497\nFOLD: 2, EPOCH: 13, train_loss: 0.028747891623745945, valid_loss: 0.018575464658763096\nFOLD: 2, EPOCH: 14, train_loss: 0.028712263481472346, valid_loss: 0.018680538820183796\nFOLD: 2, EPOCH: 15, train_loss: 0.028750675237354112, valid_loss: 0.018926038204327873\nFOLD: 2, EPOCH: 16, train_loss: 0.028667772859882784, valid_loss: 0.01888646954751533\nFOLD: 2, EPOCH: 17, train_loss: 0.028585399418850157, valid_loss: 0.01865495020604652\nFOLD: 2, EPOCH: 18, train_loss: 0.028570016394095385, valid_loss: 0.01865707580810008\nFOLD: 2, EPOCH: 19, train_loss: 0.028485420201083318, valid_loss: 0.018634526949861775\nFOLD: 2, EPOCH: 20, train_loss: 0.02834999716073713, valid_loss: 0.01846393157282601\nFOLD: 2, EPOCH: 21, train_loss: 0.028217741534771287, valid_loss: 0.018728357577777428\nFOLD: 2, EPOCH: 22, train_loss: 0.02808978216832175, valid_loss: 0.018468607743473156\nFOLD: 2, EPOCH: 23, train_loss: 0.02800724039073376, valid_loss: 0.018573393964249153\nFOLD: 2, EPOCH: 24, train_loss: 0.027778242290129557, valid_loss: 0.0183989603234374\nFOLD: 2, EPOCH: 25, train_loss: 0.027527804020792246, valid_loss: 0.01829286506804435\nFOLD: 2, EPOCH: 26, train_loss: 0.02727289784097058, valid_loss: 0.01829936165038658\nFOLD: 2, EPOCH: 27, train_loss: 0.02697655581869185, valid_loss: 0.01815630459105191\nFOLD: 2, EPOCH: 28, train_loss: 0.026699436623055267, valid_loss: 0.018171557670702106\nFOLD: 2, EPOCH: 29, train_loss: 0.026377852636334652, valid_loss: 0.018172674488438213\nFOLD: 2, EPOCH: 30, train_loss: 0.025956566842711148, valid_loss: 0.018099305543886578\nFOLD: 2, EPOCH: 31, train_loss: 0.025600812425289082, valid_loss: 0.018095739509748375\nFOLD: 2, EPOCH: 32, train_loss: 0.025272155440795946, valid_loss: 0.018131142077238663\nFOLD: 2, EPOCH: 33, train_loss: 0.025067021947025377, valid_loss: 0.018111555432171925\nFOLD: 2, EPOCH: 34, train_loss: 0.024978457470698393, valid_loss: 0.01812642764138139\nFOLD: 3, EPOCH: 0, train_loss: 1.2120322147932123, valid_loss: 0.09464893490076065\nFOLD: 3, EPOCH: 1, train_loss: 0.05234997730483027, valid_loss: 0.021773252717178802\nFOLD: 3, EPOCH: 2, train_loss: 0.03311054833123789, valid_loss: 0.023355300335780434\nFOLD: 3, EPOCH: 3, train_loss: 0.03120346990523531, valid_loss: 0.020142943476853165\nFOLD: 3, EPOCH: 4, train_loss: 0.030820501721738017, valid_loss: 0.018552523916182312\nFOLD: 3, EPOCH: 5, train_loss: 0.029694773749831843, valid_loss: 0.01830432005226612\nFOLD: 3, EPOCH: 6, train_loss: 0.02943263086490333, valid_loss: 0.018032566684743633\nFOLD: 3, EPOCH: 7, train_loss: 0.02937061880605624, valid_loss: 0.018487528776345047\nFOLD: 3, EPOCH: 8, train_loss: 0.029312469202148562, valid_loss: 0.018112426542717476\nFOLD: 3, EPOCH: 9, train_loss: 0.029157843755777266, valid_loss: 0.018376602102880894\nFOLD: 3, EPOCH: 10, train_loss: 0.02914522693711607, valid_loss: 0.018104661094105762\nFOLD: 3, EPOCH: 11, train_loss: 0.029076560948263195, valid_loss: 0.018029746963925983\nFOLD: 3, EPOCH: 12, train_loss: 0.02904171951334266, valid_loss: 0.018145444762447605\nFOLD: 3, EPOCH: 13, train_loss: 0.029084276175126433, valid_loss: 0.018064052514407947\nFOLD: 3, EPOCH: 14, train_loss: 0.029100221102399862, valid_loss: 0.018225067092672638\nFOLD: 3, EPOCH: 15, train_loss: 0.02902294452959562, valid_loss: 0.018078840216216835\nFOLD: 3, EPOCH: 16, train_loss: 0.02902821174767964, valid_loss: 0.017787597182652225\nFOLD: 3, EPOCH: 17, train_loss: 0.02895776482353754, valid_loss: 0.018150028732159863\nFOLD: 3, EPOCH: 18, train_loss: 0.028913608026307297, valid_loss: 0.017803411039969196\nFOLD: 3, EPOCH: 19, train_loss: 0.02884856173220803, valid_loss: 0.017614849640623383\nFOLD: 3, EPOCH: 20, train_loss: 0.028664744267349735, valid_loss: 0.01802187016152817\nFOLD: 3, EPOCH: 21, train_loss: 0.02856567859485307, valid_loss: 0.017884817784247192\nFOLD: 3, EPOCH: 22, train_loss: 0.02849619075491586, valid_loss: 0.017644174477976303\nrecalibrate layer.weight_v\nFOLD: 3, EPOCH: 23, train_loss: 0.02833543041282717, valid_loss: 0.01739109453299771\nFOLD: 3, EPOCH: 24, train_loss: 0.0279504835660405, valid_loss: 0.017482809236516125\nFOLD: 3, EPOCH: 25, train_loss: 0.027747138307484633, valid_loss: 0.017244919608144657\nFOLD: 3, EPOCH: 26, train_loss: 0.027585015686995843, valid_loss: 0.017351800454375538\nrecalibrate layer.weight_v\nFOLD: 3, EPOCH: 27, train_loss: 0.027412711135933503, valid_loss: 0.01717174887333227\nrecalibrate layer.weight_v\nFOLD: 3, EPOCH: 28, train_loss: 0.027148947927772123, valid_loss: 0.017075368365191895\nFOLD: 3, EPOCH: 29, train_loss: 0.026967161020044896, valid_loss: 0.017046884755077568\nFOLD: 3, EPOCH: 30, train_loss: 0.026819884325103724, valid_loss: 0.017010588401361652\nFOLD: 3, EPOCH: 31, train_loss: 0.026684808366767624, valid_loss: 0.016995093218334343\nFOLD: 3, EPOCH: 32, train_loss: 0.02657839820227202, valid_loss: 0.017029546403690525\nFOLD: 3, EPOCH: 33, train_loss: 0.026506983716150418, valid_loss: 0.016987730060582577\nFOLD: 3, EPOCH: 34, train_loss: 0.026474170551142272, valid_loss: 0.016983059518363163\nFOLD: 4, EPOCH: 0, train_loss: 1.2085586350192041, valid_loss: 0.10152266466099283\nFOLD: 4, EPOCH: 1, train_loss: 0.05222322271369836, valid_loss: 0.02196462614380795\nFOLD: 4, EPOCH: 2, train_loss: 0.03346300604479278, valid_loss: 0.021035279349788376\nFOLD: 4, EPOCH: 3, train_loss: 0.03148249161484487, valid_loss: 0.019138095900416374\nFOLD: 4, EPOCH: 4, train_loss: 0.03016860061325133, valid_loss: 0.01863793056944142\nFOLD: 4, EPOCH: 5, train_loss: 0.029646151575862485, valid_loss: 0.018425662839866203\nFOLD: 4, EPOCH: 6, train_loss: 0.0292442856109975, valid_loss: 0.018481694809768513\nFOLD: 4, EPOCH: 7, train_loss: 0.029218008960871136, valid_loss: 0.01860408088111359\nFOLD: 4, EPOCH: 8, train_loss: 0.02912509104456095, valid_loss: 0.018410068531723126\nFOLD: 4, EPOCH: 9, train_loss: 0.029026529217577157, valid_loss: 0.01820658600848654\nFOLD: 4, EPOCH: 10, train_loss: 0.029003455015995046, valid_loss: 0.018126283934258896\nFOLD: 4, EPOCH: 11, train_loss: 0.028932259938515285, valid_loss: 0.018122447452143482\nFOLD: 4, EPOCH: 12, train_loss: 0.02901991448529503, valid_loss: 0.018325920743138893\nFOLD: 4, EPOCH: 13, train_loss: 0.028949434964862818, valid_loss: 0.018417796201032142\nFOLD: 4, EPOCH: 14, train_loss: 0.028974308824057087, valid_loss: 0.018004654380290405\nFOLD: 4, EPOCH: 15, train_loss: 0.0289531526813174, valid_loss: 0.018195178319254646\nFOLD: 4, EPOCH: 16, train_loss: 0.02890353588223019, valid_loss: 0.017972673694400684\nFOLD: 4, EPOCH: 17, train_loss: 0.028871143962640095, valid_loss: 0.018145434639376144\nFOLD: 4, EPOCH: 18, train_loss: 0.028744470958104906, valid_loss: 0.017984362724034683\nFOLD: 4, EPOCH: 19, train_loss: 0.028714047662694666, valid_loss: 0.01821863541946463\nFOLD: 4, EPOCH: 20, train_loss: 0.02862040071255144, valid_loss: 0.01789398033819769\nFOLD: 4, EPOCH: 21, train_loss: 0.028481355361530885, valid_loss: 0.017743437631946544\nFOLD: 4, EPOCH: 22, train_loss: 0.02837746310979128, valid_loss: 0.017798911780118942\nFOLD: 4, EPOCH: 23, train_loss: 0.028224060216042048, valid_loss: 0.017740227039093556\nFOLD: 4, EPOCH: 24, train_loss: 0.027985119096496525, valid_loss: 0.017678335794936054\nrecalibrate layer.weight_v\nFOLD: 4, EPOCH: 25, train_loss: 0.027618718990946516, valid_loss: 0.01760109870330147\nFOLD: 4, EPOCH: 26, train_loss: 0.02739617758540108, valid_loss: 0.01742901284571575\nFOLD: 4, EPOCH: 27, train_loss: 0.027197585030294517, valid_loss: 0.017326804849764576\nrecalibrate layer.weight_v\nFOLD: 4, EPOCH: 28, train_loss: 0.026953121688326493, valid_loss: 0.017314163077136745\nFOLD: 4, EPOCH: 29, train_loss: 0.026772305246113855, valid_loss: 0.01728366206035666\nFOLD: 4, EPOCH: 30, train_loss: 0.02655166106791619, valid_loss: 0.01730703129230634\nFOLD: 4, EPOCH: 31, train_loss: 0.026421047911486206, valid_loss: 0.01728239554263975\nFOLD: 4, EPOCH: 32, train_loss: 0.026275297202279464, valid_loss: 0.01726396458790354\nFOLD: 4, EPOCH: 33, train_loss: 0.026163184371612528, valid_loss: 0.01724330441135427\nFOLD: 4, EPOCH: 34, train_loss: 0.026147459099507508, valid_loss: 0.017238113745723083\nFOLD: 5, EPOCH: 0, train_loss: 1.2147650303428663, valid_loss: 0.10219986542411473\nFOLD: 5, EPOCH: 1, train_loss: 0.05285388316192171, valid_loss: 0.022773596093706463\nFOLD: 5, EPOCH: 2, train_loss: 0.048829615663956195, valid_loss: 0.021876111950563347\nFOLD: 5, EPOCH: 3, train_loss: 0.03279356122948229, valid_loss: 0.02160640263363071\nFOLD: 5, EPOCH: 4, train_loss: 0.0322486715089968, valid_loss: 0.02083713707068692\nFOLD: 5, EPOCH: 5, train_loss: 0.031592019819928444, valid_loss: 0.019926273385467735\nFOLD: 5, EPOCH: 6, train_loss: 0.03060475631397875, valid_loss: 0.01963497390565665\nFOLD: 5, EPOCH: 7, train_loss: 0.030145209707210168, valid_loss: 0.018827319631110066\nFOLD: 5, EPOCH: 8, train_loss: 0.029613377499010635, valid_loss: 0.01930515848748062\nFOLD: 5, EPOCH: 9, train_loss: 0.02933431546861196, valid_loss: 0.018643208212502625\nFOLD: 5, EPOCH: 10, train_loss: 0.028942940291017294, valid_loss: 0.01892047537409741\nFOLD: 5, EPOCH: 11, train_loss: 0.028873072663212523, valid_loss: 0.018675540371433548\nFOLD: 5, EPOCH: 12, train_loss: 0.02875374672550927, valid_loss: 0.01874588567601598\nFOLD: 5, EPOCH: 13, train_loss: 0.028525076792849338, valid_loss: 0.018718529087693794\nFOLD: 5, EPOCH: 14, train_loss: 0.02847012080361738, valid_loss: 0.018625571999860847\nFOLD: 5, EPOCH: 15, train_loss: 0.02840923037215629, valid_loss: 0.018361727302165134\nFOLD: 5, EPOCH: 16, train_loss: 0.028297366629190305, valid_loss: 0.018618729856351147\nFOLD: 5, EPOCH: 17, train_loss: 0.02816458250505521, valid_loss: 0.018458731958399647\nFOLD: 5, EPOCH: 18, train_loss: 0.02808037174262983, valid_loss: 0.018379135097822418\nFOLD: 5, EPOCH: 19, train_loss: 0.028031321899855837, valid_loss: 0.018281918747917465\nFOLD: 5, EPOCH: 20, train_loss: 0.027916653793962562, valid_loss: 0.0180374583148438\nFOLD: 5, EPOCH: 21, train_loss: 0.02772387834813665, valid_loss: 0.018033557976393597\nFOLD: 5, EPOCH: 22, train_loss: 0.027633301612428007, valid_loss: 0.017842543716339962\nFOLD: 5, EPOCH: 23, train_loss: 0.027528654468957994, valid_loss: 0.01822236131714738\nFOLD: 5, EPOCH: 24, train_loss: 0.02730154404964517, valid_loss: 0.018002378065948902\nFOLD: 5, EPOCH: 25, train_loss: 0.026994442964410958, valid_loss: 0.018193167310370052\nFOLD: 5, EPOCH: 26, train_loss: 0.02665580403717125, valid_loss: 0.018113417186490868\nFOLD: 5, EPOCH: 27, train_loss: 0.026303157045998993, valid_loss: 0.017963442789471668\nFOLD: 5, EPOCH: 28, train_loss: 0.02585064638953875, valid_loss: 0.017896952107548714\nFOLD: 5, EPOCH: 29, train_loss: 0.025329069508349195, valid_loss: 0.018076056978948738\nFOLD: 5, EPOCH: 30, train_loss: 0.02472677325610729, valid_loss: 0.018029628604974434\nFOLD: 5, EPOCH: 31, train_loss: 0.02399422472123714, valid_loss: 0.01813012207655803\nFOLD: 5, EPOCH: 32, train_loss: 0.023334080750560936, valid_loss: 0.018219820790640686\nFOLD: 5, EPOCH: 33, train_loss: 0.022885235409964535, valid_loss: 0.018176220883817776\nFOLD: 5, EPOCH: 34, train_loss: 0.02269601936945144, valid_loss: 0.018193163261141464\nFOLD: 6, EPOCH: 0, train_loss: 1.211898572195102, valid_loss: 0.09780922208143317\nFOLD: 6, EPOCH: 1, train_loss: 0.05309729491743971, valid_loss: 0.021580175861068394\nFOLD: 6, EPOCH: 2, train_loss: 0.03382498013567837, valid_loss: 0.04237614523457444\nFOLD: 6, EPOCH: 3, train_loss: 0.03228964531958541, valid_loss: 0.01872978452593088\nFOLD: 6, EPOCH: 4, train_loss: 0.030286327976843015, valid_loss: 0.018259318788414417\nFOLD: 6, EPOCH: 5, train_loss: 0.02954252632608747, valid_loss: 0.017954749743575634\nFOLD: 6, EPOCH: 6, train_loss: 0.0293249838081572, valid_loss: 0.017819096334278584\nFOLD: 6, EPOCH: 7, train_loss: 0.029164348304381266, valid_loss: 0.01807656653387391\nFOLD: 6, EPOCH: 8, train_loss: 0.029065706219305012, valid_loss: 0.01781744773135237\nFOLD: 6, EPOCH: 9, train_loss: 0.029093115672688272, valid_loss: 0.018428566906115284\nFOLD: 6, EPOCH: 10, train_loss: 0.028992693008416715, valid_loss: 0.017839470270859158\nFOLD: 6, EPOCH: 11, train_loss: 0.028973140069009626, valid_loss: 0.017877270832009937\nFOLD: 6, EPOCH: 12, train_loss: 0.028951087185893867, valid_loss: 0.01806690527693085\nFOLD: 6, EPOCH: 13, train_loss: 0.028974457520662862, valid_loss: 0.017603482241215912\nFOLD: 6, EPOCH: 14, train_loss: 0.028896869639592135, valid_loss: 0.017931409382625767\nFOLD: 6, EPOCH: 15, train_loss: 0.028907885679098612, valid_loss: 0.017815444456494373\nFOLD: 6, EPOCH: 16, train_loss: 0.0288605601663756, valid_loss: 0.017698887897574383\nFOLD: 6, EPOCH: 17, train_loss: 0.028825896257972893, valid_loss: 0.017846673524574093\nFOLD: 6, EPOCH: 18, train_loss: 0.028820576844736934, valid_loss: 0.01752076281801514\nFOLD: 6, EPOCH: 19, train_loss: 0.028633168515037086, valid_loss: 0.017540684860685597\nFOLD: 6, EPOCH: 20, train_loss: 0.028584293267853996, valid_loss: 0.017694658113886482\nFOLD: 6, EPOCH: 21, train_loss: 0.028482947854653877, valid_loss: 0.017513302478777325\nFOLD: 6, EPOCH: 22, train_loss: 0.02835510832750622, valid_loss: 0.017366136343258877\nFOLD: 6, EPOCH: 23, train_loss: 0.02820897602257045, valid_loss: 0.017393714950784393\nrecalibrate layer.weight_v\nFOLD: 6, EPOCH: 24, train_loss: 0.027919828398701024, valid_loss: 0.0172439096900432\nrecalibrate layer.weight_v\nFOLD: 6, EPOCH: 25, train_loss: 0.027530608424807295, valid_loss: 0.01717887632548809\nFOLD: 6, EPOCH: 26, train_loss: 0.027264416464330518, valid_loss: 0.016963026000429756\nFOLD: 6, EPOCH: 27, train_loss: 0.027084830669028795, valid_loss: 0.016986995287563488\nFOLD: 6, EPOCH: 28, train_loss: 0.026920880916911888, valid_loss: 0.0169996940733298\nrecalibrate layer.weight_v\nFOLD: 6, EPOCH: 29, train_loss: 0.026692268219502532, valid_loss: 0.016899364555011624\nFOLD: 6, EPOCH: 30, train_loss: 0.02654477868996122, valid_loss: 0.01693738170939943\nFOLD: 6, EPOCH: 31, train_loss: 0.02641490742783336, valid_loss: 0.016909636030702488\nFOLD: 6, EPOCH: 32, train_loss: 0.026314169058904928, valid_loss: 0.016903447473178738\nFOLD: 6, EPOCH: 33, train_loss: 0.026218829060192492, valid_loss: 0.016887481243390103\nFOLD: 6, EPOCH: 34, train_loss: 0.02620297984000953, valid_loss: 0.01691514557308477\n"
    }
   ],
   "source": [
    "# Averaging on multiple SEEDS\n",
    "\n",
    "# SEED = [0,1,2,3,4,5,6] #<-- Update\n",
    "SEED = [0]\n",
    "oof = np.zeros((len(train), len(target_scored_cols)))\n",
    "predictions = np.zeros((len(test), len(target_scored_cols)))\n",
    "\n",
    "# mean_scored = np.mean(train[target_scored_cols].values,axis=0)\n",
    "# mean_nscored = np.mean(train[target_nscored_cols].values,axis=0)\n",
    "# pos_scored_rate = np.log(np.where(mean_scored==0, 1e-8, mean_scored))\n",
    "# pos_nscored_rate = np.log(np.where(mean_nscored==0, 1e-8, mean_nscored))\n",
    "\n",
    "for seed in SEED:\n",
    "    \n",
    "    oof_, predictions_ = run_k_fold(NFOLDS, seed)\n",
    "    oof += oof_ / len(SEED)\n",
    "    predictions += predictions_ / len(SEED)\n",
    "\n",
    "train[target_scored_cols] = oof\n",
    "test[target_scored_cols] = predictions"
   ]
  },
  {
   "cell_type": "code",
   "execution_count": 43,
   "metadata": {
    "tags": []
   },
   "outputs": [
    {
     "output_type": "stream",
     "name": "stdout",
     "text": "CV log_loss:  0.015915461833464227\n"
    }
   ],
   "source": [
    "valid_results = train_targets_scored.drop(columns=target_scored_cols).merge(train[['sig_id']+target_scored_cols], on='sig_id', how='left').fillna(0)\n",
    "\n",
    "\n",
    "\n",
    "y_true = train_targets_scored[target_scored_cols].values\n",
    "y_pred = valid_results[target_scored_cols].values\n",
    "\n",
    "score = 0\n",
    "for i in range(len(target_scored_cols)):\n",
    "    score_ = log_loss(y_true[:, i], y_pred[:, i])\n",
    "    score += score_ / target_scored.shape[1]\n",
    "    \n",
    "print(\"CV log_loss: \", score)"
   ]
  },
  {
   "cell_type": "code",
   "execution_count": 44,
   "metadata": {
    "tags": []
   },
   "outputs": [
    {
     "output_type": "stream",
     "name": "stdout",
     "text": "0.6551242407337411\n"
    }
   ],
   "source": [
    "from sklearn.metrics import roc_auc_score\n",
    "print(roc_auc_score(y_true,y_pred))"
   ]
  },
  {
   "cell_type": "code",
   "execution_count": 45,
   "metadata": {},
   "outputs": [],
   "source": [
    "#Baseline\n",
    "#CV log_loss:  0.015877615364984873 - 0.6541240486632599\n",
    "#without kmeans CV log_loss: 0.015854058954568463 - 0.659868777535432\n",
    "#epochs 35 - CV log_loss:  0.01585343762816286 - 0.6599438843390867\n",
    "#epocjs 40 - CV log_loss:  0.01586852336393351 - 0.6557867961263701\n",
    "#all stats - CV log_loss:  0.015855185527591735 -0.6570807318381957\n",
    "\n",
    "# hidden_sizes = [1500,1200,1100,900]\n",
    "# dropout_rates = [0.25,0.2,0.2]\n",
    "#CV log_loss:  0.015865879211216915 - 0.6559542487539943\n",
    "\n",
    "# hidden_sizes = [1400,1200,1100,900]\n",
    "# dropout_rates = [0.25,0.2,0.2]\n",
    "# CV log_loss:  0.0159006577610937 - 0.6556368091911823\n",
    "\n",
    "# hidden_sizes = [1500,1400,1200,1000]\n",
    "# dropout_rates = [0.2,0.2,0.2]\n",
    "#CV log_loss:  0.015903499471456212 - 0.6545642003005651\n",
    "\n",
    "# hidden_sizes = [1500,1400,1200,1000]\n",
    "# dropout_rates = [0.2,0.2,0.2]\n",
    "# CV log_loss:  0.015902450359650298 - 0.6534999255322688\n",
    "\n",
    "# hidden_sizes = [1500,1400,1200,1000]\n",
    "# dropout_rates = [0.25,0.25,0.25]\n",
    "# CV log_loss:  0.015894421855461457 - 0.6585559568507875\n",
    "\n",
    "# hidden_sizes = [1200,1200,1100,1000]\n",
    "# dropout_rates = [0.2619422201258426,0.2619422201258426,0.2619422201258426]\n",
    "# CV log_loss:  0.015915461833464227 - 0.6551242407337411"
   ]
  },
  {
   "cell_type": "code",
   "execution_count": 46,
   "metadata": {},
   "outputs": [],
   "source": [
    "#auc .8073 -> .6541 "
   ]
  },
  {
   "cell_type": "code",
   "execution_count": 47,
   "metadata": {},
   "outputs": [],
   "source": [
    "#CV log_loss:  0.014772181976560779 - hidden size 1500\n",
    "#CV log loss:  0.014761207506656483 - hidden size 1600\n",
    "#CV log_loss:  0.014757089674479135 - hidden size 1600 + recalibrate layers\n",
    "#CV log_loss:  0.014798489345352649 - hidden size 1600 + recalibrate layers + 30epochs\n",
    "#CV log_loss:  0.014993945755985132 - hidden size 1600 + recalibrate layers - batch size 256\n",
    "#CV log_loss:  0.014925429807583115 - hidden size 1600 + recalibrate layers - batch size 256 + 50 epcohs\n",
    "#CV log_loss:  0.01501367781064934  - hidden size 1600 + recalibrate layers - batch size 256 + 50 epcohs div_factor=1e4\n",
    "#CV log_loss:  0.015038120295874759 - hidden size 1600 + recalibrate layers - batch size 256 + 50 epcohs pct_start=0.2\n",
    "#CV log_loss:  0.014925429807583115 - hidden size 1600 + recalibrate layers - batch size 256 + 50 epcohs 2*lr\n",
    "#CV log_loss:  0.014862676189325522 - hidden size 2000 + recalibrate layers - batch size 256 + 50 epcohs\n",
    "#CV log_loss:  0.014805892283163887 - hidden size 2000 + recalibrate layers - batch size 256 + 70 epcohs\n",
    "\n",
    "\n",
    "\n",
    "#CV log_loss:  0.014701033773812383 - hidden size 1000 + recalibrate layers + 30 epochs + 1layer + stats g35 c5\n",
    "#CV log_loss:  0.01470633477903798  - hidden size 1000 + recalibrate layers + 30 epochs + 1layer + stats g15 c5\n",
    "\n",
    "#CV log_loss:  0.014688195780301675 - hidden size 1000 + recalibrate layers + 30 epochs + 1layer + stats + varianceth 0.81\n",
    "\n",
    "#CV log_loss:  0.01473922963978107 - hidden size 1000 + recalibrate layers + 40 epochs + 1layer\n",
    "#CV log_loss:  0.014704245299661241 - hidden size 900 + recalibrate layers + 30 epochs + 1layer\n",
    "#CV log_loss:  0.014700136730168381 - hidden size 1100 + recalibrate layers + 30 epochs + 1layer\n",
    "\n",
    "\n",
    "#CV log_loss:  0.015298968285739336 - hidden size 1600 + recalibrate layers - batch size 64\n",
    "\n",
    "#CV log_loss:  0.014708188641129298 - hidden size 1000 + recalibrate layers + 30 epochs\n",
    "#CV log_loss:  0.014686009232339573 - hidden size 1000 + recalibrate layers + 30 epochs + 1layer\n",
    "#CV log_loss:  0.014675118998674056 - hidden size 1000 + recalibrate layers + 30 epochs + 1layer + stats\n",
    "#\n",
    "\n",
    "#CV log_loss:  0.01468776733769557 without stats\n",
    "\n",
    "\n",
    "\n",
    "\n",
    "\n",
    "#CV log_loss:  0.014751931843087755 baseline\n",
    "#CV log_loss:  0.014746491073514958 baseline + std g,c\n",
    "#CV log_loss:  0.014753663287033052 baseline + std g,c + median g,c\n",
    "#CV log_loss:  0.014747499643338137 baseline + std g,c + sum g,c + kurt g,c\n",
    "#CV log_loss:  0.014745229709145196 baseline + std g,c + sum g,c + mean g,c\n",
    "#CV log_loss:  0.014765909985927743 baseline + std g,c + sum g,c + skew g,c\n",
    "#CV log_loss:  0.01475305848080635  baseline + std g,c + sum g,c + g_var\n",
    "#CV log_loss:  0.014738260008810762 baseline + std g,c + sum g,c\n",
    "#CV log_loss:  0.014735805473683174 baseline + std g,c + sum g,c,gc\n",
    "#CV log_loss:  0.014750251194250852 baseline + std g,c,gc + sum g,c,gc\n",
    "#CV log_loss:  0.01474079804921367  baseline + std g,c + sum g,c,gc + variance 80(threshold)\n",
    "\n",
    "#CV log_loss:  0.014704018818104764 baseline + std g,c + sum g,c,gc + variance 80(threshold) &PCA\n",
    "#CV log loss:  0.014669995520015213 baseline + std g,c + sum g,c,gc + variance 80(threshold) &PCA + clusters3 - CV log_loss:  0.014520597500516905 /0.8153730747072218 (seeds)\n",
    "\n",
    "#CV log_loss:  0.014566130099844471/0.815729267497772 avec prelu, 30 epochs\n",
    "\n",
    "\n",
    "#CV log_loss:  0.014685491308574154 baseline + std g,c + sum g,c,gc + variance 80(threshold) &PCA + clusters5\n",
    "\n",
    "\n",
    "#CV log_loss:  0.015099951953285232 baseline + PCA features\n"
   ]
  },
  {
   "cell_type": "code",
   "execution_count": null,
   "metadata": {},
   "outputs": [],
   "source": []
  }
 ]
}