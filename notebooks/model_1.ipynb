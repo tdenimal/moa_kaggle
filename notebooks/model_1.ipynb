{
 "metadata": {
  "language_info": {
   "codemirror_mode": {
    "name": "ipython",
    "version": 3
   },
   "file_extension": ".py",
   "mimetype": "text/x-python",
   "name": "python",
   "nbconvert_exporter": "python",
   "pygments_lexer": "ipython3",
   "version": "3.7.9-final"
  },
  "orig_nbformat": 2,
  "kernelspec": {
   "name": "python_defaultSpec_1604751563321",
   "display_name": "Python 3.7.9 64-bit ('moa_kaggle': conda)"
  }
 },
 "nbformat": 4,
 "nbformat_minor": 2,
 "cells": [
  {
   "cell_type": "code",
   "execution_count": 192,
   "metadata": {},
   "outputs": [],
   "source": [
    "import numpy as np\n",
    "import random\n",
    "import pandas as pd\n",
    "import matplotlib.pyplot as plt\n",
    "import os\n",
    "import copy\n",
    "import seaborn as sns\n",
    "\n",
    "from iterstrat.ml_stratifiers import MultilabelStratifiedKFold\n",
    "\n",
    "\n",
    "\n",
    "from sklearn import preprocessing\n",
    "from sklearn.metrics import log_loss\n",
    "from sklearn.preprocessing import StandardScaler\n",
    "from sklearn.decomposition import PCA\n",
    "\n",
    "import torch\n",
    "import torch.nn as nn\n",
    "import torch.nn.functional as F\n",
    "import torch.optim as optim\n",
    "\n",
    "import warnings\n",
    "warnings.filterwarnings('ignore')"
   ]
  },
  {
   "cell_type": "code",
   "execution_count": 193,
   "metadata": {},
   "outputs": [],
   "source": [
    "import faiss\n",
    "import numpy as np\n",
    "\n",
    "\n",
    "class FaissKMeans:\n",
    "    def __init__(self, n_clusters=8, n_init=10, max_iter=300,seed=42):\n",
    "        self.n_clusters = n_clusters\n",
    "        self.n_init = n_init\n",
    "        self.max_iter = max_iter\n",
    "        self.kmeans = None\n",
    "        self.cluster_centers_ = None\n",
    "        self.inertia_ = None\n",
    "        self.seed = seed\n",
    "\n",
    "    def fit(self, X):\n",
    "        self.kmeans = faiss.Kmeans(d=X.shape[1],\n",
    "                                   k=self.n_clusters,\n",
    "                                   niter=self.max_iter,\n",
    "                                   nredo=self.n_init,\n",
    "                                   seed=self.seed)\n",
    "\n",
    "        self.kmeans.train(X.astype(np.float32))\n",
    "        self.cluster_centers_ = self.kmeans.centroids\n",
    "        self.inertia_ = self.kmeans.obj[-1]\n",
    "\n",
    "    def predict(self, X):\n",
    "        return self.kmeans.index.search(X.astype(np.float32), 1)[1]"
   ]
  },
  {
   "cell_type": "code",
   "execution_count": 194,
   "metadata": {},
   "outputs": [],
   "source": [
    "from sklearn.preprocessing import QuantileTransformer"
   ]
  },
  {
   "cell_type": "code",
   "execution_count": 195,
   "metadata": {},
   "outputs": [
    {
     "output_type": "execute_result",
     "data": {
      "text/plain": "['train_targets_scored.csv',\n 'sample_submission.csv',\n '.gitkeep',\n 'train_drug.csv',\n 'train_features.csv',\n 'test_features.csv',\n 'train_targets_nonscored.csv']"
     },
     "metadata": {},
     "execution_count": 195
    }
   ],
   "source": [
    "\n",
    "data_dir = '../data/01_raw'\n",
    "os.listdir(data_dir)"
   ]
  },
  {
   "cell_type": "code",
   "execution_count": 196,
   "metadata": {},
   "outputs": [],
   "source": [
    "# Parameters\n",
    "no_ctl = True\n",
    "ncompo_genes = 600\n",
    "ncompo_cells = 50"
   ]
  },
  {
   "cell_type": "code",
   "execution_count": 197,
   "metadata": {},
   "outputs": [],
   "source": [
    "train_features = pd.read_csv(data_dir+'/train_features.csv')\n",
    "train_targets_scored = pd.read_csv(data_dir+'/train_targets_scored.csv')\n",
    "train_targets_nonscored = pd.read_csv(data_dir+'/train_targets_nonscored.csv')\n",
    "\n",
    "test_features = pd.read_csv(data_dir+'/test_features.csv')\n",
    "sample_submission = pd.read_csv(data_dir+'/sample_submission.csv')\n",
    "drug = pd.read_csv(data_dir+'/train_drug.csv')"
   ]
  },
  {
   "cell_type": "code",
   "execution_count": 198,
   "metadata": {},
   "outputs": [],
   "source": [
    "targets_scored = train_targets_scored.columns[1:]\n",
    "scored = train_targets_scored.merge(drug, on='sig_id', how='left') "
   ]
  },
  {
   "cell_type": "code",
   "execution_count": 199,
   "metadata": {
    "tags": []
   },
   "outputs": [
    {
     "output_type": "stream",
     "name": "stdout",
     "text": "not_ctl\n"
    }
   ],
   "source": [
    "if no_ctl:\n",
    "    # cp_type == ctl_vehicle\n",
    "    print(\"not_ctl\")\n",
    "    train_features = train_features[train_features[\"cp_type\"] != \"ctl_vehicle\"].reset_index(drop=True)\n",
    "    test_features = test_features[test_features[\"cp_type\"] != \"ctl_vehicle\"].reset_index(drop=True)\n",
    "    train_targets_scored = train_targets_scored.iloc[train_features.index]\n",
    "    train_targets_nonscored = train_targets_nonscored.iloc[train_features.index]\n",
    "    train_features.reset_index(drop = True, inplace = True)\n",
    "    train_features.reset_index(drop = True, inplace = True)\n",
    "    train_targets_scored.reset_index(drop = True, inplace = True)\n",
    "    train_targets_nonscored.reset_index(drop = True, inplace = True)"
   ]
  },
  {
   "cell_type": "code",
   "execution_count": 200,
   "metadata": {},
   "outputs": [],
   "source": [
    "# #Indiquer si valeur dans le range max, min\n",
    "\n",
    "# import seaborn as sns\n",
    "# data = pd.concat([train_features,test_features],axis=0)\n",
    "\n",
    "# sns.distplot(data[data[\"cp_type\"] == \"ctl_vehicle\"][\"c-4\"],label=\"normal\")\n",
    "\n",
    "# sns.distplot(data[data[\"cp_type\"] == \"trt_cp\"][\"c-4\"],label=\"treated\")\n",
    "# plt.legend()\n",
    "# plt.show()"
   ]
  },
  {
   "cell_type": "code",
   "execution_count": 201,
   "metadata": {},
   "outputs": [],
   "source": [
    "# sum_targets = train_targets_scored[[c for c in train_targets_scored.columns if (c != \"sig_id\")]].sum().reset_index()"
   ]
  },
  {
   "cell_type": "code",
   "execution_count": 202,
   "metadata": {},
   "outputs": [],
   "source": [
    "# sum_targets[\"index\"] = sum_targets[\"index\"].apply(lambda x : x.replace(\"_inhibitor\",\"\"))\n",
    "# sum_targets[\"index\"] = sum_targets[\"index\"].apply(lambda x : x.replace(\"_activator\",\"\"))\n",
    "# sum_targets[\"index\"] = sum_targets[\"index\"].apply(lambda x : x.replace(\"_agonist\",\"\"))\n",
    "# sum_targets[\"index\"] = sum_targets[\"index\"].apply(lambda x : x.replace(\"_antagonist\",\"\"))"
   ]
  },
  {
   "cell_type": "code",
   "execution_count": 203,
   "metadata": {},
   "outputs": [],
   "source": [
    "GENES = [col for col in train_features.columns if col.startswith('g-')]\n",
    "CELLS = [col for col in train_features.columns if col.startswith('c-')]"
   ]
  },
  {
   "cell_type": "code",
   "execution_count": 204,
   "metadata": {},
   "outputs": [],
   "source": [
    "# from scipy import stats\n",
    "\n",
    "# train_features[GENES].apply(lambda x : stats.moment(x,moment=5),axis=1)"
   ]
  },
  {
   "cell_type": "code",
   "execution_count": 205,
   "metadata": {},
   "outputs": [],
   "source": [
    "seed=42\n",
    "\n",
    "def seed_everything(seed=42):\n",
    "    random.seed(seed)\n",
    "    os.environ['PYTHONHASHSEED'] = str(seed)\n",
    "    np.random.seed(seed)\n",
    "    torch.manual_seed(seed)\n",
    "    torch.cuda.manual_seed(seed)\n",
    "    torch.backends.cudnn.deterministic = True\n",
    "    \n",
    "seed_everything(seed)"
   ]
  },
  {
   "cell_type": "code",
   "execution_count": 206,
   "metadata": {},
   "outputs": [],
   "source": [
    "#RankGauss\n",
    "\n",
    "for col in (GENES + CELLS):\n",
    "    transformer = QuantileTransformer(n_quantiles=100,random_state=seed, output_distribution=\"normal\")\n",
    "    vec_len = len(train_features[col].values)\n",
    "    vec_len_test = len(test_features[col].values)\n",
    "    raw_vec = train_features[col].values.reshape(vec_len, 1)\n",
    "    transformer.fit(raw_vec)\n",
    "\n",
    "    train_features[col] = transformer.transform(raw_vec).reshape(1, vec_len)[0]\n",
    "    test_features[col] = transformer.transform(test_features[col].values.reshape(vec_len_test, 1)).reshape(1, vec_len_test)[0]"
   ]
  },
  {
   "cell_type": "code",
   "execution_count": 207,
   "metadata": {},
   "outputs": [],
   "source": [
    "# GENES\n",
    "n_comp = ncompo_genes \n",
    "\n",
    "data = pd.concat([pd.DataFrame(train_features[GENES]), pd.DataFrame(test_features[GENES])])\n",
    "data2 = (PCA(n_components=n_comp, random_state=42).fit_transform(data[GENES]))\n",
    "train2 = data2[:train_features.shape[0]]; test2 = data2[-test_features.shape[0]:]\n",
    "\n",
    "train2 = pd.DataFrame(train2, columns=[f'pca_G-{i}' for i in range(n_comp)])\n",
    "test2 = pd.DataFrame(test2, columns=[f'pca_G-{i}' for i in range(n_comp)])\n",
    "\n",
    "# drop_cols = [f'c-{i}' for i in range(n_comp,len(GENES))]\n",
    "train_features = pd.concat((train_features, train2), axis=1)\n",
    "test_features = pd.concat((test_features, test2), axis=1)"
   ]
  },
  {
   "cell_type": "code",
   "execution_count": 208,
   "metadata": {},
   "outputs": [],
   "source": [
    "#CELLS\n",
    "n_comp = ncompo_cells\n",
    "\n",
    "data = pd.concat([pd.DataFrame(train_features[CELLS]), pd.DataFrame(test_features[CELLS])])\n",
    "data2 = (PCA(n_components=n_comp, random_state=42).fit_transform(data[CELLS]))\n",
    "train2 = data2[:train_features.shape[0]]; test2 = data2[-test_features.shape[0]:]\n",
    "\n",
    "train2 = pd.DataFrame(train2, columns=[f'pca_C-{i}' for i in range(n_comp)])\n",
    "test2 = pd.DataFrame(test2, columns=[f'pca_C-{i}' for i in range(n_comp)])\n",
    "\n",
    "# drop_cols = [f'c-{i}' for i in range(n_comp,len(CELLS))]\n",
    "train_features = pd.concat((train_features, train2), axis=1)\n",
    "test_features = pd.concat((test_features, test2), axis=1)"
   ]
  },
  {
   "cell_type": "code",
   "execution_count": 209,
   "metadata": {},
   "outputs": [
    {
     "output_type": "execute_result",
     "data": {
      "text/plain": "(21948, 1526)"
     },
     "metadata": {},
     "execution_count": 209
    }
   ],
   "source": [
    "train_features.shape"
   ]
  },
  {
   "cell_type": "code",
   "execution_count": 210,
   "metadata": {},
   "outputs": [],
   "source": [
    "from scipy import stats\n",
    "\n",
    "def fe_stats(train, test):\n",
    "    \n",
    "    features_g = GENES\n",
    "    features_c = CELLS\n",
    "    \n",
    "    for df in train, test:\n",
    "        df['g_sum'] = df[features_g].sum(axis = 1) ## <==\n",
    "        # df['g_mean'] = df[features_g].mean(axis = 1)\n",
    "        df['g_std'] = df[features_g].std(axis = 1) ## <==\n",
    "        # df['g_kurt'] = df[features_g].kurtosis(axis = 1)\n",
    "        #df['g_skew'] = df[features_g].skew(axis = 1)\n",
    "        # df['g_q25'] = df[features_g].quantile(q=.25,axis = 1)\n",
    "        # df['g_q50'] = df[features_g].quantile(q=.5,axis = 1)\n",
    "        # df['g_q75'] = df[features_g].quantile(q=.75,axis = 1)\n",
    "        #df['g_var'] = df[features_g].apply(axis=1,func=stats.variation)\n",
    "        # df['g_mad'] = df[features_g].mad(axis = 1)\n",
    "\n",
    "\n",
    "        df['c_sum'] = df[features_c].sum(axis = 1) ## <==\n",
    "        # df['c_mean'] = df[features_c].mean(axis = 1)\n",
    "        df['c_std'] = df[features_c].std(axis = 1) ## <==\n",
    "        # df['c_kurt'] = df[features_c].kurtosis(axis = 1)\n",
    "        #df['c_skew'] = df[features_c].skew(axis = 1)\n",
    "        # df['c_q25'] = df[features_c].quantile(q=.25,axis = 1)\n",
    "        # df['c_q50'] = df[features_c].quantile(q=.5,axis = 1)\n",
    "        # df['c_q75'] = df[features_c].quantile(q=.75,axis = 1)\n",
    "        # df['c_var'] = df[features_c].apply(axis=1,func=stats.variation)\n",
    "        # df['c_mad'] = df[features_c].mad(axis = 1)\n",
    "\n",
    "\n",
    "\n",
    "        df['gc_sum'] = df[features_g + features_c].sum(axis = 1) ## <==\n",
    "        # df['gc_mean'] = df[features_g + features_c].mean(axis = 1)\n",
    "        # df['gc_std'] = df[features_g + features_c].std(axis = 1)\n",
    "        # df['gc_kurt'] = df[features_g + features_c].kurtosis(axis = 1)\n",
    "        # df['gc_skew'] = df[features_g + features_c].skew(axis = 1)\n",
    "        # df['gc_q25'] = df[features_g + features_c].quantile(q=.25,axis = 1)\n",
    "        # df['gc_q50'] = df[features_g + features_c].quantile(q=.5,axis = 1)\n",
    "        # df['gc_q75'] = df[features_g + features_c].quantile(q=.75,axis = 1)\n",
    "        # df['gc_var'] = df[features_g + features_c].apply(axis=1,func=stats.variation)\n",
    "        # df['gc_mad'] = df[features_g + features_c].mad(axis = 1)\n",
    "\n",
    "\n",
    "        \n",
    "    return train, test\n",
    "\n",
    "train_features,test_features=fe_stats(train_features,test_features)"
   ]
  },
  {
   "cell_type": "code",
   "execution_count": 211,
   "metadata": {},
   "outputs": [],
   "source": [
    "# train_features_gc = train_features[[\"sig_id\"]+GENES+CELLS].copy()\n",
    "# test_features_gc = test_features[[\"sig_id\"]+GENES+CELLS].copy()"
   ]
  },
  {
   "cell_type": "code",
   "execution_count": 212,
   "metadata": {},
   "outputs": [
    {
     "output_type": "execute_result",
     "data": {
      "text/plain": "(21948, 1047)"
     },
     "metadata": {},
     "execution_count": 212
    }
   ],
   "source": [
    "from sklearn.feature_selection import VarianceThreshold\n",
    "\n",
    "\n",
    "var_thresh = VarianceThreshold(0.8)  #<-- Update\n",
    "data = train_features.append(test_features)\n",
    "data_transformed = var_thresh.fit_transform(data.iloc[:, 4:])\n",
    "\n",
    "train_features_transformed = data_transformed[ : train_features.shape[0]]\n",
    "test_features_transformed = data_transformed[-test_features.shape[0] : ]\n",
    "\n",
    "\n",
    "train_features = pd.DataFrame(train_features[['sig_id','cp_type','cp_time','cp_dose']].values.reshape(-1, 4),\\\n",
    "                              columns=['sig_id','cp_type','cp_time','cp_dose'])\n",
    "\n",
    "train_features = pd.concat([train_features, pd.DataFrame(train_features_transformed)], axis=1)\n",
    "\n",
    "\n",
    "test_features = pd.DataFrame(test_features[['sig_id','cp_type','cp_time','cp_dose']].values.reshape(-1, 4),\\\n",
    "                             columns=['sig_id','cp_type','cp_time','cp_dose'])\n",
    "\n",
    "test_features = pd.concat([test_features, pd.DataFrame(test_features_transformed)], axis=1)\n",
    "\n",
    "train_features.shape"
   ]
  },
  {
   "cell_type": "code",
   "execution_count": 213,
   "metadata": {},
   "outputs": [],
   "source": [
    "# from sklearn.cluster import KMeans\n",
    "# def fe_cluster2(train, test, n_clusters = 3, SEED = 42):\n",
    "    \n",
    "\n",
    "#     def create_cluster(train, test, n_clusters = n_clusters):\n",
    "#         train_ = train.copy()\n",
    "#         test_ = test.copy()\n",
    "#         data = pd.concat([train_, test_], axis = 0)\n",
    "#         kmeans = KMeans(n_clusters = n_clusters, random_state = SEED).fit(data[[c for c in data.columns if c not in [\"sig_id\",\"cp_type\",\"cp_dose\",\"cp_time\"]]])\n",
    "#         train['cluster'] = kmeans.labels_[:train.shape[0]]\n",
    "#         test['cluster'] = kmeans.labels_[train.shape[0]:]\n",
    "#         train = pd.get_dummies(train, columns = ['cluster'])\n",
    "#         test = pd.get_dummies(test, columns = ['cluster'])\n",
    "#         return train, test\n",
    "    \n",
    "#     train, test = create_cluster(train, test, n_clusters = n_clusters)\n",
    "#     return train, test\n",
    "\n",
    "\n",
    "\n",
    "# train_features,test_features=fe_cluster2(train_features,test_features)\n",
    "\n"
   ]
  },
  {
   "cell_type": "code",
   "execution_count": 214,
   "metadata": {},
   "outputs": [],
   "source": [
    "# data = pd.concat([train1, test1], axis = 0)\n",
    "\n",
    "# distortion = []\n",
    "# for k in range(1,10):\n",
    "#     kmeans = KMeans(n_clusters = k, random_state = 42).fit(data)\n",
    "#     distortion += [kmeans.inertia_]\n"
   ]
  },
  {
   "cell_type": "code",
   "execution_count": 215,
   "metadata": {},
   "outputs": [],
   "source": [
    "# plt.plot(range(1,10),distortion)"
   ]
  },
  {
   "cell_type": "code",
   "execution_count": 216,
   "metadata": {},
   "outputs": [],
   "source": [
    "# train_features = train_features.merge(train_features_gc.loc[:,[col for col in train_features_gc.columns if col not in GENES+CELLS]],on=\"sig_id\")\n",
    "# test_features = test_features.merge(test_features_gc.loc[:,[col for col in test_features_gc.columns if col not in GENES+CELLS]],on=\"sig_id\")"
   ]
  },
  {
   "cell_type": "code",
   "execution_count": 217,
   "metadata": {},
   "outputs": [],
   "source": [
    "train = train_features.merge(train_targets_scored, on='sig_id')\n",
    "train = train.merge(train_targets_nonscored, on='sig_id')\n",
    "# train = train[train['cp_type']!='ctl_vehicle'].reset_index(drop=True)\n",
    "# test = test_features[test_features['cp_type']!='ctl_vehicle'].reset_index(drop=True)\n",
    "\n",
    "target_scored = train[train_targets_scored.columns]\n",
    "target_nscored = train[train_targets_nonscored.columns]"
   ]
  },
  {
   "cell_type": "code",
   "execution_count": 218,
   "metadata": {},
   "outputs": [],
   "source": [
    "train = train.drop('cp_type', axis=1)\n",
    "test = test_features.drop('cp_type', axis=1)"
   ]
  },
  {
   "cell_type": "code",
   "execution_count": 219,
   "metadata": {},
   "outputs": [],
   "source": [
    "target_scored_cols = target_scored.drop('sig_id', axis=1).columns.values.tolist()\n",
    "target_nscored_cols = target_nscored.drop('sig_id', axis=1).columns.values.tolist()"
   ]
  },
  {
   "cell_type": "code",
   "execution_count": 220,
   "metadata": {},
   "outputs": [],
   "source": [
    "# folds = train.copy()\n",
    "\n",
    "# mskf = MultilabelStratifiedKFold(n_splits=7)\n",
    "\n",
    "# for f, (t_idx, v_idx) in enumerate(mskf.split(X=train, y=target_scored)):\n",
    "#     folds.loc[v_idx, 'kfold'] = int(f)\n",
    "\n",
    "# folds['kfold'] = folds['kfold'].astype(int)\n",
    "# folds"
   ]
  },
  {
   "cell_type": "code",
   "execution_count": 221,
   "metadata": {},
   "outputs": [],
   "source": [
    "class TrainDataset:\n",
    "    def __init__(self, features, targets_scored,targets_nscored):\n",
    "        self.features = features\n",
    "        self.targets_scored = targets_scored\n",
    "        self.targets_nscored = targets_nscored\n",
    "        \n",
    "    def __len__(self):\n",
    "        return (self.features.shape[0])\n",
    "    \n",
    "    def __getitem__(self, idx):\n",
    "        dct = {\n",
    "            'x' : torch.tensor(self.features[idx, :], dtype=torch.float),\n",
    "            'y_scored' : torch.tensor(self.targets_scored[idx, :], dtype=torch.float),\n",
    "            'y_nscored' : torch.tensor(self.targets_nscored[idx, :], dtype=torch.float)           \n",
    "        }\n",
    "        return dct\n",
    "\n",
    "class ValidDataset:\n",
    "    def __init__(self, features, targets_scored):\n",
    "        self.features = features\n",
    "        self.targets_scored = targets_scored\n",
    "        \n",
    "    def __len__(self):\n",
    "        return (self.features.shape[0])\n",
    "    \n",
    "    def __getitem__(self, idx):\n",
    "        dct = {\n",
    "            'x' : torch.tensor(self.features[idx, :], dtype=torch.float),\n",
    "            'y_scored' : torch.tensor(self.targets_scored[idx, :], dtype=torch.float),          \n",
    "        }\n",
    "        return dct\n",
    "    \n",
    "class TestDataset:\n",
    "    def __init__(self, features):\n",
    "        self.features = features\n",
    "        \n",
    "    def __len__(self):\n",
    "        return (self.features.shape[0])\n",
    "    \n",
    "    def __getitem__(self, idx):\n",
    "        dct = {\n",
    "            'x' : torch.tensor(self.features[idx, :], dtype=torch.float)\n",
    "        }\n",
    "        return dct"
   ]
  },
  {
   "cell_type": "code",
   "execution_count": 222,
   "metadata": {},
   "outputs": [],
   "source": [
    "def train_fn(model, optimizer, scheduler, loss_fn, dataloader, device):\n",
    "    model.train()\n",
    "    final_loss = 0\n",
    "    \n",
    "    for data in dataloader:\n",
    "        optimizer.zero_grad()\n",
    "        inputs, targets1, targets2 = data['x'].to(device), data['y_scored'].to(device), data['y_nscored'].to(device)\n",
    "#         print(inputs.shape)\n",
    "        outputs1,outputs2 = model(inputs)\n",
    "        loss1 = loss_fn(outputs1, targets1)\n",
    "        loss2 = loss_fn(outputs2, targets2)\n",
    "        loss = loss1 + loss2\n",
    "        loss.backward()\n",
    "        optimizer.step()\n",
    "        scheduler.step()\n",
    "        \n",
    "        final_loss += loss.item()\n",
    "        \n",
    "    final_loss /= len(dataloader)\n",
    "    \n",
    "    return final_loss\n",
    "\n",
    "\n",
    "def valid_fn(model, loss_fn, dataloader, device):\n",
    "    model.eval()\n",
    "    final_loss = 0\n",
    "    valid_preds = []\n",
    "    \n",
    "    for data in dataloader:\n",
    "        inputs, targets = data['x'].to(device), data['y_scored'].to(device)\n",
    "        outputs,_ = model(inputs)\n",
    "        loss = loss_fn(outputs, targets)\n",
    "        \n",
    "        final_loss += loss.item()\n",
    "        valid_preds.append(outputs.sigmoid().detach().cpu().numpy())\n",
    "        \n",
    "\n",
    "    final_loss /= len(dataloader)\n",
    "\n",
    "\n",
    "    valid_preds = np.concatenate(valid_preds)\n",
    "    \n",
    "    return final_loss, valid_preds\n",
    "\n",
    "def inference_fn(model, dataloader, device):\n",
    "    model.eval()\n",
    "    preds = []\n",
    "    \n",
    "    for data in dataloader:\n",
    "        inputs = data['x'].to(device)\n",
    "\n",
    "        with torch.no_grad():\n",
    "            outputs,_ = model(inputs)\n",
    "        \n",
    "        preds.append(outputs.sigmoid().detach().cpu().numpy())\n",
    "        \n",
    "    preds = np.concatenate(preds)\n",
    "    \n",
    "    return preds"
   ]
  },
  {
   "cell_type": "code",
   "execution_count": 223,
   "metadata": {},
   "outputs": [],
   "source": [
    "import torch\n",
    "from torch.nn.modules.loss import _WeightedLoss\n",
    "import torch.nn.functional as F\n",
    "\n",
    "class SmoothBCEwLogits(_WeightedLoss):\n",
    "    def __init__(self, weight=None, reduction='mean', smoothing=0.0):\n",
    "        super().__init__(weight=weight, reduction=reduction)\n",
    "        self.smoothing = smoothing\n",
    "        self.weight = weight\n",
    "        self.reduction = reduction\n",
    "\n",
    "    @staticmethod\n",
    "    def _smooth(targets:torch.Tensor, n_labels:int, smoothing=0.0):\n",
    "        assert 0 <= smoothing < 1\n",
    "        with torch.no_grad():\n",
    "            targets = targets * (1.0 - smoothing) + 0.5 * smoothing\n",
    "        return targets\n",
    "\n",
    "    def forward(self, inputs, targets):\n",
    "        targets = SmoothBCEwLogits._smooth(targets, inputs.size(-1),\n",
    "            self.smoothing)\n",
    "        loss = F.binary_cross_entropy_with_logits(inputs, targets,self.weight)\n",
    "\n",
    "        if  self.reduction == 'sum':\n",
    "            loss = loss.sum()\n",
    "        elif  self.reduction == 'mean':\n",
    "            loss = loss.mean()\n",
    "\n",
    "        return loss"
   ]
  },
  {
   "cell_type": "code",
   "execution_count": 224,
   "metadata": {},
   "outputs": [],
   "source": [
    "class Model(nn.Module):\n",
    "    def __init__(self, num_features, num_targets_scored,num_targets_nscored, hidden_size,dropout_rate):\n",
    "        super(Model, self).__init__()\n",
    "        self.batch_norm1 = nn.BatchNorm1d(num_features)\n",
    "        self.dense1 = nn.utils.weight_norm(nn.Linear(num_features, hidden_size))\n",
    "        self.activation1 = torch.nn.PReLU(num_parameters = hidden_size, init = 1.0)\n",
    "        \n",
    "        self.batch_norm2 = nn.BatchNorm1d(hidden_size)\n",
    "        self.dropout2 = nn.Dropout(dropout_rate)\n",
    "        self.dense2 = nn.utils.weight_norm(nn.Linear(hidden_size, hidden_size))\n",
    "        self.activation2 = torch.nn.PReLU(num_parameters = hidden_size, init = 1.0)\n",
    "\n",
    "\n",
    "        self.batch_norm2b = nn.BatchNorm1d(hidden_size)\n",
    "        self.dropout2b = nn.Dropout(dropout_rate)\n",
    "        self.dense2b = nn.utils.weight_norm(nn.Linear(hidden_size, hidden_size))\n",
    "        self.activation2b = torch.nn.PReLU(num_parameters = hidden_size, init = 1.0)\n",
    "        \n",
    "        self.batch_norm3 = nn.BatchNorm1d(hidden_size)\n",
    "        self.dropout3 = nn.Dropout(dropout_rate)\n",
    "        self.dense3 = nn.utils.weight_norm(nn.Linear(hidden_size, num_targets_scored))\n",
    "        self.dense4 = nn.utils.weight_norm(nn.Linear(hidden_size, num_targets_nscored))\n",
    "\n",
    "    def init_bias(self,pos_scored_rate,pos_nscored_rate):\n",
    "        self.dense3.bias.data = nn.Parameter(torch.tensor(pos_scored_rate, dtype=torch.float))\n",
    "        self.dense4.bias.data = nn.Parameter(torch.tensor(pos_nscored_rate, dtype=torch.float))\n",
    "    \n",
    "    def recalibrate_layer(self, layer):\n",
    "        if(torch.isnan(layer.weight_v).sum() > 0):\n",
    "            print ('recalibrate layer.weight_v')\n",
    "            layer.weight_v = torch.nn.Parameter(torch.where(torch.isnan(layer.weight_v), torch.zeros_like(layer.weight_v), layer.weight_v))\n",
    "            layer.weight_v = torch.nn.Parameter(layer.weight_v + 1e-7)\n",
    "\n",
    "        if(torch.isnan(layer.weight).sum() > 0):\n",
    "            print ('recalibrate layer.weight')\n",
    "            layer.weight = torch.where(torch.isnan(layer.weight), torch.zeros_like(layer.weight), layer.weight)\n",
    "            layer.weight += 1e-7\n",
    "\n",
    "    def forward(self, x):\n",
    "        x = self.batch_norm1(x)\n",
    "        self.recalibrate_layer(self.dense1)\n",
    "        x = self.activation1(self.dense1(x))\n",
    "        \n",
    "        x = self.batch_norm2(x)\n",
    "        x = self.dropout2(x)\n",
    "        self.recalibrate_layer(self.dense2)\n",
    "        x = self.activation2(self.dense2(x))\n",
    "\n",
    "        x = self.batch_norm2b(x)\n",
    "        x = self.dropout2b(x)\n",
    "        self.recalibrate_layer(self.dense2b)\n",
    "        x = self.activation2b(self.dense2b(x))\n",
    "        \n",
    "        x = self.batch_norm3(x)\n",
    "        x = self.dropout3(x)\n",
    "        self.recalibrate_layer(self.dense3)\n",
    "        x1 = self.dense3(x)\n",
    "\n",
    "        self.recalibrate_layer(self.dense4)\n",
    "        x2 = self.dense4(x)\n",
    "        return x1,x2\n",
    "    \n",
    "class LabelSmoothingLoss(nn.Module):\n",
    "    def __init__(self, classes, smoothing=0.0, dim=-1):\n",
    "        super(LabelSmoothingLoss, self).__init__()\n",
    "        self.confidence = 1.0 - smoothing\n",
    "        self.smoothing = smoothing\n",
    "        self.cls = classes\n",
    "        self.dim = dim\n",
    "\n",
    "    def forward(self, pred, target):\n",
    "        pred = pred.log_softmax(dim=self.dim)\n",
    "        with torch.no_grad():\n",
    "            # true_dist = pred.data.clone()\n",
    "            true_dist = torch.zeros_like(pred)\n",
    "            true_dist.fill_(self.smoothing / (self.cls - 1))\n",
    "            true_dist.scatter_(1, target.data.unsqueeze(1), self.confidence)\n",
    "        return torch.mean(torch.sum(-true_dist * pred, dim=self.dim))"
   ]
  },
  {
   "cell_type": "code",
   "execution_count": 225,
   "metadata": {},
   "outputs": [],
   "source": [
    "def process_data(data):\n",
    "    data = pd.get_dummies(data, columns=['cp_time','cp_dose'])\n",
    "    return data"
   ]
  },
  {
   "cell_type": "code",
   "execution_count": 226,
   "metadata": {},
   "outputs": [],
   "source": [
    "# HyperParameters\n",
    "\n",
    "DEVICE = ('cuda' if torch.cuda.is_available() else 'cpu')\n",
    "#EPOCHS = 35\n",
    "EPOCHS = 300 #200\n",
    "PATIENCE=40\n",
    "\n",
    "BATCH_SIZE = 128\n",
    "LEARNING_RATE = 1e-3\n",
    "WEIGHT_DECAY = 1e-5\n",
    "NFOLDS = 7           \n",
    "EARLY_STOPPING_STEPS = PATIENCE+5\n",
    "EARLY_STOP = True\n",
    "\n",
    "#hidden_size=1500\n",
    "hidden_size=1000\n",
    "dropout_rate = 0.2619422201258426\n",
    "#dropout_rate = 0.28\n"
   ]
  },
  {
   "cell_type": "code",
   "execution_count": 227,
   "metadata": {},
   "outputs": [],
   "source": [
    "# LOCATE DRUGS\n",
    "vc = scored.drug_id.value_counts()\n",
    "vc1 = vc.loc[vc<=18].index.sort_values()\n",
    "vc2 = vc.loc[vc>18].index.sort_values()\n",
    "\n",
    "# STRATIFY DRUGS 18X OR LESS\n",
    "dct1 = {}; dct2 = {}\n",
    "skf = MultilabelStratifiedKFold(n_splits=NFOLDS, shuffle=True, \n",
    "          random_state=seed)\n",
    "tmp = scored.groupby('drug_id')[targets_scored].mean().loc[vc1]\n",
    "for fold,(idxT,idxV) in enumerate( skf.split(tmp,tmp[targets_scored])):\n",
    "    dd = {k:fold for k in tmp.index[idxV].values}\n",
    "    dct1.update(dd)\n",
    "\n",
    "# STRATIFY DRUGS MORE THAN 18X\n",
    "skf = MultilabelStratifiedKFold(n_splits=NFOLDS, shuffle=True, \n",
    "          random_state=seed)\n",
    "tmp = scored.loc[scored.drug_id.isin(vc2)].reset_index(drop=True)\n",
    "for fold,(idxT,idxV) in enumerate( skf.split(tmp,tmp[targets_scored])):\n",
    "    dd = {k:fold for k in tmp.sig_id[idxV].values}\n",
    "    dct2.update(dd)\n",
    "\n",
    "# ASSIGN FOLDS\n",
    "folds = train.merge(drug,on=\"sig_id\")\n",
    "folds['fold'] = folds.drug_id.map(dct1)\n",
    "folds.loc[folds.fold.isna(),'fold'] =\\\n",
    "    folds.loc[folds.fold.isna(),'sig_id'].map(dct2)\n",
    "folds.fold = folds.fold.astype('int8')"
   ]
  },
  {
   "cell_type": "code",
   "execution_count": 228,
   "metadata": {},
   "outputs": [
    {
     "output_type": "execute_result",
     "data": {
      "text/plain": "1048"
     },
     "metadata": {},
     "execution_count": 228
    }
   ],
   "source": [
    "feature_cols = [c for c in process_data(train).columns if c not in (target_scored_cols + target_nscored_cols)]\n",
    "feature_cols = [c for c in feature_cols if c not in ['fold','sig_id']]\n",
    "len(feature_cols)"
   ]
  },
  {
   "cell_type": "code",
   "execution_count": 229,
   "metadata": {},
   "outputs": [],
   "source": [
    "num_features=len(feature_cols)\n",
    "num_targets_scored=len(target_scored_cols)\n",
    "num_targets_nscored=len(target_nscored_cols)"
   ]
  },
  {
   "cell_type": "code",
   "execution_count": 230,
   "metadata": {
    "tags": []
   },
   "outputs": [
    {
     "output_type": "stream",
     "name": "stdout",
     "text": "(20228, 1654)\n(20228, 1656)\n(3624, 1046)\n(20228, 207)\n(20228, 403)\n(3982, 207)\n"
    }
   ],
   "source": [
    "print(train.shape)\n",
    "print(folds.shape)\n",
    "print(test.shape)\n",
    "print(target_scored.shape)\n",
    "print(target_nscored.shape)\n",
    "print(sample_submission.shape)"
   ]
  },
  {
   "cell_type": "code",
   "execution_count": 231,
   "metadata": {},
   "outputs": [],
   "source": [
    "def run_training(fold, seed):\n",
    "    \n",
    "    seed_everything(seed)\n",
    "    \n",
    "    train = process_data(folds)\n",
    "    test_ = process_data(test)\n",
    "\n",
    "    \n",
    "    trn_idx = train[train['fold'] != fold].index\n",
    "    val_idx = train[train['fold'] == fold].index\n",
    "    \n",
    "    train_df = train[train['fold'] != fold].reset_index(drop=True)\n",
    "    valid_df = train[train['fold'] == fold].reset_index(drop=True)\n",
    "    \n",
    "    x_train, y_scored_train, y_nscored_train  = train_df[feature_cols].values, train_df[target_scored_cols].values, train_df[target_nscored_cols].values\n",
    "    x_valid, y_scored_valid =  valid_df[feature_cols].values, valid_df[target_scored_cols].values\n",
    "    \n",
    "    train_dataset = TrainDataset(x_train, y_scored_train, y_nscored_train)\n",
    "    valid_dataset = ValidDataset(x_valid, y_scored_valid)\n",
    "    trainloader = torch.utils.data.DataLoader(train_dataset, batch_size=BATCH_SIZE, shuffle=True)\n",
    "    validloader = torch.utils.data.DataLoader(valid_dataset, batch_size=BATCH_SIZE, shuffle=False)\n",
    "    \n",
    "    model = Model(\n",
    "        num_features=num_features,\n",
    "        num_targets_scored=num_targets_scored,\n",
    "        num_targets_nscored=num_targets_nscored,\n",
    "        hidden_size=hidden_size,\n",
    "        dropout_rate=dropout_rate,\n",
    "    )\n",
    "\n",
    "    # model.init_bias(pos_scored_rate,pos_nscored_rate)\n",
    "\n",
    "    model.to(DEVICE)\n",
    "    \n",
    "    optimizer = torch.optim.Adam(model.parameters(), lr=LEARNING_RATE, weight_decay=WEIGHT_DECAY)\n",
    "    scheduler = optim.lr_scheduler.OneCycleLR(optimizer=optimizer,pct_start=0.1, div_factor=1e4, final_div_factor=1e5,\n",
    "                                              max_lr=1e-2, epochs=EPOCHS, steps_per_epoch=len(trainloader))\n",
    "\n",
    "\n",
    "    #scheduler = optim.lr_scheduler.ReduceLROnPlateau(optimizer=optimizer,mode = \"min\", patience = PATIENCE, min_lr = 1e-6, factor = 0.9)\n",
    "    \n",
    "    loss_fn = nn.BCEWithLogitsLoss()\n",
    "    loss_tr = SmoothBCEwLogits(smoothing =0.001)\n",
    "    \n",
    "    early_stopping_steps = EARLY_STOPPING_STEPS\n",
    "    early_step = 0\n",
    "   \n",
    "    oof = np.zeros((len(train), target_scored.iloc[:, 1:].shape[1]))\n",
    "    best_loss = np.inf\n",
    "    \n",
    "    for epoch in range(EPOCHS):\n",
    "        \n",
    "        train_loss = train_fn(model, optimizer,scheduler, loss_tr, trainloader, DEVICE)\n",
    "        valid_loss, valid_preds = valid_fn(model, loss_fn, validloader, DEVICE)\n",
    "        print(f\"FOLD: {fold}, EPOCH: {epoch}, train_loss: {train_loss}, valid_loss: {valid_loss}\")\n",
    "        #scheduler.step(valid_loss)\n",
    "        \n",
    "        if valid_loss < best_loss:\n",
    "            \n",
    "            best_loss = valid_loss\n",
    "            oof[val_idx] = valid_preds\n",
    "            torch.save(model.state_dict(), f\"FOLD{fold}_.pth\")\n",
    "        \n",
    "        elif(EARLY_STOP == True):\n",
    "            \n",
    "            early_step += 1\n",
    "            if (early_step >= early_stopping_steps):\n",
    "                break\n",
    "            \n",
    "    \n",
    "    #--------------------- PREDICTION---------------------\n",
    "    x_test = test_[feature_cols].values\n",
    "    testdataset = TestDataset(x_test)\n",
    "    testloader = torch.utils.data.DataLoader(testdataset, batch_size=BATCH_SIZE, shuffle=False)\n",
    "    \n",
    "    model = Model(\n",
    "        num_features=num_features,\n",
    "        num_targets_scored=num_targets_scored,\n",
    "        num_targets_nscored=num_targets_nscored,\n",
    "        hidden_size=hidden_size,\n",
    "        dropout_rate=dropout_rate\n",
    "    )\n",
    "    \n",
    "    model.load_state_dict(torch.load(f\"FOLD{fold}_.pth\"))\n",
    "    model.to(DEVICE)\n",
    "    \n",
    "    predictions = np.zeros((len(test_), target_scored.iloc[:, 1:].shape[1]))\n",
    "    predictions = inference_fn(model, testloader, DEVICE)\n",
    "    \n",
    "    return oof, predictions"
   ]
  },
  {
   "cell_type": "code",
   "execution_count": 232,
   "metadata": {},
   "outputs": [],
   "source": [
    "def run_k_fold(NFOLDS, seed):\n",
    "    oof = np.zeros((len(train), len(target_scored_cols)))\n",
    "    predictions = np.zeros((len(test), len(target_scored_cols)))\n",
    "    \n",
    "    for fold in range(NFOLDS):\n",
    "        oof_, pred_ = run_training(fold, seed)\n",
    "        \n",
    "        predictions += pred_ / NFOLDS\n",
    "        oof += oof_\n",
    "        \n",
    "    return oof, predictions"
   ]
  },
  {
   "cell_type": "code",
   "execution_count": 233,
   "metadata": {
    "tags": []
   },
   "outputs": [
    {
     "output_type": "stream",
     "name": "stdout",
     "text": "FOLD: 0, EPOCH: 0, train_loss: 0.7100230056573363, valid_loss: 0.06298278628484062\nFOLD: 0, EPOCH: 1, train_loss: 0.07386666574679754, valid_loss: 0.0277830909775651\nFOLD: 0, EPOCH: 2, train_loss: 0.04261070547406288, valid_loss: 0.023268655914327373\nFOLD: 0, EPOCH: 3, train_loss: 0.036808370557778025, valid_loss: 0.021836809247084286\nFOLD: 0, EPOCH: 4, train_loss: 0.03420384299448308, valid_loss: 0.02082375696171885\nFOLD: 0, EPOCH: 5, train_loss: 0.032647419323706454, valid_loss: 0.019990439243290737\nFOLD: 0, EPOCH: 6, train_loss: 0.032018078107605964, valid_loss: 0.02193804749328157\nFOLD: 0, EPOCH: 7, train_loss: 0.031125270035665703, valid_loss: 0.019080265708591625\nFOLD: 0, EPOCH: 8, train_loss: 0.030483116628602147, valid_loss: 0.01849356820078\nFOLD: 0, EPOCH: 9, train_loss: 0.030317508478594178, valid_loss: 0.018446685422373856\nFOLD: 0, EPOCH: 10, train_loss: 0.029899670673972544, valid_loss: 0.018465962989822678\nFOLD: 0, EPOCH: 11, train_loss: 0.02987897298846613, valid_loss: 0.018104648298543434\nFOLD: 0, EPOCH: 12, train_loss: 0.029155557947781158, valid_loss: 0.01786142198935799\nFOLD: 0, EPOCH: 13, train_loss: 0.029203003833946937, valid_loss: 0.01823250900792039\nFOLD: 0, EPOCH: 14, train_loss: 0.02894870949196903, valid_loss: 0.017797040388635967\nFOLD: 0, EPOCH: 15, train_loss: 0.028378423002055463, valid_loss: 0.01805703115204106\nFOLD: 0, EPOCH: 16, train_loss: 0.028097802156801608, valid_loss: 0.01771452877184619\nFOLD: 0, EPOCH: 17, train_loss: 0.02781990433440489, valid_loss: 0.017571912106612454\nFOLD: 0, EPOCH: 18, train_loss: 0.02760625918231466, valid_loss: 0.017878367039172546\nFOLD: 0, EPOCH: 19, train_loss: 0.026927363730090505, valid_loss: 0.01772817957174519\nFOLD: 0, EPOCH: 20, train_loss: 0.026886240880498114, valid_loss: 0.017724526236238686\nFOLD: 0, EPOCH: 21, train_loss: 0.026242037207874304, valid_loss: 0.017800441173755604\nFOLD: 0, EPOCH: 22, train_loss: 0.025799089275738773, valid_loss: 0.01798954355004041\nFOLD: 0, EPOCH: 23, train_loss: 0.02522493724930374, valid_loss: 0.018212300765773525\nFOLD: 0, EPOCH: 24, train_loss: 0.024906898013261312, valid_loss: 0.018332703767911247\nFOLD: 0, EPOCH: 25, train_loss: 0.02461122998091228, valid_loss: 0.0184100860648829\nFOLD: 0, EPOCH: 26, train_loss: 0.023882462218513385, valid_loss: 0.01856077146594939\nFOLD: 0, EPOCH: 27, train_loss: 0.02339032355367261, valid_loss: 0.018803813778187916\nFOLD: 0, EPOCH: 28, train_loss: 0.022995438440428936, valid_loss: 0.019043966155985127\nFOLD: 0, EPOCH: 29, train_loss: 0.022570384871762467, valid_loss: 0.01910520984750727\nFOLD: 0, EPOCH: 30, train_loss: 0.021934912252404234, valid_loss: 0.019345002734790676\nFOLD: 0, EPOCH: 31, train_loss: 0.021563800133983877, valid_loss: 0.019478632218163948\nFOLD: 0, EPOCH: 32, train_loss: 0.021181248895385685, valid_loss: 0.01992936116521773\nFOLD: 0, EPOCH: 33, train_loss: 0.020815347047413096, valid_loss: 0.0197177122792472\nFOLD: 0, EPOCH: 34, train_loss: 0.020416988867937642, valid_loss: 0.019794491079190502\nFOLD: 0, EPOCH: 35, train_loss: 0.02011613139663549, valid_loss: 0.020015350988377697\nFOLD: 0, EPOCH: 36, train_loss: 0.019801453673554695, valid_loss: 0.020074063993018608\nFOLD: 0, EPOCH: 37, train_loss: 0.019617655204937738, valid_loss: 0.02000605306871559\nFOLD: 0, EPOCH: 38, train_loss: 0.019205118556890416, valid_loss: 0.020072727180693462\nFOLD: 0, EPOCH: 39, train_loss: 0.018996358794324538, valid_loss: 0.02025458159977975\nFOLD: 0, EPOCH: 40, train_loss: 0.01862037254442625, valid_loss: 0.020208040900204494\nFOLD: 0, EPOCH: 41, train_loss: 0.018490748726488912, valid_loss: 0.020477560713239338\nFOLD: 0, EPOCH: 42, train_loss: 0.01836058568647679, valid_loss: 0.02030940224295077\nFOLD: 0, EPOCH: 43, train_loss: 0.01823185429470066, valid_loss: 0.02042735756739326\nFOLD: 0, EPOCH: 44, train_loss: 0.017909507527399587, valid_loss: 0.020303015556672344\nFOLD: 0, EPOCH: 45, train_loss: 0.017724759712377015, valid_loss: 0.02044056242574816\nFOLD: 0, EPOCH: 46, train_loss: 0.017752636114464086, valid_loss: 0.020304540415172993\nFOLD: 0, EPOCH: 47, train_loss: 0.017575569560422617, valid_loss: 0.020755344920832176\nFOLD: 0, EPOCH: 48, train_loss: 0.017374098520068562, valid_loss: 0.02039043362373891\nFOLD: 0, EPOCH: 49, train_loss: 0.017475980744861504, valid_loss: 0.020758292354319408\nFOLD: 0, EPOCH: 50, train_loss: 0.017219610690303585, valid_loss: 0.02045913510348486\nFOLD: 0, EPOCH: 51, train_loss: 0.01715454618063043, valid_loss: 0.020576072127922722\nFOLD: 0, EPOCH: 52, train_loss: 0.01697141384048497, valid_loss: 0.020870946023775185\nFOLD: 0, EPOCH: 53, train_loss: 0.01685954471502234, valid_loss: 0.02077434981322807\nFOLD: 0, EPOCH: 54, train_loss: 0.01670679752030136, valid_loss: 0.020626782642110535\nFOLD: 0, EPOCH: 55, train_loss: 0.016726166448172403, valid_loss: 0.020765521037189857\nFOLD: 0, EPOCH: 56, train_loss: 0.016773789107580397, valid_loss: 0.020691630551996437\nFOLD: 0, EPOCH: 57, train_loss: 0.016523442552972806, valid_loss: 0.020704738876741867\nrecalibrate layer.weight_v\nFOLD: 0, EPOCH: 58, train_loss: 0.01621557365390746, valid_loss: 0.020544117073649944\nFOLD: 1, EPOCH: 0, train_loss: 0.7108234142815625, valid_loss: 0.0606059351315101\nFOLD: 1, EPOCH: 1, train_loss: 0.07531020751705876, valid_loss: 0.02776396266805629\nFOLD: 1, EPOCH: 2, train_loss: 0.043119880750223445, valid_loss: 0.023115568095818162\nFOLD: 1, EPOCH: 3, train_loss: 0.03690487309186547, valid_loss: 0.02162758392902712\nFOLD: 1, EPOCH: 4, train_loss: 0.034672387703149406, valid_loss: 0.02089600986801088\nFOLD: 1, EPOCH: 5, train_loss: 0.03299019362915445, valid_loss: 0.02001243783161044\nFOLD: 1, EPOCH: 6, train_loss: 0.03154136501252651, valid_loss: 0.01934211755481859\nFOLD: 1, EPOCH: 7, train_loss: 0.030700160287044666, valid_loss: 0.018718572876726586\nFOLD: 1, EPOCH: 8, train_loss: 0.029998928018742137, valid_loss: 0.018460265632408362\nFOLD: 1, EPOCH: 9, train_loss: 0.029892112425080053, valid_loss: 0.019062359118834138\nFOLD: 1, EPOCH: 10, train_loss: 0.02989773921392582, valid_loss: 0.01813595350055645\nFOLD: 1, EPOCH: 11, train_loss: 0.02900985466937224, valid_loss: 0.018063722217145067\nFOLD: 1, EPOCH: 12, train_loss: 0.02866252867711915, valid_loss: 0.017838173895142972\nFOLD: 1, EPOCH: 13, train_loss: 0.0308570495772141, valid_loss: 0.018146507286777098\nFOLD: 1, EPOCH: 14, train_loss: 0.02847792350307659, valid_loss: 0.01775663342171659\nFOLD: 1, EPOCH: 15, train_loss: 0.0280240283244186, valid_loss: 0.017732720899706084\nFOLD: 1, EPOCH: 16, train_loss: 0.02803500616164119, valid_loss: 0.017697847681120038\nFOLD: 1, EPOCH: 17, train_loss: 0.027279975292859256, valid_loss: 0.017748560446004074\nFOLD: 1, EPOCH: 18, train_loss: 0.02713465999673914, valid_loss: 0.017836228633920353\nFOLD: 1, EPOCH: 19, train_loss: 0.02663386822850616, valid_loss: 0.017916992655955255\nFOLD: 1, EPOCH: 20, train_loss: 0.026246117607310965, valid_loss: 0.01802932028658688\nFOLD: 1, EPOCH: 21, train_loss: 0.025737128144613017, valid_loss: 0.018149584531784058\nFOLD: 1, EPOCH: 22, train_loss: 0.02544007108167366, valid_loss: 0.018124516936950386\nFOLD: 1, EPOCH: 23, train_loss: 0.02479908584996506, valid_loss: 0.018275769311003387\nFOLD: 1, EPOCH: 24, train_loss: 0.02459017777884448, valid_loss: 0.018499019866188366\nFOLD: 1, EPOCH: 25, train_loss: 0.024038525491401, valid_loss: 0.018686478996338945\nFOLD: 1, EPOCH: 26, train_loss: 0.023467786872276554, valid_loss: 0.019124985478507977\nFOLD: 1, EPOCH: 27, train_loss: 0.022897193994787006, valid_loss: 0.0190370676961417\nFOLD: 1, EPOCH: 28, train_loss: 0.022328100422466243, valid_loss: 0.019447512226179242\nFOLD: 1, EPOCH: 29, train_loss: 0.02178578305023688, valid_loss: 0.01932908532520135\nFOLD: 1, EPOCH: 30, train_loss: 0.02151407820207101, valid_loss: 0.01955828086162607\nFOLD: 1, EPOCH: 31, train_loss: 0.02089773442734171, valid_loss: 0.019715375422189634\nFOLD: 1, EPOCH: 32, train_loss: 0.020610979351180572, valid_loss: 0.019905692664906383\nFOLD: 1, EPOCH: 33, train_loss: 0.020143857639696863, valid_loss: 0.019760369090363383\nFOLD: 1, EPOCH: 34, train_loss: 0.019796150964167383, valid_loss: 0.02003272979830702\nFOLD: 1, EPOCH: 35, train_loss: 0.019436147091565308, valid_loss: 0.019976161420345306\nFOLD: 1, EPOCH: 36, train_loss: 0.01929692191382249, valid_loss: 0.020147199044004083\nFOLD: 1, EPOCH: 37, train_loss: 0.018885018069435048, valid_loss: 0.020229988343392808\nFOLD: 1, EPOCH: 38, train_loss: 0.018695388982693354, valid_loss: 0.020232711064939696\nFOLD: 1, EPOCH: 39, train_loss: 0.018488158547767888, valid_loss: 0.020421880297362804\nFOLD: 1, EPOCH: 40, train_loss: 0.01819131124626707, valid_loss: 0.020538752200081944\nFOLD: 1, EPOCH: 41, train_loss: 0.017965166477693452, valid_loss: 0.020334901055321097\nFOLD: 1, EPOCH: 42, train_loss: 0.017708346992731095, valid_loss: 0.02040010248310864\nFOLD: 1, EPOCH: 43, train_loss: 0.017617630572230727, valid_loss: 0.02035125244098405\nFOLD: 1, EPOCH: 44, train_loss: 0.017624813883944795, valid_loss: 0.02007208492917319\nFOLD: 1, EPOCH: 45, train_loss: 0.01733992905528457, valid_loss: 0.020769333699718118\nFOLD: 1, EPOCH: 46, train_loss: 0.017160350339556183, valid_loss: 0.020653714270641405\nFOLD: 1, EPOCH: 47, train_loss: 0.017249843222951446, valid_loss: 0.02051247749477625\nFOLD: 1, EPOCH: 48, train_loss: 0.017070121869996742, valid_loss: 0.020454363819832604\nFOLD: 1, EPOCH: 49, train_loss: 0.01686581847154432, valid_loss: 0.020634507372354467\nFOLD: 1, EPOCH: 50, train_loss: 0.016909277287346345, valid_loss: 0.020430544624105096\nFOLD: 1, EPOCH: 51, train_loss: 0.01672257508530661, valid_loss: 0.020517137212057907\nFOLD: 1, EPOCH: 52, train_loss: 0.01653770307699839, valid_loss: 0.02059413872969647\nFOLD: 1, EPOCH: 53, train_loss: 0.016621351842251088, valid_loss: 0.02051078574731946\nFOLD: 1, EPOCH: 54, train_loss: 0.016456436952231108, valid_loss: 0.020515058500071365\nFOLD: 1, EPOCH: 55, train_loss: 0.01646457890531531, valid_loss: 0.020489423535764217\nFOLD: 1, EPOCH: 56, train_loss: 0.016254321306391997, valid_loss: 0.020811094514404733\nFOLD: 1, EPOCH: 57, train_loss: 0.016171670856851117, valid_loss: 0.020786487807830174\nrecalibrate layer.weight_v\nFOLD: 1, EPOCH: 58, train_loss: 0.015507699783753466, valid_loss: 0.020498934512337048\nFOLD: 1, EPOCH: 59, train_loss: 0.015185511305376336, valid_loss: 0.02076058097494145\nFOLD: 2, EPOCH: 0, train_loss: 0.7089891056804096, valid_loss: 0.061482388688170395\nFOLD: 2, EPOCH: 1, train_loss: 0.073479519910453, valid_loss: 0.029750482705624207\nFOLD: 2, EPOCH: 2, train_loss: 0.043330577202141285, valid_loss: 0.023710808676222096\nFOLD: 2, EPOCH: 3, train_loss: 0.036799972329069584, valid_loss: 0.022568038381312206\nFOLD: 2, EPOCH: 4, train_loss: 0.034986658103983194, valid_loss: 0.02182761749819569\nFOLD: 2, EPOCH: 5, train_loss: 0.03303937770097571, valid_loss: 0.02113714004340379\nFOLD: 2, EPOCH: 6, train_loss: 0.03163843811489642, valid_loss: 0.020223594716061718\nFOLD: 2, EPOCH: 7, train_loss: 0.030730327933698016, valid_loss: 0.019443748113901718\nFOLD: 2, EPOCH: 8, train_loss: 0.030377444249632603, valid_loss: 0.019324195044844047\nFOLD: 2, EPOCH: 9, train_loss: 0.030060757252880755, valid_loss: 0.02078806608915329\nFOLD: 2, EPOCH: 10, train_loss: 0.02991214323350612, valid_loss: 0.0187908084658177\nFOLD: 2, EPOCH: 11, train_loss: 0.02925973355441409, valid_loss: 0.020722795763741367\nFOLD: 2, EPOCH: 12, train_loss: 0.02986673227346995, valid_loss: 0.018830430410478428\nFOLD: 2, EPOCH: 13, train_loss: 0.028865867102628246, valid_loss: 0.018577126219220783\nFOLD: 2, EPOCH: 14, train_loss: 0.028192910146625602, valid_loss: 0.018582742256314858\nFOLD: 2, EPOCH: 15, train_loss: 0.02809933929101509, valid_loss: 0.018552592429129974\nFOLD: 2, EPOCH: 16, train_loss: 0.027677790891817388, valid_loss: 0.018521139074278915\nFOLD: 2, EPOCH: 17, train_loss: 0.027241212028243086, valid_loss: 0.018496162946457447\nFOLD: 2, EPOCH: 18, train_loss: 0.02696722310365123, valid_loss: 0.01880656854937906\nFOLD: 2, EPOCH: 19, train_loss: 0.026565284851719353, valid_loss: 0.01868032125513191\nFOLD: 2, EPOCH: 20, train_loss: 0.026579381473472014, valid_loss: 0.018768380598529526\nFOLD: 2, EPOCH: 21, train_loss: 0.025716852150200045, valid_loss: 0.018699337809306125\nFOLD: 2, EPOCH: 22, train_loss: 0.025372032760916388, valid_loss: 0.019067721684341846\nFOLD: 2, EPOCH: 23, train_loss: 0.024805278311867046, valid_loss: 0.01969927913792755\nFOLD: 2, EPOCH: 24, train_loss: 0.024441635304623666, valid_loss: 0.019250212318223457\nFOLD: 2, EPOCH: 25, train_loss: 0.02374773583484485, valid_loss: 0.019563128523852513\nFOLD: 2, EPOCH: 26, train_loss: 0.023214701782254613, valid_loss: 0.019754931573634563\nFOLD: 2, EPOCH: 27, train_loss: 0.02260968175387996, valid_loss: 0.020008733496069908\nFOLD: 2, EPOCH: 28, train_loss: 0.022352357216946343, valid_loss: 0.020230466337955517\nFOLD: 2, EPOCH: 29, train_loss: 0.021825302022454494, valid_loss: 0.020350888209498447\nFOLD: 2, EPOCH: 30, train_loss: 0.021294942892649594, valid_loss: 0.020523519295713177\nFOLD: 2, EPOCH: 31, train_loss: 0.02086767993922181, valid_loss: 0.02074225554647653\nFOLD: 2, EPOCH: 32, train_loss: 0.020408894496915096, valid_loss: 0.02071426573978818\nFOLD: 2, EPOCH: 33, train_loss: 0.020178059704930466, valid_loss: 0.021019819718988045\nFOLD: 2, EPOCH: 34, train_loss: 0.01986586958553423, valid_loss: 0.021066528947457024\nFOLD: 2, EPOCH: 35, train_loss: 0.01957848543465576, valid_loss: 0.020883337958999302\nFOLD: 2, EPOCH: 36, train_loss: 0.01926272836349466, valid_loss: 0.02130369671984859\nFOLD: 2, EPOCH: 37, train_loss: 0.01881793071515858, valid_loss: 0.02137248420520969\nFOLD: 2, EPOCH: 38, train_loss: 0.018651206498308218, valid_loss: 0.021330368745586147\nFOLD: 2, EPOCH: 39, train_loss: 0.018414948026047033, valid_loss: 0.021533627872881683\nFOLD: 2, EPOCH: 40, train_loss: 0.01811338051715318, valid_loss: 0.02159184646671233\nFOLD: 2, EPOCH: 41, train_loss: 0.018185805707402965, valid_loss: 0.02153459879691186\nFOLD: 2, EPOCH: 42, train_loss: 0.017895086887566483, valid_loss: 0.021478727540892105\nFOLD: 2, EPOCH: 43, train_loss: 0.017606810885755456, valid_loss: 0.021595809932636177\nFOLD: 2, EPOCH: 44, train_loss: 0.017575368120828095, valid_loss: 0.02181753532394119\nFOLD: 2, EPOCH: 45, train_loss: 0.017432421240407753, valid_loss: 0.02150328262992527\nFOLD: 2, EPOCH: 46, train_loss: 0.017147693036617163, valid_loss: 0.02154812079084956\nFOLD: 2, EPOCH: 47, train_loss: 0.017099312040954828, valid_loss: 0.021684801610915558\nFOLD: 2, EPOCH: 48, train_loss: 0.016906874213258132, valid_loss: 0.021450364476312763\nFOLD: 2, EPOCH: 49, train_loss: 0.017074409516199547, valid_loss: 0.021615261373960453\nFOLD: 2, EPOCH: 50, train_loss: 0.016831446288372662, valid_loss: 0.021806084186486576\nFOLD: 2, EPOCH: 51, train_loss: 0.01672463002614677, valid_loss: 0.021728073449238487\nFOLD: 2, EPOCH: 52, train_loss: 0.016741083750008223, valid_loss: 0.02172528142514436\nFOLD: 2, EPOCH: 53, train_loss: 0.016640151974142474, valid_loss: 0.021654019618163937\nFOLD: 2, EPOCH: 54, train_loss: 0.016525280627641168, valid_loss: 0.02174160046421963\nrecalibrate layer.weight_v\nFOLD: 2, EPOCH: 55, train_loss: 0.016276848002556053, valid_loss: 0.021557454748646072\nrecalibrate layer.weight_v\nFOLD: 2, EPOCH: 56, train_loss: 0.01558368478436023, valid_loss: 0.02160525022317534\nFOLD: 2, EPOCH: 57, train_loss: 0.015317984610138571, valid_loss: 0.02131421791146631\nFOLD: 2, EPOCH: 58, train_loss: 0.015171410303617664, valid_loss: 0.021778727760133537\nFOLD: 3, EPOCH: 0, train_loss: 0.709873907487182, valid_loss: 0.06088924488943556\nFOLD: 3, EPOCH: 1, train_loss: 0.07305119978263974, valid_loss: 0.02988164070183816\nFOLD: 3, EPOCH: 2, train_loss: 0.04354525110958254, valid_loss: 0.02349710837006569\nFOLD: 3, EPOCH: 3, train_loss: 0.03652845788747072, valid_loss: 0.02197541482746601\nFOLD: 3, EPOCH: 4, train_loss: 0.034083656309282076, valid_loss: 0.021040064647145893\nFOLD: 3, EPOCH: 5, train_loss: 0.03267662968103062, valid_loss: 0.0204340487556613\nFOLD: 3, EPOCH: 6, train_loss: 0.031777144190581405, valid_loss: 0.019663736872051075\nFOLD: 3, EPOCH: 7, train_loss: 0.030802638571271124, valid_loss: 0.019371492950164753\nFOLD: 3, EPOCH: 8, train_loss: 0.030818537644603673, valid_loss: 0.018841829555838005\nFOLD: 3, EPOCH: 9, train_loss: 0.02985239926013438, valid_loss: 0.018630375761700714\nFOLD: 3, EPOCH: 10, train_loss: 0.02942583182662287, valid_loss: 0.0182573396064665\nFOLD: 3, EPOCH: 11, train_loss: 0.030220542376970545, valid_loss: 0.019374317530056705\nFOLD: 3, EPOCH: 12, train_loss: 0.029852764023577467, valid_loss: 0.018023482645335404\nFOLD: 3, EPOCH: 13, train_loss: 0.028948364546522498, valid_loss: 0.01794837318036867\nFOLD: 3, EPOCH: 14, train_loss: 0.028945129077114603, valid_loss: 0.017846015889359558\nFOLD: 3, EPOCH: 15, train_loss: 0.028278007925323704, valid_loss: 0.017639217614803627\nFOLD: 3, EPOCH: 16, train_loss: 0.027824302806573754, valid_loss: 0.017507802290113075\nFOLD: 3, EPOCH: 17, train_loss: 0.027382152976796907, valid_loss: 0.01810951765788638\nFOLD: 3, EPOCH: 18, train_loss: 0.02726909429218401, valid_loss: 0.017763241153696308\nFOLD: 3, EPOCH: 19, train_loss: 0.026983828886466867, valid_loss: 0.017686064476552216\nFOLD: 3, EPOCH: 20, train_loss: 0.026367787504568696, valid_loss: 0.017873542707251465\nFOLD: 3, EPOCH: 21, train_loss: 0.02616723276236478, valid_loss: 0.017641363301030968\nFOLD: 3, EPOCH: 22, train_loss: 0.025404907215167496, valid_loss: 0.01785013087741707\nFOLD: 3, EPOCH: 23, train_loss: 0.024764568202526253, valid_loss: 0.018055103921695896\nFOLD: 3, EPOCH: 24, train_loss: 0.024453299284419593, valid_loss: 0.018413255558065746\nFOLD: 3, EPOCH: 25, train_loss: 0.023852438528967256, valid_loss: 0.01829498617545418\nFOLD: 3, EPOCH: 26, train_loss: 0.023409913814462283, valid_loss: 0.018658627877416817\nFOLD: 3, EPOCH: 27, train_loss: 0.022748524638111976, valid_loss: 0.018655862497246784\nFOLD: 3, EPOCH: 28, train_loss: 0.02264825812102679, valid_loss: 0.018803385693741882\nFOLD: 3, EPOCH: 29, train_loss: 0.021874533432042775, valid_loss: 0.019101649036873943\nFOLD: 3, EPOCH: 30, train_loss: 0.021394716986619374, valid_loss: 0.019346076509226925\nFOLD: 3, EPOCH: 31, train_loss: 0.020908031776985702, valid_loss: 0.019436282875097317\nFOLD: 3, EPOCH: 32, train_loss: 0.02056414551813813, valid_loss: 0.01943403458141762\nFOLD: 3, EPOCH: 33, train_loss: 0.020117358181296903, valid_loss: 0.019521062383833138\nFOLD: 3, EPOCH: 34, train_loss: 0.01977514668696505, valid_loss: 0.019687575733532078\nFOLD: 3, EPOCH: 35, train_loss: 0.019441831884357857, valid_loss: 0.020074143195929733\nFOLD: 3, EPOCH: 36, train_loss: 0.018991179983405507, valid_loss: 0.019965378405607265\nFOLD: 3, EPOCH: 37, train_loss: 0.018934220445397144, valid_loss: 0.019850464213801468\nFOLD: 3, EPOCH: 38, train_loss: 0.0186671436052112, valid_loss: 0.019977839825593906\nFOLD: 3, EPOCH: 39, train_loss: 0.018323107334949514, valid_loss: 0.020114298909902573\nFOLD: 3, EPOCH: 40, train_loss: 0.01817392845473745, valid_loss: 0.020297081088242325\n"
    },
    {
     "output_type": "error",
     "ename": "KeyboardInterrupt",
     "evalue": "",
     "traceback": [
      "\u001b[0;31m---------------------------------------------------------------------------\u001b[0m",
      "\u001b[0;31mKeyboardInterrupt\u001b[0m                         Traceback (most recent call last)",
      "\u001b[0;32m<ipython-input-233-3ad5fcced07f>\u001b[0m in \u001b[0;36m<module>\u001b[0;34m\u001b[0m\n\u001b[1;32m     13\u001b[0m \u001b[0;32mfor\u001b[0m \u001b[0mseed\u001b[0m \u001b[0;32min\u001b[0m \u001b[0mSEED\u001b[0m\u001b[0;34m:\u001b[0m\u001b[0;34m\u001b[0m\u001b[0;34m\u001b[0m\u001b[0m\n\u001b[1;32m     14\u001b[0m \u001b[0;34m\u001b[0m\u001b[0m\n\u001b[0;32m---> 15\u001b[0;31m     \u001b[0moof_\u001b[0m\u001b[0;34m,\u001b[0m \u001b[0mpredictions_\u001b[0m \u001b[0;34m=\u001b[0m \u001b[0mrun_k_fold\u001b[0m\u001b[0;34m(\u001b[0m\u001b[0mNFOLDS\u001b[0m\u001b[0;34m,\u001b[0m \u001b[0mseed\u001b[0m\u001b[0;34m)\u001b[0m\u001b[0;34m\u001b[0m\u001b[0;34m\u001b[0m\u001b[0m\n\u001b[0m\u001b[1;32m     16\u001b[0m     \u001b[0moof\u001b[0m \u001b[0;34m+=\u001b[0m \u001b[0moof_\u001b[0m \u001b[0;34m/\u001b[0m \u001b[0mlen\u001b[0m\u001b[0;34m(\u001b[0m\u001b[0mSEED\u001b[0m\u001b[0;34m)\u001b[0m\u001b[0;34m\u001b[0m\u001b[0;34m\u001b[0m\u001b[0m\n\u001b[1;32m     17\u001b[0m     \u001b[0mpredictions\u001b[0m \u001b[0;34m+=\u001b[0m \u001b[0mpredictions_\u001b[0m \u001b[0;34m/\u001b[0m \u001b[0mlen\u001b[0m\u001b[0;34m(\u001b[0m\u001b[0mSEED\u001b[0m\u001b[0;34m)\u001b[0m\u001b[0;34m\u001b[0m\u001b[0;34m\u001b[0m\u001b[0m\n",
      "\u001b[0;32m<ipython-input-232-4da3ba179440>\u001b[0m in \u001b[0;36mrun_k_fold\u001b[0;34m(NFOLDS, seed)\u001b[0m\n\u001b[1;32m      4\u001b[0m \u001b[0;34m\u001b[0m\u001b[0m\n\u001b[1;32m      5\u001b[0m     \u001b[0;32mfor\u001b[0m \u001b[0mfold\u001b[0m \u001b[0;32min\u001b[0m \u001b[0mrange\u001b[0m\u001b[0;34m(\u001b[0m\u001b[0mNFOLDS\u001b[0m\u001b[0;34m)\u001b[0m\u001b[0;34m:\u001b[0m\u001b[0;34m\u001b[0m\u001b[0;34m\u001b[0m\u001b[0m\n\u001b[0;32m----> 6\u001b[0;31m         \u001b[0moof_\u001b[0m\u001b[0;34m,\u001b[0m \u001b[0mpred_\u001b[0m \u001b[0;34m=\u001b[0m \u001b[0mrun_training\u001b[0m\u001b[0;34m(\u001b[0m\u001b[0mfold\u001b[0m\u001b[0;34m,\u001b[0m \u001b[0mseed\u001b[0m\u001b[0;34m)\u001b[0m\u001b[0;34m\u001b[0m\u001b[0;34m\u001b[0m\u001b[0m\n\u001b[0m\u001b[1;32m      7\u001b[0m \u001b[0;34m\u001b[0m\u001b[0m\n\u001b[1;32m      8\u001b[0m         \u001b[0mpredictions\u001b[0m \u001b[0;34m+=\u001b[0m \u001b[0mpred_\u001b[0m \u001b[0;34m/\u001b[0m \u001b[0mNFOLDS\u001b[0m\u001b[0;34m\u001b[0m\u001b[0;34m\u001b[0m\u001b[0m\n",
      "\u001b[0;32m<ipython-input-231-76b39ac6d648>\u001b[0m in \u001b[0;36mrun_training\u001b[0;34m(fold, seed)\u001b[0m\n\u001b[1;32m     52\u001b[0m     \u001b[0;32mfor\u001b[0m \u001b[0mepoch\u001b[0m \u001b[0;32min\u001b[0m \u001b[0mrange\u001b[0m\u001b[0;34m(\u001b[0m\u001b[0mEPOCHS\u001b[0m\u001b[0;34m)\u001b[0m\u001b[0;34m:\u001b[0m\u001b[0;34m\u001b[0m\u001b[0;34m\u001b[0m\u001b[0m\n\u001b[1;32m     53\u001b[0m \u001b[0;34m\u001b[0m\u001b[0m\n\u001b[0;32m---> 54\u001b[0;31m         \u001b[0mtrain_loss\u001b[0m \u001b[0;34m=\u001b[0m \u001b[0mtrain_fn\u001b[0m\u001b[0;34m(\u001b[0m\u001b[0mmodel\u001b[0m\u001b[0;34m,\u001b[0m \u001b[0moptimizer\u001b[0m\u001b[0;34m,\u001b[0m\u001b[0mscheduler\u001b[0m\u001b[0;34m,\u001b[0m \u001b[0mloss_tr\u001b[0m\u001b[0;34m,\u001b[0m \u001b[0mtrainloader\u001b[0m\u001b[0;34m,\u001b[0m \u001b[0mDEVICE\u001b[0m\u001b[0;34m)\u001b[0m\u001b[0;34m\u001b[0m\u001b[0;34m\u001b[0m\u001b[0m\n\u001b[0m\u001b[1;32m     55\u001b[0m         \u001b[0mvalid_loss\u001b[0m\u001b[0;34m,\u001b[0m \u001b[0mvalid_preds\u001b[0m \u001b[0;34m=\u001b[0m \u001b[0mvalid_fn\u001b[0m\u001b[0;34m(\u001b[0m\u001b[0mmodel\u001b[0m\u001b[0;34m,\u001b[0m \u001b[0mloss_fn\u001b[0m\u001b[0;34m,\u001b[0m \u001b[0mvalidloader\u001b[0m\u001b[0;34m,\u001b[0m \u001b[0mDEVICE\u001b[0m\u001b[0;34m)\u001b[0m\u001b[0;34m\u001b[0m\u001b[0;34m\u001b[0m\u001b[0m\n\u001b[1;32m     56\u001b[0m         \u001b[0mprint\u001b[0m\u001b[0;34m(\u001b[0m\u001b[0;34mf\"FOLD: {fold}, EPOCH: {epoch}, train_loss: {train_loss}, valid_loss: {valid_loss}\"\u001b[0m\u001b[0;34m)\u001b[0m\u001b[0;34m\u001b[0m\u001b[0;34m\u001b[0m\u001b[0m\n",
      "\u001b[0;32m<ipython-input-222-576602498a18>\u001b[0m in \u001b[0;36mtrain_fn\u001b[0;34m(model, optimizer, scheduler, loss_fn, dataloader, device)\u001b[0m\n\u001b[1;32m      3\u001b[0m     \u001b[0mfinal_loss\u001b[0m \u001b[0;34m=\u001b[0m \u001b[0;36m0\u001b[0m\u001b[0;34m\u001b[0m\u001b[0;34m\u001b[0m\u001b[0m\n\u001b[1;32m      4\u001b[0m \u001b[0;34m\u001b[0m\u001b[0m\n\u001b[0;32m----> 5\u001b[0;31m     \u001b[0;32mfor\u001b[0m \u001b[0mdata\u001b[0m \u001b[0;32min\u001b[0m \u001b[0mdataloader\u001b[0m\u001b[0;34m:\u001b[0m\u001b[0;34m\u001b[0m\u001b[0;34m\u001b[0m\u001b[0m\n\u001b[0m\u001b[1;32m      6\u001b[0m         \u001b[0moptimizer\u001b[0m\u001b[0;34m.\u001b[0m\u001b[0mzero_grad\u001b[0m\u001b[0;34m(\u001b[0m\u001b[0;34m)\u001b[0m\u001b[0;34m\u001b[0m\u001b[0;34m\u001b[0m\u001b[0m\n\u001b[1;32m      7\u001b[0m         \u001b[0minputs\u001b[0m\u001b[0;34m,\u001b[0m \u001b[0mtargets1\u001b[0m\u001b[0;34m,\u001b[0m \u001b[0mtargets2\u001b[0m \u001b[0;34m=\u001b[0m \u001b[0mdata\u001b[0m\u001b[0;34m[\u001b[0m\u001b[0;34m'x'\u001b[0m\u001b[0;34m]\u001b[0m\u001b[0;34m.\u001b[0m\u001b[0mto\u001b[0m\u001b[0;34m(\u001b[0m\u001b[0mdevice\u001b[0m\u001b[0;34m)\u001b[0m\u001b[0;34m,\u001b[0m \u001b[0mdata\u001b[0m\u001b[0;34m[\u001b[0m\u001b[0;34m'y_scored'\u001b[0m\u001b[0;34m]\u001b[0m\u001b[0;34m.\u001b[0m\u001b[0mto\u001b[0m\u001b[0;34m(\u001b[0m\u001b[0mdevice\u001b[0m\u001b[0;34m)\u001b[0m\u001b[0;34m,\u001b[0m \u001b[0mdata\u001b[0m\u001b[0;34m[\u001b[0m\u001b[0;34m'y_nscored'\u001b[0m\u001b[0;34m]\u001b[0m\u001b[0;34m.\u001b[0m\u001b[0mto\u001b[0m\u001b[0;34m(\u001b[0m\u001b[0mdevice\u001b[0m\u001b[0;34m)\u001b[0m\u001b[0;34m\u001b[0m\u001b[0;34m\u001b[0m\u001b[0m\n",
      "\u001b[0;32m~/miniconda3/envs/moa_kaggle/lib/python3.7/site-packages/torch/utils/data/dataloader.py\u001b[0m in \u001b[0;36m__next__\u001b[0;34m(self)\u001b[0m\n\u001b[1;32m    361\u001b[0m \u001b[0;34m\u001b[0m\u001b[0m\n\u001b[1;32m    362\u001b[0m     \u001b[0;32mdef\u001b[0m \u001b[0m__next__\u001b[0m\u001b[0;34m(\u001b[0m\u001b[0mself\u001b[0m\u001b[0;34m)\u001b[0m\u001b[0;34m:\u001b[0m\u001b[0;34m\u001b[0m\u001b[0;34m\u001b[0m\u001b[0m\n\u001b[0;32m--> 363\u001b[0;31m         \u001b[0mdata\u001b[0m \u001b[0;34m=\u001b[0m \u001b[0mself\u001b[0m\u001b[0;34m.\u001b[0m\u001b[0m_next_data\u001b[0m\u001b[0;34m(\u001b[0m\u001b[0;34m)\u001b[0m\u001b[0;34m\u001b[0m\u001b[0;34m\u001b[0m\u001b[0m\n\u001b[0m\u001b[1;32m    364\u001b[0m         \u001b[0mself\u001b[0m\u001b[0;34m.\u001b[0m\u001b[0m_num_yielded\u001b[0m \u001b[0;34m+=\u001b[0m \u001b[0;36m1\u001b[0m\u001b[0;34m\u001b[0m\u001b[0;34m\u001b[0m\u001b[0m\n\u001b[1;32m    365\u001b[0m         \u001b[0;32mif\u001b[0m \u001b[0mself\u001b[0m\u001b[0;34m.\u001b[0m\u001b[0m_dataset_kind\u001b[0m \u001b[0;34m==\u001b[0m \u001b[0m_DatasetKind\u001b[0m\u001b[0;34m.\u001b[0m\u001b[0mIterable\u001b[0m \u001b[0;32mand\u001b[0m\u001b[0;31m \u001b[0m\u001b[0;31m\\\u001b[0m\u001b[0;34m\u001b[0m\u001b[0;34m\u001b[0m\u001b[0m\n",
      "\u001b[0;32m~/miniconda3/envs/moa_kaggle/lib/python3.7/site-packages/torch/utils/data/dataloader.py\u001b[0m in \u001b[0;36m_next_data\u001b[0;34m(self)\u001b[0m\n\u001b[1;32m    401\u001b[0m     \u001b[0;32mdef\u001b[0m \u001b[0m_next_data\u001b[0m\u001b[0;34m(\u001b[0m\u001b[0mself\u001b[0m\u001b[0;34m)\u001b[0m\u001b[0;34m:\u001b[0m\u001b[0;34m\u001b[0m\u001b[0;34m\u001b[0m\u001b[0m\n\u001b[1;32m    402\u001b[0m         \u001b[0mindex\u001b[0m \u001b[0;34m=\u001b[0m \u001b[0mself\u001b[0m\u001b[0;34m.\u001b[0m\u001b[0m_next_index\u001b[0m\u001b[0;34m(\u001b[0m\u001b[0;34m)\u001b[0m  \u001b[0;31m# may raise StopIteration\u001b[0m\u001b[0;34m\u001b[0m\u001b[0;34m\u001b[0m\u001b[0m\n\u001b[0;32m--> 403\u001b[0;31m         \u001b[0mdata\u001b[0m \u001b[0;34m=\u001b[0m \u001b[0mself\u001b[0m\u001b[0;34m.\u001b[0m\u001b[0m_dataset_fetcher\u001b[0m\u001b[0;34m.\u001b[0m\u001b[0mfetch\u001b[0m\u001b[0;34m(\u001b[0m\u001b[0mindex\u001b[0m\u001b[0;34m)\u001b[0m  \u001b[0;31m# may raise StopIteration\u001b[0m\u001b[0;34m\u001b[0m\u001b[0;34m\u001b[0m\u001b[0m\n\u001b[0m\u001b[1;32m    404\u001b[0m         \u001b[0;32mif\u001b[0m \u001b[0mself\u001b[0m\u001b[0;34m.\u001b[0m\u001b[0m_pin_memory\u001b[0m\u001b[0;34m:\u001b[0m\u001b[0;34m\u001b[0m\u001b[0;34m\u001b[0m\u001b[0m\n\u001b[1;32m    405\u001b[0m             \u001b[0mdata\u001b[0m \u001b[0;34m=\u001b[0m \u001b[0m_utils\u001b[0m\u001b[0;34m.\u001b[0m\u001b[0mpin_memory\u001b[0m\u001b[0;34m.\u001b[0m\u001b[0mpin_memory\u001b[0m\u001b[0;34m(\u001b[0m\u001b[0mdata\u001b[0m\u001b[0;34m)\u001b[0m\u001b[0;34m\u001b[0m\u001b[0;34m\u001b[0m\u001b[0m\n",
      "\u001b[0;32m~/miniconda3/envs/moa_kaggle/lib/python3.7/site-packages/torch/utils/data/_utils/fetch.py\u001b[0m in \u001b[0;36mfetch\u001b[0;34m(self, possibly_batched_index)\u001b[0m\n\u001b[1;32m     42\u001b[0m     \u001b[0;32mdef\u001b[0m \u001b[0mfetch\u001b[0m\u001b[0;34m(\u001b[0m\u001b[0mself\u001b[0m\u001b[0;34m,\u001b[0m \u001b[0mpossibly_batched_index\u001b[0m\u001b[0;34m)\u001b[0m\u001b[0;34m:\u001b[0m\u001b[0;34m\u001b[0m\u001b[0;34m\u001b[0m\u001b[0m\n\u001b[1;32m     43\u001b[0m         \u001b[0;32mif\u001b[0m \u001b[0mself\u001b[0m\u001b[0;34m.\u001b[0m\u001b[0mauto_collation\u001b[0m\u001b[0;34m:\u001b[0m\u001b[0;34m\u001b[0m\u001b[0;34m\u001b[0m\u001b[0m\n\u001b[0;32m---> 44\u001b[0;31m             \u001b[0mdata\u001b[0m \u001b[0;34m=\u001b[0m \u001b[0;34m[\u001b[0m\u001b[0mself\u001b[0m\u001b[0;34m.\u001b[0m\u001b[0mdataset\u001b[0m\u001b[0;34m[\u001b[0m\u001b[0midx\u001b[0m\u001b[0;34m]\u001b[0m \u001b[0;32mfor\u001b[0m \u001b[0midx\u001b[0m \u001b[0;32min\u001b[0m \u001b[0mpossibly_batched_index\u001b[0m\u001b[0;34m]\u001b[0m\u001b[0;34m\u001b[0m\u001b[0;34m\u001b[0m\u001b[0m\n\u001b[0m\u001b[1;32m     45\u001b[0m         \u001b[0;32melse\u001b[0m\u001b[0;34m:\u001b[0m\u001b[0;34m\u001b[0m\u001b[0;34m\u001b[0m\u001b[0m\n\u001b[1;32m     46\u001b[0m             \u001b[0mdata\u001b[0m \u001b[0;34m=\u001b[0m \u001b[0mself\u001b[0m\u001b[0;34m.\u001b[0m\u001b[0mdataset\u001b[0m\u001b[0;34m[\u001b[0m\u001b[0mpossibly_batched_index\u001b[0m\u001b[0;34m]\u001b[0m\u001b[0;34m\u001b[0m\u001b[0;34m\u001b[0m\u001b[0m\n",
      "\u001b[0;32m~/miniconda3/envs/moa_kaggle/lib/python3.7/site-packages/torch/utils/data/_utils/fetch.py\u001b[0m in \u001b[0;36m<listcomp>\u001b[0;34m(.0)\u001b[0m\n\u001b[1;32m     42\u001b[0m     \u001b[0;32mdef\u001b[0m \u001b[0mfetch\u001b[0m\u001b[0;34m(\u001b[0m\u001b[0mself\u001b[0m\u001b[0;34m,\u001b[0m \u001b[0mpossibly_batched_index\u001b[0m\u001b[0;34m)\u001b[0m\u001b[0;34m:\u001b[0m\u001b[0;34m\u001b[0m\u001b[0;34m\u001b[0m\u001b[0m\n\u001b[1;32m     43\u001b[0m         \u001b[0;32mif\u001b[0m \u001b[0mself\u001b[0m\u001b[0;34m.\u001b[0m\u001b[0mauto_collation\u001b[0m\u001b[0;34m:\u001b[0m\u001b[0;34m\u001b[0m\u001b[0;34m\u001b[0m\u001b[0m\n\u001b[0;32m---> 44\u001b[0;31m             \u001b[0mdata\u001b[0m \u001b[0;34m=\u001b[0m \u001b[0;34m[\u001b[0m\u001b[0mself\u001b[0m\u001b[0;34m.\u001b[0m\u001b[0mdataset\u001b[0m\u001b[0;34m[\u001b[0m\u001b[0midx\u001b[0m\u001b[0;34m]\u001b[0m \u001b[0;32mfor\u001b[0m \u001b[0midx\u001b[0m \u001b[0;32min\u001b[0m \u001b[0mpossibly_batched_index\u001b[0m\u001b[0;34m]\u001b[0m\u001b[0;34m\u001b[0m\u001b[0;34m\u001b[0m\u001b[0m\n\u001b[0m\u001b[1;32m     45\u001b[0m         \u001b[0;32melse\u001b[0m\u001b[0;34m:\u001b[0m\u001b[0;34m\u001b[0m\u001b[0;34m\u001b[0m\u001b[0m\n\u001b[1;32m     46\u001b[0m             \u001b[0mdata\u001b[0m \u001b[0;34m=\u001b[0m \u001b[0mself\u001b[0m\u001b[0;34m.\u001b[0m\u001b[0mdataset\u001b[0m\u001b[0;34m[\u001b[0m\u001b[0mpossibly_batched_index\u001b[0m\u001b[0;34m]\u001b[0m\u001b[0;34m\u001b[0m\u001b[0;34m\u001b[0m\u001b[0m\n",
      "\u001b[0;32m<ipython-input-221-a9045eb4dd69>\u001b[0m in \u001b[0;36m__getitem__\u001b[0;34m(self, idx)\u001b[0m\n\u001b[1;32m     10\u001b[0m     \u001b[0;32mdef\u001b[0m \u001b[0m__getitem__\u001b[0m\u001b[0;34m(\u001b[0m\u001b[0mself\u001b[0m\u001b[0;34m,\u001b[0m \u001b[0midx\u001b[0m\u001b[0;34m)\u001b[0m\u001b[0;34m:\u001b[0m\u001b[0;34m\u001b[0m\u001b[0;34m\u001b[0m\u001b[0m\n\u001b[1;32m     11\u001b[0m         dct = {\n\u001b[0;32m---> 12\u001b[0;31m             \u001b[0;34m'x'\u001b[0m \u001b[0;34m:\u001b[0m \u001b[0mtorch\u001b[0m\u001b[0;34m.\u001b[0m\u001b[0mtensor\u001b[0m\u001b[0;34m(\u001b[0m\u001b[0mself\u001b[0m\u001b[0;34m.\u001b[0m\u001b[0mfeatures\u001b[0m\u001b[0;34m[\u001b[0m\u001b[0midx\u001b[0m\u001b[0;34m,\u001b[0m \u001b[0;34m:\u001b[0m\u001b[0;34m]\u001b[0m\u001b[0;34m,\u001b[0m \u001b[0mdtype\u001b[0m\u001b[0;34m=\u001b[0m\u001b[0mtorch\u001b[0m\u001b[0;34m.\u001b[0m\u001b[0mfloat\u001b[0m\u001b[0;34m)\u001b[0m\u001b[0;34m,\u001b[0m\u001b[0;34m\u001b[0m\u001b[0;34m\u001b[0m\u001b[0m\n\u001b[0m\u001b[1;32m     13\u001b[0m             \u001b[0;34m'y_scored'\u001b[0m \u001b[0;34m:\u001b[0m \u001b[0mtorch\u001b[0m\u001b[0;34m.\u001b[0m\u001b[0mtensor\u001b[0m\u001b[0;34m(\u001b[0m\u001b[0mself\u001b[0m\u001b[0;34m.\u001b[0m\u001b[0mtargets_scored\u001b[0m\u001b[0;34m[\u001b[0m\u001b[0midx\u001b[0m\u001b[0;34m,\u001b[0m \u001b[0;34m:\u001b[0m\u001b[0;34m]\u001b[0m\u001b[0;34m,\u001b[0m \u001b[0mdtype\u001b[0m\u001b[0;34m=\u001b[0m\u001b[0mtorch\u001b[0m\u001b[0;34m.\u001b[0m\u001b[0mfloat\u001b[0m\u001b[0;34m)\u001b[0m\u001b[0;34m,\u001b[0m\u001b[0;34m\u001b[0m\u001b[0;34m\u001b[0m\u001b[0m\n\u001b[1;32m     14\u001b[0m             \u001b[0;34m'y_nscored'\u001b[0m \u001b[0;34m:\u001b[0m \u001b[0mtorch\u001b[0m\u001b[0;34m.\u001b[0m\u001b[0mtensor\u001b[0m\u001b[0;34m(\u001b[0m\u001b[0mself\u001b[0m\u001b[0;34m.\u001b[0m\u001b[0mtargets_nscored\u001b[0m\u001b[0;34m[\u001b[0m\u001b[0midx\u001b[0m\u001b[0;34m,\u001b[0m \u001b[0;34m:\u001b[0m\u001b[0;34m]\u001b[0m\u001b[0;34m,\u001b[0m \u001b[0mdtype\u001b[0m\u001b[0;34m=\u001b[0m\u001b[0mtorch\u001b[0m\u001b[0;34m.\u001b[0m\u001b[0mfloat\u001b[0m\u001b[0;34m)\u001b[0m\u001b[0;34m\u001b[0m\u001b[0;34m\u001b[0m\u001b[0m\n",
      "\u001b[0;31mKeyboardInterrupt\u001b[0m: "
     ]
    }
   ],
   "source": [
    "# Averaging on multiple SEEDS\n",
    "\n",
    "# SEED = [0,1,2,3,4,5,6] #<-- Update\n",
    "SEED = [0]\n",
    "oof = np.zeros((len(train), len(target_scored_cols)))\n",
    "predictions = np.zeros((len(test), len(target_scored_cols)))\n",
    "\n",
    "# mean_scored = np.mean(train[target_scored_cols].values,axis=0)\n",
    "# mean_nscored = np.mean(train[target_nscored_cols].values,axis=0)\n",
    "# pos_scored_rate = np.log(np.where(mean_scored==0, 1e-8, mean_scored))\n",
    "# pos_nscored_rate = np.log(np.where(mean_nscored==0, 1e-8, mean_nscored))\n",
    "\n",
    "for seed in SEED:\n",
    "    \n",
    "    oof_, predictions_ = run_k_fold(NFOLDS, seed)\n",
    "    oof += oof_ / len(SEED)\n",
    "    predictions += predictions_ / len(SEED)\n",
    "\n",
    "train[target_scored_cols] = oof\n",
    "test[target_scored_cols] = predictions"
   ]
  },
  {
   "cell_type": "code",
   "execution_count": null,
   "metadata": {
    "tags": []
   },
   "outputs": [],
   "source": [
    "valid_results = train_targets_scored.drop(columns=target_scored_cols).merge(train[['sig_id']+target_scored_cols], on='sig_id', how='left').fillna(0)\n",
    "\n",
    "\n",
    "\n",
    "y_true = train_targets_scored[target_scored_cols].values\n",
    "y_pred = valid_results[target_scored_cols].values\n",
    "\n",
    "score = 0\n",
    "for i in range(len(target_scored_cols)):\n",
    "    score_ = log_loss(y_true[:, i], y_pred[:, i])\n",
    "    score += score_ / target_scored.shape[1]\n",
    "    \n",
    "print(\"CV log_loss: \", score)"
   ]
  },
  {
   "cell_type": "code",
   "execution_count": null,
   "metadata": {
    "tags": []
   },
   "outputs": [],
   "source": [
    "from sklearn.metrics import roc_auc_score\n",
    "print(roc_auc_score(y_true,y_pred))"
   ]
  },
  {
   "cell_type": "code",
   "execution_count": null,
   "metadata": {},
   "outputs": [],
   "source": [
    "#Baseline\n",
    "#CV log_loss:  0.015877615364984873 - 0.6541240486632599\n",
    "#without kmeans CV log_loss: 0.015854058954568463 - 0.659868777535432\n",
    "#epochs 35 - CV log_loss:  0.01585343762816286 - 0.6599438843390867\n",
    "#epocjs 40 - CV log_loss:  0.01586852336393351 - 0.6557867961263701\n",
    "#all stats - CV log_loss:  0.015855185527591735 -0.6570807318381957"
   ]
  },
  {
   "cell_type": "code",
   "execution_count": null,
   "metadata": {},
   "outputs": [],
   "source": [
    "#auc .8073 -> .6541 "
   ]
  },
  {
   "cell_type": "code",
   "execution_count": 48,
   "metadata": {},
   "outputs": [],
   "source": [
    "#CV log_loss:  0.014772181976560779 - hidden size 1500\n",
    "#CV log loss:  0.014761207506656483 - hidden size 1600\n",
    "#CV log_loss:  0.014757089674479135 - hidden size 1600 + recalibrate layers\n",
    "#CV log_loss:  0.014798489345352649 - hidden size 1600 + recalibrate layers + 30epochs\n",
    "#CV log_loss:  0.014993945755985132 - hidden size 1600 + recalibrate layers - batch size 256\n",
    "#CV log_loss:  0.014925429807583115 - hidden size 1600 + recalibrate layers - batch size 256 + 50 epcohs\n",
    "#CV log_loss:  0.01501367781064934  - hidden size 1600 + recalibrate layers - batch size 256 + 50 epcohs div_factor=1e4\n",
    "#CV log_loss:  0.015038120295874759 - hidden size 1600 + recalibrate layers - batch size 256 + 50 epcohs pct_start=0.2\n",
    "#CV log_loss:  0.014925429807583115 - hidden size 1600 + recalibrate layers - batch size 256 + 50 epcohs 2*lr\n",
    "#CV log_loss:  0.014862676189325522 - hidden size 2000 + recalibrate layers - batch size 256 + 50 epcohs\n",
    "#CV log_loss:  0.014805892283163887 - hidden size 2000 + recalibrate layers - batch size 256 + 70 epcohs\n",
    "\n",
    "\n",
    "\n",
    "#CV log_loss:  0.014701033773812383 - hidden size 1000 + recalibrate layers + 30 epochs + 1layer + stats g35 c5\n",
    "#CV log_loss:  0.01470633477903798  - hidden size 1000 + recalibrate layers + 30 epochs + 1layer + stats g15 c5\n",
    "\n",
    "#CV log_loss:  0.014688195780301675 - hidden size 1000 + recalibrate layers + 30 epochs + 1layer + stats + varianceth 0.81\n",
    "\n",
    "#CV log_loss:  0.01473922963978107 - hidden size 1000 + recalibrate layers + 40 epochs + 1layer\n",
    "#CV log_loss:  0.014704245299661241 - hidden size 900 + recalibrate layers + 30 epochs + 1layer\n",
    "#CV log_loss:  0.014700136730168381 - hidden size 1100 + recalibrate layers + 30 epochs + 1layer\n",
    "\n",
    "\n",
    "#CV log_loss:  0.015298968285739336 - hidden size 1600 + recalibrate layers - batch size 64\n",
    "\n",
    "#CV log_loss:  0.014708188641129298 - hidden size 1000 + recalibrate layers + 30 epochs\n",
    "#CV log_loss:  0.014686009232339573 - hidden size 1000 + recalibrate layers + 30 epochs + 1layer\n",
    "#CV log_loss:  0.014675118998674056 - hidden size 1000 + recalibrate layers + 30 epochs + 1layer + stats\n",
    "#\n",
    "\n",
    "#CV log_loss:  0.01468776733769557 without stats\n",
    "\n",
    "\n",
    "\n",
    "\n",
    "\n",
    "#CV log_loss:  0.014751931843087755 baseline\n",
    "#CV log_loss:  0.014746491073514958 baseline + std g,c\n",
    "#CV log_loss:  0.014753663287033052 baseline + std g,c + median g,c\n",
    "#CV log_loss:  0.014747499643338137 baseline + std g,c + sum g,c + kurt g,c\n",
    "#CV log_loss:  0.014745229709145196 baseline + std g,c + sum g,c + mean g,c\n",
    "#CV log_loss:  0.014765909985927743 baseline + std g,c + sum g,c + skew g,c\n",
    "#CV log_loss:  0.01475305848080635  baseline + std g,c + sum g,c + g_var\n",
    "#CV log_loss:  0.014738260008810762 baseline + std g,c + sum g,c\n",
    "#CV log_loss:  0.014735805473683174 baseline + std g,c + sum g,c,gc\n",
    "#CV log_loss:  0.014750251194250852 baseline + std g,c,gc + sum g,c,gc\n",
    "#CV log_loss:  0.01474079804921367  baseline + std g,c + sum g,c,gc + variance 80(threshold)\n",
    "\n",
    "#CV log_loss:  0.014704018818104764 baseline + std g,c + sum g,c,gc + variance 80(threshold) &PCA\n",
    "#CV log loss:  0.014669995520015213 baseline + std g,c + sum g,c,gc + variance 80(threshold) &PCA + clusters3 - CV log_loss:  0.014520597500516905 /0.8153730747072218 (seeds)\n",
    "\n",
    "#CV log_loss:  0.014566130099844471/0.815729267497772 avec prelu, 30 epochs\n",
    "\n",
    "\n",
    "#CV log_loss:  0.014685491308574154 baseline + std g,c + sum g,c,gc + variance 80(threshold) &PCA + clusters5\n",
    "\n",
    "\n",
    "#CV log_loss:  0.015099951953285232 baseline + PCA features\n"
   ]
  },
  {
   "cell_type": "code",
   "execution_count": null,
   "metadata": {},
   "outputs": [],
   "source": []
  }
 ]
}