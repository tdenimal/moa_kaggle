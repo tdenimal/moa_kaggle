{
 "metadata": {
  "language_info": {
   "codemirror_mode": {
    "name": "ipython",
    "version": 3
   },
   "file_extension": ".py",
   "mimetype": "text/x-python",
   "name": "python",
   "nbconvert_exporter": "python",
   "pygments_lexer": "ipython3",
   "version": "3.7.9-final"
  },
  "orig_nbformat": 2,
  "kernelspec": {
   "name": "python_defaultSpec_1604744066461",
   "display_name": "Python 3.7.9 64-bit ('moa_kaggle': conda)"
  }
 },
 "nbformat": 4,
 "nbformat_minor": 2,
 "cells": [
  {
   "cell_type": "code",
   "execution_count": 1,
   "metadata": {},
   "outputs": [],
   "source": [
    "import numpy as np\n",
    "import random\n",
    "import pandas as pd\n",
    "import matplotlib.pyplot as plt\n",
    "import os\n",
    "import copy\n",
    "import seaborn as sns\n",
    "\n",
    "from iterstrat.ml_stratifiers import MultilabelStratifiedKFold\n",
    "\n",
    "\n",
    "\n",
    "from sklearn import preprocessing\n",
    "from sklearn.metrics import log_loss\n",
    "from sklearn.preprocessing import StandardScaler\n",
    "from sklearn.decomposition import PCA\n",
    "\n",
    "import torch\n",
    "import torch.nn as nn\n",
    "import torch.nn.functional as F\n",
    "import torch.optim as optim\n",
    "\n",
    "import warnings\n",
    "warnings.filterwarnings('ignore')"
   ]
  },
  {
   "cell_type": "code",
   "execution_count": 2,
   "metadata": {},
   "outputs": [],
   "source": [
    "from sklearn.preprocessing import QuantileTransformer"
   ]
  },
  {
   "cell_type": "code",
   "execution_count": 3,
   "metadata": {},
   "outputs": [
    {
     "output_type": "execute_result",
     "data": {
      "text/plain": "['train_targets_scored.csv',\n 'sample_submission.csv',\n '.gitkeep',\n 'train_drug.csv',\n 'train_features.csv',\n 'test_features.csv',\n 'train_targets_nonscored.csv']"
     },
     "metadata": {},
     "execution_count": 3
    }
   ],
   "source": [
    "\n",
    "data_dir = '../data/01_raw'\n",
    "os.listdir(data_dir)"
   ]
  },
  {
   "cell_type": "code",
   "execution_count": 4,
   "metadata": {},
   "outputs": [],
   "source": [
    "# Parameters\n",
    "no_ctl = True\n",
    "ncompo_genes = 600\n",
    "ncompo_cells = 50"
   ]
  },
  {
   "cell_type": "code",
   "execution_count": 5,
   "metadata": {},
   "outputs": [],
   "source": [
    "train_features = pd.read_csv(data_dir+'/train_features.csv')\n",
    "train_targets_scored = pd.read_csv(data_dir+'/train_targets_scored.csv')\n",
    "train_targets_nonscored = pd.read_csv(data_dir+'/train_targets_nonscored.csv')\n",
    "\n",
    "test_features = pd.read_csv(data_dir+'/test_features.csv')\n",
    "sample_submission = pd.read_csv(data_dir+'/sample_submission.csv')\n",
    "drug = pd.read_csv(data_dir+'/train_drug.csv')"
   ]
  },
  {
   "cell_type": "code",
   "execution_count": 6,
   "metadata": {},
   "outputs": [],
   "source": [
    "targets_scored = train_targets_scored.columns[1:]\n",
    "scored = train_targets_scored.merge(drug, on='sig_id', how='left') "
   ]
  },
  {
   "cell_type": "code",
   "execution_count": 7,
   "metadata": {
    "tags": []
   },
   "outputs": [
    {
     "output_type": "stream",
     "name": "stdout",
     "text": "not_ctl\n"
    }
   ],
   "source": [
    "if no_ctl:\n",
    "    # cp_type == ctl_vehicle\n",
    "    print(\"not_ctl\")\n",
    "    train_features = train_features[train_features[\"cp_type\"] != \"ctl_vehicle\"].reset_index(drop=True)\n",
    "    test_features = test_features[test_features[\"cp_type\"] != \"ctl_vehicle\"].reset_index(drop=True)\n",
    "    train_targets_scored = train_targets_scored.iloc[train_features.index]\n",
    "    train_targets_nonscored = train_targets_nonscored.iloc[train_features.index]\n",
    "    train_features.reset_index(drop = True, inplace = True)\n",
    "    train_features.reset_index(drop = True, inplace = True)\n",
    "    train_targets_scored.reset_index(drop = True, inplace = True)\n",
    "    train_targets_nonscored.reset_index(drop = True, inplace = True)"
   ]
  },
  {
   "cell_type": "code",
   "execution_count": 8,
   "metadata": {},
   "outputs": [],
   "source": [
    "# #Indiquer si valeur dans le range max, min\n",
    "\n",
    "# import seaborn as sns\n",
    "# data = pd.concat([train_features,test_features],axis=0)\n",
    "\n",
    "# sns.distplot(data[data[\"cp_type\"] == \"ctl_vehicle\"][\"c-4\"],label=\"normal\")\n",
    "\n",
    "# sns.distplot(data[data[\"cp_type\"] == \"trt_cp\"][\"c-4\"],label=\"treated\")\n",
    "# plt.legend()\n",
    "# plt.show()"
   ]
  },
  {
   "cell_type": "code",
   "execution_count": 9,
   "metadata": {},
   "outputs": [],
   "source": [
    "# sum_targets = train_targets_scored[[c for c in train_targets_scored.columns if (c != \"sig_id\")]].sum().reset_index()"
   ]
  },
  {
   "cell_type": "code",
   "execution_count": 10,
   "metadata": {},
   "outputs": [],
   "source": [
    "# sum_targets[\"index\"] = sum_targets[\"index\"].apply(lambda x : x.replace(\"_inhibitor\",\"\"))\n",
    "# sum_targets[\"index\"] = sum_targets[\"index\"].apply(lambda x : x.replace(\"_activator\",\"\"))\n",
    "# sum_targets[\"index\"] = sum_targets[\"index\"].apply(lambda x : x.replace(\"_agonist\",\"\"))\n",
    "# sum_targets[\"index\"] = sum_targets[\"index\"].apply(lambda x : x.replace(\"_antagonist\",\"\"))"
   ]
  },
  {
   "cell_type": "code",
   "execution_count": 11,
   "metadata": {},
   "outputs": [],
   "source": [
    "GENES = [col for col in train_features.columns if col.startswith('g-')]\n",
    "CELLS = [col for col in train_features.columns if col.startswith('c-')]"
   ]
  },
  {
   "cell_type": "code",
   "execution_count": 12,
   "metadata": {},
   "outputs": [],
   "source": [
    "# from scipy import stats\n",
    "\n",
    "# train_features[GENES].apply(lambda x : stats.moment(x,moment=5),axis=1)"
   ]
  },
  {
   "cell_type": "code",
   "execution_count": 13,
   "metadata": {},
   "outputs": [],
   "source": [
    "seed=42\n",
    "\n",
    "def seed_everything(seed=42):\n",
    "    random.seed(seed)\n",
    "    os.environ['PYTHONHASHSEED'] = str(seed)\n",
    "    np.random.seed(seed)\n",
    "    torch.manual_seed(seed)\n",
    "    torch.cuda.manual_seed(seed)\n",
    "    torch.backends.cudnn.deterministic = True\n",
    "    \n",
    "seed_everything(seed)"
   ]
  },
  {
   "cell_type": "code",
   "execution_count": 14,
   "metadata": {},
   "outputs": [],
   "source": [
    "#RankGauss\n",
    "\n",
    "for col in (GENES + CELLS):\n",
    "    transformer = QuantileTransformer(n_quantiles=100,random_state=seed, output_distribution=\"normal\")\n",
    "    vec_len = len(train_features[col].values)\n",
    "    vec_len_test = len(test_features[col].values)\n",
    "    raw_vec = train_features[col].values.reshape(vec_len, 1)\n",
    "    transformer.fit(raw_vec)\n",
    "\n",
    "    train_features[col] = transformer.transform(raw_vec).reshape(1, vec_len)[0]\n",
    "    test_features[col] = transformer.transform(test_features[col].values.reshape(vec_len_test, 1)).reshape(1, vec_len_test)[0]"
   ]
  },
  {
   "cell_type": "code",
   "execution_count": 15,
   "metadata": {},
   "outputs": [],
   "source": [
    "# GENES\n",
    "n_comp = ncompo_genes \n",
    "\n",
    "data = pd.concat([pd.DataFrame(train_features[GENES]), pd.DataFrame(test_features[GENES])])\n",
    "data2 = (PCA(n_components=n_comp, random_state=42).fit_transform(data[GENES]))\n",
    "train2 = data2[:train_features.shape[0]]; test2 = data2[-test_features.shape[0]:]\n",
    "\n",
    "train2 = pd.DataFrame(train2, columns=[f'pca_G-{i}' for i in range(n_comp)])\n",
    "test2 = pd.DataFrame(test2, columns=[f'pca_G-{i}' for i in range(n_comp)])\n",
    "\n",
    "# drop_cols = [f'c-{i}' for i in range(n_comp,len(GENES))]\n",
    "train_features = pd.concat((train_features, train2), axis=1)\n",
    "test_features = pd.concat((test_features, test2), axis=1)"
   ]
  },
  {
   "cell_type": "code",
   "execution_count": 16,
   "metadata": {},
   "outputs": [],
   "source": [
    "#CELLS\n",
    "n_comp = ncompo_cells\n",
    "\n",
    "data = pd.concat([pd.DataFrame(train_features[CELLS]), pd.DataFrame(test_features[CELLS])])\n",
    "data2 = (PCA(n_components=n_comp, random_state=42).fit_transform(data[CELLS]))\n",
    "train2 = data2[:train_features.shape[0]]; test2 = data2[-test_features.shape[0]:]\n",
    "\n",
    "train2 = pd.DataFrame(train2, columns=[f'pca_C-{i}' for i in range(n_comp)])\n",
    "test2 = pd.DataFrame(test2, columns=[f'pca_C-{i}' for i in range(n_comp)])\n",
    "\n",
    "# drop_cols = [f'c-{i}' for i in range(n_comp,len(CELLS))]\n",
    "train_features = pd.concat((train_features, train2), axis=1)\n",
    "test_features = pd.concat((test_features, test2), axis=1)"
   ]
  },
  {
   "cell_type": "code",
   "execution_count": 17,
   "metadata": {},
   "outputs": [
    {
     "output_type": "execute_result",
     "data": {
      "text/plain": "(21948, 1526)"
     },
     "metadata": {},
     "execution_count": 17
    }
   ],
   "source": [
    "train_features.shape"
   ]
  },
  {
   "cell_type": "code",
   "execution_count": 18,
   "metadata": {},
   "outputs": [],
   "source": [
    "from scipy import stats\n",
    "\n",
    "def fe_stats(train, test):\n",
    "    \n",
    "    features_g = GENES\n",
    "    features_c = CELLS\n",
    "    \n",
    "    for df in train, test:\n",
    "        df['g_sum'] = df[features_g].sum(axis = 1) ## <==\n",
    "        # df['g_mean'] = df[features_g].mean(axis = 1)\n",
    "        df['g_std'] = df[features_g].std(axis = 1) ## <==\n",
    "        # df['g_kurt'] = df[features_g].kurtosis(axis = 1)\n",
    "        #df['g_skew'] = df[features_g].skew(axis = 1)\n",
    "        # df['g_q25'] = df[features_g].quantile(q=.25,axis = 1)\n",
    "        # df['g_q50'] = df[features_g].quantile(q=.5,axis = 1)\n",
    "        # df['g_q75'] = df[features_g].quantile(q=.75,axis = 1)\n",
    "        #df['g_var'] = df[features_g].apply(axis=1,func=stats.variation)\n",
    "        # df['g_mad'] = df[features_g].mad(axis = 1)\n",
    "\n",
    "\n",
    "        df['c_sum'] = df[features_c].sum(axis = 1) ## <==\n",
    "        # df['c_mean'] = df[features_c].mean(axis = 1)\n",
    "        df['c_std'] = df[features_c].std(axis = 1) ## <==\n",
    "        # df['c_kurt'] = df[features_c].kurtosis(axis = 1)\n",
    "        #df['c_skew'] = df[features_c].skew(axis = 1)\n",
    "        # df['c_q25'] = df[features_c].quantile(q=.25,axis = 1)\n",
    "        # df['c_q50'] = df[features_c].quantile(q=.5,axis = 1)\n",
    "        # df['c_q75'] = df[features_c].quantile(q=.75,axis = 1)\n",
    "        # df['c_var'] = df[features_c].apply(axis=1,func=stats.variation)\n",
    "        # df['c_mad'] = df[features_c].mad(axis = 1)\n",
    "\n",
    "\n",
    "\n",
    "        df['gc_sum'] = df[features_g + features_c].sum(axis = 1) ## <==\n",
    "        # df['gc_mean'] = df[features_g + features_c].mean(axis = 1)\n",
    "        # df['gc_std'] = df[features_g + features_c].std(axis = 1)\n",
    "        # df['gc_kurt'] = df[features_g + features_c].kurtosis(axis = 1)\n",
    "        # df['gc_skew'] = df[features_g + features_c].skew(axis = 1)\n",
    "        # df['gc_q25'] = df[features_g + features_c].quantile(q=.25,axis = 1)\n",
    "        # df['gc_q50'] = df[features_g + features_c].quantile(q=.5,axis = 1)\n",
    "        # df['gc_q75'] = df[features_g + features_c].quantile(q=.75,axis = 1)\n",
    "        # df['gc_var'] = df[features_g + features_c].apply(axis=1,func=stats.variation)\n",
    "        # df['gc_mad'] = df[features_g + features_c].mad(axis = 1)\n",
    "\n",
    "\n",
    "        \n",
    "    return train, test\n",
    "\n",
    "train_features,test_features=fe_stats(train_features,test_features)"
   ]
  },
  {
   "cell_type": "code",
   "execution_count": 19,
   "metadata": {},
   "outputs": [],
   "source": [
    "# train_features_gc = train_features[[\"sig_id\"]+GENES+CELLS].copy()\n",
    "# test_features_gc = test_features[[\"sig_id\"]+GENES+CELLS].copy()"
   ]
  },
  {
   "cell_type": "code",
   "execution_count": 20,
   "metadata": {},
   "outputs": [
    {
     "output_type": "execute_result",
     "data": {
      "text/plain": "(21948, 1047)"
     },
     "metadata": {},
     "execution_count": 20
    }
   ],
   "source": [
    "from sklearn.feature_selection import VarianceThreshold\n",
    "\n",
    "\n",
    "var_thresh = VarianceThreshold(0.8)  #<-- Update\n",
    "data = train_features.append(test_features)\n",
    "data_transformed = var_thresh.fit_transform(data.iloc[:, 4:])\n",
    "\n",
    "train_features_transformed = data_transformed[ : train_features.shape[0]]\n",
    "test_features_transformed = data_transformed[-test_features.shape[0] : ]\n",
    "\n",
    "\n",
    "train_features = pd.DataFrame(train_features[['sig_id','cp_type','cp_time','cp_dose']].values.reshape(-1, 4),\\\n",
    "                              columns=['sig_id','cp_type','cp_time','cp_dose'])\n",
    "\n",
    "train_features = pd.concat([train_features, pd.DataFrame(train_features_transformed)], axis=1)\n",
    "\n",
    "\n",
    "test_features = pd.DataFrame(test_features[['sig_id','cp_type','cp_time','cp_dose']].values.reshape(-1, 4),\\\n",
    "                             columns=['sig_id','cp_type','cp_time','cp_dose'])\n",
    "\n",
    "test_features = pd.concat([test_features, pd.DataFrame(test_features_transformed)], axis=1)\n",
    "\n",
    "train_features.shape"
   ]
  },
  {
   "cell_type": "code",
   "execution_count": 21,
   "metadata": {},
   "outputs": [],
   "source": [
    "# from sklearn.cluster import KMeans\n",
    "# def fe_cluster2(train, test, n_clusters = 3, SEED = 42):\n",
    "    \n",
    "\n",
    "#     def create_cluster(train, test, n_clusters = n_clusters):\n",
    "#         train_ = train.copy()\n",
    "#         test_ = test.copy()\n",
    "#         data = pd.concat([train_, test_], axis = 0)\n",
    "#         kmeans = KMeans(n_clusters = n_clusters, random_state = SEED).fit(data[[c for c in data.columns if c not in [\"sig_id\",\"cp_type\",\"cp_dose\",\"cp_time\"]]])\n",
    "#         train['cluster'] = kmeans.labels_[:train.shape[0]]\n",
    "#         test['cluster'] = kmeans.labels_[train.shape[0]:]\n",
    "#         train = pd.get_dummies(train, columns = ['cluster'])\n",
    "#         test = pd.get_dummies(test, columns = ['cluster'])\n",
    "#         return train, test\n",
    "    \n",
    "#     train, test = create_cluster(train, test, n_clusters = n_clusters)\n",
    "#     return train, test\n",
    "\n",
    "\n",
    "\n",
    "# train_features,test_features=fe_cluster2(train_features,test_features)\n",
    "\n"
   ]
  },
  {
   "cell_type": "code",
   "execution_count": 22,
   "metadata": {},
   "outputs": [],
   "source": [
    "# data = pd.concat([train1, test1], axis = 0)\n",
    "\n",
    "# distortion = []\n",
    "# for k in range(1,10):\n",
    "#     kmeans = KMeans(n_clusters = k, random_state = 42).fit(data)\n",
    "#     distortion += [kmeans.inertia_]\n"
   ]
  },
  {
   "cell_type": "code",
   "execution_count": 23,
   "metadata": {},
   "outputs": [],
   "source": [
    "# plt.plot(range(1,10),distortion)"
   ]
  },
  {
   "cell_type": "code",
   "execution_count": 24,
   "metadata": {},
   "outputs": [],
   "source": [
    "# train_features = train_features.merge(train_features_gc.loc[:,[col for col in train_features_gc.columns if col not in GENES+CELLS]],on=\"sig_id\")\n",
    "# test_features = test_features.merge(test_features_gc.loc[:,[col for col in test_features_gc.columns if col not in GENES+CELLS]],on=\"sig_id\")"
   ]
  },
  {
   "cell_type": "code",
   "execution_count": 25,
   "metadata": {},
   "outputs": [],
   "source": [
    "train = train_features.merge(train_targets_scored, on='sig_id')\n",
    "train = train.merge(train_targets_nonscored, on='sig_id')\n",
    "# train = train[train['cp_type']!='ctl_vehicle'].reset_index(drop=True)\n",
    "# test = test_features[test_features['cp_type']!='ctl_vehicle'].reset_index(drop=True)\n",
    "\n",
    "target_scored = train[train_targets_scored.columns]\n",
    "target_nscored = train[train_targets_nonscored.columns]"
   ]
  },
  {
   "cell_type": "code",
   "execution_count": 26,
   "metadata": {},
   "outputs": [],
   "source": [
    "train = train.drop('cp_type', axis=1)\n",
    "test = test_features.drop('cp_type', axis=1)"
   ]
  },
  {
   "cell_type": "code",
   "execution_count": 27,
   "metadata": {},
   "outputs": [],
   "source": [
    "target_scored_cols = target_scored.drop('sig_id', axis=1).columns.values.tolist()\n",
    "target_nscored_cols = target_nscored.drop('sig_id', axis=1).columns.values.tolist()"
   ]
  },
  {
   "cell_type": "code",
   "execution_count": 28,
   "metadata": {},
   "outputs": [],
   "source": [
    "# folds = train.copy()\n",
    "\n",
    "# mskf = MultilabelStratifiedKFold(n_splits=7)\n",
    "\n",
    "# for f, (t_idx, v_idx) in enumerate(mskf.split(X=train, y=target_scored)):\n",
    "#     folds.loc[v_idx, 'kfold'] = int(f)\n",
    "\n",
    "# folds['kfold'] = folds['kfold'].astype(int)\n",
    "# folds"
   ]
  },
  {
   "cell_type": "code",
   "execution_count": 29,
   "metadata": {},
   "outputs": [],
   "source": [
    "class TrainDataset:\n",
    "    def __init__(self, features, targets_scored,targets_nscored):\n",
    "        self.features = features\n",
    "        self.targets_scored = targets_scored\n",
    "        self.targets_nscored = targets_nscored\n",
    "        \n",
    "    def __len__(self):\n",
    "        return (self.features.shape[0])\n",
    "    \n",
    "    def __getitem__(self, idx):\n",
    "        dct = {\n",
    "            'x' : torch.tensor(self.features[idx, :], dtype=torch.float),\n",
    "            'y_scored' : torch.tensor(self.targets_scored[idx, :], dtype=torch.float),\n",
    "            'y_nscored' : torch.tensor(self.targets_nscored[idx, :], dtype=torch.float)           \n",
    "        }\n",
    "        return dct\n",
    "\n",
    "class ValidDataset:\n",
    "    def __init__(self, features, targets_scored):\n",
    "        self.features = features\n",
    "        self.targets_scored = targets_scored\n",
    "        \n",
    "    def __len__(self):\n",
    "        return (self.features.shape[0])\n",
    "    \n",
    "    def __getitem__(self, idx):\n",
    "        dct = {\n",
    "            'x' : torch.tensor(self.features[idx, :], dtype=torch.float),\n",
    "            'y_scored' : torch.tensor(self.targets_scored[idx, :], dtype=torch.float),          \n",
    "        }\n",
    "        return dct\n",
    "    \n",
    "class TestDataset:\n",
    "    def __init__(self, features):\n",
    "        self.features = features\n",
    "        \n",
    "    def __len__(self):\n",
    "        return (self.features.shape[0])\n",
    "    \n",
    "    def __getitem__(self, idx):\n",
    "        dct = {\n",
    "            'x' : torch.tensor(self.features[idx, :], dtype=torch.float)\n",
    "        }\n",
    "        return dct"
   ]
  },
  {
   "cell_type": "code",
   "execution_count": 30,
   "metadata": {},
   "outputs": [],
   "source": [
    "def train_fn(model, optimizer, scheduler, loss_fn, dataloader, device):\n",
    "    model.train()\n",
    "    final_loss = 0\n",
    "    \n",
    "    for data in dataloader:\n",
    "        optimizer.zero_grad()\n",
    "        inputs, targets1, targets2 = data['x'].to(device), data['y_scored'].to(device), data['y_nscored'].to(device)\n",
    "#         print(inputs.shape)\n",
    "        outputs1,outputs2 = model(inputs)\n",
    "        loss1 = loss_fn(outputs1, targets1)\n",
    "        loss2 = loss_fn(outputs2, targets2)\n",
    "        loss = loss1 + loss2\n",
    "        loss.backward()\n",
    "        optimizer.step()\n",
    "        scheduler.step()\n",
    "        \n",
    "        final_loss += loss.item()\n",
    "        \n",
    "    final_loss /= len(dataloader)\n",
    "    \n",
    "    return final_loss\n",
    "\n",
    "\n",
    "def valid_fn(model, loss_fn, dataloader, device):\n",
    "    model.eval()\n",
    "    final_loss = 0\n",
    "    valid_preds = []\n",
    "    \n",
    "    for data in dataloader:\n",
    "        inputs, targets = data['x'].to(device), data['y_scored'].to(device)\n",
    "        outputs,_ = model(inputs)\n",
    "        loss = loss_fn(outputs, targets)\n",
    "        \n",
    "        final_loss += loss.item()\n",
    "        valid_preds.append(outputs.sigmoid().detach().cpu().numpy())\n",
    "        \n",
    "    final_loss /= len(dataloader)\n",
    "    valid_preds = np.concatenate(valid_preds)\n",
    "    \n",
    "    return final_loss, valid_preds\n",
    "\n",
    "def inference_fn(model, dataloader, device):\n",
    "    model.eval()\n",
    "    preds = []\n",
    "    \n",
    "    for data in dataloader:\n",
    "        inputs = data['x'].to(device)\n",
    "\n",
    "        with torch.no_grad():\n",
    "            outputs,_ = model(inputs)\n",
    "        \n",
    "        preds.append(outputs.sigmoid().detach().cpu().numpy())\n",
    "        \n",
    "    preds = np.concatenate(preds)\n",
    "    \n",
    "    return preds"
   ]
  },
  {
   "cell_type": "code",
   "execution_count": 31,
   "metadata": {},
   "outputs": [],
   "source": [
    "import torch\n",
    "from torch.nn.modules.loss import _WeightedLoss\n",
    "import torch.nn.functional as F\n",
    "\n",
    "class SmoothBCEwLogits(_WeightedLoss):\n",
    "    def __init__(self, weight=None, reduction='mean', smoothing=0.0):\n",
    "        super().__init__(weight=weight, reduction=reduction)\n",
    "        self.smoothing = smoothing\n",
    "        self.weight = weight\n",
    "        self.reduction = reduction\n",
    "\n",
    "    @staticmethod\n",
    "    def _smooth(targets:torch.Tensor, n_labels:int, smoothing=0.0):\n",
    "        assert 0 <= smoothing < 1\n",
    "        with torch.no_grad():\n",
    "            targets = targets * (1.0 - smoothing) + 0.5 * smoothing\n",
    "        return targets\n",
    "\n",
    "    def forward(self, inputs, targets):\n",
    "        targets = SmoothBCEwLogits._smooth(targets, inputs.size(-1),\n",
    "            self.smoothing)\n",
    "        loss = F.binary_cross_entropy_with_logits(inputs, targets,self.weight)\n",
    "\n",
    "        if  self.reduction == 'sum':\n",
    "            loss = loss.sum()\n",
    "        elif  self.reduction == 'mean':\n",
    "            loss = loss.mean()\n",
    "\n",
    "        return loss"
   ]
  },
  {
   "cell_type": "code",
   "execution_count": 32,
   "metadata": {},
   "outputs": [],
   "source": [
    "class Model(nn.Module):\n",
    "    def __init__(self, num_features, num_targets_scored,num_targets_nscored, hidden_size,dropout_rate):\n",
    "        super(Model, self).__init__()\n",
    "        self.batch_norm1 = nn.BatchNorm1d(num_features)\n",
    "        self.dense1 = nn.utils.weight_norm(nn.Linear(num_features, hidden_size))\n",
    "        self.activation1 = torch.nn.PReLU(num_parameters = hidden_size, init = 1.0)\n",
    "        \n",
    "        self.batch_norm2 = nn.BatchNorm1d(hidden_size)\n",
    "        self.dropout2 = nn.Dropout(dropout_rate)\n",
    "        self.dense2 = nn.utils.weight_norm(nn.Linear(hidden_size, hidden_size))\n",
    "        self.activation2 = torch.nn.PReLU(num_parameters = hidden_size, init = 1.0)\n",
    "\n",
    "\n",
    "        self.batch_norm2b = nn.BatchNorm1d(hidden_size)\n",
    "        self.dropout2b = nn.Dropout(dropout_rate)\n",
    "        self.dense2b = nn.utils.weight_norm(nn.Linear(hidden_size, hidden_size))\n",
    "        self.activation2b = torch.nn.PReLU(num_parameters = hidden_size, init = 1.0)\n",
    "        \n",
    "        self.batch_norm3 = nn.BatchNorm1d(hidden_size)\n",
    "        self.dropout3 = nn.Dropout(dropout_rate)\n",
    "        self.dense3 = nn.utils.weight_norm(nn.Linear(hidden_size, num_targets_scored))\n",
    "        self.dense4 = nn.utils.weight_norm(nn.Linear(hidden_size, num_targets_nscored))\n",
    "\n",
    "    def init_bias(self,pos_scored_rate,pos_nscored_rate):\n",
    "        self.dense3.bias.data = nn.Parameter(torch.tensor(pos_scored_rate, dtype=torch.float))\n",
    "        self.dense4.bias.data = nn.Parameter(torch.tensor(pos_nscored_rate, dtype=torch.float))\n",
    "    \n",
    "    def recalibrate_layer(self, layer):\n",
    "        if(torch.isnan(layer.weight_v).sum() > 0):\n",
    "            print ('recalibrate layer.weight_v')\n",
    "            layer.weight_v = torch.nn.Parameter(torch.where(torch.isnan(layer.weight_v), torch.zeros_like(layer.weight_v), layer.weight_v))\n",
    "            layer.weight_v = torch.nn.Parameter(layer.weight_v + 1e-7)\n",
    "\n",
    "        if(torch.isnan(layer.weight).sum() > 0):\n",
    "            print ('recalibrate layer.weight')\n",
    "            layer.weight = torch.where(torch.isnan(layer.weight), torch.zeros_like(layer.weight), layer.weight)\n",
    "            layer.weight += 1e-7\n",
    "\n",
    "    def forward(self, x):\n",
    "        x = self.batch_norm1(x)\n",
    "        self.recalibrate_layer(self.dense1)\n",
    "        x = self.activation1(self.dense1(x))\n",
    "        \n",
    "        x = self.batch_norm2(x)\n",
    "        x = self.dropout2(x)\n",
    "        self.recalibrate_layer(self.dense2)\n",
    "        x = self.activation2(self.dense2(x))\n",
    "\n",
    "        x = self.batch_norm2b(x)\n",
    "        x = self.dropout2b(x)\n",
    "        self.recalibrate_layer(self.dense2b)\n",
    "        x = self.activation2b(self.dense2b(x))\n",
    "        \n",
    "        x = self.batch_norm3(x)\n",
    "        x = self.dropout3(x)\n",
    "        self.recalibrate_layer(self.dense3)\n",
    "        x1 = self.dense3(x)\n",
    "\n",
    "        self.recalibrate_layer(self.dense4)\n",
    "        x2 = self.dense4(x)\n",
    "        return x1,x2\n",
    "    \n",
    "class LabelSmoothingLoss(nn.Module):\n",
    "    def __init__(self, classes, smoothing=0.0, dim=-1):\n",
    "        super(LabelSmoothingLoss, self).__init__()\n",
    "        self.confidence = 1.0 - smoothing\n",
    "        self.smoothing = smoothing\n",
    "        self.cls = classes\n",
    "        self.dim = dim\n",
    "\n",
    "    def forward(self, pred, target):\n",
    "        pred = pred.log_softmax(dim=self.dim)\n",
    "        with torch.no_grad():\n",
    "            # true_dist = pred.data.clone()\n",
    "            true_dist = torch.zeros_like(pred)\n",
    "            true_dist.fill_(self.smoothing / (self.cls - 1))\n",
    "            true_dist.scatter_(1, target.data.unsqueeze(1), self.confidence)\n",
    "        return torch.mean(torch.sum(-true_dist * pred, dim=self.dim))"
   ]
  },
  {
   "cell_type": "code",
   "execution_count": 33,
   "metadata": {},
   "outputs": [],
   "source": [
    "def process_data(data):\n",
    "    data = pd.get_dummies(data, columns=['cp_time','cp_dose'])\n",
    "    return data"
   ]
  },
  {
   "cell_type": "code",
   "execution_count": 46,
   "metadata": {},
   "outputs": [],
   "source": [
    "# HyperParameters\n",
    "\n",
    "DEVICE = ('cuda' if torch.cuda.is_available() else 'cpu')\n",
    "EPOCHS = 40\n",
    "#EPOCHS = 25\n",
    "BATCH_SIZE = 128\n",
    "LEARNING_RATE = 1e-3\n",
    "WEIGHT_DECAY = 1e-5\n",
    "NFOLDS = 7           \n",
    "EARLY_STOPPING_STEPS = 10\n",
    "EARLY_STOP = False\n",
    "\n",
    "#hidden_size=1500\n",
    "hidden_size=1000\n",
    "dropout_rate = 0.2619422201258426\n",
    "#dropout_rate = 0.28\n"
   ]
  },
  {
   "cell_type": "code",
   "execution_count": 47,
   "metadata": {},
   "outputs": [],
   "source": [
    "# LOCATE DRUGS\n",
    "vc = scored.drug_id.value_counts()\n",
    "vc1 = vc.loc[vc<=18].index.sort_values()\n",
    "vc2 = vc.loc[vc>18].index.sort_values()\n",
    "\n",
    "# STRATIFY DRUGS 18X OR LESS\n",
    "dct1 = {}; dct2 = {}\n",
    "skf = MultilabelStratifiedKFold(n_splits=NFOLDS, shuffle=True, \n",
    "          random_state=seed)\n",
    "tmp = scored.groupby('drug_id')[targets_scored].mean().loc[vc1]\n",
    "for fold,(idxT,idxV) in enumerate( skf.split(tmp,tmp[targets_scored])):\n",
    "    dd = {k:fold for k in tmp.index[idxV].values}\n",
    "    dct1.update(dd)\n",
    "\n",
    "# STRATIFY DRUGS MORE THAN 18X\n",
    "skf = MultilabelStratifiedKFold(n_splits=NFOLDS, shuffle=True, \n",
    "          random_state=seed)\n",
    "tmp = scored.loc[scored.drug_id.isin(vc2)].reset_index(drop=True)\n",
    "for fold,(idxT,idxV) in enumerate( skf.split(tmp,tmp[targets_scored])):\n",
    "    dd = {k:fold for k in tmp.sig_id[idxV].values}\n",
    "    dct2.update(dd)\n",
    "\n",
    "# ASSIGN FOLDS\n",
    "folds = train.merge(drug,on=\"sig_id\")\n",
    "folds['fold'] = folds.drug_id.map(dct1)\n",
    "folds.loc[folds.fold.isna(),'fold'] =\\\n",
    "    folds.loc[folds.fold.isna(),'sig_id'].map(dct2)\n",
    "folds.fold = folds.fold.astype('int8')"
   ]
  },
  {
   "cell_type": "code",
   "execution_count": 48,
   "metadata": {},
   "outputs": [
    {
     "output_type": "execute_result",
     "data": {
      "text/plain": "1048"
     },
     "metadata": {},
     "execution_count": 48
    }
   ],
   "source": [
    "feature_cols = [c for c in process_data(train).columns if c not in (target_scored_cols + target_nscored_cols)]\n",
    "feature_cols = [c for c in feature_cols if c not in ['fold','sig_id']]\n",
    "len(feature_cols)"
   ]
  },
  {
   "cell_type": "code",
   "execution_count": 49,
   "metadata": {},
   "outputs": [],
   "source": [
    "num_features=len(feature_cols)\n",
    "num_targets_scored=len(target_scored_cols)\n",
    "num_targets_nscored=len(target_nscored_cols)"
   ]
  },
  {
   "cell_type": "code",
   "execution_count": 50,
   "metadata": {
    "tags": []
   },
   "outputs": [
    {
     "output_type": "stream",
     "name": "stdout",
     "text": "(20228, 1654)\n(20228, 1656)\n(3624, 1252)\n(20228, 207)\n(20228, 403)\n(3982, 207)\n"
    }
   ],
   "source": [
    "print(train.shape)\n",
    "print(folds.shape)\n",
    "print(test.shape)\n",
    "print(target_scored.shape)\n",
    "print(target_nscored.shape)\n",
    "print(sample_submission.shape)"
   ]
  },
  {
   "cell_type": "code",
   "execution_count": 51,
   "metadata": {},
   "outputs": [],
   "source": [
    "def run_training(fold, seed):\n",
    "    \n",
    "    seed_everything(seed)\n",
    "    \n",
    "    train = process_data(folds)\n",
    "    test_ = process_data(test)\n",
    "\n",
    "    \n",
    "    trn_idx = train[train['fold'] != fold].index\n",
    "    val_idx = train[train['fold'] == fold].index\n",
    "    \n",
    "    train_df = train[train['fold'] != fold].reset_index(drop=True)\n",
    "    valid_df = train[train['fold'] == fold].reset_index(drop=True)\n",
    "    \n",
    "    x_train, y_scored_train, y_nscored_train  = train_df[feature_cols].values, train_df[target_scored_cols].values, train_df[target_nscored_cols].values\n",
    "    x_valid, y_scored_valid =  valid_df[feature_cols].values, valid_df[target_scored_cols].values\n",
    "    \n",
    "    train_dataset = TrainDataset(x_train, y_scored_train, y_nscored_train)\n",
    "    valid_dataset = ValidDataset(x_valid, y_scored_valid)\n",
    "    trainloader = torch.utils.data.DataLoader(train_dataset, batch_size=BATCH_SIZE, shuffle=True)\n",
    "    validloader = torch.utils.data.DataLoader(valid_dataset, batch_size=BATCH_SIZE, shuffle=False)\n",
    "    \n",
    "    model = Model(\n",
    "        num_features=num_features,\n",
    "        num_targets_scored=num_targets_scored,\n",
    "        num_targets_nscored=num_targets_nscored,\n",
    "        hidden_size=hidden_size,\n",
    "        dropout_rate=dropout_rate,\n",
    "    )\n",
    "\n",
    "    # model.init_bias(pos_scored_rate,pos_nscored_rate)\n",
    "\n",
    "    model.to(DEVICE)\n",
    "    \n",
    "    optimizer = torch.optim.Adam(model.parameters(), lr=LEARNING_RATE, weight_decay=WEIGHT_DECAY)\n",
    "    scheduler = optim.lr_scheduler.OneCycleLR(optimizer=optimizer,pct_start=0.1, div_factor=1e4, final_div_factor=1e5,\n",
    "                                              max_lr=1e-2, epochs=EPOCHS, steps_per_epoch=len(trainloader))\n",
    "\n",
    "    # scheduler = optim.lr_scheduler.ReduceLROnPlateau(optimizer=optimizer, mode='min', factor=0.1, patience=5, threshold=0.0001, threshold_mode='rel', cooldown=0, min_lr=0, eps=1e-08, verbose=False)\n",
    "    \n",
    "    loss_fn = nn.BCEWithLogitsLoss()\n",
    "    loss_tr = SmoothBCEwLogits(smoothing =0.001)\n",
    "    \n",
    "    early_stopping_steps = EARLY_STOPPING_STEPS\n",
    "    early_step = 0\n",
    "   \n",
    "    oof = np.zeros((len(train), target_scored.iloc[:, 1:].shape[1]))\n",
    "    best_loss = np.inf\n",
    "    \n",
    "    for epoch in range(EPOCHS):\n",
    "        \n",
    "        train_loss = train_fn(model, optimizer,scheduler, loss_tr, trainloader, DEVICE)\n",
    "        valid_loss, valid_preds = valid_fn(model, loss_fn, validloader, DEVICE)\n",
    "        print(f\"FOLD: {fold}, EPOCH: {epoch}, train_loss: {train_loss}, valid_loss: {valid_loss}\")\n",
    "        # scheduler.step(valid_loss)\n",
    "        \n",
    "        if valid_loss < best_loss:\n",
    "            \n",
    "            best_loss = valid_loss\n",
    "            oof[val_idx] = valid_preds\n",
    "            torch.save(model.state_dict(), f\"FOLD{fold}_.pth\")\n",
    "        \n",
    "        elif(EARLY_STOP == True):\n",
    "            \n",
    "            early_step += 1\n",
    "            if (early_step >= early_stopping_steps):\n",
    "                break\n",
    "            \n",
    "    \n",
    "    #--------------------- PREDICTION---------------------\n",
    "    x_test = test_[feature_cols].values\n",
    "    testdataset = TestDataset(x_test)\n",
    "    testloader = torch.utils.data.DataLoader(testdataset, batch_size=BATCH_SIZE, shuffle=False)\n",
    "    \n",
    "    model = Model(\n",
    "        num_features=num_features,\n",
    "        num_targets_scored=num_targets_scored,\n",
    "        num_targets_nscored=num_targets_nscored,\n",
    "        hidden_size=hidden_size,\n",
    "        dropout_rate=dropout_rate\n",
    "    )\n",
    "    \n",
    "    model.load_state_dict(torch.load(f\"FOLD{fold}_.pth\"))\n",
    "    model.to(DEVICE)\n",
    "    \n",
    "    predictions = np.zeros((len(test_), target_scored.iloc[:, 1:].shape[1]))\n",
    "    predictions = inference_fn(model, testloader, DEVICE)\n",
    "    \n",
    "    return oof, predictions"
   ]
  },
  {
   "cell_type": "code",
   "execution_count": 52,
   "metadata": {},
   "outputs": [],
   "source": [
    "def run_k_fold(NFOLDS, seed):\n",
    "    oof = np.zeros((len(train), len(target_scored_cols)))\n",
    "    predictions = np.zeros((len(test), len(target_scored_cols)))\n",
    "    \n",
    "    for fold in range(NFOLDS):\n",
    "        oof_, pred_ = run_training(fold, seed)\n",
    "        \n",
    "        predictions += pred_ / NFOLDS\n",
    "        oof += oof_\n",
    "        \n",
    "    return oof, predictions"
   ]
  },
  {
   "cell_type": "code",
   "execution_count": 53,
   "metadata": {
    "tags": [
     "outputPrepend"
    ]
   },
   "outputs": [
    {
     "output_type": "stream",
     "name": "stdout",
     "text": ", train_loss: 0.032529147670549506, valid_loss: 0.021213808866298717\nFOLD: 0, EPOCH: 12, train_loss: 0.03246986318160506, valid_loss: 0.021432168619788212\nFOLD: 0, EPOCH: 13, train_loss: 0.0325230685309233, valid_loss: 0.021300090719824253\nFOLD: 0, EPOCH: 14, train_loss: 0.03253763162202256, valid_loss: 0.021182909526902695\nFOLD: 0, EPOCH: 15, train_loss: 0.03250017119845485, valid_loss: 0.021211956992097523\nFOLD: 0, EPOCH: 16, train_loss: 0.03251688910976929, valid_loss: 0.021605252328774204\nFOLD: 0, EPOCH: 17, train_loss: 0.0324572667835609, valid_loss: 0.021239556453150253\nFOLD: 0, EPOCH: 18, train_loss: 0.03248271081760964, valid_loss: 0.021179107301261112\nFOLD: 0, EPOCH: 19, train_loss: 0.03238436220871175, valid_loss: 0.021140002767029015\nFOLD: 0, EPOCH: 20, train_loss: 0.03240878582822487, valid_loss: 0.021052518940490227\nFOLD: 0, EPOCH: 21, train_loss: 0.03232836022096522, valid_loss: 0.021169988519471626\nFOLD: 0, EPOCH: 22, train_loss: 0.03227518033236265, valid_loss: 0.021152279218253883\nFOLD: 0, EPOCH: 23, train_loss: 0.03222337089862455, valid_loss: 0.02097607582159664\nFOLD: 0, EPOCH: 24, train_loss: 0.03211444901192889, valid_loss: 0.02092761959394683\nFOLD: 0, EPOCH: 25, train_loss: 0.03203111802063444, valid_loss: 0.02087648334386556\nFOLD: 0, EPOCH: 26, train_loss: 0.03192989543244681, valid_loss: 0.02080959931987783\nFOLD: 0, EPOCH: 27, train_loss: 0.031824897139278406, valid_loss: 0.020797185194881065\nFOLD: 0, EPOCH: 28, train_loss: 0.031760415582753276, valid_loss: 0.020762027605720188\nFOLD: 0, EPOCH: 29, train_loss: 0.03166905631694723, valid_loss: 0.02074882906416188\nFOLD: 0, EPOCH: 30, train_loss: 0.03155860351398587, valid_loss: 0.020713647827506065\nFOLD: 0, EPOCH: 31, train_loss: 0.03146265344420338, valid_loss: 0.020687592418297478\nFOLD: 0, EPOCH: 32, train_loss: 0.031391916385687446, valid_loss: 0.020700165354039356\nFOLD: 0, EPOCH: 33, train_loss: 0.03133921986719703, valid_loss: 0.020671770462523335\nFOLD: 0, EPOCH: 34, train_loss: 0.03131090704461231, valid_loss: 0.020666848301239635\nFOLD: 1, EPOCH: 0, train_loss: 1.2218302836751236, valid_loss: 0.10628204015286072\nFOLD: 1, EPOCH: 1, train_loss: 0.05826053853311083, valid_loss: 0.025159215149672134\nFOLD: 1, EPOCH: 2, train_loss: 0.039645037915119356, valid_loss: 0.03450482055220915\nFOLD: 1, EPOCH: 3, train_loss: 0.03584408373845851, valid_loss: 0.023419668250109837\nFOLD: 1, EPOCH: 4, train_loss: 0.03461001794237424, valid_loss: 0.022587419285074524\nFOLD: 1, EPOCH: 5, train_loss: 0.03375087459297741, valid_loss: 0.022097720319162243\nFOLD: 1, EPOCH: 6, train_loss: 0.03326607574982678, valid_loss: 0.02211837818765122\nFOLD: 1, EPOCH: 7, train_loss: 0.03287188889568343, valid_loss: 0.021445859871480778\nFOLD: 1, EPOCH: 8, train_loss: 0.032598145128063416, valid_loss: 0.021258986514547596\nFOLD: 1, EPOCH: 9, train_loss: 0.03243147721514106, valid_loss: 0.021240671529718067\nFOLD: 1, EPOCH: 10, train_loss: 0.03234645283287939, valid_loss: 0.02108200736667799\nFOLD: 1, EPOCH: 11, train_loss: 0.03231862213407807, valid_loss: 0.021054500309021576\nFOLD: 1, EPOCH: 12, train_loss: 0.032264517770861, valid_loss: 0.021214977716622146\nFOLD: 1, EPOCH: 13, train_loss: 0.03222367783789249, valid_loss: 0.021226123785195145\nFOLD: 1, EPOCH: 14, train_loss: 0.03226746695444865, valid_loss: 0.021098418323242146\nFOLD: 1, EPOCH: 15, train_loss: 0.03223390573197428, valid_loss: 0.021138017673207367\nFOLD: 1, EPOCH: 16, train_loss: 0.03228571134455064, valid_loss: 0.021160185580020367\nFOLD: 1, EPOCH: 17, train_loss: 0.032267186105908716, valid_loss: 0.02100790688849014\nFOLD: 1, EPOCH: 18, train_loss: 0.03219644048744265, valid_loss: 0.021066632364755093\nFOLD: 1, EPOCH: 19, train_loss: 0.032164124004981094, valid_loss: 0.020953117100440937\nFOLD: 1, EPOCH: 20, train_loss: 0.032136614502900666, valid_loss: 0.02101043239235878\nFOLD: 1, EPOCH: 21, train_loss: 0.03216962202671258, valid_loss: 0.021333179963023766\nFOLD: 1, EPOCH: 22, train_loss: 0.032079260399126834, valid_loss: 0.020956618468398632\nFOLD: 1, EPOCH: 23, train_loss: 0.03199764478075154, valid_loss: 0.021024940373456997\nFOLD: 1, EPOCH: 24, train_loss: 0.03195448341669843, valid_loss: 0.020839572519711826\nFOLD: 1, EPOCH: 25, train_loss: 0.03185073849197258, valid_loss: 0.020762798011950825\nFOLD: 1, EPOCH: 26, train_loss: 0.031733801191234416, valid_loss: 0.02070849842351416\nFOLD: 1, EPOCH: 27, train_loss: 0.03167883151977816, valid_loss: 0.02070977287771909\nFOLD: 1, EPOCH: 28, train_loss: 0.03160449580344207, valid_loss: 0.02065167843323687\nFOLD: 1, EPOCH: 29, train_loss: 0.03150080796331167, valid_loss: 0.020624172671333603\nFOLD: 1, EPOCH: 30, train_loss: 0.03140161445309572, valid_loss: 0.020557052172396496\nFOLD: 1, EPOCH: 31, train_loss: 0.031310356249484944, valid_loss: 0.020550277974942455\nFOLD: 1, EPOCH: 32, train_loss: 0.03121880821281058, valid_loss: 0.02052837286306464\nFOLD: 1, EPOCH: 33, train_loss: 0.03118347527240129, valid_loss: 0.020523789217290672\nFOLD: 1, EPOCH: 34, train_loss: 0.031142622533747378, valid_loss: 0.02053060998087344\nFOLD: 2, EPOCH: 0, train_loss: 1.2214265643235516, valid_loss: 0.10564355260652045\nFOLD: 2, EPOCH: 1, train_loss: 0.05819627111229826, valid_loss: 0.025000566049762394\nFOLD: 2, EPOCH: 2, train_loss: 0.037038113456219435, valid_loss: 0.02454339380821456\nFOLD: 2, EPOCH: 3, train_loss: 0.035042140085031, valid_loss: 0.02283751543449319\nFOLD: 2, EPOCH: 4, train_loss: 0.03335981470916201, valid_loss: 0.02187584032830985\nFOLD: 2, EPOCH: 5, train_loss: 0.0329782140769941, valid_loss: 0.02174332486870496\nFOLD: 2, EPOCH: 6, train_loss: 0.03427470611024867, valid_loss: 0.021879719327325405\nFOLD: 2, EPOCH: 7, train_loss: 0.03286630537032204, valid_loss: 0.021722389142150463\nFOLD: 2, EPOCH: 8, train_loss: 0.03262308605617898, valid_loss: 0.02140796184539795\nFOLD: 2, EPOCH: 9, train_loss: 0.032549117609639376, valid_loss: 0.021279626080523365\nFOLD: 2, EPOCH: 10, train_loss: 0.03249556404154967, valid_loss: 0.02141869254410267\nFOLD: 2, EPOCH: 11, train_loss: 0.03241554149152601, valid_loss: 0.02158678047682928\nFOLD: 2, EPOCH: 12, train_loss: 0.03243021091774983, valid_loss: 0.021599456505930942\nFOLD: 2, EPOCH: 13, train_loss: 0.032420667408801174, valid_loss: 0.021374387342644775\nFOLD: 2, EPOCH: 14, train_loss: 0.032327800112612104, valid_loss: 0.021262300808144653\nFOLD: 2, EPOCH: 15, train_loss: 0.032394863760975355, valid_loss: 0.02154225475438263\nFOLD: 2, EPOCH: 16, train_loss: 0.032347462318070674, valid_loss: 0.021127485062765038\nFOLD: 2, EPOCH: 17, train_loss: 0.03237634223392781, valid_loss: 0.021308719221016636\nFOLD: 2, EPOCH: 18, train_loss: 0.03226421137942987, valid_loss: 0.021013376262524853\nFOLD: 2, EPOCH: 19, train_loss: 0.03226892802152125, valid_loss: 0.021270659225790398\nFOLD: 2, EPOCH: 20, train_loss: 0.03224548155113178, valid_loss: 0.021102457185802254\nFOLD: 2, EPOCH: 21, train_loss: 0.032146398854606295, valid_loss: 0.021052216544099476\nFOLD: 2, EPOCH: 22, train_loss: 0.03212404463385396, valid_loss: 0.02095394476276377\nFOLD: 2, EPOCH: 23, train_loss: 0.032010137486983746, valid_loss: 0.020995728509581608\nFOLD: 2, EPOCH: 24, train_loss: 0.032029178555068726, valid_loss: 0.020924431555297062\nFOLD: 2, EPOCH: 25, train_loss: 0.03193188084782485, valid_loss: 0.020956019425521725\nFOLD: 2, EPOCH: 26, train_loss: 0.03180390503257513, valid_loss: 0.020819342249761456\nFOLD: 2, EPOCH: 27, train_loss: 0.03173373349230079, valid_loss: 0.020696465816834698\nFOLD: 2, EPOCH: 28, train_loss: 0.03164767647874268, valid_loss: 0.020706068157501843\nFOLD: 2, EPOCH: 29, train_loss: 0.03153987467179403, valid_loss: 0.02065853069981803\nFOLD: 2, EPOCH: 30, train_loss: 0.03145618851789657, valid_loss: 0.02060899786327196\nFOLD: 2, EPOCH: 31, train_loss: 0.03138465986258405, valid_loss: 0.02058709469502387\nFOLD: 2, EPOCH: 32, train_loss: 0.03130259588086868, valid_loss: 0.020562032723556393\nFOLD: 2, EPOCH: 33, train_loss: 0.031248370308757704, valid_loss: 0.020558446402782978\nFOLD: 2, EPOCH: 34, train_loss: 0.031217231469995835, valid_loss: 0.020577146550235542\nFOLD: 3, EPOCH: 0, train_loss: 1.2210404666907646, valid_loss: 0.1081598575996316\nFOLD: 3, EPOCH: 1, train_loss: 0.058117739417973685, valid_loss: 0.02497600504885549\nFOLD: 3, EPOCH: 2, train_loss: 0.03787265249582775, valid_loss: 0.02455742948729059\nFOLD: 3, EPOCH: 3, train_loss: 0.035660919075941336, valid_loss: 0.023135946496673252\nFOLD: 3, EPOCH: 4, train_loss: 0.0340731829569182, valid_loss: 0.02224724755986877\nFOLD: 3, EPOCH: 5, train_loss: 0.03358003401252277, valid_loss: 0.021719768562394638\nFOLD: 3, EPOCH: 6, train_loss: 0.032978606245973534, valid_loss: 0.02135724153207696\nFOLD: 3, EPOCH: 7, train_loss: 0.03274171051624067, valid_loss: 0.021281542256474495\nFOLD: 3, EPOCH: 8, train_loss: 0.032549074015525335, valid_loss: 0.021438957313480583\nFOLD: 3, EPOCH: 9, train_loss: 0.032522909219979364, valid_loss: 0.02135798942459666\nFOLD: 3, EPOCH: 10, train_loss: 0.03249818078406593, valid_loss: 0.02132030762732029\nFOLD: 3, EPOCH: 11, train_loss: 0.032440542174941474, valid_loss: 0.021300678181907406\nFOLD: 3, EPOCH: 12, train_loss: 0.03244425950791029, valid_loss: 0.021353304224169773\nFOLD: 3, EPOCH: 13, train_loss: 0.03244659030700431, valid_loss: 0.02132063820634199\nFOLD: 3, EPOCH: 14, train_loss: 0.03248501128024038, valid_loss: 0.02133030387694421\nFOLD: 3, EPOCH: 15, train_loss: 0.03246106434723034, valid_loss: 0.02108578157165776\nFOLD: 3, EPOCH: 16, train_loss: 0.0324364499983323, valid_loss: 0.021121041444332703\nFOLD: 3, EPOCH: 17, train_loss: 0.0324564534924267, valid_loss: 0.021238702389857044\nFOLD: 3, EPOCH: 18, train_loss: 0.032392692697398806, valid_loss: 0.021183582994601\nFOLD: 3, EPOCH: 19, train_loss: 0.03238519174320733, valid_loss: 0.021134134301024933\nFOLD: 3, EPOCH: 20, train_loss: 0.03236172446871505, valid_loss: 0.021199740388471146\nFOLD: 3, EPOCH: 21, train_loss: 0.032205373391180354, valid_loss: 0.020971006268392437\nFOLD: 3, EPOCH: 22, train_loss: 0.03221743226544384, valid_loss: 0.020994883678529575\nFOLD: 3, EPOCH: 23, train_loss: 0.032190353527446, valid_loss: 0.020960181384630825\nFOLD: 3, EPOCH: 24, train_loss: 0.03213497093769119, valid_loss: 0.020814650570568832\nFOLD: 3, EPOCH: 25, train_loss: 0.03198216547367766, valid_loss: 0.020745401797087296\nFOLD: 3, EPOCH: 26, train_loss: 0.03194703702705309, valid_loss: 0.020749324446787006\nFOLD: 3, EPOCH: 27, train_loss: 0.03186341696966659, valid_loss: 0.020696649894766186\nFOLD: 3, EPOCH: 28, train_loss: 0.03169941814506755, valid_loss: 0.02062620408833027\nFOLD: 3, EPOCH: 29, train_loss: 0.031629367841078955, valid_loss: 0.020605512935182323\nFOLD: 3, EPOCH: 30, train_loss: 0.03152329333619598, valid_loss: 0.020577585081691326\nFOLD: 3, EPOCH: 31, train_loss: 0.031424514291917574, valid_loss: 0.02052472321235615\nFOLD: 3, EPOCH: 32, train_loss: 0.03136283622178085, valid_loss: 0.020535204640549164\nFOLD: 3, EPOCH: 33, train_loss: 0.031308513792122114, valid_loss: 0.020545669466904972\nFOLD: 3, EPOCH: 34, train_loss: 0.031270100611864644, valid_loss: 0.020554971597764805\nFOLD: 4, EPOCH: 0, train_loss: 1.2191645915017408, valid_loss: 0.11458705948746722\nFOLD: 4, EPOCH: 1, train_loss: 0.05784233349978047, valid_loss: 0.025051849691764168\nFOLD: 4, EPOCH: 2, train_loss: 0.036575699197676254, valid_loss: 0.0240397317254025\nFOLD: 4, EPOCH: 3, train_loss: 0.03678294126053944, valid_loss: 0.025104095754416092\nFOLD: 4, EPOCH: 4, train_loss: 0.03502319832606351, valid_loss: 0.022478123721869095\nFOLD: 4, EPOCH: 5, train_loss: 0.033482093610526883, valid_loss: 0.02201139999796515\nFOLD: 4, EPOCH: 6, train_loss: 0.03298875329303829, valid_loss: 0.02164546975299068\nFOLD: 4, EPOCH: 7, train_loss: 0.03264365971143193, valid_loss: 0.02170166964440242\nFOLD: 4, EPOCH: 8, train_loss: 0.03259096878087696, valid_loss: 0.02154092717429866\nFOLD: 4, EPOCH: 9, train_loss: 0.03249424626119435, valid_loss: 0.021168529825366062\nFOLD: 4, EPOCH: 10, train_loss: 0.032469611697118074, valid_loss: 0.02136187401154767\nFOLD: 4, EPOCH: 11, train_loss: 0.03241623906583032, valid_loss: 0.021550364306439525\nFOLD: 4, EPOCH: 12, train_loss: 0.03240016465732718, valid_loss: 0.021241447118961292\nFOLD: 4, EPOCH: 13, train_loss: 0.03248150860342909, valid_loss: 0.021352502071987026\nFOLD: 4, EPOCH: 14, train_loss: 0.03240250546813888, valid_loss: 0.021449258631986122\nFOLD: 4, EPOCH: 15, train_loss: 0.032457168350982314, valid_loss: 0.021560811073235844\nFOLD: 4, EPOCH: 16, train_loss: 0.03241231030894115, valid_loss: 0.021346999818216198\nFOLD: 4, EPOCH: 17, train_loss: 0.03244143345064538, valid_loss: 0.02136360845811989\nFOLD: 4, EPOCH: 18, train_loss: 0.032376705079942066, valid_loss: 0.021219744306543598\nFOLD: 4, EPOCH: 19, train_loss: 0.032366714371806556, valid_loss: 0.021180440469280533\nFOLD: 4, EPOCH: 20, train_loss: 0.03224360786707086, valid_loss: 0.021326194881745007\nFOLD: 4, EPOCH: 21, train_loss: 0.03225136208621895, valid_loss: 0.021139443730530533\nFOLD: 4, EPOCH: 22, train_loss: 0.03222264244002016, valid_loss: 0.02128421086008134\nFOLD: 4, EPOCH: 23, train_loss: 0.03211692348122597, valid_loss: 0.021068341868079227\nFOLD: 4, EPOCH: 24, train_loss: 0.03206320189158706, valid_loss: 0.0211629134643337\nFOLD: 4, EPOCH: 25, train_loss: 0.03193137711187934, valid_loss: 0.020946139631711918\nFOLD: 4, EPOCH: 26, train_loss: 0.031870986348675454, valid_loss: 0.020950570540583652\nFOLD: 4, EPOCH: 27, train_loss: 0.03176378903855734, valid_loss: 0.02094377374843411\nFOLD: 4, EPOCH: 28, train_loss: 0.031673873514484835, valid_loss: 0.020888327499446663\nFOLD: 4, EPOCH: 29, train_loss: 0.031602196395397186, valid_loss: 0.02080326891787674\nFOLD: 4, EPOCH: 30, train_loss: 0.031517057953511965, valid_loss: 0.020787189350180004\nFOLD: 4, EPOCH: 31, train_loss: 0.03142487353590481, valid_loss: 0.0207476786783208\nFOLD: 4, EPOCH: 32, train_loss: 0.031335157383342874, valid_loss: 0.020726797292413918\nFOLD: 4, EPOCH: 33, train_loss: 0.03128111198106233, valid_loss: 0.020723401447353157\nFOLD: 4, EPOCH: 34, train_loss: 0.03125207464429824, valid_loss: 0.020734609874046368\nFOLD: 5, EPOCH: 0, train_loss: 1.2243109884507515, valid_loss: 0.12325598526260127\nFOLD: 5, EPOCH: 1, train_loss: 0.05945288042044815, valid_loss: 0.02490726072827111\nFOLD: 5, EPOCH: 2, train_loss: 0.03698648465797305, valid_loss: 0.02472142470271691\nFOLD: 5, EPOCH: 3, train_loss: 0.03580135276869816, valid_loss: 0.02297609048369138\nFOLD: 5, EPOCH: 4, train_loss: 0.03398139585795648, valid_loss: 0.02212708678258502\nFOLD: 5, EPOCH: 5, train_loss: 0.03363720757667633, valid_loss: 0.02191559654539046\nFOLD: 5, EPOCH: 6, train_loss: 0.032887623960371405, valid_loss: 0.021574627203137978\nFOLD: 5, EPOCH: 7, train_loss: 0.03471542092259316, valid_loss: 0.022565877793923668\nFOLD: 5, EPOCH: 8, train_loss: 0.03331363176488701, valid_loss: 0.021706347880156143\nFOLD: 5, EPOCH: 9, train_loss: 0.032787238959880435, valid_loss: 0.021477544842206913\nFOLD: 5, EPOCH: 10, train_loss: 0.032565432189799404, valid_loss: 0.021339067946309628\nFOLD: 5, EPOCH: 11, train_loss: 0.03251104655346888, valid_loss: 0.021429752930998802\nFOLD: 5, EPOCH: 12, train_loss: 0.032453494434080576, valid_loss: 0.021474702688662903\nFOLD: 5, EPOCH: 13, train_loss: 0.03246146986973198, valid_loss: 0.021143660435210102\nFOLD: 5, EPOCH: 14, train_loss: 0.032345738124978894, valid_loss: 0.021245500882682594\nFOLD: 5, EPOCH: 15, train_loss: 0.03239267075653462, valid_loss: 0.021278004931366962\nFOLD: 5, EPOCH: 16, train_loss: 0.03236899146919742, valid_loss: 0.02120040721543457\nFOLD: 5, EPOCH: 17, train_loss: 0.03238966491292505, valid_loss: 0.021257786566148632\nFOLD: 5, EPOCH: 18, train_loss: 0.03238229501499411, valid_loss: 0.021309954478688862\nFOLD: 5, EPOCH: 19, train_loss: 0.03231053487123812, valid_loss: 0.02129447816506676\nFOLD: 5, EPOCH: 20, train_loss: 0.03227442539954448, valid_loss: 0.021028595612100933\nFOLD: 5, EPOCH: 21, train_loss: 0.032254401320482004, valid_loss: 0.021121378097197285\nFOLD: 5, EPOCH: 22, train_loss: 0.0321847497321227, valid_loss: 0.021150226097392\nFOLD: 5, EPOCH: 23, train_loss: 0.03214466451283764, valid_loss: 0.021075561399693073\nFOLD: 5, EPOCH: 24, train_loss: 0.03204255678471835, valid_loss: 0.020965886018846348\nFOLD: 5, EPOCH: 25, train_loss: 0.0319768972831833, valid_loss: 0.020909976214170456\nFOLD: 5, EPOCH: 26, train_loss: 0.03188183025785667, valid_loss: 0.020912772287493168\nFOLD: 5, EPOCH: 27, train_loss: 0.031775945592123794, valid_loss: 0.02082309045869371\nFOLD: 5, EPOCH: 28, train_loss: 0.03169495498706751, valid_loss: 0.020790863215275433\nFOLD: 5, EPOCH: 29, train_loss: 0.03160602393943597, valid_loss: 0.020756253405757572\nFOLD: 5, EPOCH: 30, train_loss: 0.03152065017424962, valid_loss: 0.020738924084150272\nFOLD: 5, EPOCH: 31, train_loss: 0.031428729444194364, valid_loss: 0.020707058031921802\nFOLD: 5, EPOCH: 32, train_loss: 0.031361283172908073, valid_loss: 0.020698307648949\nFOLD: 5, EPOCH: 33, train_loss: 0.03130871110924465, valid_loss: 0.020685272858194683\nFOLD: 5, EPOCH: 34, train_loss: 0.031280255397124326, valid_loss: 0.020672248109527256\nFOLD: 6, EPOCH: 0, train_loss: 1.2266705303280443, valid_loss: 0.1128943075115482\nFOLD: 6, EPOCH: 1, train_loss: 0.058970906695833915, valid_loss: 0.025274039478972554\nFOLD: 6, EPOCH: 2, train_loss: 0.036733344004110054, valid_loss: 0.02335052991596361\nFOLD: 6, EPOCH: 3, train_loss: 0.035780308064487246, valid_loss: 0.2849056450650096\nFOLD: 6, EPOCH: 4, train_loss: 0.03555413139639078, valid_loss: 0.02251154277473688\nFOLD: 6, EPOCH: 5, train_loss: 0.0337354876101017, valid_loss: 0.022165963814283412\nFOLD: 6, EPOCH: 6, train_loss: 0.033166261362256824, valid_loss: 0.02172753253641228\nFOLD: 6, EPOCH: 7, train_loss: 0.03283654082980421, valid_loss: 0.021250369880969327\nFOLD: 6, EPOCH: 8, train_loss: 0.03257282780552352, valid_loss: 0.021158478688448668\nFOLD: 6, EPOCH: 9, train_loss: 0.032410935960985994, valid_loss: 0.021653319786613185\nFOLD: 6, EPOCH: 10, train_loss: 0.03238053639177923, valid_loss: 0.021170219406485558\nFOLD: 6, EPOCH: 11, train_loss: 0.03238286006229895, valid_loss: 0.02115659407960872\nFOLD: 6, EPOCH: 12, train_loss: 0.032315729917199526, valid_loss: 0.021354446808497112\nFOLD: 6, EPOCH: 13, train_loss: 0.03232527972647437, valid_loss: 0.021241586267327268\nFOLD: 6, EPOCH: 14, train_loss: 0.03236016000586527, valid_loss: 0.021240769419819117\nFOLD: 6, EPOCH: 15, train_loss: 0.032370840882261595, valid_loss: 0.021068972690651815\nFOLD: 6, EPOCH: 16, train_loss: 0.03232204823030366, valid_loss: 0.021130920310194295\nFOLD: 6, EPOCH: 17, train_loss: 0.03234717760373045, valid_loss: 0.021173325056831043\nFOLD: 6, EPOCH: 18, train_loss: 0.032348936340875094, valid_loss: 0.021103619520242017\nFOLD: 6, EPOCH: 19, train_loss: 0.03227766290031098, valid_loss: 0.021055193928380806\nFOLD: 6, EPOCH: 20, train_loss: 0.03225187041141369, valid_loss: 0.021016563133647043\nFOLD: 6, EPOCH: 21, train_loss: 0.03216626657931893, valid_loss: 0.020932120193416875\nFOLD: 6, EPOCH: 22, train_loss: 0.03216323470351873, valid_loss: 0.021119510832553107\nFOLD: 6, EPOCH: 23, train_loss: 0.03210881126147729, valid_loss: 0.020906085614115\nFOLD: 6, EPOCH: 24, train_loss: 0.0319649634261926, valid_loss: 0.020911835056419175\nFOLD: 6, EPOCH: 25, train_loss: 0.031901905326931566, valid_loss: 0.020855362061411142\nFOLD: 6, EPOCH: 26, train_loss: 0.03185145140246109, valid_loss: 0.02081925080468257\nFOLD: 6, EPOCH: 27, train_loss: 0.03175129328888875, valid_loss: 0.020731007835517328\nFOLD: 6, EPOCH: 28, train_loss: 0.03167548354853083, valid_loss: 0.020674906903877854\nFOLD: 6, EPOCH: 29, train_loss: 0.03156366763567483, valid_loss: 0.020681189916407067\nFOLD: 6, EPOCH: 30, train_loss: 0.03146400669658626, valid_loss: 0.020684837130829692\nFOLD: 6, EPOCH: 31, train_loss: 0.03138237296155205, valid_loss: 0.020617660600692034\nFOLD: 6, EPOCH: 32, train_loss: 0.0312983050942421, valid_loss: 0.020596539058412116\nFOLD: 6, EPOCH: 33, train_loss: 0.03124858183717286, valid_loss: 0.02060108499911924\nFOLD: 6, EPOCH: 34, train_loss: 0.03122675933495716, valid_loss: 0.020606877049431205\n"
    }
   ],
   "source": [
    "# Averaging on multiple SEEDS\n",
    "\n",
    "# SEED = [0,1,2,3,4,5,6] #<-- Update\n",
    "SEED = [0]\n",
    "oof = np.zeros((len(train), len(target_scored_cols)))\n",
    "predictions = np.zeros((len(test), len(target_scored_cols)))\n",
    "\n",
    "# mean_scored = np.mean(train[target_scored_cols].values,axis=0)\n",
    "# mean_nscored = np.mean(train[target_nscored_cols].values,axis=0)\n",
    "# pos_scored_rate = np.log(np.where(mean_scored==0, 1e-8, mean_scored))\n",
    "# pos_nscored_rate = np.log(np.where(mean_nscored==0, 1e-8, mean_nscored))\n",
    "\n",
    "for seed in SEED:\n",
    "    \n",
    "    oof_, predictions_ = run_k_fold(NFOLDS, seed)\n",
    "    oof += oof_ / len(SEED)\n",
    "    predictions += predictions_ / len(SEED)\n",
    "\n",
    "train[target_scored_cols] = oof\n",
    "test[target_scored_cols] = predictions"
   ]
  },
  {
   "cell_type": "code",
   "execution_count": 56,
   "metadata": {
    "tags": []
   },
   "outputs": [
    {
     "output_type": "stream",
     "name": "stdout",
     "text": "CV log_loss:  0.015211123923585581\n"
    }
   ],
   "source": [
    "valid_results = train_targets_scored.drop(columns=target_scored_cols).merge(train[['sig_id']+target_scored_cols], on='sig_id', how='left').fillna(0)\n",
    "\n",
    "\n",
    "\n",
    "y_true = train_targets_scored[target_scored_cols].values\n",
    "y_pred = valid_results[target_scored_cols].values\n",
    "\n",
    "score = 0\n",
    "for i in range(len(target_scored_cols)):\n",
    "    score_ = log_loss(y_true[:, i], y_pred[:, i])\n",
    "    score += score_ / target_scored.shape[1]\n",
    "    \n",
    "print(\"CV log_loss: \", score)"
   ]
  },
  {
   "cell_type": "code",
   "execution_count": 57,
   "metadata": {
    "tags": []
   },
   "outputs": [
    {
     "output_type": "stream",
     "name": "stdout",
     "text": "0.8498978564064913\n"
    }
   ],
   "source": [
    "from sklearn.metrics import roc_auc_score\n",
    "print(roc_auc_score(y_true,y_pred))"
   ]
  },
  {
   "cell_type": "code",
   "execution_count": null,
   "metadata": {},
   "outputs": [],
   "source": [
    "#Baseline\n",
    "#CV log_loss:  0.015877615364984873 - 0.6541240486632599\n",
    "#without kmeans CV log_loss: 0.015854058954568463 - 0.659868777535432\n",
    "#epochs 35 - CV log_loss:  0.015211123923585581 - 0.8498978564064913"
   ]
  },
  {
   "cell_type": "code",
   "execution_count": null,
   "metadata": {},
   "outputs": [],
   "source": [
    "#auc .8073 -> .6541 "
   ]
  },
  {
   "cell_type": "code",
   "execution_count": 48,
   "metadata": {},
   "outputs": [],
   "source": [
    "#CV log_loss:  0.014772181976560779 - hidden size 1500\n",
    "#CV log loss:  0.014761207506656483 - hidden size 1600\n",
    "#CV log_loss:  0.014757089674479135 - hidden size 1600 + recalibrate layers\n",
    "#CV log_loss:  0.014798489345352649 - hidden size 1600 + recalibrate layers + 30epochs\n",
    "#CV log_loss:  0.014993945755985132 - hidden size 1600 + recalibrate layers - batch size 256\n",
    "#CV log_loss:  0.014925429807583115 - hidden size 1600 + recalibrate layers - batch size 256 + 50 epcohs\n",
    "#CV log_loss:  0.01501367781064934  - hidden size 1600 + recalibrate layers - batch size 256 + 50 epcohs div_factor=1e4\n",
    "#CV log_loss:  0.015038120295874759 - hidden size 1600 + recalibrate layers - batch size 256 + 50 epcohs pct_start=0.2\n",
    "#CV log_loss:  0.014925429807583115 - hidden size 1600 + recalibrate layers - batch size 256 + 50 epcohs 2*lr\n",
    "#CV log_loss:  0.014862676189325522 - hidden size 2000 + recalibrate layers - batch size 256 + 50 epcohs\n",
    "#CV log_loss:  0.014805892283163887 - hidden size 2000 + recalibrate layers - batch size 256 + 70 epcohs\n",
    "\n",
    "\n",
    "\n",
    "#CV log_loss:  0.014701033773812383 - hidden size 1000 + recalibrate layers + 30 epochs + 1layer + stats g35 c5\n",
    "#CV log_loss:  0.01470633477903798  - hidden size 1000 + recalibrate layers + 30 epochs + 1layer + stats g15 c5\n",
    "\n",
    "#CV log_loss:  0.014688195780301675 - hidden size 1000 + recalibrate layers + 30 epochs + 1layer + stats + varianceth 0.81\n",
    "\n",
    "#CV log_loss:  0.01473922963978107 - hidden size 1000 + recalibrate layers + 40 epochs + 1layer\n",
    "#CV log_loss:  0.014704245299661241 - hidden size 900 + recalibrate layers + 30 epochs + 1layer\n",
    "#CV log_loss:  0.014700136730168381 - hidden size 1100 + recalibrate layers + 30 epochs + 1layer\n",
    "\n",
    "\n",
    "#CV log_loss:  0.015298968285739336 - hidden size 1600 + recalibrate layers - batch size 64\n",
    "\n",
    "#CV log_loss:  0.014708188641129298 - hidden size 1000 + recalibrate layers + 30 epochs\n",
    "#CV log_loss:  0.014686009232339573 - hidden size 1000 + recalibrate layers + 30 epochs + 1layer\n",
    "#CV log_loss:  0.014675118998674056 - hidden size 1000 + recalibrate layers + 30 epochs + 1layer + stats\n",
    "#\n",
    "\n",
    "#CV log_loss:  0.01468776733769557 without stats\n",
    "\n",
    "\n",
    "\n",
    "\n",
    "\n",
    "#CV log_loss:  0.014751931843087755 baseline\n",
    "#CV log_loss:  0.014746491073514958 baseline + std g,c\n",
    "#CV log_loss:  0.014753663287033052 baseline + std g,c + median g,c\n",
    "#CV log_loss:  0.014747499643338137 baseline + std g,c + sum g,c + kurt g,c\n",
    "#CV log_loss:  0.014745229709145196 baseline + std g,c + sum g,c + mean g,c\n",
    "#CV log_loss:  0.014765909985927743 baseline + std g,c + sum g,c + skew g,c\n",
    "#CV log_loss:  0.01475305848080635  baseline + std g,c + sum g,c + g_var\n",
    "#CV log_loss:  0.014738260008810762 baseline + std g,c + sum g,c\n",
    "#CV log_loss:  0.014735805473683174 baseline + std g,c + sum g,c,gc\n",
    "#CV log_loss:  0.014750251194250852 baseline + std g,c,gc + sum g,c,gc\n",
    "#CV log_loss:  0.01474079804921367  baseline + std g,c + sum g,c,gc + variance 80(threshold)\n",
    "\n",
    "#CV log_loss:  0.014704018818104764 baseline + std g,c + sum g,c,gc + variance 80(threshold) &PCA\n",
    "#CV log loss:  0.014669995520015213 baseline + std g,c + sum g,c,gc + variance 80(threshold) &PCA + clusters3 - CV log_loss:  0.014520597500516905 /0.8153730747072218 (seeds)\n",
    "\n",
    "#CV log_loss:  0.014566130099844471/0.815729267497772 avec prelu, 30 epochs\n",
    "\n",
    "\n",
    "#CV log_loss:  0.014685491308574154 baseline + std g,c + sum g,c,gc + variance 80(threshold) &PCA + clusters5\n",
    "\n",
    "\n",
    "#CV log_loss:  0.015099951953285232 baseline + PCA features\n"
   ]
  },
  {
   "cell_type": "code",
   "execution_count": null,
   "metadata": {},
   "outputs": [],
   "source": []
  }
 ]
}