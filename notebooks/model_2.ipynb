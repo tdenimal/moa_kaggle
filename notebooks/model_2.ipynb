{
 "cells": [
  {
   "cell_type": "code",
   "execution_count": 1,
   "metadata": {
    "_cell_guid": "b1076dfc-b9ad-4769-8c92-a6c4dae69d19",
    "_kg_hide-input": true,
    "_uuid": "8f2839f25d086af736a60e9eeb907d3b93b6e0e5",
    "execution": {
     "iopub.execute_input": "2020-11-16T03:58:36.115689Z",
     "iopub.status.busy": "2020-11-16T03:58:36.114824Z",
     "iopub.status.idle": "2020-11-16T03:58:36.990547Z",
     "shell.execute_reply": "2020-11-16T03:58:36.989294Z"
    },
    "papermill": {
     "duration": 0.91392,
     "end_time": "2020-11-16T03:58:36.990696",
     "exception": false,
     "start_time": "2020-11-16T03:58:36.076776",
     "status": "completed"
    },
    "tags": []
   },
   "outputs": [],
   "source": [
    "from iterstrat.ml_stratifiers import MultilabelStratifiedKFold"
   ]
  },
  {
   "cell_type": "code",
   "execution_count": 2,
   "metadata": {
    "_cell_guid": "79c7e3d0-c299-4dcb-8224-4455121ee9b0",
    "_kg_hide-input": true,
    "_uuid": "d629ff2d2480ee46fbb7e2d37f6b5fab8052498a",
    "execution": {
     "iopub.execute_input": "2020-11-16T03:58:37.065204Z",
     "iopub.status.busy": "2020-11-16T03:58:37.064387Z",
     "iopub.status.idle": "2020-11-16T03:58:38.489862Z",
     "shell.execute_reply": "2020-11-16T03:58:38.490387Z"
    },
    "papermill": {
     "duration": 1.466558,
     "end_time": "2020-11-16T03:58:38.490541",
     "exception": false,
     "start_time": "2020-11-16T03:58:37.023983",
     "status": "completed"
    },
    "tags": []
   },
   "outputs": [],
   "source": [
    "import numpy as np\n",
    "import random\n",
    "import pandas as pd\n",
    "import matplotlib.pyplot as plt\n",
    "import os\n",
    "import copy\n",
    "\n",
    "from sklearn import preprocessing\n",
    "from sklearn.metrics import log_loss\n",
    "from sklearn.preprocessing import StandardScaler\n",
    "from sklearn.decomposition import PCA\n",
    "from pickle import load,dump\n",
    "\n",
    "import torch\n",
    "import torch.nn as nn\n",
    "import torch.nn.functional as F\n",
    "import torch.optim as optim\n",
    "\n",
    "import warnings\n",
    "warnings.filterwarnings('ignore')"
   ]
  },
  {
   "cell_type": "code",
   "execution_count": 3,
   "metadata": {
    "execution": {
     "iopub.execute_input": "2020-11-16T03:58:38.559079Z",
     "iopub.status.busy": "2020-11-16T03:58:38.558163Z",
     "iopub.status.idle": "2020-11-16T03:58:38.563184Z",
     "shell.execute_reply": "2020-11-16T03:58:38.562502Z"
    },
    "papermill": {
     "duration": 0.038593,
     "end_time": "2020-11-16T03:58:38.563285",
     "exception": false,
     "start_time": "2020-11-16T03:58:38.524692",
     "status": "completed"
    },
    "tags": []
   },
   "outputs": [],
   "source": [
    "from sklearn.preprocessing import QuantileTransformer"
   ]
  },
  {
   "cell_type": "code",
   "execution_count": 4,
   "metadata": {
    "_kg_hide-input": true,
    "execution": {
     "iopub.execute_input": "2020-11-16T03:58:38.631218Z",
     "iopub.status.busy": "2020-11-16T03:58:38.630343Z",
     "iopub.status.idle": "2020-11-16T03:58:38.637180Z",
     "shell.execute_reply": "2020-11-16T03:58:38.636608Z"
    },
    "papermill": {
     "duration": 0.041861,
     "end_time": "2020-11-16T03:58:38.637274",
     "exception": false,
     "start_time": "2020-11-16T03:58:38.595413",
     "status": "completed"
    },
    "tags": []
   },
   "outputs": [
    {
     "output_type": "execute_result",
     "data": {
      "text/plain": "['train_targets_scored.csv',\n 'sample_submission.csv',\n '.gitkeep',\n 'train_drug.csv',\n 'train_features.csv',\n 'test_features.csv',\n 'train_targets_nonscored.csv']"
     },
     "metadata": {},
     "execution_count": 4
    }
   ],
   "source": [
    "data_dir = '../data/01_raw'\n",
    "os.listdir(data_dir)"
   ]
  },
  {
   "cell_type": "code",
   "execution_count": 5,
   "metadata": {
    "_kg_hide-input": true,
    "execution": {
     "iopub.execute_input": "2020-11-16T03:58:38.708222Z",
     "iopub.status.busy": "2020-11-16T03:58:38.707237Z",
     "iopub.status.idle": "2020-11-16T03:58:45.440397Z",
     "shell.execute_reply": "2020-11-16T03:58:45.439581Z"
    },
    "papermill": {
     "duration": 6.77034,
     "end_time": "2020-11-16T03:58:45.440519",
     "exception": false,
     "start_time": "2020-11-16T03:58:38.670179",
     "status": "completed"
    },
    "tags": []
   },
   "outputs": [],
   "source": [
    "train_features = pd.read_csv(data_dir+'/train_features.csv')\n",
    "train_targets_scored = pd.read_csv(data_dir+'/train_targets_scored.csv')\n",
    "train_targets_nonscored = pd.read_csv(data_dir+'/train_targets_nonscored.csv')\n",
    "\n",
    "test_features = pd.read_csv(data_dir+'/test_features.csv')\n",
    "df = pd.read_csv(data_dir+'/sample_submission.csv')\n",
    "drug = pd.read_csv(data_dir+'/train_drug.csv')"
   ]
  },
  {
   "cell_type": "code",
   "execution_count": 6,
   "metadata": {},
   "outputs": [],
   "source": [
    "targets_scored = train_targets_scored.columns[1:]\n",
    "targets_nscored = train_targets_nonscored.columns[1:]\n",
    "scored = train_targets_scored.merge(drug, on='sig_id', how='left') \n",
    "nscored = train_targets_nonscored.merge(drug, on='sig_id', how='left') "
   ]
  },
  {
   "cell_type": "code",
   "execution_count": 7,
   "metadata": {
    "execution": {
     "iopub.execute_input": "2020-11-16T03:58:45.513980Z",
     "iopub.status.busy": "2020-11-16T03:58:45.512745Z",
     "iopub.status.idle": "2020-11-16T03:58:45.588654Z",
     "shell.execute_reply": "2020-11-16T03:58:45.588040Z"
    },
    "papermill": {
     "duration": 0.1144,
     "end_time": "2020-11-16T03:58:45.588768",
     "exception": false,
     "start_time": "2020-11-16T03:58:45.474368",
     "status": "completed"
    },
    "tags": []
   },
   "outputs": [],
   "source": [
    "train_features2=train_features.copy()\n",
    "test_features2=test_features.copy()"
   ]
  },
  {
   "cell_type": "code",
   "execution_count": 8,
   "metadata": {
    "execution": {
     "iopub.execute_input": "2020-11-16T03:58:45.663610Z",
     "iopub.status.busy": "2020-11-16T03:58:45.661875Z",
     "iopub.status.idle": "2020-11-16T03:58:45.664306Z",
     "shell.execute_reply": "2020-11-16T03:58:45.664819Z"
    },
    "papermill": {
     "duration": 0.042329,
     "end_time": "2020-11-16T03:58:45.664939",
     "exception": false,
     "start_time": "2020-11-16T03:58:45.622610",
     "status": "completed"
    },
    "tags": []
   },
   "outputs": [],
   "source": [
    "GENES = [col for col in train_features.columns if col.startswith('g-')]\n",
    "CELLS = [col for col in train_features.columns if col.startswith('c-')]"
   ]
  },
  {
   "cell_type": "code",
   "execution_count": 9,
   "metadata": {
    "execution": {
     "iopub.execute_input": "2020-11-16T03:58:45.740043Z",
     "iopub.status.busy": "2020-11-16T03:58:45.737600Z",
     "iopub.status.idle": "2020-11-16T03:58:55.491365Z",
     "shell.execute_reply": "2020-11-16T03:58:55.490302Z"
    },
    "papermill": {
     "duration": 9.794075,
     "end_time": "2020-11-16T03:58:55.491501",
     "exception": false,
     "start_time": "2020-11-16T03:58:45.697426",
     "status": "completed"
    },
    "tags": []
   },
   "outputs": [],
   "source": [
    "for col in (GENES + CELLS):\n",
    "\n",
    "    transformer = QuantileTransformer(n_quantiles=100,random_state=0, output_distribution=\"normal\")\n",
    "    vec_len = len(train_features[col].values)\n",
    "    vec_len_test = len(test_features[col].values)\n",
    "    raw_vec = train_features[col].values.reshape(vec_len, 1)\n",
    "    transformer.fit(raw_vec)\n",
    "\n",
    "    train_features[col] = transformer.transform(raw_vec).reshape(1, vec_len)[0]\n",
    "    test_features[col] = transformer.transform(test_features[col].values.reshape(vec_len_test, 1)).reshape(1, vec_len_test)[0]"
   ]
  },
  {
   "cell_type": "code",
   "execution_count": 10,
   "metadata": {
    "execution": {
     "iopub.execute_input": "2020-11-16T03:58:55.574581Z",
     "iopub.status.busy": "2020-11-16T03:58:55.573717Z",
     "iopub.status.idle": "2020-11-16T03:58:55.943987Z",
     "shell.execute_reply": "2020-11-16T03:58:55.943285Z"
    },
    "papermill": {
     "duration": 0.415286,
     "end_time": "2020-11-16T03:58:55.944110",
     "exception": false,
     "start_time": "2020-11-16T03:58:55.528824",
     "status": "completed"
    },
    "tags": []
   },
   "outputs": [],
   "source": [
    "seed=42\n",
    "\n",
    "def seed_everything(seed_value):\n",
    "    random.seed(seed_value)\n",
    "    np.random.seed(seed_value)\n",
    "    torch.manual_seed(seed_value)\n",
    "\n",
    "    if torch.cuda.is_available(): \n",
    "        torch.cuda.manual_seed(seed_value)\n",
    "        torch.cuda.manual_seed_all(seed_value)\n",
    "        torch.backends.cudnn.deterministic = True\n",
    "        torch.backends.cudnn.benchmark = False\n",
    "    \n",
    "seed_everything(seed)"
   ]
  },
  {
   "cell_type": "code",
   "execution_count": 11,
   "metadata": {
    "execution": {
     "iopub.execute_input": "2020-11-16T03:58:56.071042Z",
     "iopub.status.busy": "2020-11-16T03:58:56.026165Z",
     "iopub.status.idle": "2020-11-16T03:59:08.502844Z",
     "shell.execute_reply": "2020-11-16T03:59:08.501557Z"
    },
    "papermill": {
     "duration": 12.524878,
     "end_time": "2020-11-16T03:59:08.503002",
     "exception": false,
     "start_time": "2020-11-16T03:58:55.978124",
     "status": "completed"
    },
    "tags": []
   },
   "outputs": [],
   "source": [
    "n_comp = 600  #<--Update\n",
    "pca_g = PCA(n_components=n_comp, random_state=42)\n",
    "data = pd.concat([pd.DataFrame(train_features[GENES]), pd.DataFrame(test_features[GENES])])\n",
    "gpca= (pca_g.fit(data[GENES]))\n",
    "train2= (gpca.transform(train_features[GENES]))\n",
    "test2 = (gpca.transform(test_features[GENES]))\n",
    "\n",
    "train_gpca = pd.DataFrame(train2, columns=[f'pca_G-{i}' for i in range(n_comp)])\n",
    "test_gpca = pd.DataFrame(test2, columns=[f'pca_G-{i}' for i in range(n_comp)])\n",
    "\n",
    "# drop_cols = [f'c-{i}' for i in range(n_comp,len(GENES))]\n",
    "train_features = pd.concat((train_features, train_gpca), axis=1)\n",
    "test_features = pd.concat((test_features, test_gpca), axis=1)\n",
    "\n",
    "dump(gpca, open('gpca.pkl', 'wb'))"
   ]
  },
  {
   "cell_type": "code",
   "execution_count": 12,
   "metadata": {
    "execution": {
     "iopub.execute_input": "2020-11-16T03:59:08.581866Z",
     "iopub.status.busy": "2020-11-16T03:59:08.580493Z",
     "iopub.status.idle": "2020-11-16T03:59:09.319742Z",
     "shell.execute_reply": "2020-11-16T03:59:09.318822Z"
    },
    "papermill": {
     "duration": 0.783552,
     "end_time": "2020-11-16T03:59:09.319862",
     "exception": false,
     "start_time": "2020-11-16T03:59:08.536310",
     "status": "completed"
    },
    "tags": []
   },
   "outputs": [],
   "source": [
    "#CELLS\n",
    "n_comp = 50  #<--Update\n",
    "\n",
    "pca_c = PCA(n_components=n_comp, random_state=42)\n",
    "data = pd.concat([pd.DataFrame(train_features[CELLS]), pd.DataFrame(test_features[CELLS])])\n",
    "cpca= (pca_c.fit(data[CELLS]))\n",
    "train2= (cpca.transform(train_features[CELLS]))\n",
    "test2 = (cpca.transform(test_features[CELLS]))\n",
    "\n",
    "train_cpca = pd.DataFrame(train2, columns=[f'pca_C-{i}' for i in range(n_comp)])\n",
    "test_cpca = pd.DataFrame(test2, columns=[f'pca_C-{i}' for i in range(n_comp)])\n",
    "\n",
    "# drop_cols = [f'c-{i}' for i in range(n_comp,len(CELLS))]\n",
    "train_features = pd.concat((train_features, train_cpca), axis=1)\n",
    "test_features = pd.concat((test_features, test_cpca), axis=1)\n",
    "\n",
    "dump(cpca, open('cpca.pkl', 'wb'))"
   ]
  },
  {
   "cell_type": "code",
   "execution_count": 13,
   "metadata": {
    "execution": {
     "iopub.execute_input": "2020-11-16T03:59:09.397153Z",
     "iopub.status.busy": "2020-11-16T03:59:09.396317Z",
     "iopub.status.idle": "2020-11-16T03:59:10.164610Z",
     "shell.execute_reply": "2020-11-16T03:59:10.163759Z"
    },
    "papermill": {
     "duration": 0.811123,
     "end_time": "2020-11-16T03:59:10.164785",
     "exception": false,
     "start_time": "2020-11-16T03:59:09.353662",
     "status": "completed"
    },
    "tags": []
   },
   "outputs": [],
   "source": [
    "from sklearn.feature_selection import VarianceThreshold\n",
    "\n",
    "c_n = [f for f in list(train_features.columns) if f not in ['sig_id', 'cp_type', 'cp_time', 'cp_dose']]\n",
    "mask = (train_features[c_n].var() >= 0.85).values\n",
    "tmp = train_features[c_n].loc[:, mask]\n",
    "train_features = pd.concat([train_features[['sig_id', 'cp_type', 'cp_time', 'cp_dose']], tmp], axis=1)\n",
    "tmp = test_features[c_n].loc[:, mask]\n",
    "test_features = pd.concat([test_features[['sig_id', 'cp_type', 'cp_time', 'cp_dose']], tmp], axis=1)"
   ]
  },
  {
   "cell_type": "code",
   "execution_count": 14,
   "metadata": {
    "execution": {
     "iopub.execute_input": "2020-11-16T03:59:10.272089Z",
     "iopub.status.busy": "2020-11-16T03:59:10.271186Z",
     "iopub.status.idle": "2020-11-16T03:59:55.831758Z",
     "shell.execute_reply": "2020-11-16T03:59:55.830545Z"
    },
    "papermill": {
     "duration": 45.618648,
     "end_time": "2020-11-16T03:59:55.831905",
     "exception": false,
     "start_time": "2020-11-16T03:59:10.213257",
     "status": "completed"
    },
    "tags": []
   },
   "outputs": [],
   "source": [
    "from sklearn.cluster import KMeans\n",
    "def fe_cluster_genes(train, test, n_clusters_g = 22, SEED = 42):\n",
    "    \n",
    "    features_g = GENES\n",
    "    #features_c = CELLS\n",
    "    \n",
    "    def create_cluster(train, test, features, kind = 'g', n_clusters = n_clusters_g):\n",
    "        train_ = train[features].copy()\n",
    "        test_ = test[features].copy()\n",
    "        data = pd.concat([train_, test_], axis = 0)\n",
    "        kmeans_genes = KMeans(n_clusters = n_clusters, random_state = SEED).fit(data)\n",
    "        dump(kmeans_genes, open('kmeans_genes.pkl', 'wb'))\n",
    "        train[f'clusters_{kind}'] = kmeans_genes.predict(train_.values)\n",
    "        test[f'clusters_{kind}'] = kmeans_genes.predict(test_.values)\n",
    "        train = pd.get_dummies(train, columns = [f'clusters_{kind}'])\n",
    "        test = pd.get_dummies(test, columns = [f'clusters_{kind}'])\n",
    "        return train, test\n",
    "    \n",
    "    train, test = create_cluster(train, test, features_g, kind = 'g', n_clusters = n_clusters_g)\n",
    "   # train, test = create_cluster(train, test, features_c, kind = 'c', n_clusters = n_clusters_c)\n",
    "    return train, test\n",
    "\n",
    "train_features2 ,test_features2=fe_cluster_genes(train_features2,test_features2)"
   ]
  },
  {
   "cell_type": "code",
   "execution_count": 15,
   "metadata": {
    "execution": {
     "iopub.execute_input": "2020-11-16T03:59:55.915414Z",
     "iopub.status.busy": "2020-11-16T03:59:55.913809Z",
     "iopub.status.idle": "2020-11-16T03:59:58.131844Z",
     "shell.execute_reply": "2020-11-16T03:59:58.130896Z"
    },
    "papermill": {
     "duration": 2.265871,
     "end_time": "2020-11-16T03:59:58.132016",
     "exception": false,
     "start_time": "2020-11-16T03:59:55.866145",
     "status": "completed"
    },
    "tags": []
   },
   "outputs": [],
   "source": [
    "def fe_cluster_cells(train, test, n_clusters_c = 4, SEED = 42):\n",
    "    \n",
    "    #features_g = GENES\n",
    "    features_c = CELLS\n",
    "    \n",
    "    def create_cluster(train, test, features, kind = 'c', n_clusters = n_clusters_c):\n",
    "        train_ = train[features].copy()\n",
    "        test_ = test[features].copy()\n",
    "        data = pd.concat([train_, test_], axis = 0)\n",
    "        kmeans_cells = KMeans(n_clusters = n_clusters, random_state = SEED).fit(data)\n",
    "        dump(kmeans_cells, open('kmeans_cells.pkl', 'wb'))\n",
    "        train[f'clusters_{kind}'] = kmeans_cells.predict(train_.values)\n",
    "        test[f'clusters_{kind}'] = kmeans_cells.predict(test_.values)\n",
    "        train = pd.get_dummies(train, columns = [f'clusters_{kind}'])\n",
    "        test = pd.get_dummies(test, columns = [f'clusters_{kind}'])\n",
    "        return train, test\n",
    "    \n",
    "   # train, test = create_cluster(train, test, features_g, kind = 'g', n_clusters = n_clusters_g)\n",
    "    train, test = create_cluster(train, test, features_c, kind = 'c', n_clusters = n_clusters_c)\n",
    "    return train, test\n",
    "\n",
    "train_features2 ,test_features2=fe_cluster_cells(train_features2,test_features2)"
   ]
  },
  {
   "cell_type": "code",
   "execution_count": 16,
   "metadata": {
    "execution": {
     "iopub.execute_input": "2020-11-16T03:59:58.206463Z",
     "iopub.status.busy": "2020-11-16T03:59:58.205177Z",
     "iopub.status.idle": "2020-11-16T03:59:58.327577Z",
     "shell.execute_reply": "2020-11-16T03:59:58.328381Z"
    },
    "papermill": {
     "duration": 0.163306,
     "end_time": "2020-11-16T03:59:58.328591",
     "exception": false,
     "start_time": "2020-11-16T03:59:58.165285",
     "status": "completed"
    },
    "tags": []
   },
   "outputs": [],
   "source": [
    "train_pca=pd.concat((train_gpca,train_cpca),axis=1)\n",
    "test_pca=pd.concat((test_gpca,test_cpca),axis=1)"
   ]
  },
  {
   "cell_type": "code",
   "execution_count": 17,
   "metadata": {
    "execution": {
     "iopub.execute_input": "2020-11-16T03:59:58.463512Z",
     "iopub.status.busy": "2020-11-16T03:59:58.462566Z",
     "iopub.status.idle": "2020-11-16T04:00:14.227593Z",
     "shell.execute_reply": "2020-11-16T04:00:14.226914Z"
    },
    "papermill": {
     "duration": 15.834025,
     "end_time": "2020-11-16T04:00:14.227739",
     "exception": false,
     "start_time": "2020-11-16T03:59:58.393714",
     "status": "completed"
    },
    "tags": []
   },
   "outputs": [],
   "source": [
    "def fe_cluster_pca(train, test,n_clusters=5,SEED = 42):\n",
    "        data=pd.concat([train,test],axis=0)\n",
    "        kmeans_pca = KMeans(n_clusters = n_clusters, random_state = SEED).fit(data)\n",
    "        dump(kmeans_pca, open('kmeans_pca.pkl', 'wb'))\n",
    "        train[f'clusters_pca'] = kmeans_pca.predict(train.values)\n",
    "        test[f'clusters_pca'] = kmeans_pca.predict(test.values)\n",
    "        train = pd.get_dummies(train, columns = [f'clusters_pca'])\n",
    "        test = pd.get_dummies(test, columns = [f'clusters_pca'])\n",
    "        return train, test\n",
    "train_cluster_pca ,test_cluster_pca = fe_cluster_pca(train_pca,test_pca)"
   ]
  },
  {
   "cell_type": "code",
   "execution_count": 18,
   "metadata": {
    "execution": {
     "iopub.execute_input": "2020-11-16T04:00:14.302965Z",
     "iopub.status.busy": "2020-11-16T04:00:14.300875Z",
     "iopub.status.idle": "2020-11-16T04:00:14.306287Z",
     "shell.execute_reply": "2020-11-16T04:00:14.305702Z"
    },
    "papermill": {
     "duration": 0.044096,
     "end_time": "2020-11-16T04:00:14.306389",
     "exception": false,
     "start_time": "2020-11-16T04:00:14.262293",
     "status": "completed"
    },
    "tags": []
   },
   "outputs": [],
   "source": [
    "train_cluster_pca = train_cluster_pca.iloc[:,650:]\n",
    "test_cluster_pca = test_cluster_pca.iloc[:,650:]"
   ]
  },
  {
   "cell_type": "code",
   "execution_count": 19,
   "metadata": {
    "execution": {
     "iopub.execute_input": "2020-11-16T04:00:14.382648Z",
     "iopub.status.busy": "2020-11-16T04:00:14.381214Z",
     "iopub.status.idle": "2020-11-16T04:00:14.385247Z",
     "shell.execute_reply": "2020-11-16T04:00:14.385762Z"
    },
    "papermill": {
     "duration": 0.044766,
     "end_time": "2020-11-16T04:00:14.385914",
     "exception": false,
     "start_time": "2020-11-16T04:00:14.341148",
     "status": "completed"
    },
    "tags": []
   },
   "outputs": [],
   "source": [
    "train_features_cluster=train_features2.iloc[:,876:]\n",
    "test_features_cluster=test_features2.iloc[:,876:]"
   ]
  },
  {
   "cell_type": "code",
   "execution_count": 20,
   "metadata": {
    "execution": {
     "iopub.execute_input": "2020-11-16T04:00:14.482385Z",
     "iopub.status.busy": "2020-11-16T04:00:14.481516Z",
     "iopub.status.idle": "2020-11-16T04:00:14.485129Z",
     "shell.execute_reply": "2020-11-16T04:00:14.485670Z"
    },
    "papermill": {
     "duration": 0.062974,
     "end_time": "2020-11-16T04:00:14.485815",
     "exception": false,
     "start_time": "2020-11-16T04:00:14.422841",
     "status": "completed"
    },
    "tags": []
   },
   "outputs": [],
   "source": [
    "\n",
    "gsquarecols=['g-574','g-211','g-216','g-0','g-255','g-577','g-153','g-389','g-60','g-370','g-248','g-167','g-203','g-177','g-301','g-332','g-517','g-6','g-744','g-224','g-162','g-3','g-736','g-486','g-283','g-22','g-359','g-361','g-440','g-335','g-106','g-307','g-745','g-146','g-416','g-298','g-666','g-91','g-17','g-549','g-145','g-157','g-768','g-568','g-396']"
   ]
  },
  {
   "cell_type": "code",
   "execution_count": 21,
   "metadata": {
    "execution": {
     "iopub.execute_input": "2020-11-16T04:00:14.574032Z",
     "iopub.status.busy": "2020-11-16T04:00:14.563593Z",
     "iopub.status.idle": "2020-11-16T04:00:20.261687Z",
     "shell.execute_reply": "2020-11-16T04:00:20.260364Z"
    },
    "papermill": {
     "duration": 5.741293,
     "end_time": "2020-11-16T04:00:20.261873",
     "exception": false,
     "start_time": "2020-11-16T04:00:14.520580",
     "status": "completed"
    },
    "tags": []
   },
   "outputs": [],
   "source": [
    "def fe_stats(train, test):\n",
    "    \n",
    "    features_g = GENES\n",
    "    features_c = CELLS\n",
    "    \n",
    "    for df in train, test:\n",
    "        df['g_sum'] = df[features_g].sum(axis = 1)\n",
    "        df['g_mean'] = df[features_g].mean(axis = 1)\n",
    "        df['g_std'] = df[features_g].std(axis = 1)\n",
    "        df['g_kurt'] = df[features_g].kurtosis(axis = 1)\n",
    "        df['g_skew'] = df[features_g].skew(axis = 1)\n",
    "        df['c_sum'] = df[features_c].sum(axis = 1)\n",
    "        df['c_mean'] = df[features_c].mean(axis = 1)\n",
    "        df['c_std'] = df[features_c].std(axis = 1)\n",
    "        df['c_kurt'] = df[features_c].kurtosis(axis = 1)\n",
    "        df['c_skew'] = df[features_c].skew(axis = 1)\n",
    "        df['gc_sum'] = df[features_g + features_c].sum(axis = 1)\n",
    "        df['gc_mean'] = df[features_g + features_c].mean(axis = 1)\n",
    "        df['gc_std'] = df[features_g + features_c].std(axis = 1)\n",
    "        df['gc_kurt'] = df[features_g + features_c].kurtosis(axis = 1)\n",
    "        df['gc_skew'] = df[features_g + features_c].skew(axis = 1)\n",
    "        \n",
    "        df['c52_c42'] = df['c-52'] * df['c-42']\n",
    "        df['c13_c73'] = df['c-13'] * df['c-73']\n",
    "        df['c26_c13'] = df['c-26'] * df['c-13']\n",
    "        df['c33_c6'] = df['c-33'] * df['c-6']\n",
    "        df['c11_c55'] = df['c-11'] * df['c-55']\n",
    "        df['c38_c63'] = df['c-38'] * df['c-63']\n",
    "        df['c38_c94'] = df['c-38'] * df['c-94']\n",
    "        df['c13_c94'] = df['c-13'] * df['c-94']\n",
    "        df['c4_c52'] = df['c-4'] * df['c-52']\n",
    "        df['c4_c42'] = df['c-4'] * df['c-42']\n",
    "        df['c13_c38'] = df['c-13'] * df['c-38']\n",
    "        df['c55_c2'] = df['c-55'] * df['c-2']\n",
    "        df['c55_c4'] = df['c-55'] * df['c-4']\n",
    "        df['c4_c13'] = df['c-4'] * df['c-13']\n",
    "        df['c82_c42'] = df['c-82'] * df['c-42']\n",
    "        df['c66_c42'] = df['c-66'] * df['c-42']\n",
    "        df['c6_c38'] = df['c-6'] * df['c-38']\n",
    "        df['c2_c13'] = df['c-2'] * df['c-13']\n",
    "        df['c62_c42'] = df['c-62'] * df['c-42']\n",
    "        df['c90_c55'] = df['c-90'] * df['c-55']\n",
    "        \n",
    "        \n",
    "        for feature in features_c:\n",
    "             df[f'{feature}_squared'] = df[feature] ** 2     \n",
    "                \n",
    "        for feature in gsquarecols:\n",
    "            df[f'{feature}_squared'] = df[feature] ** 2        \n",
    "        \n",
    "    return train, test\n",
    "\n",
    "train_features2,test_features2=fe_stats(train_features2,test_features2)"
   ]
  },
  {
   "cell_type": "code",
   "execution_count": 22,
   "metadata": {
    "execution": {
     "iopub.execute_input": "2020-11-16T04:00:20.394114Z",
     "iopub.status.busy": "2020-11-16T04:00:20.393047Z",
     "iopub.status.idle": "2020-11-16T04:00:20.432549Z",
     "shell.execute_reply": "2020-11-16T04:00:20.433315Z"
    },
    "papermill": {
     "duration": 0.107601,
     "end_time": "2020-11-16T04:00:20.433516",
     "exception": false,
     "start_time": "2020-11-16T04:00:20.325915",
     "status": "completed"
    },
    "tags": []
   },
   "outputs": [],
   "source": [
    "train_features_stats=train_features2.iloc[:,902:]\n",
    "test_features_stats=test_features2.iloc[:,902:]"
   ]
  },
  {
   "cell_type": "code",
   "execution_count": 23,
   "metadata": {
    "execution": {
     "iopub.execute_input": "2020-11-16T04:00:20.545514Z",
     "iopub.status.busy": "2020-11-16T04:00:20.544666Z",
     "iopub.status.idle": "2020-11-16T04:00:20.683120Z",
     "shell.execute_reply": "2020-11-16T04:00:20.684515Z"
    },
    "papermill": {
     "duration": 0.202375,
     "end_time": "2020-11-16T04:00:20.684805",
     "exception": false,
     "start_time": "2020-11-16T04:00:20.482430",
     "status": "completed"
    },
    "tags": []
   },
   "outputs": [],
   "source": [
    "train_features = pd.concat((train_features, train_features_cluster,train_cluster_pca,train_features_stats), axis=1)\n",
    "test_features = pd.concat((test_features, test_features_cluster,test_cluster_pca,test_features_stats), axis=1)"
   ]
  },
  {
   "cell_type": "code",
   "execution_count": 24,
   "metadata": {
    "execution": {
     "iopub.execute_input": "2020-11-16T04:00:20.804181Z",
     "iopub.status.busy": "2020-11-16T04:00:20.803297Z",
     "iopub.status.idle": "2020-11-16T04:00:21.536056Z",
     "shell.execute_reply": "2020-11-16T04:00:21.535107Z"
    },
    "papermill": {
     "duration": 0.796692,
     "end_time": "2020-11-16T04:00:21.536176",
     "exception": false,
     "start_time": "2020-11-16T04:00:20.739484",
     "status": "completed"
    },
    "tags": []
   },
   "outputs": [],
   "source": [
    "train = train_features.merge(train_targets_nonscored, on='sig_id')\n",
    "train = train[train['cp_type']!='ctl_vehicle'].reset_index(drop=True)\n",
    "test = test_features[test_features['cp_type']!='ctl_vehicle'].reset_index(drop=True)\n",
    "\n",
    "target = train[train_targets_nonscored.columns]"
   ]
  },
  {
   "cell_type": "code",
   "execution_count": 25,
   "metadata": {
    "execution": {
     "iopub.execute_input": "2020-11-16T04:00:21.699395Z",
     "iopub.status.busy": "2020-11-16T04:00:21.698266Z",
     "iopub.status.idle": "2020-11-16T04:00:21.716130Z",
     "shell.execute_reply": "2020-11-16T04:00:21.715554Z"
    },
    "papermill": {
     "duration": 0.144051,
     "end_time": "2020-11-16T04:00:21.716238",
     "exception": false,
     "start_time": "2020-11-16T04:00:21.572187",
     "status": "completed"
    },
    "tags": []
   },
   "outputs": [],
   "source": [
    "train = train.drop('cp_type', axis=1)\n",
    "test = test.drop('cp_type', axis=1)"
   ]
  },
  {
   "cell_type": "code",
   "execution_count": 26,
   "metadata": {
    "execution": {
     "iopub.execute_input": "2020-11-16T04:00:21.813125Z",
     "iopub.status.busy": "2020-11-16T04:00:21.812281Z",
     "iopub.status.idle": "2020-11-16T04:00:21.815914Z",
     "shell.execute_reply": "2020-11-16T04:00:21.815333Z"
    },
    "papermill": {
     "duration": 0.064514,
     "end_time": "2020-11-16T04:00:21.816013",
     "exception": false,
     "start_time": "2020-11-16T04:00:21.751499",
     "status": "completed"
    },
    "tags": []
   },
   "outputs": [],
   "source": [
    "target_cols = target.drop('sig_id', axis=1).columns.values.tolist()"
   ]
  },
  {
   "cell_type": "code",
   "execution_count": 27,
   "metadata": {
    "execution": {
     "iopub.execute_input": "2020-11-16T04:00:21.893132Z",
     "iopub.status.busy": "2020-11-16T04:00:21.892245Z",
     "iopub.status.idle": "2020-11-16T04:00:22.102840Z",
     "shell.execute_reply": "2020-11-16T04:00:22.102274Z"
    },
    "papermill": {
     "duration": 0.251286,
     "end_time": "2020-11-16T04:00:22.102978",
     "exception": false,
     "start_time": "2020-11-16T04:00:21.851692",
     "status": "completed"
    },
    "tags": []
   },
   "outputs": [],
   "source": [
    "train = pd.get_dummies(train, columns=['cp_time','cp_dose'])\n",
    "test_ = pd.get_dummies(test, columns=['cp_time','cp_dose'])"
   ]
  },
  {
   "cell_type": "code",
   "execution_count": 28,
   "metadata": {
    "execution": {
     "iopub.execute_input": "2020-11-16T04:00:22.187290Z",
     "iopub.status.busy": "2020-11-16T04:00:22.186521Z",
     "iopub.status.idle": "2020-11-16T04:00:22.190446Z",
     "shell.execute_reply": "2020-11-16T04:00:22.189895Z"
    },
    "papermill": {
     "duration": 0.05155,
     "end_time": "2020-11-16T04:00:22.190542",
     "exception": false,
     "start_time": "2020-11-16T04:00:22.138992",
     "status": "completed"
    },
    "tags": []
   },
   "outputs": [],
   "source": [
    "feature_cols = [c for c in train.columns if c not in target_cols]\n",
    "feature_cols = [c for c in feature_cols if c not in ['sig_id']]"
   ]
  },
  {
   "cell_type": "code",
   "execution_count": 29,
   "metadata": {
    "execution": {
     "iopub.execute_input": "2020-11-16T04:00:22.273465Z",
     "iopub.status.busy": "2020-11-16T04:00:22.272729Z",
     "iopub.status.idle": "2020-11-16T04:00:22.275786Z",
     "shell.execute_reply": "2020-11-16T04:00:22.276327Z"
    },
    "papermill": {
     "duration": 0.050063,
     "end_time": "2020-11-16T04:00:22.276447",
     "exception": false,
     "start_time": "2020-11-16T04:00:22.226384",
     "status": "completed"
    },
    "tags": []
   },
   "outputs": [],
   "source": [
    "class MoADataset:\n",
    "    def __init__(self, features, targets):\n",
    "        self.features = features\n",
    "        self.targets = targets\n",
    "        \n",
    "    def __len__(self):\n",
    "        return (self.features.shape[0])\n",
    "    \n",
    "    def __getitem__(self, idx):\n",
    "        dct = {\n",
    "            'x' : torch.tensor(self.features[idx, :], dtype=torch.float),\n",
    "            'y' : torch.tensor(self.targets[idx, :], dtype=torch.float)            \n",
    "        }\n",
    "        return dct\n",
    "    \n",
    "class TestDataset:\n",
    "    def __init__(self, features):\n",
    "        self.features = features\n",
    "        \n",
    "    def __len__(self):\n",
    "        return (self.features.shape[0])\n",
    "    \n",
    "    def __getitem__(self, idx):\n",
    "        dct = {\n",
    "            'x' : torch.tensor(self.features[idx, :], dtype=torch.float)\n",
    "        }\n",
    "        return dct\n",
    "    "
   ]
  },
  {
   "cell_type": "code",
   "execution_count": 30,
   "metadata": {
    "execution": {
     "iopub.execute_input": "2020-11-16T04:00:22.361038Z",
     "iopub.status.busy": "2020-11-16T04:00:22.355820Z",
     "iopub.status.idle": "2020-11-16T04:00:22.367756Z",
     "shell.execute_reply": "2020-11-16T04:00:22.368309Z"
    },
    "papermill": {
     "duration": 0.056866,
     "end_time": "2020-11-16T04:00:22.368432",
     "exception": false,
     "start_time": "2020-11-16T04:00:22.311566",
     "status": "completed"
    },
    "tags": []
   },
   "outputs": [],
   "source": [
    "def train_fn(model, optimizer, scheduler, loss_fn, dataloader, device):\n",
    "    model.train()\n",
    "    final_loss = 0\n",
    "    \n",
    "    for data in dataloader:\n",
    "        optimizer.zero_grad()\n",
    "        inputs, targets = data['x'].to(device), data['y'].to(device)\n",
    "        outputs = model(inputs)\n",
    "        loss = loss_fn(outputs, targets)\n",
    "        loss.backward()\n",
    "        optimizer.step()\n",
    "        scheduler.step()\n",
    "        \n",
    "        final_loss += loss.item()\n",
    "        \n",
    "    final_loss /= len(dataloader)\n",
    "    \n",
    "    return final_loss\n",
    "\n",
    "\n",
    "def valid_fn(model, loss_fn, dataloader, device):\n",
    "    model.eval()\n",
    "    final_loss = 0\n",
    "    valid_preds = []\n",
    "    \n",
    "    for data in dataloader:\n",
    "        inputs, targets = data['x'].to(device), data['y'].to(device)\n",
    "        outputs = model(inputs)\n",
    "        loss = loss_fn(outputs, targets)\n",
    "        \n",
    "        final_loss += loss.item()\n",
    "        valid_preds.append(outputs.sigmoid().detach().cpu().numpy())\n",
    "        \n",
    "    final_loss /= len(dataloader)\n",
    "    valid_preds = np.concatenate(valid_preds)\n",
    "    \n",
    "    return final_loss, valid_preds\n",
    "\n",
    "def inference_fn(model, dataloader, device):\n",
    "    model.eval()\n",
    "    preds = []\n",
    "    \n",
    "    for data in dataloader:\n",
    "        inputs = data['x'].to(device)\n",
    "\n",
    "        with torch.no_grad():\n",
    "            outputs = model(inputs)\n",
    "        \n",
    "        preds.append(outputs.sigmoid().detach().cpu().numpy())\n",
    "        \n",
    "    preds = np.concatenate(preds)\n",
    "    \n",
    "    return preds\n",
    "   \n",
    "    "
   ]
  },
  {
   "cell_type": "code",
   "execution_count": 31,
   "metadata": {
    "execution": {
     "iopub.execute_input": "2020-11-16T04:00:22.453017Z",
     "iopub.status.busy": "2020-11-16T04:00:22.451244Z",
     "iopub.status.idle": "2020-11-16T04:00:22.453812Z",
     "shell.execute_reply": "2020-11-16T04:00:22.454309Z"
    },
    "papermill": {
     "duration": 0.049343,
     "end_time": "2020-11-16T04:00:22.454430",
     "exception": false,
     "start_time": "2020-11-16T04:00:22.405087",
     "status": "completed"
    },
    "tags": []
   },
   "outputs": [],
   "source": [
    "import torch\n",
    "from torch.nn.modules.loss import _WeightedLoss\n",
    "import torch.nn.functional as F\n",
    "\n",
    "class SmoothBCEwLogits(_WeightedLoss):\n",
    "    def __init__(self, weight=None, reduction='mean', smoothing=0.0):\n",
    "        super().__init__(weight=weight, reduction=reduction)\n",
    "        self.smoothing = smoothing\n",
    "        self.weight = weight\n",
    "        self.reduction = reduction\n",
    "\n",
    "    @staticmethod\n",
    "    def _smooth(targets:torch.Tensor, n_labels:int, smoothing=0.0):\n",
    "        assert 0 <= smoothing < 1\n",
    "        with torch.no_grad():\n",
    "            targets = targets * (1.0 - smoothing) + 0.5 * smoothing\n",
    "        return targets\n",
    "\n",
    "    def forward(self, inputs, targets):\n",
    "        targets = SmoothBCEwLogits._smooth(targets, inputs.size(-1),\n",
    "            self.smoothing)\n",
    "        loss = F.binary_cross_entropy_with_logits(inputs, targets,self.weight)\n",
    "\n",
    "        if  self.reduction == 'sum':\n",
    "            loss = loss.sum()\n",
    "        elif  self.reduction == 'mean':\n",
    "            loss = loss.mean()\n",
    "\n",
    "        return loss"
   ]
  },
  {
   "cell_type": "code",
   "execution_count": 32,
   "metadata": {
    "execution": {
     "iopub.execute_input": "2020-11-16T04:00:22.539811Z",
     "iopub.status.busy": "2020-11-16T04:00:22.534140Z",
     "iopub.status.idle": "2020-11-16T04:00:22.542089Z",
     "shell.execute_reply": "2020-11-16T04:00:22.542615Z"
    },
    "papermill": {
     "duration": 0.052188,
     "end_time": "2020-11-16T04:00:22.542747",
     "exception": false,
     "start_time": "2020-11-16T04:00:22.490559",
     "status": "completed"
    },
    "tags": []
   },
   "outputs": [],
   "source": [
    "class Model(nn.Module):\n",
    "    def __init__(self, num_features, num_targets, hidden_size):\n",
    "        super(Model, self).__init__()\n",
    "        self.batch_norm1 = nn.BatchNorm1d(num_features)\n",
    "        self.dropout1 = nn.Dropout(0.2)\n",
    "        self.dense1 = nn.utils.weight_norm(nn.Linear(num_features, hidden_size))\n",
    "        \n",
    "        self.batch_norm2 = nn.BatchNorm1d(hidden_size)\n",
    "        self.dropout2 = nn.Dropout(0.2)\n",
    "        self.dense2 = nn.utils.weight_norm(nn.Linear(hidden_size, hidden_size))\n",
    "        \n",
    "        self.batch_norm3 = nn.BatchNorm1d(hidden_size)\n",
    "        self.dropout3 = nn.Dropout(0.2)\n",
    "        self.dense3 = nn.utils.weight_norm(nn.Linear(hidden_size, num_targets))\n",
    "    \n",
    "    def forward(self, x):\n",
    "        x = self.batch_norm1(x)\n",
    "        x = self.dropout1(x)\n",
    "        x = F.leaky_relu(self.dense1(x), 1e-3)\n",
    "        \n",
    "        x = self.batch_norm2(x)\n",
    "        x = self.dropout2(x)\n",
    "        x = F.relu(self.dense2(x))\n",
    "        \n",
    "        x = self.batch_norm3(x)\n",
    "        x = self.dropout3(x)\n",
    "        x = self.dense3(x)\n",
    "        \n",
    "        return x"
   ]
  },
  {
   "cell_type": "code",
   "execution_count": 33,
   "metadata": {
    "execution": {
     "iopub.execute_input": "2020-11-16T04:00:22.621975Z",
     "iopub.status.busy": "2020-11-16T04:00:22.621194Z",
     "iopub.status.idle": "2020-11-16T04:00:22.624814Z",
     "shell.execute_reply": "2020-11-16T04:00:22.625270Z"
    },
    "papermill": {
     "duration": 0.047016,
     "end_time": "2020-11-16T04:00:22.625393",
     "exception": false,
     "start_time": "2020-11-16T04:00:22.578377",
     "status": "completed"
    },
    "tags": []
   },
   "outputs": [],
   "source": [
    "# HyperParameters\n",
    "\n",
    "DEVICE = ('cuda' if torch.cuda.is_available() else 'cpu')\n",
    "EPOCHS = 26\n",
    "BATCH_SIZE = 256\n",
    "LEARNING_RATE = 6e-4\n",
    "WEIGHT_DECAY = 1e-5\n",
    "NFOLDS = 7\n",
    "EARLY_STOPPING_STEPS = 10\n",
    "EARLY_STOP = True\n",
    "\n",
    "num_features=len(feature_cols)\n",
    "num_targets=len(target_cols)\n",
    "hidden_size=2048"
   ]
  },
  {
   "cell_type": "code",
   "execution_count": 34,
   "metadata": {},
   "outputs": [],
   "source": [
    "# LOCATE DRUGS\n",
    "vc = nscored.drug_id.value_counts()\n",
    "vc1 = vc.loc[vc<=18].index.sort_values()\n",
    "vc2 = vc.loc[vc>18].index.sort_values()\n",
    "\n",
    "# STRATIFY DRUGS 18X OR LESS\n",
    "dct1 = {}; dct2 = {}\n",
    "skf = MultilabelStratifiedKFold(n_splits=NFOLDS, shuffle=True, \n",
    "          random_state=seed)\n",
    "tmp = nscored.groupby('drug_id')[targets_nscored].mean().loc[vc1]\n",
    "for fold,(idxT,idxV) in enumerate( skf.split(tmp,tmp[targets_nscored])):\n",
    "    dd = {k:fold for k in tmp.index[idxV].values}\n",
    "    dct1.update(dd)\n",
    "\n",
    "# STRATIFY DRUGS MORE THAN 18X\n",
    "skf = MultilabelStratifiedKFold(n_splits=NFOLDS, shuffle=True, \n",
    "          random_state=seed)\n",
    "tmp = nscored.loc[nscored.drug_id.isin(vc2)].reset_index(drop=True)\n",
    "for fold,(idxT,idxV) in enumerate( skf.split(tmp,tmp[targets_nscored])):\n",
    "    dd = {k:fold for k in tmp.sig_id[idxV].values}\n",
    "    dct2.update(dd)\n",
    "\n",
    "# ASSIGN FOLDS\n",
    "train = train.merge(drug,on=\"sig_id\")\n",
    "train['fold'] = train.drug_id.map(dct1)\n",
    "train.loc[train.fold.isna(),'fold'] =\\\n",
    "    train.loc[train.fold.isna(),'sig_id'].map(dct2)\n",
    "train.fold = train.fold.astype('int8')"
   ]
  },
  {
   "cell_type": "code",
   "execution_count": 35,
   "metadata": {
    "execution": {
     "iopub.execute_input": "2020-11-16T04:00:22.722939Z",
     "iopub.status.busy": "2020-11-16T04:00:22.710306Z",
     "iopub.status.idle": "2020-11-16T04:00:22.725605Z",
     "shell.execute_reply": "2020-11-16T04:00:22.725076Z"
    },
    "papermill": {
     "duration": 0.063795,
     "end_time": "2020-11-16T04:00:22.725712",
     "exception": false,
     "start_time": "2020-11-16T04:00:22.661917",
     "status": "completed"
    },
    "tags": []
   },
   "outputs": [],
   "source": [
    "def run_training(fold, seed):\n",
    "    \n",
    "    seed_everything(seed)\n",
    "    \n",
    "    trn_idx = train[train['fold'] != fold].index\n",
    "    val_idx = train[train['fold'] == fold].index\n",
    "    \n",
    "    train_df = train[train['fold'] != fold].reset_index(drop=True)\n",
    "    valid_df = train[train['fold'] == fold].reset_index(drop=True)\n",
    "    \n",
    "    x_train, y_train  = train_df[feature_cols].values, train_df[target_cols].values\n",
    "    x_valid, y_valid =  valid_df[feature_cols].values, valid_df[target_cols].values\n",
    "    \n",
    "    train_dataset = MoADataset(x_train, y_train)\n",
    "    valid_dataset = MoADataset(x_valid, y_valid)\n",
    "    trainloader = torch.utils.data.DataLoader(train_dataset, batch_size=BATCH_SIZE, shuffle=True)\n",
    "    validloader = torch.utils.data.DataLoader(valid_dataset, batch_size=BATCH_SIZE, shuffle=False)\n",
    "    \n",
    "    model = Model(\n",
    "        num_features=num_features,\n",
    "        num_targets=num_targets,\n",
    "        hidden_size=hidden_size,\n",
    "    )\n",
    "    \n",
    "    model.to(DEVICE)\n",
    "    \n",
    "    optimizer = torch.optim.Adam(model.parameters(), lr=LEARNING_RATE, weight_decay=WEIGHT_DECAY)\n",
    "    scheduler = optim.lr_scheduler.OneCycleLR(optimizer=optimizer, pct_start=0.1, div_factor=1e3, \n",
    "                                              max_lr=1e-2, epochs=EPOCHS, steps_per_epoch=len(trainloader))\n",
    "    \n",
    "    loss_fn = nn.BCEWithLogitsLoss()\n",
    "    \n",
    "    loss_tr = SmoothBCEwLogits(smoothing =0.001)\n",
    "    \n",
    "    early_stopping_steps = EARLY_STOPPING_STEPS\n",
    "    early_step = 0\n",
    "    \n",
    "    oof = np.zeros((len(train), target.iloc[:, 1:].shape[1]))\n",
    "    best_loss = np.inf\n",
    "    \n",
    "    for epoch in range(EPOCHS):\n",
    "        \n",
    "        train_loss = train_fn(model, optimizer,scheduler, loss_tr, trainloader, DEVICE)\n",
    "        valid_loss, valid_preds = valid_fn(model, loss_fn, validloader, DEVICE)\n",
    "        print(f\"SEED: {seed}, FOLD: {fold}, EPOCH: {epoch}, train_loss: {train_loss}, valid_loss: {valid_loss}\")\n",
    "        \n",
    "        if valid_loss < best_loss:\n",
    "            \n",
    "            best_loss = valid_loss\n",
    "            oof[val_idx] = valid_preds\n",
    "            torch.save(model.state_dict(), f\"SEED{seed}_FOLD{fold}_nonscored.pth\")\n",
    "        \n",
    "        elif(EARLY_STOP == True):\n",
    "            \n",
    "            early_step += 1\n",
    "            if (early_step >= early_stopping_steps):\n",
    "                break\n",
    "            \n",
    "    \n",
    "    #--------------------- PREDICTION---------------------\n",
    "    x_test = test_[feature_cols].values\n",
    "    testdataset = TestDataset(x_test)\n",
    "    testloader = torch.utils.data.DataLoader(testdataset, batch_size=BATCH_SIZE, shuffle=False)\n",
    "    \n",
    "    model = Model(\n",
    "        num_features=num_features,\n",
    "        num_targets=num_targets,\n",
    "        hidden_size=hidden_size,\n",
    "\n",
    "    )\n",
    "    model.load_state_dict(torch.load(f\"SEED{seed}_FOLD{fold}_nonscored.pth\"))\n",
    "    model.to(DEVICE)\n",
    "    \n",
    "    predictions = np.zeros((len(test_), target.iloc[:, 1:].shape[1]))\n",
    "    predictions = inference_fn(model, testloader, DEVICE)\n",
    "    \n",
    "    return oof, predictions\n"
   ]
  },
  {
   "cell_type": "code",
   "execution_count": 36,
   "metadata": {
    "execution": {
     "iopub.execute_input": "2020-11-16T04:00:22.802395Z",
     "iopub.status.busy": "2020-11-16T04:00:22.801684Z",
     "iopub.status.idle": "2020-11-16T04:00:22.804825Z",
     "shell.execute_reply": "2020-11-16T04:00:22.805326Z"
    },
    "papermill": {
     "duration": 0.044721,
     "end_time": "2020-11-16T04:00:22.805440",
     "exception": false,
     "start_time": "2020-11-16T04:00:22.760719",
     "status": "completed"
    },
    "tags": []
   },
   "outputs": [],
   "source": [
    "def run_k_fold(NFOLDS, seed):\n",
    "    oof = np.zeros((len(train), len(target_cols)))\n",
    "    predictions = np.zeros((len(test), len(target_cols)))\n",
    "    \n",
    "    for fold in range(NFOLDS):\n",
    "        oof_, pred_ = run_training(fold, seed)\n",
    "        \n",
    "        predictions += pred_ / NFOLDS\n",
    "        oof += oof_\n",
    "        \n",
    "    return oof, predictions"
   ]
  },
  {
   "cell_type": "code",
   "execution_count": 37,
   "metadata": {
    "execution": {
     "iopub.execute_input": "2020-11-16T04:00:22.884616Z",
     "iopub.status.busy": "2020-11-16T04:00:22.883297Z",
     "iopub.status.idle": "2020-11-16T04:24:52.573167Z",
     "shell.execute_reply": "2020-11-16T04:24:52.572156Z"
    },
    "papermill": {
     "duration": 1469.732283,
     "end_time": "2020-11-16T04:24:52.573298",
     "exception": false,
     "start_time": "2020-11-16T04:00:22.841015",
     "status": "completed"
    },
    "tags": []
   },
   "outputs": [
    {
     "output_type": "stream",
     "name": "stdout",
     "text": "SEED: 0, FOLD: 0, EPOCH: 0, train_loss: 0.5885834853995491, valid_loss: 0.0779823987529828\nSEED: 0, FOLD: 0, EPOCH: 1, train_loss: 0.01590461700500266, valid_loss: 0.005310040791160786\nSEED: 0, FOLD: 0, EPOCH: 2, train_loss: 0.008432776742690318, valid_loss: 0.004912257409439637\nSEED: 0, FOLD: 0, EPOCH: 3, train_loss: 0.008867481213717445, valid_loss: 0.005368534153184066\nSEED: 0, FOLD: 0, EPOCH: 4, train_loss: 0.008575614774599671, valid_loss: 0.0047158536214668015\nSEED: 0, FOLD: 0, EPOCH: 5, train_loss: 0.008176564238965511, valid_loss: 0.004828452884864349\nSEED: 0, FOLD: 0, EPOCH: 6, train_loss: 0.008127986975769335, valid_loss: 0.004709158665858782\nSEED: 0, FOLD: 0, EPOCH: 7, train_loss: 0.008115067417305466, valid_loss: 0.00475298179886662\nSEED: 0, FOLD: 0, EPOCH: 8, train_loss: 0.00812681221302498, valid_loss: 0.004764418905744186\nSEED: 0, FOLD: 0, EPOCH: 9, train_loss: 0.00812676701870923, valid_loss: 0.004820926365657494\nSEED: 0, FOLD: 0, EPOCH: 10, train_loss: 0.00813113055443643, valid_loss: 0.004933711714469469\nSEED: 0, FOLD: 0, EPOCH: 11, train_loss: 0.008134778110763512, valid_loss: 0.00489518537114446\nSEED: 0, FOLD: 0, EPOCH: 12, train_loss: 0.008121399938858844, valid_loss: 0.00479280142686688\nSEED: 0, FOLD: 0, EPOCH: 13, train_loss: 0.008096884162089712, valid_loss: 0.004871432096339189\nSEED: 0, FOLD: 0, EPOCH: 14, train_loss: 0.008092850912362337, valid_loss: 0.004872117728854601\nSEED: 0, FOLD: 1, EPOCH: 0, train_loss: 0.5897233157947257, valid_loss: 0.093779828112859\nSEED: 0, FOLD: 1, EPOCH: 1, train_loss: 0.016056834883685853, valid_loss: 0.005484745587007358\nSEED: 0, FOLD: 1, EPOCH: 2, train_loss: 0.008476325059057894, valid_loss: 0.004950531991198659\nSEED: 0, FOLD: 1, EPOCH: 3, train_loss: 0.009713147257177814, valid_loss: 0.1367595734504553\nSEED: 0, FOLD: 1, EPOCH: 4, train_loss: 0.008519738163748706, valid_loss: 0.004807753398871193\nSEED: 0, FOLD: 1, EPOCH: 5, train_loss: 0.008264417407681813, valid_loss: 0.004976769980902855\nSEED: 0, FOLD: 1, EPOCH: 6, train_loss: 0.008241668060371602, valid_loss: 0.004896713564029107\nSEED: 0, FOLD: 1, EPOCH: 7, train_loss: 0.0082074672273184, valid_loss: 0.004848295428718512\nSEED: 0, FOLD: 1, EPOCH: 8, train_loss: 0.008188445265782444, valid_loss: 0.004945579486397596\nSEED: 0, FOLD: 1, EPOCH: 9, train_loss: 0.008165720497836938, valid_loss: 0.004830085403787402\nSEED: 0, FOLD: 1, EPOCH: 10, train_loss: 0.008169130969641579, valid_loss: 0.004918028206492846\nSEED: 0, FOLD: 1, EPOCH: 11, train_loss: 0.008140099643905824, valid_loss: 0.00491277314722538\nSEED: 0, FOLD: 1, EPOCH: 12, train_loss: 0.008108819841180701, valid_loss: 0.004908437571989803\nSEED: 0, FOLD: 1, EPOCH: 13, train_loss: 0.008095982220225237, valid_loss: 0.004870789519582803\nSEED: 0, FOLD: 2, EPOCH: 0, train_loss: 0.5899281865237532, valid_loss: 0.07517087746125001\nSEED: 0, FOLD: 2, EPOCH: 1, train_loss: 0.01585243030677776, valid_loss: 0.005283824490526548\nSEED: 0, FOLD: 2, EPOCH: 2, train_loss: 0.008523938667683586, valid_loss: 0.00515670941856045\nSEED: 0, FOLD: 2, EPOCH: 3, train_loss: 0.008379018286595473, valid_loss: 0.005394704245890562\nSEED: 0, FOLD: 2, EPOCH: 4, train_loss: 0.008209707379039075, valid_loss: 0.004959546781789798\nSEED: 0, FOLD: 2, EPOCH: 5, train_loss: 0.008234875402539163, valid_loss: 0.00480415471471273\nSEED: 0, FOLD: 2, EPOCH: 6, train_loss: 0.008123087212191644, valid_loss: 0.0049460634159354065\nSEED: 0, FOLD: 2, EPOCH: 7, train_loss: 0.008103375593703744, valid_loss: 0.004853777444133392\nSEED: 0, FOLD: 2, EPOCH: 8, train_loss: 0.008093614301115677, valid_loss: 0.004927775141997979\nSEED: 0, FOLD: 2, EPOCH: 9, train_loss: 0.008095414283358165, valid_loss: 0.004889091870819147\nSEED: 0, FOLD: 2, EPOCH: 10, train_loss: 0.008101147140149732, valid_loss: 0.004904123381353342\nSEED: 0, FOLD: 2, EPOCH: 11, train_loss: 0.008095759684471664, valid_loss: 0.004863619804382324\nSEED: 0, FOLD: 2, EPOCH: 12, train_loss: 0.008098367047873704, valid_loss: 0.004920874292460771\nSEED: 0, FOLD: 2, EPOCH: 13, train_loss: 0.008100771351490874, valid_loss: 0.005009764483055243\nSEED: 0, FOLD: 2, EPOCH: 14, train_loss: 0.008088616037590278, valid_loss: 0.004897946885858591\nSEED: 0, FOLD: 3, EPOCH: 0, train_loss: 0.5899572232486429, valid_loss: 0.08471846809754005\nSEED: 0, FOLD: 3, EPOCH: 1, train_loss: 0.015890091191977262, valid_loss: 0.005161923678735128\nSEED: 0, FOLD: 3, EPOCH: 2, train_loss: 0.008517123664402076, valid_loss: 0.005055570079443546\nSEED: 0, FOLD: 3, EPOCH: 3, train_loss: 0.008568522155385566, valid_loss: 0.004723025253042579\nSEED: 0, FOLD: 3, EPOCH: 4, train_loss: 0.008238575396102827, valid_loss: 0.004787050635338976\nSEED: 0, FOLD: 3, EPOCH: 5, train_loss: 0.008200404655842765, valid_loss: 0.004942240265126412\nSEED: 0, FOLD: 3, EPOCH: 6, train_loss: 0.00818502443616052, valid_loss: 0.004887376302996507\nSEED: 0, FOLD: 3, EPOCH: 7, train_loss: 0.008145022325570116, valid_loss: 0.004913464170665695\nSEED: 0, FOLD: 3, EPOCH: 8, train_loss: 0.008140070061828639, valid_loss: 0.0046221451798024085\nSEED: 0, FOLD: 3, EPOCH: 9, train_loss: 0.008127783141979898, valid_loss: 0.0047653374226334\nSEED: 0, FOLD: 3, EPOCH: 10, train_loss: 0.008130793837276665, valid_loss: 0.004797005166228001\nSEED: 0, FOLD: 3, EPOCH: 11, train_loss: 0.008125939947628492, valid_loss: 0.004755289580386419\nSEED: 0, FOLD: 3, EPOCH: 12, train_loss: 0.008117079659289605, valid_loss: 0.004714078914660674\nSEED: 0, FOLD: 3, EPOCH: 13, train_loss: 0.008124842767830234, valid_loss: 0.004824829681848104\nSEED: 0, FOLD: 3, EPOCH: 14, train_loss: 0.008116129534067335, valid_loss: 0.0047528957231686665\nSEED: 0, FOLD: 4, EPOCH: 0, train_loss: 0.5882682184109816, valid_loss: 0.06898305689295132\nSEED: 0, FOLD: 4, EPOCH: 1, train_loss: 0.015661863364732347, valid_loss: 0.00564204971306026\nSEED: 0, FOLD: 4, EPOCH: 2, train_loss: 0.008438894002874559, valid_loss: 0.0054834923551728325\nSEED: 0, FOLD: 4, EPOCH: 3, train_loss: 0.008580523794768629, valid_loss: 0.060917568703492485\nSEED: 0, FOLD: 4, EPOCH: 4, train_loss: 0.008503810842395635, valid_loss: 0.005124418685833613\nSEED: 0, FOLD: 4, EPOCH: 5, train_loss: 0.00812503891191571, valid_loss: 0.005222923937253654\nSEED: 0, FOLD: 4, EPOCH: 6, train_loss: 0.00812020814172118, valid_loss: 0.005120928981341422\nSEED: 0, FOLD: 4, EPOCH: 7, train_loss: 0.008092999162555143, valid_loss: 0.0053224617925782996\nSEED: 0, FOLD: 4, EPOCH: 8, train_loss: 0.00808045089974798, valid_loss: 0.005215856867531936\nSEED: 0, FOLD: 4, EPOCH: 9, train_loss: 0.008082398439984064, valid_loss: 0.005201941588893533\nSEED: 0, FOLD: 4, EPOCH: 10, train_loss: 0.00807392952737172, valid_loss: 0.005269272873799006\nSEED: 0, FOLD: 4, EPOCH: 11, train_loss: 0.008072633120055133, valid_loss: 0.0053123302447299165\nSEED: 0, FOLD: 4, EPOCH: 12, train_loss: 0.008081179697418938, valid_loss: 0.0053519849898293614\nSEED: 0, FOLD: 4, EPOCH: 13, train_loss: 0.008069203071598266, valid_loss: 0.005277313408441842\nSEED: 0, FOLD: 4, EPOCH: 14, train_loss: 0.00805475645245531, valid_loss: 0.0052892547100782394\nSEED: 0, FOLD: 5, EPOCH: 0, train_loss: 0.5888657301060252, valid_loss: 0.09368931903288914\nSEED: 0, FOLD: 5, EPOCH: 1, train_loss: 0.01609589300445608, valid_loss: 0.005220728568159617\nSEED: 0, FOLD: 5, EPOCH: 2, train_loss: 0.008480827657606554, valid_loss: 0.004910965557568348\nSEED: 0, FOLD: 5, EPOCH: 3, train_loss: 0.008334626808661866, valid_loss: 0.005654814509818187\nSEED: 0, FOLD: 5, EPOCH: 4, train_loss: 0.008999953694591249, valid_loss: 0.004650134629068466\nSEED: 0, FOLD: 5, EPOCH: 5, train_loss: 0.008214989356142847, valid_loss: 0.004660977695423823\nSEED: 0, FOLD: 5, EPOCH: 6, train_loss: 0.008181636316097668, valid_loss: 0.00492807706961265\nSEED: 0, FOLD: 5, EPOCH: 7, train_loss: 0.008175933620313535, valid_loss: 0.004810270208578844\nSEED: 0, FOLD: 5, EPOCH: 8, train_loss: 0.008148827061459824, valid_loss: 0.004815921760522402\nSEED: 0, FOLD: 5, EPOCH: 9, train_loss: 0.00814423758561748, valid_loss: 0.004832534997079235\nSEED: 0, FOLD: 5, EPOCH: 10, train_loss: 0.008124649329614398, valid_loss: 0.0048478304838331845\nSEED: 0, FOLD: 5, EPOCH: 11, train_loss: 0.008118136829973475, valid_loss: 0.0048601662990852045\nSEED: 0, FOLD: 5, EPOCH: 12, train_loss: 0.008122809011036076, valid_loss: 0.004877671939679063\nSEED: 0, FOLD: 5, EPOCH: 13, train_loss: 0.008110918249381153, valid_loss: 0.004801122597060525\nSEED: 0, FOLD: 6, EPOCH: 0, train_loss: 0.5890189562294934, valid_loss: 0.07904346058001885\nSEED: 0, FOLD: 6, EPOCH: 1, train_loss: 0.015788193150247272, valid_loss: 0.005250112225229924\nSEED: 0, FOLD: 6, EPOCH: 2, train_loss: 0.008500205673831137, valid_loss: 0.005264112869134316\nSEED: 0, FOLD: 6, EPOCH: 3, train_loss: 0.00996876395987095, valid_loss: 0.00476239797157737\nSEED: 0, FOLD: 6, EPOCH: 4, train_loss: 0.008255330713566494, valid_loss: 0.004837416864645023\nSEED: 0, FOLD: 6, EPOCH: 5, train_loss: 0.008232892560143326, valid_loss: 0.004857868027801697\nSEED: 0, FOLD: 6, EPOCH: 6, train_loss: 0.008191894607719135, valid_loss: 0.004870927785165035\nSEED: 0, FOLD: 6, EPOCH: 7, train_loss: 0.008172890121066893, valid_loss: 0.004992455853006015\nSEED: 0, FOLD: 6, EPOCH: 8, train_loss: 0.008162389364647301, valid_loss: 0.004853215390959611\nSEED: 0, FOLD: 6, EPOCH: 9, train_loss: 0.008132070718282784, valid_loss: 0.004860445248106351\nSEED: 0, FOLD: 6, EPOCH: 10, train_loss: 0.008115226629416685, valid_loss: 0.004843914523147619\nSEED: 0, FOLD: 6, EPOCH: 11, train_loss: 0.008106803842442663, valid_loss: 0.004788016255658407\nSEED: 0, FOLD: 6, EPOCH: 12, train_loss: 0.008084187932262147, valid_loss: 0.004856564964239414\n"
    }
   ],
   "source": [
    "# Averaging on multiple SEEDS\n",
    "\n",
    "#SEED = [0,1,2,3,4,5,6]  #<-- Update\n",
    "SEED = [0]\n",
    "oof = np.zeros((len(train), len(target_cols)))\n",
    "predictions = np.zeros((len(test), len(target_cols)))\n",
    "\n",
    "for seed in SEED:\n",
    "    \n",
    "    oof_, predictions_ = run_k_fold(NFOLDS, seed)\n",
    "    oof += oof_ / len(SEED)\n",
    "    predictions += predictions_ / len(SEED)\n",
    "\n",
    "train[target_cols] = oof\n",
    "test_[target_cols] = predictions"
   ]
  },
  {
   "cell_type": "code",
   "execution_count": 38,
   "metadata": {
    "execution": {
     "iopub.execute_input": "2020-11-16T04:24:53.205435Z",
     "iopub.status.busy": "2020-11-16T04:24:53.204041Z",
     "iopub.status.idle": "2020-11-16T04:24:53.833499Z",
     "shell.execute_reply": "2020-11-16T04:24:53.832920Z"
    },
    "papermill": {
     "duration": 0.948538,
     "end_time": "2020-11-16T04:24:53.833603",
     "exception": false,
     "start_time": "2020-11-16T04:24:52.885065",
     "status": "completed"
    },
    "tags": []
   },
   "outputs": [],
   "source": [
    "train = train.merge(train_targets_scored, on='sig_id')\n",
    "target = train[train_targets_scored.columns]\n",
    "target_cols = target.drop('sig_id', axis=1).columns.values.tolist()"
   ]
  },
  {
   "cell_type": "code",
   "execution_count": 51,
   "metadata": {
    "execution": {
     "iopub.execute_input": "2020-11-16T04:24:54.583882Z",
     "iopub.status.busy": "2020-11-16T04:24:54.583064Z",
     "iopub.status.idle": "2020-11-16T04:24:54.590651Z",
     "shell.execute_reply": "2020-11-16T04:24:54.591649Z"
    },
    "papermill": {
     "duration": 0.44883,
     "end_time": "2020-11-16T04:24:54.591825",
     "exception": false,
     "start_time": "2020-11-16T04:24:54.142995",
     "status": "completed"
    },
    "tags": []
   },
   "outputs": [],
   "source": [
    "feature_cols = [c for c in train.columns if c not in target_cols]\n",
    "feature_cols = [c for c in feature_cols if c not in ['sig_id','fold','drug_id']]"
   ]
  },
  {
   "cell_type": "code",
   "execution_count": 56,
   "metadata": {
    "execution": {
     "iopub.execute_input": "2020-11-16T04:24:55.339356Z",
     "iopub.status.busy": "2020-11-16T04:24:55.337520Z",
     "iopub.status.idle": "2020-11-16T04:24:55.340125Z",
     "shell.execute_reply": "2020-11-16T04:24:55.340667Z"
    },
    "papermill": {
     "duration": 0.327061,
     "end_time": "2020-11-16T04:24:55.340795",
     "exception": false,
     "start_time": "2020-11-16T04:24:55.013734",
     "status": "completed"
    },
    "tags": []
   },
   "outputs": [],
   "source": [
    "DEVICE = ('cuda' if torch.cuda.is_available() else 'cpu')\n",
    "EPOCHS = 26\n",
    "BATCH_SIZE = 256\n",
    "LEARNING_RATE = 6e-4\n",
    "WEIGHT_DECAY = 1e-5\n",
    "NFOLDS = 7\n",
    "EARLY_STOPPING_STEPS = 10\n",
    "EARLY_STOP = True\n",
    "\n",
    "num_features=len(feature_cols)\n",
    "num_targets=len(target_cols)\n",
    "hidden_size=2048"
   ]
  },
  {
   "cell_type": "code",
   "execution_count": 41,
   "metadata": {},
   "outputs": [],
   "source": [
    "# LOCATE DRUGS\n",
    "vc = scored.drug_id.value_counts()\n",
    "vc1 = vc.loc[vc<=18].index.sort_values()\n",
    "vc2 = vc.loc[vc>18].index.sort_values()\n",
    "\n",
    "# STRATIFY DRUGS 18X OR LESS\n",
    "dct1 = {}; dct2 = {}\n",
    "skf = MultilabelStratifiedKFold(n_splits=NFOLDS, shuffle=True, \n",
    "          random_state=seed)\n",
    "tmp = scored.groupby('drug_id')[targets_scored].mean().loc[vc1]\n",
    "for fold,(idxT,idxV) in enumerate( skf.split(tmp,tmp[targets_scored])):\n",
    "    dd = {k:fold for k in tmp.index[idxV].values}\n",
    "    dct1.update(dd)\n",
    "\n",
    "# STRATIFY DRUGS MORE THAN 18X\n",
    "skf = MultilabelStratifiedKFold(n_splits=NFOLDS, shuffle=True, \n",
    "          random_state=seed)\n",
    "tmp = scored.loc[scored.drug_id.isin(vc2)].reset_index(drop=True)\n",
    "for fold,(idxT,idxV) in enumerate( skf.split(tmp,tmp[targets_scored])):\n",
    "    dd = {k:fold for k in tmp.sig_id[idxV].values}\n",
    "    dct2.update(dd)\n",
    "\n",
    "# ASSIGN FOLDS\n",
    "#train = train.merge(drug,on=\"sig_id\")\n",
    "train['fold'] = train.drug_id.map(dct1)\n",
    "train.loc[train.fold.isna(),'fold'] =\\\n",
    "    train.loc[train.fold.isna(),'sig_id'].map(dct2)\n",
    "train.fold = train.fold.astype('int8')"
   ]
  },
  {
   "cell_type": "code",
   "execution_count": 57,
   "metadata": {
    "execution": {
     "iopub.execute_input": "2020-11-16T04:24:55.993449Z",
     "iopub.status.busy": "2020-11-16T04:24:55.984480Z",
     "iopub.status.idle": "2020-11-16T04:24:55.996412Z",
     "shell.execute_reply": "2020-11-16T04:24:55.995793Z"
    },
    "papermill": {
     "duration": 0.3439,
     "end_time": "2020-11-16T04:24:55.996517",
     "exception": false,
     "start_time": "2020-11-16T04:24:55.652617",
     "status": "completed"
    },
    "tags": []
   },
   "outputs": [],
   "source": [
    "def run_training(fold, seed):\n",
    "    \n",
    "    seed_everything(seed)\n",
    "    \n",
    "    \n",
    "    trn_idx = train[train['fold'] != fold].index\n",
    "    val_idx = train[train['fold'] == fold].index\n",
    "    \n",
    "    train_df = train[train['fold'] != fold].reset_index(drop=True)\n",
    "    valid_df = train[train['fold'] == fold].reset_index(drop=True)\n",
    "    \n",
    "    x_train, y_train  = train_df[feature_cols].values, train_df[target_cols].values\n",
    "    x_valid, y_valid =  valid_df[feature_cols].values, valid_df[target_cols].values\n",
    "    \n",
    "    train_dataset = MoADataset(x_train, y_train)\n",
    "    valid_dataset = MoADataset(x_valid, y_valid)\n",
    "    trainloader = torch.utils.data.DataLoader(train_dataset, batch_size=BATCH_SIZE, shuffle=True)\n",
    "    validloader = torch.utils.data.DataLoader(valid_dataset, batch_size=BATCH_SIZE, shuffle=False)\n",
    "    \n",
    "    model = Model(\n",
    "        num_features=num_features,\n",
    "        num_targets=num_targets,\n",
    "        hidden_size=hidden_size,\n",
    "    )\n",
    "    \n",
    "    model.to(DEVICE)\n",
    "    \n",
    "    optimizer = torch.optim.Adam(model.parameters(), lr=LEARNING_RATE, weight_decay=WEIGHT_DECAY)\n",
    "    scheduler = optim.lr_scheduler.OneCycleLR(optimizer=optimizer, pct_start=0.1, div_factor=1e3, \n",
    "                                              max_lr=1e-2, epochs=EPOCHS, steps_per_epoch=len(trainloader))\n",
    "    \n",
    "    loss_fn = nn.BCEWithLogitsLoss()\n",
    "    \n",
    "    loss_tr = SmoothBCEwLogits(smoothing =0.001)\n",
    "    \n",
    "    early_stopping_steps = EARLY_STOPPING_STEPS\n",
    "    early_step = 0\n",
    "    \n",
    "    oof = np.zeros((len(train), target.iloc[:, 1:].shape[1]))\n",
    "    best_loss = np.inf\n",
    "    \n",
    "    for epoch in range(EPOCHS):\n",
    "        \n",
    "        train_loss = train_fn(model, optimizer,scheduler, loss_tr, trainloader, DEVICE)\n",
    "        valid_loss, valid_preds = valid_fn(model, loss_fn, validloader, DEVICE)\n",
    "        print(f\"SEED: {seed}, FOLD: {fold}, EPOCH: {epoch}, train_loss: {train_loss}, valid_loss: {valid_loss}\")\n",
    "        \n",
    "        if valid_loss < best_loss:\n",
    "            \n",
    "            best_loss = valid_loss\n",
    "            oof[val_idx] = valid_preds\n",
    "            torch.save(model.state_dict(), f\"SEED{seed}_FOLD{fold}_scored.pth\")\n",
    "        \n",
    "        elif(EARLY_STOP == True):\n",
    "            \n",
    "            early_step += 1\n",
    "            if (early_step >= early_stopping_steps):\n",
    "                break\n",
    "            \n",
    "    \n",
    "    #--------------------- PREDICTION---------------------\n",
    "    x_test = test_[feature_cols].values\n",
    "    testdataset = TestDataset(x_test)\n",
    "    testloader = torch.utils.data.DataLoader(testdataset, batch_size=BATCH_SIZE, shuffle=False)\n",
    "    \n",
    "    model = Model(\n",
    "        num_features=num_features,\n",
    "        num_targets=num_targets,\n",
    "        hidden_size=hidden_size,\n",
    "\n",
    "    )\n",
    "    \n",
    "    model.load_state_dict(torch.load(f\"SEED{seed}_FOLD{fold}_scored.pth\"))\n",
    "    model.to(DEVICE)\n",
    "    \n",
    "    predictions = np.zeros((len(test_), target.iloc[:, 1:].shape[1]))\n",
    "    predictions = inference_fn(model, testloader, DEVICE)\n",
    "    \n",
    "    return oof, predictions\n"
   ]
  },
  {
   "cell_type": "code",
   "execution_count": 58,
   "metadata": {
    "execution": {
     "iopub.execute_input": "2020-11-16T04:24:56.644656Z",
     "iopub.status.busy": "2020-11-16T04:24:56.643674Z",
     "iopub.status.idle": "2020-11-16T04:24:56.646587Z",
     "shell.execute_reply": "2020-11-16T04:24:56.646054Z"
    },
    "papermill": {
     "duration": 0.323183,
     "end_time": "2020-11-16T04:24:56.646716",
     "exception": false,
     "start_time": "2020-11-16T04:24:56.323533",
     "status": "completed"
    },
    "tags": []
   },
   "outputs": [],
   "source": [
    "def run_k_fold(NFOLDS, seed):\n",
    "    oof = np.zeros((len(train), len(target_cols)))\n",
    "    predictions = np.zeros((len(test), len(target_cols)))\n",
    "    \n",
    "    for fold in range(NFOLDS):\n",
    "        oof_, pred_ = run_training(fold, seed)\n",
    "        \n",
    "        predictions += pred_ / NFOLDS\n",
    "        oof += oof_\n",
    "        \n",
    "    return oof, predictions"
   ]
  },
  {
   "cell_type": "code",
   "execution_count": 59,
   "metadata": {
    "execution": {
     "iopub.execute_input": "2020-11-16T04:24:57.295218Z",
     "iopub.status.busy": "2020-11-16T04:24:57.293447Z",
     "iopub.status.idle": "2020-11-16T05:07:15.216690Z",
     "shell.execute_reply": "2020-11-16T05:07:15.216070Z"
    },
    "papermill": {
     "duration": 2538.252082,
     "end_time": "2020-11-16T05:07:15.216808",
     "exception": false,
     "start_time": "2020-11-16T04:24:56.964726",
     "status": "completed"
    },
    "tags": []
   },
   "outputs": [
    {
     "output_type": "stream",
     "name": "stdout",
     "text": "SEED: 0, FOLD: 0, EPOCH: 0, train_loss: 0.5871766797594122, valid_loss: 0.09616396117668885\nSEED: 0, FOLD: 0, EPOCH: 1, train_loss: 0.029723112647597853, valid_loss: 0.018677655822382525\nSEED: 0, FOLD: 0, EPOCH: 2, train_loss: 0.021910865866654628, valid_loss: 0.01755150120991927\nSEED: 0, FOLD: 0, EPOCH: 3, train_loss: 0.021419950987438898, valid_loss: 0.016791581391141966\nSEED: 0, FOLD: 0, EPOCH: 4, train_loss: 0.02041779224433609, valid_loss: 0.016820249792474967\nSEED: 0, FOLD: 0, EPOCH: 5, train_loss: 0.02016583037235447, valid_loss: 0.016725446061732676\nSEED: 0, FOLD: 0, EPOCH: 6, train_loss: 0.02007726756100719, valid_loss: 0.016511885413470175\nSEED: 0, FOLD: 0, EPOCH: 7, train_loss: 0.019947324073999316, valid_loss: 0.016532673464658167\nSEED: 0, FOLD: 0, EPOCH: 8, train_loss: 0.0198997244540904, valid_loss: 0.016478245433133382\nSEED: 0, FOLD: 0, EPOCH: 9, train_loss: 0.019905788270202843, valid_loss: 0.01652289515074629\nSEED: 0, FOLD: 0, EPOCH: 10, train_loss: 0.01978438732692519, valid_loss: 0.01634038042706939\nSEED: 0, FOLD: 0, EPOCH: 11, train_loss: 0.019704974482993822, valid_loss: 0.016332737600001004\nSEED: 0, FOLD: 0, EPOCH: 12, train_loss: 0.019639594253857393, valid_loss: 0.016360187903046608\nSEED: 0, FOLD: 0, EPOCH: 13, train_loss: 0.019424842066458753, valid_loss: 0.016332794876339343\nSEED: 0, FOLD: 0, EPOCH: 14, train_loss: 0.01927927405749624, valid_loss: 0.016324040193397265\nSEED: 0, FOLD: 0, EPOCH: 15, train_loss: 0.019112109735205367, valid_loss: 0.016328500834508583\nSEED: 0, FOLD: 0, EPOCH: 16, train_loss: 0.0188255593482707, valid_loss: 0.0165202385889223\nSEED: 0, FOLD: 0, EPOCH: 17, train_loss: 0.018589760629913292, valid_loss: 0.016185379981134947\nSEED: 0, FOLD: 0, EPOCH: 18, train_loss: 0.018265340452057285, valid_loss: 0.01615106898288314\nSEED: 0, FOLD: 0, EPOCH: 19, train_loss: 0.017816513852291816, valid_loss: 0.016190912968550738\nSEED: 0, FOLD: 0, EPOCH: 20, train_loss: 0.017425541816329635, valid_loss: 0.016285386187239334\nSEED: 0, FOLD: 0, EPOCH: 21, train_loss: 0.016912885803125194, valid_loss: 0.01617668021040467\nSEED: 0, FOLD: 1, EPOCH: 0, train_loss: 0.586695892685974, valid_loss: 0.08343750066482104\nSEED: 0, FOLD: 1, EPOCH: 1, train_loss: 0.02999140098187569, valid_loss: 0.01988223696557375\nSEED: 0, FOLD: 1, EPOCH: 2, train_loss: 0.021858215483056533, valid_loss: 0.019307512073562696\nSEED: 0, FOLD: 1, EPOCH: 3, train_loss: 0.02121091412531363, valid_loss: 0.017643900301594\nSEED: 0, FOLD: 1, EPOCH: 4, train_loss: 0.02031993820659212, valid_loss: 0.01757909658436592\nSEED: 0, FOLD: 1, EPOCH: 5, train_loss: 0.020119021470482286, valid_loss: 0.017372818663716316\nSEED: 0, FOLD: 1, EPOCH: 6, train_loss: 0.019951599926964658, valid_loss: 0.017252580620921575\nSEED: 0, FOLD: 1, EPOCH: 7, train_loss: 0.019945533040004806, valid_loss: 0.017468910234478805\nSEED: 0, FOLD: 1, EPOCH: 8, train_loss: 0.019885673514894536, valid_loss: 0.017622667006575145\nSEED: 0, FOLD: 1, EPOCH: 9, train_loss: 0.01984969342781885, valid_loss: 0.017154704636106126\nSEED: 0, FOLD: 1, EPOCH: 10, train_loss: 0.019666467088501196, valid_loss: 0.017188455193088606\nSEED: 0, FOLD: 1, EPOCH: 11, train_loss: 0.01956768172818261, valid_loss: 0.01731364457653119\nSEED: 0, FOLD: 1, EPOCH: 12, train_loss: 0.01952473013787656, valid_loss: 0.017463351241671123\nSEED: 0, FOLD: 1, EPOCH: 13, train_loss: 0.019354133438822384, valid_loss: 0.01718144233410175\nSEED: 0, FOLD: 1, EPOCH: 14, train_loss: 0.01919676602591534, valid_loss: 0.017582306208518837\nSEED: 0, FOLD: 1, EPOCH: 15, train_loss: 0.018999148940516485, valid_loss: 0.01726373643256151\nSEED: 0, FOLD: 1, EPOCH: 16, train_loss: 0.01875287979035764, valid_loss: 0.01739478612748476\nSEED: 0, FOLD: 1, EPOCH: 17, train_loss: 0.018450646787076384, valid_loss: 0.017153549366272412\nSEED: 0, FOLD: 1, EPOCH: 18, train_loss: 0.018064279612657184, valid_loss: 0.01726803183555603\nSEED: 0, FOLD: 2, EPOCH: 0, train_loss: 0.5864401543261232, valid_loss: 0.08530122156326587\nSEED: 0, FOLD: 2, EPOCH: 1, train_loss: 0.029620790577216727, valid_loss: 0.019725827643504508\nSEED: 0, FOLD: 2, EPOCH: 2, train_loss: 0.021853263867465226, valid_loss: 0.01846950823584428\nSEED: 0, FOLD: 2, EPOCH: 3, train_loss: 0.021409141856270866, valid_loss: 0.01800923737195822\nSEED: 0, FOLD: 2, EPOCH: 4, train_loss: 0.020350791010502224, valid_loss: 0.017821310088038445\nSEED: 0, FOLD: 2, EPOCH: 5, train_loss: 0.020134636377160613, valid_loss: 0.018531821095026456\nSEED: 0, FOLD: 2, EPOCH: 6, train_loss: 0.01991415542323847, valid_loss: 0.017585168449351422\nSEED: 0, FOLD: 2, EPOCH: 7, train_loss: 0.019852863070932595, valid_loss: 0.018008908113607995\nSEED: 0, FOLD: 2, EPOCH: 8, train_loss: 0.0197948410956038, valid_loss: 0.0180786308617546\nSEED: 0, FOLD: 2, EPOCH: 9, train_loss: 0.019767415911160612, valid_loss: 0.017610335865846045\nSEED: 0, FOLD: 2, EPOCH: 10, train_loss: 0.019671756522478285, valid_loss: 0.017853689953111686\nSEED: 0, FOLD: 2, EPOCH: 11, train_loss: 0.019629637358357776, valid_loss: 0.017954086383374836\nSEED: 0, FOLD: 2, EPOCH: 12, train_loss: 0.019520892409255374, valid_loss: 0.01763156636689718\nSEED: 0, FOLD: 2, EPOCH: 13, train_loss: 0.019289079248099715, valid_loss: 0.017616857058153704\nSEED: 0, FOLD: 2, EPOCH: 14, train_loss: 0.019227087774590867, valid_loss: 0.017534247886102933\nSEED: 0, FOLD: 2, EPOCH: 15, train_loss: 0.019033483984703954, valid_loss: 0.017580718231888916\nSEED: 0, FOLD: 2, EPOCH: 16, train_loss: 0.018783033875798858, valid_loss: 0.017424495604175787\nSEED: 0, FOLD: 2, EPOCH: 17, train_loss: 0.01848967864203292, valid_loss: 0.017583921265143614\nSEED: 0, FOLD: 3, EPOCH: 0, train_loss: 0.5879270988138946, valid_loss: 0.09033154295041011\nSEED: 0, FOLD: 3, EPOCH: 1, train_loss: 0.029740517128359626, valid_loss: 0.020787954760285523\nSEED: 0, FOLD: 3, EPOCH: 2, train_loss: 0.022066759600027186, valid_loss: 0.02151973244662468\nSEED: 0, FOLD: 3, EPOCH: 3, train_loss: 0.021014354871334257, valid_loss: 0.018605127500799987\nSEED: 0, FOLD: 3, EPOCH: 4, train_loss: 0.020227191340480302, valid_loss: 0.01883217033285361\nSEED: 0, FOLD: 3, EPOCH: 5, train_loss: 0.01991988461766694, valid_loss: 0.018658518934479125\nSEED: 0, FOLD: 3, EPOCH: 6, train_loss: 0.019790245194894238, valid_loss: 0.018491658883599136\nSEED: 0, FOLD: 3, EPOCH: 7, train_loss: 0.019692151454856265, valid_loss: 0.018307363614439964\nSEED: 0, FOLD: 3, EPOCH: 8, train_loss: 0.019684370808504725, valid_loss: 0.018899059639527246\nSEED: 0, FOLD: 3, EPOCH: 9, train_loss: 0.01963801616551103, valid_loss: 0.01826212641138297\nSEED: 0, FOLD: 3, EPOCH: 10, train_loss: 0.01958942395710462, valid_loss: 0.018420114396856382\nSEED: 0, FOLD: 3, EPOCH: 11, train_loss: 0.01951132364873145, valid_loss: 0.019156695558474615\nSEED: 0, FOLD: 3, EPOCH: 12, train_loss: 0.01947483473230858, valid_loss: 0.01846835146156641\nSEED: 0, FOLD: 3, EPOCH: 13, train_loss: 0.01921065229721166, valid_loss: 0.01823675761429163\nSEED: 0, FOLD: 3, EPOCH: 14, train_loss: 0.01913605642983237, valid_loss: 0.018236005392212134\nSEED: 0, FOLD: 3, EPOCH: 15, train_loss: 0.01893581115212795, valid_loss: 0.01817854680120945\nSEED: 0, FOLD: 3, EPOCH: 16, train_loss: 0.018815559259540326, valid_loss: 0.018017400772525713\nSEED: 0, FOLD: 3, EPOCH: 17, train_loss: 0.018358043042590488, valid_loss: 0.0180334818477814\nSEED: 0, FOLD: 3, EPOCH: 18, train_loss: 0.01809656645196515, valid_loss: 0.018082409380720213\nSEED: 0, FOLD: 3, EPOCH: 19, train_loss: 0.01773425445866746, valid_loss: 0.01794734253333165\nSEED: 0, FOLD: 3, EPOCH: 20, train_loss: 0.01730677141883486, valid_loss: 0.01802855271559495\nSEED: 0, FOLD: 4, EPOCH: 0, train_loss: 0.5877751443233039, valid_loss: 0.1420885410446387\nSEED: 0, FOLD: 4, EPOCH: 1, train_loss: 0.029801505592626495, valid_loss: 0.019985696444144614\nSEED: 0, FOLD: 4, EPOCH: 2, train_loss: 0.021916863231642825, valid_loss: 0.01804641390649172\nSEED: 0, FOLD: 4, EPOCH: 3, train_loss: 0.020909160274911572, valid_loss: 0.018348028453496788\nSEED: 0, FOLD: 4, EPOCH: 4, train_loss: 0.021214816241046867, valid_loss: 0.01766063545185786\nSEED: 0, FOLD: 4, EPOCH: 5, train_loss: 0.020229675278470322, valid_loss: 0.017414643357579526\nSEED: 0, FOLD: 4, EPOCH: 6, train_loss: 0.019978331880190887, valid_loss: 0.017574171893871747\nSEED: 0, FOLD: 4, EPOCH: 7, train_loss: 0.019911681478087966, valid_loss: 0.017392848116847184\nSEED: 0, FOLD: 4, EPOCH: 8, train_loss: 0.019859692736251933, valid_loss: 0.01743807686636081\nSEED: 0, FOLD: 4, EPOCH: 9, train_loss: 0.019834391999284964, valid_loss: 0.017331072200949375\nSEED: 0, FOLD: 4, EPOCH: 10, train_loss: 0.019742868437960342, valid_loss: 0.01728106032197292\nSEED: 0, FOLD: 4, EPOCH: 11, train_loss: 0.01969368979838249, valid_loss: 0.017290617984074812\nSEED: 0, FOLD: 4, EPOCH: 12, train_loss: 0.019503296428435558, valid_loss: 0.0173343255256231\nSEED: 0, FOLD: 4, EPOCH: 13, train_loss: 0.019386203405824868, valid_loss: 0.01738625420973851\nSEED: 0, FOLD: 4, EPOCH: 14, train_loss: 0.019266322657868668, valid_loss: 0.017264200374484062\nSEED: 0, FOLD: 4, EPOCH: 15, train_loss: 0.0190258417530237, valid_loss: 0.01737980157710039\nSEED: 0, FOLD: 4, EPOCH: 16, train_loss: 0.018827194549344683, valid_loss: 0.017301254619199496\nSEED: 0, FOLD: 4, EPOCH: 17, train_loss: 0.018512146648120235, valid_loss: 0.017203417535011586\nSEED: 0, FOLD: 4, EPOCH: 18, train_loss: 0.0181395880173187, valid_loss: 0.017163114622235298\nSEED: 0, FOLD: 4, EPOCH: 19, train_loss: 0.017803259219068127, valid_loss: 0.017201208437864598\nSEED: 0, FOLD: 4, EPOCH: 20, train_loss: 0.017355734029331722, valid_loss: 0.01729032454582361\nSEED: 0, FOLD: 5, EPOCH: 0, train_loss: 0.5877726273359479, valid_loss: 0.08308039949490474\nSEED: 0, FOLD: 5, EPOCH: 1, train_loss: 0.029602850082556944, valid_loss: 0.02018691857273762\nSEED: 0, FOLD: 5, EPOCH: 2, train_loss: 0.021825727327047167, valid_loss: 0.018883864323680218\nSEED: 0, FOLD: 5, EPOCH: 3, train_loss: 0.02092816071534479, valid_loss: 0.01835962485235471\nSEED: 0, FOLD: 5, EPOCH: 4, train_loss: 0.020184711653839896, valid_loss: 0.0190624540241865\nSEED: 0, FOLD: 5, EPOCH: 5, train_loss: 0.019945342345414934, valid_loss: 0.018367345373217877\nSEED: 0, FOLD: 5, EPOCH: 6, train_loss: 0.01992348055481105, valid_loss: 0.018474972162109155\nSEED: 0, FOLD: 5, EPOCH: 7, train_loss: 0.019806068365436955, valid_loss: 0.018170494299668532\nSEED: 0, FOLD: 5, EPOCH: 8, train_loss: 0.01973914118433321, valid_loss: 0.0179921521876867\nSEED: 0, FOLD: 5, EPOCH: 9, train_loss: 0.019705118737309367, valid_loss: 0.01820650066320713\nSEED: 0, FOLD: 5, EPOCH: 10, train_loss: 0.01964460514687203, valid_loss: 0.018105374935727853\nSEED: 0, FOLD: 5, EPOCH: 11, train_loss: 0.01957640056875912, valid_loss: 0.01807170848433788\nSEED: 0, FOLD: 5, EPOCH: 12, train_loss: 0.019465513149830135, valid_loss: 0.018158351859221093\nSEED: 0, FOLD: 5, EPOCH: 13, train_loss: 0.01933009859577224, valid_loss: 0.01800390289953122\nSEED: 0, FOLD: 5, EPOCH: 14, train_loss: 0.01921326173721133, valid_loss: 0.018049974854175862\nSEED: 0, FOLD: 5, EPOCH: 15, train_loss: 0.01905401433641846, valid_loss: 0.018007195053192284\nSEED: 0, FOLD: 6, EPOCH: 0, train_loss: 0.5875060610674523, valid_loss: 0.08548672726521125\nSEED: 0, FOLD: 6, EPOCH: 1, train_loss: 0.029473526428478794, valid_loss: 0.020281089183229666\nSEED: 0, FOLD: 6, EPOCH: 2, train_loss: 0.021770907968685433, valid_loss: 0.018754391716076776\nSEED: 0, FOLD: 6, EPOCH: 3, train_loss: 0.020780603174824972, valid_loss: 0.020164552646187637\nSEED: 0, FOLD: 6, EPOCH: 4, train_loss: 0.02022394963313599, valid_loss: 0.01837724017409178\nSEED: 0, FOLD: 6, EPOCH: 5, train_loss: 0.019907593802624458, valid_loss: 0.018306921880978804\nSEED: 0, FOLD: 6, EPOCH: 6, train_loss: 0.019884342831131573, valid_loss: 0.018052600610714693\nSEED: 0, FOLD: 6, EPOCH: 7, train_loss: 0.01984638348221779, valid_loss: 0.0179285781028179\nSEED: 0, FOLD: 6, EPOCH: 8, train_loss: 0.019768948641580505, valid_loss: 0.017958013484111197\nSEED: 0, FOLD: 6, EPOCH: 9, train_loss: 0.019736482006673876, valid_loss: 0.018055668243995078\nSEED: 0, FOLD: 6, EPOCH: 10, train_loss: 0.01966097533098749, valid_loss: 0.01798684622805852\nSEED: 0, FOLD: 6, EPOCH: 11, train_loss: 0.019572623627814086, valid_loss: 0.018048653665643472\nSEED: 0, FOLD: 6, EPOCH: 12, train_loss: 0.01955878910784786, valid_loss: 0.01822750657223738\nSEED: 0, FOLD: 6, EPOCH: 13, train_loss: 0.019305210359193182, valid_loss: 0.017849414967573606\nSEED: 0, FOLD: 6, EPOCH: 14, train_loss: 0.019215579874612188, valid_loss: 0.018100132019473955\nSEED: 0, FOLD: 6, EPOCH: 15, train_loss: 0.018994682342619508, valid_loss: 0.01790998360285392\nSEED: 0, FOLD: 6, EPOCH: 16, train_loss: 0.018756354051465925, valid_loss: 0.017989616411236618\nSEED: 0, FOLD: 6, EPOCH: 17, train_loss: 0.01849771650961122, valid_loss: 0.01793215022637294\n"
    }
   ],
   "source": [
    "# Averaging on multiple SEEDS\n",
    "\n",
    "#SEED = [0,1,2,3,4,5,6]  #<-- Update\n",
    "SEED = [0]\n",
    "oof = np.zeros((len(train), len(target_cols)))\n",
    "predictions = np.zeros((len(test), len(target_cols)))\n",
    "\n",
    "for seed in SEED:\n",
    "    \n",
    "    oof_, predictions_ = run_k_fold(NFOLDS, seed)\n",
    "    oof += oof_ / len(SEED)\n",
    "    predictions += predictions_ / len(SEED)\n",
    "\n",
    "train[target_cols] = oof\n",
    "test[target_cols] = predictions"
   ]
  },
  {
   "cell_type": "code",
   "execution_count": 60,
   "metadata": {
    "execution": {
     "iopub.execute_input": "2020-11-16T05:07:16.979984Z",
     "iopub.status.busy": "2020-11-16T05:07:16.978873Z",
     "iopub.status.idle": "2020-11-16T05:07:18.415573Z",
     "shell.execute_reply": "2020-11-16T05:07:18.416654Z"
    },
    "papermill": {
     "duration": 2.216424,
     "end_time": "2020-11-16T05:07:18.416838",
     "exception": false,
     "start_time": "2020-11-16T05:07:16.200414",
     "status": "completed"
    },
    "tags": []
   },
   "outputs": [
    {
     "output_type": "stream",
     "name": "stdout",
     "text": "CV log_loss:  0.016206353735138408\n"
    }
   ],
   "source": [
    "valid_results = train_targets_scored.drop(columns=target_cols).merge(train[['sig_id']+target_cols], on='sig_id', how='left').fillna(0)\n",
    "\n",
    "\n",
    "y_true = train_targets_scored[target_cols].values\n",
    "y_pred = valid_results[target_cols].values\n",
    "\n",
    "score = 0\n",
    "for i in range(len(target_cols)):\n",
    "    score_ = log_loss(y_true[:, i], y_pred[:, i])\n",
    "    score += score_ / len(target_cols)\n",
    "    \n",
    "print(\"CV log_loss: \", score)\n",
    "    "
   ]
  },
  {
   "cell_type": "code",
   "execution_count": 62,
   "metadata": {
    "tags": []
   },
   "outputs": [
    {
     "output_type": "stream",
     "name": "stdout",
     "text": "0.6462714214654545\n"
    }
   ],
   "source": [
    "from sklearn.metrics import roc_auc_score\n",
    "print(roc_auc_score(y_true,y_pred))"
   ]
  },
  {
   "cell_type": "code",
   "execution_count": 66,
   "metadata": {},
   "outputs": [],
   "source": [
    "oof_csv = train_features[[\"sig_id\"]].merge(train[train_targets_scored.columns], on='sig_id', how='inner')\n",
    "oof_csv.to_csv(\"model_2_oof.csv\",index=False)"
   ]
  },
  {
   "cell_type": "code",
   "execution_count": 61,
   "metadata": {
    "execution": {
     "iopub.execute_input": "2020-11-16T05:07:19.976873Z",
     "iopub.status.busy": "2020-11-16T05:07:19.975910Z",
     "iopub.status.idle": "2020-11-16T05:07:21.815131Z",
     "shell.execute_reply": "2020-11-16T05:07:21.813502Z"
    },
    "papermill": {
     "duration": 2.632722,
     "end_time": "2020-11-16T05:07:21.815295",
     "exception": false,
     "start_time": "2020-11-16T05:07:19.182573",
     "status": "completed"
    },
    "tags": []
   },
   "outputs": [],
   "source": [
    "public_id = list(df['sig_id'].values)\n",
    "test_id = list(test_features['sig_id'].values)\n",
    "private_id = list(set(test_id)-set(public_id))\n",
    "df_submit = pd.DataFrame(index = public_id+private_id, columns=target_cols)\n",
    "df_submit.index.name = 'sig_id'\n",
    "df_submit[:] = 0\n",
    "df_submit.loc[test.sig_id,:] = test[target_cols].values\n",
    "df_submit.loc[test_features[test_features.cp_type=='ctl_vehicle'].sig_id]= 0\n",
    "df_submit.to_csv('submission.csv',index=True)"
   ]
  }
 ],
 "metadata": {
  "kernelspec": {
   "display_name": "Python 3",
   "language": "python",
   "name": "python3"
  },
  "language_info": {
   "codemirror_mode": {
    "name": "ipython",
    "version": 3
   },
   "file_extension": ".py",
   "mimetype": "text/x-python",
   "name": "python",
   "nbconvert_exporter": "python",
   "pygments_lexer": "ipython3",
   "version": "3.7.7-final"
  },
  "papermill": {
   "duration": 4134.45333,
   "end_time": "2020-11-16T05:07:26.205349",
   "environment_variables": {},
   "exception": null,
   "input_path": "__notebook__.ipynb",
   "output_path": "__notebook__.ipynb",
   "parameters": {},
   "start_time": "2020-11-16T03:58:31.752019",
   "version": "2.1.0"
  }
 },
 "nbformat": 4,
 "nbformat_minor": 4
}